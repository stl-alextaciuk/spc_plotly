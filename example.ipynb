{
 "cells": [
  {
   "cell_type": "markdown",
   "metadata": {},
   "source": [
    "# XmR Chart Example\n",
    "\n",
    "This notebook demonstrates the usage of the spc_plotly package with sample vehicle count data."
   ]
  },
  {
   "cell_type": "code",
   "execution_count": null,
   "metadata": {},
   "outputs": [],
   "source": [
    "import pandas as pd\n",
    "import numpy as np\n",
    "from datetime import datetime, timedelta\n",
    "from spc_plotly import xmr\n",
    "\n",
    "%reload_ext autoreload\n",
    "%autoreload 2\n",
    "\n",
    "# Set random seed for reproducibility\n",
    "np.random.seed(475)"
   ]
  },
  {
   "cell_type": "markdown",
   "metadata": {},
   "source": [
    "## Make data"
   ]
  },
  {
   "cell_type": "code",
   "execution_count": 27,
   "metadata": {},
   "outputs": [
    {
     "data": {
      "text/html": [
       "<div>\n",
       "<style scoped>\n",
       "    .dataframe tbody tr th:only-of-type {\n",
       "        vertical-align: middle;\n",
       "    }\n",
       "\n",
       "    .dataframe tbody tr th {\n",
       "        vertical-align: top;\n",
       "    }\n",
       "\n",
       "    .dataframe thead th {\n",
       "        text-align: right;\n",
       "    }\n",
       "</style>\n",
       "<table border=\"1\" class=\"dataframe\">\n",
       "  <thead>\n",
       "    <tr style=\"text-align: right;\">\n",
       "      <th></th>\n",
       "      <th>date</th>\n",
       "      <th>vehicle_counts</th>\n",
       "    </tr>\n",
       "  </thead>\n",
       "  <tbody>\n",
       "    <tr>\n",
       "      <th>0</th>\n",
       "      <td>2024-01-01</td>\n",
       "      <td>942</td>\n",
       "    </tr>\n",
       "    <tr>\n",
       "      <th>1</th>\n",
       "      <td>2024-01-02</td>\n",
       "      <td>1013</td>\n",
       "    </tr>\n",
       "    <tr>\n",
       "      <th>2</th>\n",
       "      <td>2024-01-03</td>\n",
       "      <td>1073</td>\n",
       "    </tr>\n",
       "    <tr>\n",
       "      <th>3</th>\n",
       "      <td>2024-01-04</td>\n",
       "      <td>983</td>\n",
       "    </tr>\n",
       "    <tr>\n",
       "      <th>4</th>\n",
       "      <td>2024-01-05</td>\n",
       "      <td>1011</td>\n",
       "    </tr>\n",
       "  </tbody>\n",
       "</table>\n",
       "</div>"
      ],
      "text/plain": [
       "        date  vehicle_counts\n",
       "0 2024-01-01             942\n",
       "1 2024-01-02            1013\n",
       "2 2024-01-03            1073\n",
       "3 2024-01-04             983\n",
       "4 2024-01-05            1011"
      ]
     },
     "execution_count": 27,
     "metadata": {},
     "output_type": "execute_result"
    }
   ],
   "source": [
    "# Generate 100 days of data\n",
    "start_date = datetime(2024, 1, 1)\n",
    "dates = [start_date + timedelta(days=x) for x in range(100)]\n",
    "\n",
    "# Generate vehicle counts with some patterns:\n",
    "# - Base level around 1000 vehicles\n",
    "# - Gradual upward trend\n",
    "# - Some random variation\n",
    "# - A few anomalies\n",
    "\n",
    "base_counts = 1000\n",
    "trend = np.linspace(0, 200, 100)  # Gradual increase over time\n",
    "variation = np.random.normal(0, 50, 100)  # Random daily variation\n",
    "weekly_pattern = np.tile([50, 10, 50, -20, -30, -80, -100], 15)[:100]  # Weekly patterns\n",
    "\n",
    "# Combine components\n",
    "vehicle_counts = base_counts + trend + variation + weekly_pattern\n",
    "\n",
    "# Add some anomalies\n",
    "vehicle_counts[25] += 300  # Special event\n",
    "vehicle_counts[50:55] += 200  # Construction period\n",
    "vehicle_counts[80] -= 400  # Road closure\n",
    "\n",
    "# Create DataFrame\n",
    "data = pd.DataFrame({\n",
    "    'date': dates,\n",
    "    'vehicle_counts': vehicle_counts.astype(int)\n",
    "})\n",
    "\n",
    "# Display first few rows\n",
    "data.head()"
   ]
  },
  {
   "cell_type": "markdown",
   "metadata": {},
   "source": [
    "## Date example"
   ]
  },
  {
   "cell_type": "code",
   "execution_count": 28,
   "metadata": {},
   "outputs": [],
   "source": [
    "data['date'] = pd.to_datetime(data['date'], utc=True)"
   ]
  },
  {
   "cell_type": "code",
   "execution_count": 29,
   "metadata": {},
   "outputs": [
    {
     "data": {
      "application/vnd.plotly.v1+json": {
       "config": {
        "plotlyServerURL": "https://plot.ly"
       },
       "data": [
        {
         "customdata": {
          "bdata": "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",
          "dtype": "f8",
          "shape": "100, 5"
         },
         "hovertemplate": "<b>Date:</b> %{x|%Y-%m-%d}<br><b>Value:</b> %{y:,.2f}<br><b>Mean:</b> %{customdata[0]:,.2f}<br><b>Is Anomaly:</b> %{customdata[2]}<br><b>Is Short Run:</b> %{customdata[3]}<br><b>Is Long Run:</b> %{customdata[4]}<br><extra></extra>",
         "line": {
          "color": "black",
          "width": 1
         },
         "marker": {
          "color": "black",
          "size": 6
         },
         "mode": "lines+markers",
         "name": "vehicle_counts",
         "type": "scatter",
         "x": [
          "2024-01-01T00:00:00.000000000",
          "2024-01-02T00:00:00.000000000",
          "2024-01-03T00:00:00.000000000",
          "2024-01-04T00:00:00.000000000",
          "2024-01-05T00:00:00.000000000",
          "2024-01-06T00:00:00.000000000",
          "2024-01-07T00:00:00.000000000",
          "2024-01-08T00:00:00.000000000",
          "2024-01-09T00:00:00.000000000",
          "2024-01-10T00:00:00.000000000",
          "2024-01-11T00:00:00.000000000",
          "2024-01-12T00:00:00.000000000",
          "2024-01-13T00:00:00.000000000",
          "2024-01-14T00:00:00.000000000",
          "2024-01-15T00:00:00.000000000",
          "2024-01-16T00:00:00.000000000",
          "2024-01-17T00:00:00.000000000",
          "2024-01-18T00:00:00.000000000",
          "2024-01-19T00:00:00.000000000",
          "2024-01-20T00:00:00.000000000",
          "2024-01-21T00:00:00.000000000",
          "2024-01-22T00:00:00.000000000",
          "2024-01-23T00:00:00.000000000",
          "2024-01-24T00:00:00.000000000",
          "2024-01-25T00:00:00.000000000",
          "2024-01-26T00:00:00.000000000",
          "2024-01-27T00:00:00.000000000",
          "2024-01-28T00:00:00.000000000",
          "2024-01-29T00:00:00.000000000",
          "2024-01-30T00:00:00.000000000",
          "2024-01-31T00:00:00.000000000",
          "2024-02-01T00:00:00.000000000",
          "2024-02-02T00:00:00.000000000",
          "2024-02-03T00:00:00.000000000",
          "2024-02-04T00:00:00.000000000",
          "2024-02-05T00:00:00.000000000",
          "2024-02-06T00:00:00.000000000",
          "2024-02-07T00:00:00.000000000",
          "2024-02-08T00:00:00.000000000",
          "2024-02-09T00:00:00.000000000",
          "2024-02-10T00:00:00.000000000",
          "2024-02-11T00:00:00.000000000",
          "2024-02-12T00:00:00.000000000",
          "2024-02-13T00:00:00.000000000",
          "2024-02-14T00:00:00.000000000",
          "2024-02-15T00:00:00.000000000",
          "2024-02-16T00:00:00.000000000",
          "2024-02-17T00:00:00.000000000",
          "2024-02-18T00:00:00.000000000",
          "2024-02-19T00:00:00.000000000",
          "2024-02-20T00:00:00.000000000",
          "2024-02-21T00:00:00.000000000",
          "2024-02-22T00:00:00.000000000",
          "2024-02-23T00:00:00.000000000",
          "2024-02-24T00:00:00.000000000",
          "2024-02-25T00:00:00.000000000",
          "2024-02-26T00:00:00.000000000",
          "2024-02-27T00:00:00.000000000",
          "2024-02-28T00:00:00.000000000",
          "2024-02-29T00:00:00.000000000",
          "2024-03-01T00:00:00.000000000",
          "2024-03-02T00:00:00.000000000",
          "2024-03-03T00:00:00.000000000",
          "2024-03-04T00:00:00.000000000",
          "2024-03-05T00:00:00.000000000",
          "2024-03-06T00:00:00.000000000",
          "2024-03-07T00:00:00.000000000",
          "2024-03-08T00:00:00.000000000",
          "2024-03-09T00:00:00.000000000",
          "2024-03-10T00:00:00.000000000",
          "2024-03-11T00:00:00.000000000",
          "2024-03-12T00:00:00.000000000",
          "2024-03-13T00:00:00.000000000",
          "2024-03-14T00:00:00.000000000",
          "2024-03-15T00:00:00.000000000",
          "2024-03-16T00:00:00.000000000",
          "2024-03-17T00:00:00.000000000",
          "2024-03-18T00:00:00.000000000",
          "2024-03-19T00:00:00.000000000",
          "2024-03-20T00:00:00.000000000",
          "2024-03-21T00:00:00.000000000",
          "2024-03-22T00:00:00.000000000",
          "2024-03-23T00:00:00.000000000",
          "2024-03-24T00:00:00.000000000",
          "2024-03-25T00:00:00.000000000",
          "2024-03-26T00:00:00.000000000",
          "2024-03-27T00:00:00.000000000",
          "2024-03-28T00:00:00.000000000",
          "2024-03-29T00:00:00.000000000",
          "2024-03-30T00:00:00.000000000",
          "2024-03-31T00:00:00.000000000",
          "2024-04-01T00:00:00.000000000",
          "2024-04-02T00:00:00.000000000",
          "2024-04-03T00:00:00.000000000",
          "2024-04-04T00:00:00.000000000",
          "2024-04-05T00:00:00.000000000",
          "2024-04-06T00:00:00.000000000",
          "2024-04-07T00:00:00.000000000",
          "2024-04-08T00:00:00.000000000",
          "2024-04-09T00:00:00.000000000"
         ],
         "xaxis": "x",
         "y": {
          "bdata": "rgP1AzEE1wPzA3MDWwMJBA4EBwQgBNsDXgM0A14E6ANUBLADHATFA4UDFQRLBPgD6gM8Ba4DuQOdBAoEnAQWBDsE0wO7A3kEXASEBCAEEwQiBKgDzQRDBNoEDARdBPMD3QOGBK0EVwUjBcUE5wQQBMYENQSFBGkETAQdBAEEgQSOBLoEXQQPBBcEDQSYBMcEzwQCBGsEXgQGBOUEtwTbBL8CMwQtBGQEoAR5BN8EmgRMBGUE8QO4BIUE0gRoBIsEOQRhBMcEwgQ=",
          "dtype": "i2"
         },
         "yaxis": "y"
        },
        {
         "customdata": {
          "bdata": "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",
          "dtype": "f8",
          "shape": "100, 5"
         },
         "hovertemplate": "<b>Date:</b> %{x|%Y-%m-%d}<br><b>Range:</b> %{y:,.2f}<br><b>Mean:</b> %{customdata[0]:,.2f}<br><b>Is Anomaly:</b> %{customdata[2]}<br><b>Is Short Run:</b> %{customdata[3]}<br><b>Is Long Run:</b> %{customdata[4]}<br><extra></extra>",
         "line": {
          "color": "black",
          "width": 1
         },
         "marker": {
          "color": "black",
          "size": 6
         },
         "mode": "lines+markers",
         "name": "Moving Range",
         "type": "scatter",
         "x": [
          "2024-01-01T00:00:00.000000000",
          "2024-01-02T00:00:00.000000000",
          "2024-01-03T00:00:00.000000000",
          "2024-01-04T00:00:00.000000000",
          "2024-01-05T00:00:00.000000000",
          "2024-01-06T00:00:00.000000000",
          "2024-01-07T00:00:00.000000000",
          "2024-01-08T00:00:00.000000000",
          "2024-01-09T00:00:00.000000000",
          "2024-01-10T00:00:00.000000000",
          "2024-01-11T00:00:00.000000000",
          "2024-01-12T00:00:00.000000000",
          "2024-01-13T00:00:00.000000000",
          "2024-01-14T00:00:00.000000000",
          "2024-01-15T00:00:00.000000000",
          "2024-01-16T00:00:00.000000000",
          "2024-01-17T00:00:00.000000000",
          "2024-01-18T00:00:00.000000000",
          "2024-01-19T00:00:00.000000000",
          "2024-01-20T00:00:00.000000000",
          "2024-01-21T00:00:00.000000000",
          "2024-01-22T00:00:00.000000000",
          "2024-01-23T00:00:00.000000000",
          "2024-01-24T00:00:00.000000000",
          "2024-01-25T00:00:00.000000000",
          "2024-01-26T00:00:00.000000000",
          "2024-01-27T00:00:00.000000000",
          "2024-01-28T00:00:00.000000000",
          "2024-01-29T00:00:00.000000000",
          "2024-01-30T00:00:00.000000000",
          "2024-01-31T00:00:00.000000000",
          "2024-02-01T00:00:00.000000000",
          "2024-02-02T00:00:00.000000000",
          "2024-02-03T00:00:00.000000000",
          "2024-02-04T00:00:00.000000000",
          "2024-02-05T00:00:00.000000000",
          "2024-02-06T00:00:00.000000000",
          "2024-02-07T00:00:00.000000000",
          "2024-02-08T00:00:00.000000000",
          "2024-02-09T00:00:00.000000000",
          "2024-02-10T00:00:00.000000000",
          "2024-02-11T00:00:00.000000000",
          "2024-02-12T00:00:00.000000000",
          "2024-02-13T00:00:00.000000000",
          "2024-02-14T00:00:00.000000000",
          "2024-02-15T00:00:00.000000000",
          "2024-02-16T00:00:00.000000000",
          "2024-02-17T00:00:00.000000000",
          "2024-02-18T00:00:00.000000000",
          "2024-02-19T00:00:00.000000000",
          "2024-02-20T00:00:00.000000000",
          "2024-02-21T00:00:00.000000000",
          "2024-02-22T00:00:00.000000000",
          "2024-02-23T00:00:00.000000000",
          "2024-02-24T00:00:00.000000000",
          "2024-02-25T00:00:00.000000000",
          "2024-02-26T00:00:00.000000000",
          "2024-02-27T00:00:00.000000000",
          "2024-02-28T00:00:00.000000000",
          "2024-02-29T00:00:00.000000000",
          "2024-03-01T00:00:00.000000000",
          "2024-03-02T00:00:00.000000000",
          "2024-03-03T00:00:00.000000000",
          "2024-03-04T00:00:00.000000000",
          "2024-03-05T00:00:00.000000000",
          "2024-03-06T00:00:00.000000000",
          "2024-03-07T00:00:00.000000000",
          "2024-03-08T00:00:00.000000000",
          "2024-03-09T00:00:00.000000000",
          "2024-03-10T00:00:00.000000000",
          "2024-03-11T00:00:00.000000000",
          "2024-03-12T00:00:00.000000000",
          "2024-03-13T00:00:00.000000000",
          "2024-03-14T00:00:00.000000000",
          "2024-03-15T00:00:00.000000000",
          "2024-03-16T00:00:00.000000000",
          "2024-03-17T00:00:00.000000000",
          "2024-03-18T00:00:00.000000000",
          "2024-03-19T00:00:00.000000000",
          "2024-03-20T00:00:00.000000000",
          "2024-03-21T00:00:00.000000000",
          "2024-03-22T00:00:00.000000000",
          "2024-03-23T00:00:00.000000000",
          "2024-03-24T00:00:00.000000000",
          "2024-03-25T00:00:00.000000000",
          "2024-03-26T00:00:00.000000000",
          "2024-03-27T00:00:00.000000000",
          "2024-03-28T00:00:00.000000000",
          "2024-03-29T00:00:00.000000000",
          "2024-03-30T00:00:00.000000000",
          "2024-03-31T00:00:00.000000000",
          "2024-04-01T00:00:00.000000000",
          "2024-04-02T00:00:00.000000000",
          "2024-04-03T00:00:00.000000000",
          "2024-04-04T00:00:00.000000000",
          "2024-04-05T00:00:00.000000000",
          "2024-04-06T00:00:00.000000000",
          "2024-04-07T00:00:00.000000000",
          "2024-04-08T00:00:00.000000000",
          "2024-04-09T00:00:00.000000000"
         ],
         "xaxis": "x2",
         "y": {
          "bdata": "AAAAAAAA+H8AAAAAAMBRQAAAAAAAAE5AAAAAAACAVkAAAAAAAAA8QAAAAAAAAGBAAAAAAAAAOEAAAAAAAMBlQAAAAAAAABRAAAAAAAAAHEAAAAAAAAA5QAAAAAAAQFFAAAAAAABAX0AAAAAAAABFQAAAAAAAoHJAAAAAAACAXUAAAAAAAABbQAAAAAAAgGRAAAAAAAAAW0AAAAAAAMBVQAAAAAAAAFBAAAAAAAAAYkAAAAAAAABLQAAAAAAAwFRAAAAAAAAALEAAAAAAACB1QAAAAAAA4HhAAAAAAAAAJkAAAAAAAIBsQAAAAAAAYGJAAAAAAABAYkAAAAAAAMBgQAAAAAAAgEJAAAAAAAAAWkAAAAAAAAA4QAAAAAAAwGdAAAAAAAAAPUAAAAAAAABEQAAAAAAAAFlAAAAAAAAAKkAAAAAAAAAuQAAAAAAAgF5AAAAAAABQckAAAAAAAEBhQAAAAAAA4GJAAAAAAADAaUAAAAAAAEBUQAAAAAAAgFpAAAAAAAAANkAAAAAAACBlQAAAAAAAgENAAAAAAABAZUAAAAAAAABKQAAAAAAAgFdAAAAAAAAAQUAAAAAAAOBqQAAAAAAAwGZAAAAAAAAgYkAAAAAAAABUQAAAAAAAADxAAAAAAAAAPUAAAAAAAIBHQAAAAAAAADxAAAAAAAAAYEAAAAAAAAAqQAAAAAAAAEZAAAAAAABAV0AAAAAAAIBTQAAAAAAAACBAAAAAAAAAJEAAAAAAAGBhQAAAAAAAgEdAAAAAAAAAIEAAAAAAAKBpQAAAAAAAQFpAAAAAAAAAKkAAAAAAAABWQAAAAAAA4GtAAAAAAAAAR0AAAAAAAABCQAAAAAAA4IBAAAAAAABAd0AAAAAAAAAYQAAAAAAAgEtAAAAAAAAATkAAAAAAAIBDQAAAAAAAgFlAAAAAAABAUUAAAAAAAIBTQAAAAAAAADlAAAAAAAAAXUAAAAAAAOBoQAAAAAAAgElAAAAAAABAU0AAAAAAAIBaQAAAAAAAgEFAAAAAAACAVEAAAAAAAABEQAAAAAAAgFlAAAAAAAAAFEA=",
          "dtype": "f8"
         },
         "yaxis": "y2"
        },
        {
         "marker": {
          "color": "red",
          "size": 8,
          "symbol": "cross"
         },
         "mode": "markers",
         "texttemplate": "%{y}",
         "type": "scatter",
         "visible": false,
         "x": [
          1705190400000000000,
          1708473600000000000,
          1710979200000000000
         ],
         "xaxis": "x",
         "y": [
          820,
          1367,
          703
         ],
         "yaxis": "y"
        },
        {
         "marker": {
          "color": "red",
          "size": 8,
          "symbol": "cross"
         },
         "mode": "markers",
         "type": "scatter",
         "visible": false,
         "x": [
          1706227200000000000,
          1706313600000000000,
          1710979200000000000,
          1711065600000000000
         ],
         "xaxis": "x2",
         "y": [
          338,
          398,
          540,
          372
         ],
         "yaxis": "y2"
        }
       ],
       "layout": {
        "annotations": [
         {
          "font": {
           "size": 16
          },
          "showarrow": false,
          "text": "Daily Vehicle Counts - XmR Chart",
          "x": 0.5,
          "xanchor": "center",
          "xref": "paper",
          "y": 1.1,
          "yanchor": "top",
          "yref": "paper"
         },
         {
          "font": {
           "size": 10
          },
          "showarrow": false,
          "text": "<b>mR Upper Limit = 327.394</b>",
          "x": 0.01,
          "xanchor": "left",
          "xref": "paper",
          "y": 343.76389090909095,
          "yanchor": "auto",
          "yref": "y2"
         },
         {
          "font": {
           "size": 10
          },
          "showarrow": false,
          "text": "<b>vehicle_counts Upper Limit = 1356.224</b>",
          "x": 0.01,
          "xanchor": "left",
          "xref": "paper",
          "y": 1372.2126545454546,
          "yanchor": "auto",
          "yref": "y"
         },
         {
          "font": {
           "size": 10
          },
          "showarrow": false,
          "text": "<b>vehicle_counts Lower Limit = 823.256</b>",
          "x": 0.01,
          "xanchor": "left",
          "xref": "paper",
          "y": 807.2673454545454,
          "yanchor": "auto",
          "yref": "y"
         }
        ],
        "font": {
         "size": 10
        },
        "height": 600,
        "hovermode": "x",
        "plot_bgcolor": "white",
        "shapes": [
         {
          "line": {
           "color": "gray",
           "dash": "dashdot"
          },
          "type": "line",
          "x0": 0,
          "x1": 1,
          "xref": "x domain",
          "y0": 1089.74,
          "y1": 1089.74,
          "yref": "y"
         },
         {
          "line": {
           "color": "red",
           "dash": "dashdot"
          },
          "type": "line",
          "x0": 0,
          "x1": 1,
          "xref": "x domain",
          "y0": 1356.2236363636364,
          "y1": 1356.2236363636364,
          "yref": "y"
         },
         {
          "line": {
           "color": "red",
           "dash": "dashdot"
          },
          "type": "line",
          "x0": 0,
          "x1": 1,
          "xref": "x domain",
          "y0": 823.2563636363636,
          "y1": 823.2563636363636,
          "yref": "y"
         },
         {
          "line": {
           "color": "pink",
           "dash": "dot"
          },
          "type": "line",
          "x0": 0,
          "x1": 1,
          "xref": "x domain",
          "y0": 1222.9818181818182,
          "y1": 1222.9818181818182,
          "yref": "y"
         },
         {
          "line": {
           "color": "pink",
           "dash": "dot"
          },
          "type": "line",
          "x0": 0,
          "x1": 1,
          "xref": "x domain",
          "y0": 956.4981818181818,
          "y1": 956.4981818181818,
          "yref": "y"
         },
         {
          "line": {
           "color": "gray",
           "dash": "dashdot"
          },
          "type": "line",
          "x0": 0,
          "x1": 1,
          "xref": "x domain",
          "y0": 100.18181818181819,
          "y1": 100.18181818181819,
          "yref": "y2"
         },
         {
          "line": {
           "color": "red",
           "dash": "dashdot"
          },
          "type": "line",
          "x0": 0,
          "x1": 1,
          "xref": "x domain",
          "y0": 327.39418181818183,
          "y1": 327.39418181818183,
          "yref": "y2"
         },
         {
          "line": {
           "color": "pink",
           "dash": "dot"
          },
          "type": "line",
          "x0": 0,
          "x1": 1,
          "xref": "x domain",
          "y0": 213.788,
          "y1": 213.788,
          "yref": "y2"
         }
        ],
        "showlegend": false,
        "template": {
         "data": {
          "bar": [
           {
            "error_x": {
             "color": "#2a3f5f"
            },
            "error_y": {
             "color": "#2a3f5f"
            },
            "marker": {
             "line": {
              "color": "#E5ECF6",
              "width": 0.5
             },
             "pattern": {
              "fillmode": "overlay",
              "size": 10,
              "solidity": 0.2
             }
            },
            "type": "bar"
           }
          ],
          "barpolar": [
           {
            "marker": {
             "line": {
              "color": "#E5ECF6",
              "width": 0.5
             },
             "pattern": {
              "fillmode": "overlay",
              "size": 10,
              "solidity": 0.2
             }
            },
            "type": "barpolar"
           }
          ],
          "carpet": [
           {
            "aaxis": {
             "endlinecolor": "#2a3f5f",
             "gridcolor": "white",
             "linecolor": "white",
             "minorgridcolor": "white",
             "startlinecolor": "#2a3f5f"
            },
            "baxis": {
             "endlinecolor": "#2a3f5f",
             "gridcolor": "white",
             "linecolor": "white",
             "minorgridcolor": "white",
             "startlinecolor": "#2a3f5f"
            },
            "type": "carpet"
           }
          ],
          "choropleth": [
           {
            "colorbar": {
             "outlinewidth": 0,
             "ticks": ""
            },
            "type": "choropleth"
           }
          ],
          "contour": [
           {
            "colorbar": {
             "outlinewidth": 0,
             "ticks": ""
            },
            "colorscale": [
             [
              0,
              "#0d0887"
             ],
             [
              0.1111111111111111,
              "#46039f"
             ],
             [
              0.2222222222222222,
              "#7201a8"
             ],
             [
              0.3333333333333333,
              "#9c179e"
             ],
             [
              0.4444444444444444,
              "#bd3786"
             ],
             [
              0.5555555555555556,
              "#d8576b"
             ],
             [
              0.6666666666666666,
              "#ed7953"
             ],
             [
              0.7777777777777778,
              "#fb9f3a"
             ],
             [
              0.8888888888888888,
              "#fdca26"
             ],
             [
              1,
              "#f0f921"
             ]
            ],
            "type": "contour"
           }
          ],
          "contourcarpet": [
           {
            "colorbar": {
             "outlinewidth": 0,
             "ticks": ""
            },
            "type": "contourcarpet"
           }
          ],
          "heatmap": [
           {
            "colorbar": {
             "outlinewidth": 0,
             "ticks": ""
            },
            "colorscale": [
             [
              0,
              "#0d0887"
             ],
             [
              0.1111111111111111,
              "#46039f"
             ],
             [
              0.2222222222222222,
              "#7201a8"
             ],
             [
              0.3333333333333333,
              "#9c179e"
             ],
             [
              0.4444444444444444,
              "#bd3786"
             ],
             [
              0.5555555555555556,
              "#d8576b"
             ],
             [
              0.6666666666666666,
              "#ed7953"
             ],
             [
              0.7777777777777778,
              "#fb9f3a"
             ],
             [
              0.8888888888888888,
              "#fdca26"
             ],
             [
              1,
              "#f0f921"
             ]
            ],
            "type": "heatmap"
           }
          ],
          "histogram": [
           {
            "marker": {
             "pattern": {
              "fillmode": "overlay",
              "size": 10,
              "solidity": 0.2
             }
            },
            "type": "histogram"
           }
          ],
          "histogram2d": [
           {
            "colorbar": {
             "outlinewidth": 0,
             "ticks": ""
            },
            "colorscale": [
             [
              0,
              "#0d0887"
             ],
             [
              0.1111111111111111,
              "#46039f"
             ],
             [
              0.2222222222222222,
              "#7201a8"
             ],
             [
              0.3333333333333333,
              "#9c179e"
             ],
             [
              0.4444444444444444,
              "#bd3786"
             ],
             [
              0.5555555555555556,
              "#d8576b"
             ],
             [
              0.6666666666666666,
              "#ed7953"
             ],
             [
              0.7777777777777778,
              "#fb9f3a"
             ],
             [
              0.8888888888888888,
              "#fdca26"
             ],
             [
              1,
              "#f0f921"
             ]
            ],
            "type": "histogram2d"
           }
          ],
          "histogram2dcontour": [
           {
            "colorbar": {
             "outlinewidth": 0,
             "ticks": ""
            },
            "colorscale": [
             [
              0,
              "#0d0887"
             ],
             [
              0.1111111111111111,
              "#46039f"
             ],
             [
              0.2222222222222222,
              "#7201a8"
             ],
             [
              0.3333333333333333,
              "#9c179e"
             ],
             [
              0.4444444444444444,
              "#bd3786"
             ],
             [
              0.5555555555555556,
              "#d8576b"
             ],
             [
              0.6666666666666666,
              "#ed7953"
             ],
             [
              0.7777777777777778,
              "#fb9f3a"
             ],
             [
              0.8888888888888888,
              "#fdca26"
             ],
             [
              1,
              "#f0f921"
             ]
            ],
            "type": "histogram2dcontour"
           }
          ],
          "mesh3d": [
           {
            "colorbar": {
             "outlinewidth": 0,
             "ticks": ""
            },
            "type": "mesh3d"
           }
          ],
          "parcoords": [
           {
            "line": {
             "colorbar": {
              "outlinewidth": 0,
              "ticks": ""
             }
            },
            "type": "parcoords"
           }
          ],
          "pie": [
           {
            "automargin": true,
            "type": "pie"
           }
          ],
          "scatter": [
           {
            "fillpattern": {
             "fillmode": "overlay",
             "size": 10,
             "solidity": 0.2
            },
            "type": "scatter"
           }
          ],
          "scatter3d": [
           {
            "line": {
             "colorbar": {
              "outlinewidth": 0,
              "ticks": ""
             }
            },
            "marker": {
             "colorbar": {
              "outlinewidth": 0,
              "ticks": ""
             }
            },
            "type": "scatter3d"
           }
          ],
          "scattercarpet": [
           {
            "marker": {
             "colorbar": {
              "outlinewidth": 0,
              "ticks": ""
             }
            },
            "type": "scattercarpet"
           }
          ],
          "scattergeo": [
           {
            "marker": {
             "colorbar": {
              "outlinewidth": 0,
              "ticks": ""
             }
            },
            "type": "scattergeo"
           }
          ],
          "scattergl": [
           {
            "marker": {
             "colorbar": {
              "outlinewidth": 0,
              "ticks": ""
             }
            },
            "type": "scattergl"
           }
          ],
          "scattermap": [
           {
            "marker": {
             "colorbar": {
              "outlinewidth": 0,
              "ticks": ""
             }
            },
            "type": "scattermap"
           }
          ],
          "scattermapbox": [
           {
            "marker": {
             "colorbar": {
              "outlinewidth": 0,
              "ticks": ""
             }
            },
            "type": "scattermapbox"
           }
          ],
          "scatterpolar": [
           {
            "marker": {
             "colorbar": {
              "outlinewidth": 0,
              "ticks": ""
             }
            },
            "type": "scatterpolar"
           }
          ],
          "scatterpolargl": [
           {
            "marker": {
             "colorbar": {
              "outlinewidth": 0,
              "ticks": ""
             }
            },
            "type": "scatterpolargl"
           }
          ],
          "scatterternary": [
           {
            "marker": {
             "colorbar": {
              "outlinewidth": 0,
              "ticks": ""
             }
            },
            "type": "scatterternary"
           }
          ],
          "surface": [
           {
            "colorbar": {
             "outlinewidth": 0,
             "ticks": ""
            },
            "colorscale": [
             [
              0,
              "#0d0887"
             ],
             [
              0.1111111111111111,
              "#46039f"
             ],
             [
              0.2222222222222222,
              "#7201a8"
             ],
             [
              0.3333333333333333,
              "#9c179e"
             ],
             [
              0.4444444444444444,
              "#bd3786"
             ],
             [
              0.5555555555555556,
              "#d8576b"
             ],
             [
              0.6666666666666666,
              "#ed7953"
             ],
             [
              0.7777777777777778,
              "#fb9f3a"
             ],
             [
              0.8888888888888888,
              "#fdca26"
             ],
             [
              1,
              "#f0f921"
             ]
            ],
            "type": "surface"
           }
          ],
          "table": [
           {
            "cells": {
             "fill": {
              "color": "#EBF0F8"
             },
             "line": {
              "color": "white"
             }
            },
            "header": {
             "fill": {
              "color": "#C8D4E3"
             },
             "line": {
              "color": "white"
             }
            },
            "type": "table"
           }
          ]
         },
         "layout": {
          "annotationdefaults": {
           "arrowcolor": "#2a3f5f",
           "arrowhead": 0,
           "arrowwidth": 1
          },
          "autotypenumbers": "strict",
          "coloraxis": {
           "colorbar": {
            "outlinewidth": 0,
            "ticks": ""
           }
          },
          "colorscale": {
           "diverging": [
            [
             0,
             "#8e0152"
            ],
            [
             0.1,
             "#c51b7d"
            ],
            [
             0.2,
             "#de77ae"
            ],
            [
             0.3,
             "#f1b6da"
            ],
            [
             0.4,
             "#fde0ef"
            ],
            [
             0.5,
             "#f7f7f7"
            ],
            [
             0.6,
             "#e6f5d0"
            ],
            [
             0.7,
             "#b8e186"
            ],
            [
             0.8,
             "#7fbc41"
            ],
            [
             0.9,
             "#4d9221"
            ],
            [
             1,
             "#276419"
            ]
           ],
           "sequential": [
            [
             0,
             "#0d0887"
            ],
            [
             0.1111111111111111,
             "#46039f"
            ],
            [
             0.2222222222222222,
             "#7201a8"
            ],
            [
             0.3333333333333333,
             "#9c179e"
            ],
            [
             0.4444444444444444,
             "#bd3786"
            ],
            [
             0.5555555555555556,
             "#d8576b"
            ],
            [
             0.6666666666666666,
             "#ed7953"
            ],
            [
             0.7777777777777778,
             "#fb9f3a"
            ],
            [
             0.8888888888888888,
             "#fdca26"
            ],
            [
             1,
             "#f0f921"
            ]
           ],
           "sequentialminus": [
            [
             0,
             "#0d0887"
            ],
            [
             0.1111111111111111,
             "#46039f"
            ],
            [
             0.2222222222222222,
             "#7201a8"
            ],
            [
             0.3333333333333333,
             "#9c179e"
            ],
            [
             0.4444444444444444,
             "#bd3786"
            ],
            [
             0.5555555555555556,
             "#d8576b"
            ],
            [
             0.6666666666666666,
             "#ed7953"
            ],
            [
             0.7777777777777778,
             "#fb9f3a"
            ],
            [
             0.8888888888888888,
             "#fdca26"
            ],
            [
             1,
             "#f0f921"
            ]
           ]
          },
          "colorway": [
           "#636efa",
           "#EF553B",
           "#00cc96",
           "#ab63fa",
           "#FFA15A",
           "#19d3f3",
           "#FF6692",
           "#B6E880",
           "#FF97FF",
           "#FECB52"
          ],
          "font": {
           "color": "#2a3f5f"
          },
          "geo": {
           "bgcolor": "white",
           "lakecolor": "white",
           "landcolor": "#E5ECF6",
           "showlakes": true,
           "showland": true,
           "subunitcolor": "white"
          },
          "hoverlabel": {
           "align": "left"
          },
          "hovermode": "closest",
          "mapbox": {
           "style": "light"
          },
          "paper_bgcolor": "white",
          "plot_bgcolor": "#E5ECF6",
          "polar": {
           "angularaxis": {
            "gridcolor": "white",
            "linecolor": "white",
            "ticks": ""
           },
           "bgcolor": "#E5ECF6",
           "radialaxis": {
            "gridcolor": "white",
            "linecolor": "white",
            "ticks": ""
           }
          },
          "scene": {
           "xaxis": {
            "backgroundcolor": "#E5ECF6",
            "gridcolor": "white",
            "gridwidth": 2,
            "linecolor": "white",
            "showbackground": true,
            "ticks": "",
            "zerolinecolor": "white"
           },
           "yaxis": {
            "backgroundcolor": "#E5ECF6",
            "gridcolor": "white",
            "gridwidth": 2,
            "linecolor": "white",
            "showbackground": true,
            "ticks": "",
            "zerolinecolor": "white"
           },
           "zaxis": {
            "backgroundcolor": "#E5ECF6",
            "gridcolor": "white",
            "gridwidth": 2,
            "linecolor": "white",
            "showbackground": true,
            "ticks": "",
            "zerolinecolor": "white"
           }
          },
          "shapedefaults": {
           "line": {
            "color": "#2a3f5f"
           }
          },
          "ternary": {
           "aaxis": {
            "gridcolor": "white",
            "linecolor": "white",
            "ticks": ""
           },
           "baxis": {
            "gridcolor": "white",
            "linecolor": "white",
            "ticks": ""
           },
           "bgcolor": "#E5ECF6",
           "caxis": {
            "gridcolor": "white",
            "linecolor": "white",
            "ticks": ""
           }
          },
          "title": {
           "x": 0.05
          },
          "xaxis": {
           "automargin": true,
           "gridcolor": "white",
           "linecolor": "white",
           "ticks": "",
           "title": {
            "standoff": 15
           },
           "zerolinecolor": "white",
           "zerolinewidth": 2
          },
          "yaxis": {
           "automargin": true,
           "gridcolor": "white",
           "linecolor": "white",
           "ticks": "",
           "title": {
            "standoff": 15
           },
           "zerolinecolor": "white",
           "zerolinewidth": 2
          }
         }
        },
        "updatemenus": [
         {
          "active": 0,
          "buttons": [
           {
            "args": [
             {
              "visible": [
               true,
               true,
               false,
               false
              ]
             },
             {
              "annotations": [
               {
                "font": {
                 "size": 16
                },
                "showarrow": false,
                "text": "Daily Vehicle Counts - XmR Chart",
                "x": 0.5,
                "xanchor": "center",
                "xref": "paper",
                "y": 1.1,
                "yanchor": "top",
                "yref": "paper"
               },
               {
                "font": {
                 "size": 10
                },
                "showarrow": false,
                "text": "<b>mR Upper Limit = 327.394</b>",
                "x": 0.01,
                "xanchor": "left",
                "xref": "paper",
                "y": 343.76389090909095,
                "yanchor": "auto",
                "yref": "y2"
               },
               {
                "font": {
                 "size": 10
                },
                "showarrow": false,
                "text": "<b>vehicle_counts Upper Limit = 1356.224</b>",
                "x": 0.01,
                "xanchor": "left",
                "xref": "paper",
                "y": 1372.2126545454546,
                "yanchor": "auto",
                "yref": "y"
               },
               {
                "font": {
                 "size": 10
                },
                "showarrow": false,
                "text": "<b>vehicle_counts Lower Limit = 823.256</b>",
                "x": 0.01,
                "xanchor": "left",
                "xref": "paper",
                "y": 807.2673454545454,
                "yanchor": "auto",
                "yref": "y"
               }
              ],
              "shapes": [
               {
                "line": {
                 "color": "gray",
                 "dash": "dashdot"
                },
                "type": "line",
                "x0": 0,
                "x1": 1,
                "xref": "x domain",
                "y0": 1089.74,
                "y1": 1089.74,
                "yref": "y"
               },
               {
                "line": {
                 "color": "red",
                 "dash": "dashdot"
                },
                "type": "line",
                "x0": 0,
                "x1": 1,
                "xref": "x domain",
                "y0": 1356.2236363636364,
                "y1": 1356.2236363636364,
                "yref": "y"
               },
               {
                "line": {
                 "color": "red",
                 "dash": "dashdot"
                },
                "type": "line",
                "x0": 0,
                "x1": 1,
                "xref": "x domain",
                "y0": 823.2563636363636,
                "y1": 823.2563636363636,
                "yref": "y"
               },
               {
                "line": {
                 "color": "pink",
                 "dash": "dot"
                },
                "type": "line",
                "x0": 0,
                "x1": 1,
                "xref": "x domain",
                "y0": 1222.9818181818182,
                "y1": 1222.9818181818182,
                "yref": "y"
               },
               {
                "line": {
                 "color": "pink",
                 "dash": "dot"
                },
                "type": "line",
                "x0": 0,
                "x1": 1,
                "xref": "x domain",
                "y0": 956.4981818181818,
                "y1": 956.4981818181818,
                "yref": "y"
               },
               {
                "line": {
                 "color": "gray",
                 "dash": "dashdot"
                },
                "type": "line",
                "x0": 0,
                "x1": 1,
                "xref": "x domain",
                "y0": 100.18181818181819,
                "y1": 100.18181818181819,
                "yref": "y2"
               },
               {
                "line": {
                 "color": "red",
                 "dash": "dashdot"
                },
                "type": "line",
                "x0": 0,
                "x1": 1,
                "xref": "x domain",
                "y0": 327.39418181818183,
                "y1": 327.39418181818183,
                "yref": "y2"
               },
               {
                "line": {
                 "color": "pink",
                 "dash": "dot"
                },
                "type": "line",
                "x0": 0,
                "x1": 1,
                "xref": "x domain",
                "y0": 213.788,
                "y1": 213.788,
                "yref": "y2"
               }
              ]
             }
            ],
            "label": "None",
            "method": "update"
           },
           {
            "args": [
             {
              "visible": [
               true,
               true,
               true,
               true
              ]
             },
             {
              "annotations": [
               {
                "font": {
                 "size": 16
                },
                "showarrow": false,
                "text": "Daily Vehicle Counts - XmR Chart",
                "x": 0.5,
                "xanchor": "center",
                "xref": "paper",
                "y": 1.1,
                "yanchor": "top",
                "yref": "paper"
               },
               {
                "font": {
                 "size": 10
                },
                "showarrow": false,
                "text": "<b>mR Upper Limit = 327.394</b>",
                "x": 0.01,
                "xanchor": "left",
                "xref": "paper",
                "y": 343.76389090909095,
                "yanchor": "auto",
                "yref": "y2"
               },
               {
                "font": {
                 "size": 10
                },
                "showarrow": false,
                "text": "<b>vehicle_counts Upper Limit = 1356.224</b>",
                "x": 0.01,
                "xanchor": "left",
                "xref": "paper",
                "y": 1372.2126545454546,
                "yanchor": "auto",
                "yref": "y"
               },
               {
                "font": {
                 "size": 10
                },
                "showarrow": false,
                "text": "<b>vehicle_counts Lower Limit = 823.256</b>",
                "x": 0.01,
                "xanchor": "left",
                "xref": "paper",
                "y": 807.2673454545454,
                "yanchor": "auto",
                "yref": "y"
               }
              ],
              "shapes": [
               {
                "line": {
                 "color": "gray",
                 "dash": "dashdot"
                },
                "type": "line",
                "x0": 0,
                "x1": 1,
                "xref": "x domain",
                "y0": 1089.74,
                "y1": 1089.74,
                "yref": "y"
               },
               {
                "line": {
                 "color": "red",
                 "dash": "dashdot"
                },
                "type": "line",
                "x0": 0,
                "x1": 1,
                "xref": "x domain",
                "y0": 1356.2236363636364,
                "y1": 1356.2236363636364,
                "yref": "y"
               },
               {
                "line": {
                 "color": "red",
                 "dash": "dashdot"
                },
                "type": "line",
                "x0": 0,
                "x1": 1,
                "xref": "x domain",
                "y0": 823.2563636363636,
                "y1": 823.2563636363636,
                "yref": "y"
               },
               {
                "line": {
                 "color": "pink",
                 "dash": "dot"
                },
                "type": "line",
                "x0": 0,
                "x1": 1,
                "xref": "x domain",
                "y0": 1222.9818181818182,
                "y1": 1222.9818181818182,
                "yref": "y"
               },
               {
                "line": {
                 "color": "pink",
                 "dash": "dot"
                },
                "type": "line",
                "x0": 0,
                "x1": 1,
                "xref": "x domain",
                "y0": 956.4981818181818,
                "y1": 956.4981818181818,
                "yref": "y"
               },
               {
                "line": {
                 "color": "gray",
                 "dash": "dashdot"
                },
                "type": "line",
                "x0": 0,
                "x1": 1,
                "xref": "x domain",
                "y0": 100.18181818181819,
                "y1": 100.18181818181819,
                "yref": "y2"
               },
               {
                "line": {
                 "color": "red",
                 "dash": "dashdot"
                },
                "type": "line",
                "x0": 0,
                "x1": 1,
                "xref": "x domain",
                "y0": 327.39418181818183,
                "y1": 327.39418181818183,
                "yref": "y2"
               },
               {
                "line": {
                 "color": "pink",
                 "dash": "dot"
                },
                "type": "line",
                "x0": 0,
                "x1": 1,
                "xref": "x domain",
                "y0": 213.788,
                "y1": 213.788,
                "yref": "y2"
               }
              ]
             }
            ],
            "label": "Anomalies",
            "method": "update"
           },
           {
            "args": [
             {
              "visible": [
               true,
               true,
               false,
               false
              ]
             },
             {
              "annotations": [
               {
                "font": {
                 "size": 16
                },
                "showarrow": false,
                "text": "Daily Vehicle Counts - XmR Chart",
                "x": 0.5,
                "xanchor": "center",
                "xref": "paper",
                "y": 1.1,
                "yanchor": "top",
                "yref": "paper"
               },
               {
                "font": {
                 "size": 10
                },
                "showarrow": false,
                "text": "<b>mR Upper Limit = 327.394</b>",
                "x": 0.01,
                "xanchor": "left",
                "xref": "paper",
                "y": 343.76389090909095,
                "yanchor": "auto",
                "yref": "y2"
               },
               {
                "font": {
                 "size": 10
                },
                "showarrow": false,
                "text": "<b>vehicle_counts Upper Limit = 1356.224</b>",
                "x": 0.01,
                "xanchor": "left",
                "xref": "paper",
                "y": 1372.2126545454546,
                "yanchor": "auto",
                "yref": "y"
               },
               {
                "font": {
                 "size": 10
                },
                "showarrow": false,
                "text": "<b>vehicle_counts Lower Limit = 823.256</b>",
                "x": 0.01,
                "xanchor": "left",
                "xref": "paper",
                "y": 807.2673454545454,
                "yanchor": "auto",
                "yref": "y"
               }
              ],
              "shapes": [
               {
                "line": {
                 "color": "gray",
                 "dash": "dashdot"
                },
                "type": "line",
                "x0": 0,
                "x1": 1,
                "xref": "x domain",
                "y0": 1089.74,
                "y1": 1089.74,
                "yref": "y"
               },
               {
                "line": {
                 "color": "red",
                 "dash": "dashdot"
                },
                "type": "line",
                "x0": 0,
                "x1": 1,
                "xref": "x domain",
                "y0": 1356.2236363636364,
                "y1": 1356.2236363636364,
                "yref": "y"
               },
               {
                "line": {
                 "color": "red",
                 "dash": "dashdot"
                },
                "type": "line",
                "x0": 0,
                "x1": 1,
                "xref": "x domain",
                "y0": 823.2563636363636,
                "y1": 823.2563636363636,
                "yref": "y"
               },
               {
                "line": {
                 "color": "pink",
                 "dash": "dot"
                },
                "type": "line",
                "x0": 0,
                "x1": 1,
                "xref": "x domain",
                "y0": 1222.9818181818182,
                "y1": 1222.9818181818182,
                "yref": "y"
               },
               {
                "line": {
                 "color": "pink",
                 "dash": "dot"
                },
                "type": "line",
                "x0": 0,
                "x1": 1,
                "xref": "x domain",
                "y0": 956.4981818181818,
                "y1": 956.4981818181818,
                "yref": "y"
               },
               {
                "line": {
                 "color": "gray",
                 "dash": "dashdot"
                },
                "type": "line",
                "x0": 0,
                "x1": 1,
                "xref": "x domain",
                "y0": 100.18181818181819,
                "y1": 100.18181818181819,
                "yref": "y2"
               },
               {
                "line": {
                 "color": "red",
                 "dash": "dashdot"
                },
                "type": "line",
                "x0": 0,
                "x1": 1,
                "xref": "x domain",
                "y0": 327.39418181818183,
                "y1": 327.39418181818183,
                "yref": "y2"
               },
               {
                "line": {
                 "color": "pink",
                 "dash": "dot"
                },
                "type": "line",
                "x0": 0,
                "x1": 1,
                "xref": "x domain",
                "y0": 213.788,
                "y1": 213.788,
                "yref": "y2"
               },
               {
                "fillcolor": "pink",
                "line": {
                 "color": "purple",
                 "dash": "longdashdot",
                 "width": 2
                },
                "name": "Long Run",
                "opacity": 0.2,
                "path": "M 1704096000000.0 979.5 L 1704182400000.0 1050.5 L 1704268800000.0 1110.5 L 1704355200000.0 1020.5 L 1704441600000.0 1048.5 L 1704528000000.0 920.5 L 1704614400000.0 896.5 L 1704700800000.0 1070.5 L 1704787200000.0 1075.5 L 1704873600000.0 1068.5 L 1704960000000.0 1093.5 L 1705046400000.0 1024.5 L 1705132800000.0 899.5 L 1705219200000.0 857.5 L 1705219200000.0 782.5 L 1705132800000.0 824.5 L 1705046400000.0 949.5 L 1704960000000.0 1018.5 L 1704873600000.0 993.5 L 1704787200000.0 1000.5 L 1704700800000.0 995.5 L 1704614400000.0 821.5 L 1704528000000.0 845.5 L 1704441600000.0 973.5 L 1704355200000.0 945.5 L 1704268800000.0 1035.5 L 1704182400000.0 975.5 L 1704096000000.0 904.5 Z",
                "type": "path"
               }
              ]
             }
            ],
            "label": "Long Runs",
            "method": "update"
           },
           {
            "args": [
             {
              "visible": [
               true,
               true,
               false,
               false
              ]
             },
             {
              "annotations": [
               {
                "font": {
                 "size": 16
                },
                "showarrow": false,
                "text": "Daily Vehicle Counts - XmR Chart",
                "x": 0.5,
                "xanchor": "center",
                "xref": "paper",
                "y": 1.1,
                "yanchor": "top",
                "yref": "paper"
               },
               {
                "font": {
                 "size": 10
                },
                "showarrow": false,
                "text": "<b>mR Upper Limit = 327.394</b>",
                "x": 0.01,
                "xanchor": "left",
                "xref": "paper",
                "y": 343.76389090909095,
                "yanchor": "auto",
                "yref": "y2"
               },
               {
                "font": {
                 "size": 10
                },
                "showarrow": false,
                "text": "<b>vehicle_counts Upper Limit = 1356.224</b>",
                "x": 0.01,
                "xanchor": "left",
                "xref": "paper",
                "y": 1372.2126545454546,
                "yanchor": "auto",
                "yref": "y"
               },
               {
                "font": {
                 "size": 10
                },
                "showarrow": false,
                "text": "<b>vehicle_counts Lower Limit = 823.256</b>",
                "x": 0.01,
                "xanchor": "left",
                "xref": "paper",
                "y": 807.2673454545454,
                "yanchor": "auto",
                "yref": "y"
               }
              ],
              "shapes": [
               {
                "line": {
                 "color": "gray",
                 "dash": "dashdot"
                },
                "type": "line",
                "x0": 0,
                "x1": 1,
                "xref": "x domain",
                "y0": 1089.74,
                "y1": 1089.74,
                "yref": "y"
               },
               {
                "line": {
                 "color": "red",
                 "dash": "dashdot"
                },
                "type": "line",
                "x0": 0,
                "x1": 1,
                "xref": "x domain",
                "y0": 1356.2236363636364,
                "y1": 1356.2236363636364,
                "yref": "y"
               },
               {
                "line": {
                 "color": "red",
                 "dash": "dashdot"
                },
                "type": "line",
                "x0": 0,
                "x1": 1,
                "xref": "x domain",
                "y0": 823.2563636363636,
                "y1": 823.2563636363636,
                "yref": "y"
               },
               {
                "line": {
                 "color": "pink",
                 "dash": "dot"
                },
                "type": "line",
                "x0": 0,
                "x1": 1,
                "xref": "x domain",
                "y0": 1222.9818181818182,
                "y1": 1222.9818181818182,
                "yref": "y"
               },
               {
                "line": {
                 "color": "pink",
                 "dash": "dot"
                },
                "type": "line",
                "x0": 0,
                "x1": 1,
                "xref": "x domain",
                "y0": 956.4981818181818,
                "y1": 956.4981818181818,
                "yref": "y"
               },
               {
                "line": {
                 "color": "gray",
                 "dash": "dashdot"
                },
                "type": "line",
                "x0": 0,
                "x1": 1,
                "xref": "x domain",
                "y0": 100.18181818181819,
                "y1": 100.18181818181819,
                "yref": "y2"
               },
               {
                "line": {
                 "color": "red",
                 "dash": "dashdot"
                },
                "type": "line",
                "x0": 0,
                "x1": 1,
                "xref": "x domain",
                "y0": 327.39418181818183,
                "y1": 327.39418181818183,
                "yref": "y2"
               },
               {
                "line": {
                 "color": "pink",
                 "dash": "dot"
                },
                "type": "line",
                "x0": 0,
                "x1": 1,
                "xref": "x domain",
                "y0": 213.788,
                "y1": 213.788,
                "yref": "y2"
               },
               {
                "fillcolor": "purple",
                "line": {
                 "color": "blue",
                 "dash": "longdashdot",
                 "width": 2
                },
                "name": "Short Run",
                "opacity": 0.2,
                "path": "M 1708502400000.0 1404.5 L 1708588800000.0 1352.5 L 1708675200000.0 1258.5 L 1708761600000.0 1292.5 L 1708761600000.0 1217.5 L 1708675200000.0 1183.5 L 1708588800000.0 1277.5 L 1708502400000.0 1329.5 Z",
                "type": "path"
               }
              ]
             }
            ],
            "label": "Short Runs",
            "method": "update"
           },
           {
            "args": [
             {
              "visible": [
               true,
               true,
               true,
               true
              ]
             },
             {
              "annotations": [
               {
                "font": {
                 "size": 16
                },
                "showarrow": false,
                "text": "Daily Vehicle Counts - XmR Chart",
                "x": 0.5,
                "xanchor": "center",
                "xref": "paper",
                "y": 1.1,
                "yanchor": "top",
                "yref": "paper"
               },
               {
                "font": {
                 "size": 10
                },
                "showarrow": false,
                "text": "<b>mR Upper Limit = 327.394</b>",
                "x": 0.01,
                "xanchor": "left",
                "xref": "paper",
                "y": 343.76389090909095,
                "yanchor": "auto",
                "yref": "y2"
               },
               {
                "font": {
                 "size": 10
                },
                "showarrow": false,
                "text": "<b>vehicle_counts Upper Limit = 1356.224</b>",
                "x": 0.01,
                "xanchor": "left",
                "xref": "paper",
                "y": 1372.2126545454546,
                "yanchor": "auto",
                "yref": "y"
               },
               {
                "font": {
                 "size": 10
                },
                "showarrow": false,
                "text": "<b>vehicle_counts Lower Limit = 823.256</b>",
                "x": 0.01,
                "xanchor": "left",
                "xref": "paper",
                "y": 807.2673454545454,
                "yanchor": "auto",
                "yref": "y"
               }
              ],
              "shapes": [
               {
                "line": {
                 "color": "gray",
                 "dash": "dashdot"
                },
                "type": "line",
                "x0": 0,
                "x1": 1,
                "xref": "x domain",
                "y0": 1089.74,
                "y1": 1089.74,
                "yref": "y"
               },
               {
                "line": {
                 "color": "red",
                 "dash": "dashdot"
                },
                "type": "line",
                "x0": 0,
                "x1": 1,
                "xref": "x domain",
                "y0": 1356.2236363636364,
                "y1": 1356.2236363636364,
                "yref": "y"
               },
               {
                "line": {
                 "color": "red",
                 "dash": "dashdot"
                },
                "type": "line",
                "x0": 0,
                "x1": 1,
                "xref": "x domain",
                "y0": 823.2563636363636,
                "y1": 823.2563636363636,
                "yref": "y"
               },
               {
                "line": {
                 "color": "pink",
                 "dash": "dot"
                },
                "type": "line",
                "x0": 0,
                "x1": 1,
                "xref": "x domain",
                "y0": 1222.9818181818182,
                "y1": 1222.9818181818182,
                "yref": "y"
               },
               {
                "line": {
                 "color": "pink",
                 "dash": "dot"
                },
                "type": "line",
                "x0": 0,
                "x1": 1,
                "xref": "x domain",
                "y0": 956.4981818181818,
                "y1": 956.4981818181818,
                "yref": "y"
               },
               {
                "line": {
                 "color": "gray",
                 "dash": "dashdot"
                },
                "type": "line",
                "x0": 0,
                "x1": 1,
                "xref": "x domain",
                "y0": 100.18181818181819,
                "y1": 100.18181818181819,
                "yref": "y2"
               },
               {
                "line": {
                 "color": "red",
                 "dash": "dashdot"
                },
                "type": "line",
                "x0": 0,
                "x1": 1,
                "xref": "x domain",
                "y0": 327.39418181818183,
                "y1": 327.39418181818183,
                "yref": "y2"
               },
               {
                "line": {
                 "color": "pink",
                 "dash": "dot"
                },
                "type": "line",
                "x0": 0,
                "x1": 1,
                "xref": "x domain",
                "y0": 213.788,
                "y1": 213.788,
                "yref": "y2"
               },
               {
                "fillcolor": "pink",
                "line": {
                 "color": "purple",
                 "dash": "longdashdot",
                 "width": 2
                },
                "name": "Long Run",
                "opacity": 0.2,
                "path": "M 1704096000000.0 979.5 L 1704182400000.0 1050.5 L 1704268800000.0 1110.5 L 1704355200000.0 1020.5 L 1704441600000.0 1048.5 L 1704528000000.0 920.5 L 1704614400000.0 896.5 L 1704700800000.0 1070.5 L 1704787200000.0 1075.5 L 1704873600000.0 1068.5 L 1704960000000.0 1093.5 L 1705046400000.0 1024.5 L 1705132800000.0 899.5 L 1705219200000.0 857.5 L 1705219200000.0 782.5 L 1705132800000.0 824.5 L 1705046400000.0 949.5 L 1704960000000.0 1018.5 L 1704873600000.0 993.5 L 1704787200000.0 1000.5 L 1704700800000.0 995.5 L 1704614400000.0 821.5 L 1704528000000.0 845.5 L 1704441600000.0 973.5 L 1704355200000.0 945.5 L 1704268800000.0 1035.5 L 1704182400000.0 975.5 L 1704096000000.0 904.5 Z",
                "type": "path"
               },
               {
                "fillcolor": "purple",
                "line": {
                 "color": "blue",
                 "dash": "longdashdot",
                 "width": 2
                },
                "name": "Short Run",
                "opacity": 0.2,
                "path": "M 1708502400000.0 1404.5 L 1708588800000.0 1352.5 L 1708675200000.0 1258.5 L 1708761600000.0 1292.5 L 1708761600000.0 1217.5 L 1708675200000.0 1183.5 L 1708588800000.0 1277.5 L 1708502400000.0 1329.5 Z",
                "type": "path"
               }
              ]
             }
            ],
            "label": "All",
            "method": "update"
           }
          ],
          "direction": "right",
          "type": "buttons",
          "x": 0.5,
          "xanchor": "center",
          "y": 1.2
         }
        ],
        "xaxis": {
         "anchor": "y",
         "automargin": true,
         "domain": [
          0,
          1
         ],
         "dtick": "M1",
         "gridcolor": "lightgray",
         "showgrid": true,
         "showline": true,
         "showspikes": true,
         "showticklabels": true,
         "spikemode": "across+toaxis",
         "spikesnap": "cursor",
         "tickangle": 0,
         "tickformat": "%Y-%m-%d",
         "ticklabelmode": "period",
         "type": "date",
         "zeroline": false
        },
        "xaxis2": {
         "anchor": "y2",
         "domain": [
          0,
          1
         ],
         "matches": "x"
        },
        "yaxis": {
         "anchor": "x",
         "domain": [
          0.4,
          1
         ],
         "dtick": 50,
         "range": [
          700,
          1450
         ],
         "tickformat": "0",
         "title": {
          "text": "vehicle_counts"
         }
        },
        "yaxis2": {
         "anchor": "x2",
         "domain": [
          0,
          0.3
         ],
         "dtick": 65,
         "range": [
          0,
          650
         ],
         "tickformat": "0",
         "title": {
          "text": "Moving Range"
         }
        }
       }
      }
     },
     "metadata": {},
     "output_type": "display_data"
    }
   ],
   "source": [
    "# Create XmR chart\n",
    "xmr_chart = xmr.XmR(\n",
    "    data=data,\n",
    "    x_type='date_time',\n",
    "    x_ser_name='date',\n",
    "    y_ser_name='vehicle_counts',\n",
    "    date_part_resolution='day',\n",
    "    title='Daily Vehicle Counts - XmR Chart',\n",
    "    # period_breaks = ['2024-01-21', '2024-03-01']\n",
    ")\n",
    "\n",
    "# Display the chart\n",
    "xmr_chart.xmr_chart"
   ]
  },
  {
   "cell_type": "code",
   "execution_count": 30,
   "metadata": {},
   "outputs": [
    {
     "name": "stdout",
     "output_type": "stream",
     "text": [
      "Moving Range Limits:\n",
      "{'mR_xmr_func': np.float64(100.18181818181819), 'mR_upper_limit': np.float64(327.39418181818183), 'xmr_func': 'mean'}\n",
      "\n",
      "Natural Process Limits:\n",
      "{'y_xmr_func': np.float64(1089.74), 'npl_upper_limit': np.float64(1356.2236363636364), 'npl_lower_limit': np.float64(823.2563636363636), 'xmr_func': 'mean'}\n",
      "\n",
      "Detected Signals:\n",
      "{'anomalies': [(np.datetime64('2024-01-14T00:00:00.000000000'), np.int64(820), 'Low'), (np.datetime64('2024-02-21T00:00:00.000000000'), np.int64(1367), 'High'), (np.datetime64('2024-03-21T00:00:00.000000000'), np.int64(703), 'Low')], 'long_runs': [[(Timestamp('2024-01-01 00:00:00'), np.int64(942), 'Low'), (Timestamp('2024-01-02 00:00:00'), np.int64(1013), 'Low'), (Timestamp('2024-01-03 00:00:00'), np.int64(1073), 'Low'), (Timestamp('2024-01-04 00:00:00'), np.int64(983), 'Low'), (Timestamp('2024-01-05 00:00:00'), np.int64(1011), 'Low'), (Timestamp('2024-01-06 00:00:00'), np.int64(883), 'Low'), (Timestamp('2024-01-07 00:00:00'), np.int64(859), 'Low'), (Timestamp('2024-01-08 00:00:00'), np.int64(1033), 'Low'), (Timestamp('2024-01-09 00:00:00'), np.int64(1038), 'Low'), (Timestamp('2024-01-10 00:00:00'), np.int64(1031), 'Low'), (Timestamp('2024-01-11 00:00:00'), np.int64(1056), 'Low'), (Timestamp('2024-01-12 00:00:00'), np.int64(987), 'Low'), (Timestamp('2024-01-13 00:00:00'), np.int64(862), 'Low'), (Timestamp('2024-01-14 00:00:00'), np.int64(820), 'Low')]], 'short_runs': [[(Timestamp('2024-02-21 00:00:00'), np.int64(1367), None), (Timestamp('2024-02-22 00:00:00'), np.int64(1315), None), (Timestamp('2024-02-23 00:00:00'), np.int64(1221), None), (Timestamp('2024-02-24 00:00:00'), np.int64(1255), None)]]}\n"
     ]
    }
   ],
   "source": [
    "# Check the calculated limits and signals\n",
    "print(\"Moving Range Limits:\")\n",
    "print(xmr_chart.mR_limit_values)\n",
    "print(\"\\nNatural Process Limits:\")\n",
    "print(xmr_chart.npl_limit_values)\n",
    "print(\"\\nDetected Signals:\")\n",
    "print(xmr_chart.signals)\n",
    "# xmr_chart.y_xmr_func"
   ]
  },
  {
   "cell_type": "code",
   "execution_count": null,
   "metadata": {},
   "outputs": [],
   "source": []
  },
  {
   "cell_type": "code",
   "execution_count": 41,
   "metadata": {},
   "outputs": [
    {
     "data": {
      "application/vnd.plotly.v1+json": {
       "config": {
        "plotlyServerURL": "https://plot.ly"
       },
       "data": [
        {
         "customdata": {
          "bdata": "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",
          "dtype": "f8",
          "shape": "100, 5"
         },
         "hovertemplate": "<b>Position:</b> %{x}<br><b>Value:</b> %{y:,.2f}<br><b>Mean:</b> %{customdata[0]:,.2f}<br><b>Is Anomaly:</b> %{customdata[2]}<br><b>Is Short Run:</b> %{customdata[3]}<br><b>Is Long Run:</b> %{customdata[4]}<br><extra></extra>",
         "line": {
          "color": "black",
          "width": 1
         },
         "marker": {
          "color": "black",
          "size": 6
         },
         "mode": "lines+markers",
         "name": "measurement",
         "type": "scatter",
         "x": {
          "bdata": "AQIDBAUGBwgJCgsMDQ4PEBESExQVFhcYGRobHB0eHyAhIiMkJSYnKCkqKywtLi8wMTIzNDU2Nzg5Ojs8PT4/QEFCQ0RFRkdISUpLTE1OT1BRUlNUVVZXWFlaW1xdXl9gYWJjZA==",
          "dtype": "i1"
         },
         "xaxis": "x",
         "y": {
          "bdata": "JnZ2/6m8V0AG1/rHoiBbQDAoAQXdXFZApkVfzhdvVED87KMwy4hWQG5PXZYRQVlAYMLtsoc4WkB+fNVES8ddQC7AS3YUk1dAndGmLUxKVkAL0RtZPlZbQIC9rwvUZVtA6ukNFpp4W0DpFxTBb/RWQKGrkR11+FhAQt+zffdLWkADNw4vrcxYQBe4LQvkcllAwbZ1QRz6V0D1hVEdRARYQAV+53DO6FxAYsUkTwjTVkBlOgdil5dcQGoRivOOYllAQ0/jPqnQV0CILjT40rlWQNIEIqzkJVpAPmKptjA7WEDrG+fYexhbQLl6iAu/TllA6H0PGSvoVUCJWCqnafNbQGtW5plsQ1hAGmRdmr7nWkAiv3winkRZQETTnBfW5ltA4wcMiCYwV0BIzXuUWftcQJvKWsJ6U1tAehNf+5ESXUA6UenHealWQHFL2nHBAlxAHK4mQosjWUDlHNJdtIBVQGsNlHAmC1tAg9skng9uWkA/g9jR5sVWQDqSAbNK4lpA8vbZrak0V0BP78fR4aJcQGQS5IRA1ldAGaHj2Y+uWUCA10AF75tbQAdZdvPhDFxAdn/LJ9oMW0BHsWW6u95XQEfHF80AnlhAEVHjfsEXV0CYL4b+k59YQA+yDabn+llAkvryOYpxW0CkwudC0T1XQAOSK++Ds1lAhhWQs3mfWEBxBL7Sor5YQCXkWeJWC1lAwIlwW/YiV0CTZcmhObVYQOzWYUb5YllAnWlD59GlU0BpAT1UzM5XQAKSXfM7qFZACZDdfm1gWEDE8BNEfhdcQF5fDeJcn1dAsOLh219EU0CHYFrXxHFZQJ7rtA+InVZAUllF58JQVkDUCrLSf0FbQJ9tYx4FlVhALTCYtjHJWkDP8X1Id4BUQHYKHS3evVpALdg4j+jRWEDQC18Tq2hYQOo85SrdoVdANv8mk9atVUBYlr3ebNZdQGXMYBUdK1tAApDhjITxWUCSdwEOD4RYQPpyn+YeyFdAMmp2rM6BWkAtbpQd8HJWQBCY/t5bDFhA9OPDoMYsW0CJGJxXgt5ZQIstR14i2FdA5Y3SjE72WEA=",
          "dtype": "f8"
         },
         "yaxis": "y"
        },
        {
         "customdata": {
          "bdata": "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",
          "dtype": "f8",
          "shape": "100, 5"
         },
         "hovertemplate": "<b>Position:</b> %{x}<br><b>Range:</b> %{y:,.2f}<br><b>Mean:</b> %{customdata[0]:,.2f}<br><b>Is Anomaly:</b> %{customdata[2]}<br><b>Is Short Run:</b> %{customdata[3]}<br><b>Is Long Run:</b> %{customdata[4]}<br><extra></extra>",
         "line": {
          "color": "black",
          "width": 1
         },
         "marker": {
          "color": "black",
          "size": 6
         },
         "mode": "lines+markers",
         "name": "Moving Range",
         "type": "scatter",
         "x": {
          "bdata": "AQIDBAUGBwgJCgsMDQ4PEBESExQVFhcYGRobHB0eHyAhIiMkJSYnKCkqKywtLi8wMTIzNDU2Nzg5Ojs8PT4/QEFCQ0RFRkdISUpLTE1OT1BRUlNUVVZXWFlaW1xdXl9gYWJjZA==",
          "dtype": "i1"
         },
         "xaxis": "x2",
         "y": {
          "bdata": "AAAAAAAA+H8AByNExh8rQFi75gsXDzNAoCgealPcHkCwOiUSm80gQJATyy0zwiVAQF4OksPuDkDw0D2PHHYsQEDxJjrb0DhAEOlOioSMFEC4/dOtyC80QADq2CdlK88/AGosXgrG0j8ESOdTqRAyQMCd7OMqICBAEDojAiY4FUDwg1rqpPQXQIAi8IPbxgRAYBWAm3yMF0AAaJ63t0/EP0DgV04pkjNAjOIKhxhXOEAM1IlLPBI3QNhH6XNDqClAcCJsSlseGUCwC/JqZG0RQFCybp+NYCtAQCmKVz+rHkBoze0RWeomQCAT6tXMmxxAiObHk580K0CEams4+iw4QPAQIGrofy1AeG24A5AiJUCATwp+BzIaQBChAKm/ESVAhC1DPr7aMkCUFb8xzCw3QNAqECLtfRpA8I1EkHPxG0AAAAAAAAD4fwAJ181gpDlA3OjDpx5lNUCo6px9sfkmQLiJpCK3Fi1AGMIHS8gpNkAAAAAAAAD4fwA95k3aogNAIMJiYkZBLUDsO6SEj3EwQEDaPCkIbS1AdOG3j+C4NUAAAAAAAAD4f6xzjzOFMjNAUOv4T/WEHUBwZtO18tUeQMBhYI27PPw/EJmtunwAEEB4cS5r83ApQADAQlai6AdAYGNH4/RjGEBw6C36J30YQHAneHg6tRVAMIhUPilqF0C43yzc484wQPh6HmKVrSNA0Me3uaNAEUAA6+4tHynfPwDt9+YDLfM/UKaVbgiGHkAwvY1lNCQZQCArDpP0twVAPLV5fJ30NkAwX+az6aMwQHD29g0GaRJAcOD/txiDG0DYBbMphrgtQJhFGoiF4DFAuPKtGPRrMUBc9+Htk7U4QEinKz3moSZAAJPkG0ox8z8IxrKt88IzQKjpdKLVYyVAcBSmwWShIUB4+Wi46SI5QJxifJKb9ThAkCRD3lm/HkBAF3P2Xk/6P8DcOQ+92QhAQNvje2lAH0BELi2XLFFAQJhP5kp+WiVAMMbzh4iZE0AAhwHuV9cWQACTQOwEfgdAwLm3Ln7NJUAU8Ic7ejswQDCeoha8lhlAIF8qDlYDKUA=",
          "dtype": "f8"
         },
         "yaxis": "y2"
        },
        {
         "marker": {
          "color": "red",
          "size": 8,
          "symbol": "cross"
         },
         "mode": "markers",
         "texttemplate": "%{y}",
         "type": "scatter",
         "visible": false,
         "x": [
          70,
          76
         ],
         "xaxis": "x",
         "y": [
          78.59093648513085,
          77.06835076388484
         ],
         "yaxis": "y"
        },
        {
         "marker": {
          "color": "red",
          "size": 8,
          "symbol": "cross"
         },
         "mode": "markers",
         "type": "scatter",
         "visible": false,
         "x": [
          86,
          87,
          92
         ],
         "xaxis": "x2",
         "y": [
          25.13637878954748,
          24.95940509354351,
          32.63417329507914
         ],
         "yaxis": "y2"
        }
       ],
       "layout": {
        "annotations": [
         {
          "font": {
           "size": 16
          },
          "showarrow": false,
          "text": "measurement XmR Chart by position",
          "x": 0.5,
          "xanchor": "center",
          "xref": "paper",
          "y": 1.1,
          "yanchor": "top",
          "yref": "paper"
         },
         {
          "font": {
           "size": 10
          },
          "showarrow": false,
          "text": "<b>mR Upper Limit = 36.927</b>",
          "x": 0.01,
          "xanchor": "left",
          "xref": "paper",
          "y": 38.77360892195775,
          "yanchor": "auto",
          "yref": "y2"
         },
         {
          "font": {
           "size": 10
          },
          "showarrow": false,
          "text": "<b>measurement Upper Limit = 131.635</b>",
          "x": 0.01,
          "xanchor": "left",
          "xref": "paper",
          "y": 133.43874266483553,
          "yanchor": "auto",
          "yref": "y"
         },
         {
          "font": {
           "size": 10
          },
          "showarrow": false,
          "text": "<b>measurement Lower Limit = 71.521</b>",
          "x": 0.01,
          "xanchor": "left",
          "xref": "paper",
          "y": 69.71777296363362,
          "yanchor": "auto",
          "yref": "y"
         }
        ],
        "font": {
         "size": 10
        },
        "height": 800,
        "hovermode": "x",
        "plot_bgcolor": "white",
        "shapes": [
         {
          "line": {
           "color": "gray",
           "dash": "dashdot"
          },
          "type": "line",
          "x0": 1,
          "x1": 40,
          "xref": "x",
          "y0": 101.57825781423458,
          "y1": 101.57825781423458,
          "yref": "y"
         },
         {
          "line": {
           "color": "red",
           "dash": "dashdot"
          },
          "type": "line",
          "x0": 1,
          "x1": 40,
          "xref": "x",
          "y0": 131.6353189940468,
          "y1": 131.6353189940468,
          "yref": "y"
         },
         {
          "line": {
           "color": "red",
           "dash": "dashdot"
          },
          "type": "line",
          "x0": 1,
          "x1": 40,
          "xref": "x",
          "y0": 71.52119663442235,
          "y1": 71.52119663442235,
          "yref": "y"
         },
         {
          "line": {
           "color": "pink",
           "dash": "dot"
          },
          "type": "line",
          "x0": 1,
          "x1": 40,
          "xref": "x",
          "y0": 116.60678840414069,
          "y1": 116.60678840414069,
          "yref": "y"
         },
         {
          "line": {
           "color": "pink",
           "dash": "dot"
          },
          "type": "line",
          "x0": 1,
          "x1": 40,
          "xref": "x",
          "y0": 86.54972722432846,
          "y1": 86.54972722432846,
          "yref": "y"
         },
         {
          "line": {
           "color": "gray",
           "dash": "dashdot"
          },
          "type": "line",
          "x0": 1,
          "x1": 40,
          "xref": "x",
          "y0": 11.29964706007978,
          "y1": 11.29964706007978,
          "yref": "y2"
         },
         {
          "line": {
           "color": "red",
           "dash": "dashdot"
          },
          "type": "line",
          "x0": 1,
          "x1": 40,
          "xref": "x",
          "y0": 36.927246592340715,
          "y1": 36.927246592340715,
          "yref": "y2"
         },
         {
          "line": {
           "color": "pink",
           "dash": "dot"
          },
          "type": "line",
          "x0": 1,
          "x1": 40,
          "xref": "x",
          "y0": 24.11344682621025,
          "y1": 24.11344682621025,
          "yref": "y2"
         },
         {
          "line": {
           "color": "gray",
           "dash": "dashdot"
          },
          "type": "line",
          "x0": 40,
          "x1": 45,
          "xref": "x",
          "y0": 102.2869799012215,
          "y1": 102.2869799012215,
          "yref": "y"
         },
         {
          "line": {
           "color": "red",
           "dash": "dashdot"
          },
          "type": "line",
          "x0": 40,
          "x1": 45,
          "xref": "x",
          "y0": 152.95059639958026,
          "y1": 152.95059639958026,
          "yref": "y"
         },
         {
          "line": {
           "color": "red",
           "dash": "dashdot"
          },
          "type": "line",
          "x0": 40,
          "x1": 45,
          "xref": "x",
          "y0": 51.62336340286274,
          "y1": 51.62336340286274,
          "yref": "y"
         },
         {
          "line": {
           "color": "pink",
           "dash": "dot"
          },
          "type": "line",
          "x0": 40,
          "x1": 45,
          "xref": "x",
          "y0": 127.61878815040089,
          "y1": 127.61878815040089,
          "yref": "y"
         },
         {
          "line": {
           "color": "pink",
           "dash": "dot"
          },
          "type": "line",
          "x0": 40,
          "x1": 45,
          "xref": "x",
          "y0": 76.95517165204213,
          "y1": 76.95517165204213,
          "yref": "y"
         },
         {
          "line": {
           "color": "gray",
           "dash": "dashdot"
          },
          "type": "line",
          "x0": 40,
          "x1": 45,
          "xref": "x",
          "y0": 19.046472367804043,
          "y1": 19.046472367804043,
          "yref": "y2"
         },
         {
          "line": {
           "color": "red",
           "dash": "dashdot"
          },
          "type": "line",
          "x0": 40,
          "x1": 45,
          "xref": "x",
          "y0": 62.24387169798361,
          "y1": 62.24387169798361,
          "yref": "y2"
         },
         {
          "line": {
           "color": "pink",
           "dash": "dot"
          },
          "type": "line",
          "x0": 40,
          "x1": 45,
          "xref": "x",
          "y0": 40.645172032893825,
          "y1": 40.645172032893825,
          "yref": "y2"
         },
         {
          "line": {
           "color": "gray",
           "dash": "dashdot"
          },
          "type": "line",
          "x0": 45,
          "x1": 50,
          "xref": "x",
          "y0": 103.31497268703039,
          "y1": 103.31497268703039,
          "yref": "y"
         },
         {
          "line": {
           "color": "red",
           "dash": "dashdot"
          },
          "type": "line",
          "x0": 45,
          "x1": 50,
          "xref": "x",
          "y0": 140.5340829870694,
          "y1": 140.5340829870694,
          "yref": "y"
         },
         {
          "line": {
           "color": "red",
           "dash": "dashdot"
          },
          "type": "line",
          "x0": 45,
          "x1": 50,
          "xref": "x",
          "y0": 66.09586238699137,
          "y1": 66.09586238699137,
          "yref": "y"
         },
         {
          "line": {
           "color": "pink",
           "dash": "dot"
          },
          "type": "line",
          "x0": 45,
          "x1": 50,
          "xref": "x",
          "y0": 121.92452783704991,
          "y1": 121.92452783704991,
          "yref": "y"
         },
         {
          "line": {
           "color": "pink",
           "dash": "dot"
          },
          "type": "line",
          "x0": 45,
          "x1": 50,
          "xref": "x",
          "y0": 84.70541753701087,
          "y1": 84.70541753701087,
          "yref": "y"
         },
         {
          "line": {
           "color": "gray",
           "dash": "dashdot"
          },
          "type": "line",
          "x0": 45,
          "x1": 50,
          "xref": "x",
          "y0": 13.99214672933798,
          "y1": 13.99214672933798,
          "yref": "y2"
         },
         {
          "line": {
           "color": "red",
           "dash": "dashdot"
          },
          "type": "line",
          "x0": 45,
          "x1": 50,
          "xref": "x",
          "y0": 45.72633551147651,
          "y1": 45.72633551147651,
          "yref": "y2"
         },
         {
          "line": {
           "color": "pink",
           "dash": "dot"
          },
          "type": "line",
          "x0": 45,
          "x1": 50,
          "xref": "x",
          "y0": 29.859241120407248,
          "y1": 29.859241120407248,
          "yref": "y2"
         },
         {
          "line": {
           "color": "gray",
           "dash": "dashdot"
          },
          "type": "line",
          "x0": 50,
          "x1": 100,
          "xref": "x",
          "y0": 100.32860451176059,
          "y1": 100.32860451176059,
          "yref": "y"
         },
         {
          "line": {
           "color": "red",
           "dash": "dashdot"
          },
          "type": "line",
          "x0": 50,
          "x1": 100,
          "xref": "x",
          "y0": 120.47722726896464,
          "y1": 120.47722726896464,
          "yref": "y"
         },
         {
          "line": {
           "color": "red",
           "dash": "dashdot"
          },
          "type": "line",
          "x0": 50,
          "x1": 100,
          "xref": "x",
          "y0": 80.17998175455654,
          "y1": 80.17998175455654,
          "yref": "y"
         },
         {
          "line": {
           "color": "pink",
           "dash": "dot"
          },
          "type": "line",
          "x0": 50,
          "x1": 100,
          "xref": "x",
          "y0": 110.4029158903626,
          "y1": 110.4029158903626,
          "yref": "y"
         },
         {
          "line": {
           "color": "pink",
           "dash": "dot"
          },
          "type": "line",
          "x0": 50,
          "x1": 100,
          "xref": "x",
          "y0": 90.25429313315857,
          "y1": 90.25429313315857,
          "yref": "y"
         },
         {
          "line": {
           "color": "gray",
           "dash": "dashdot"
          },
          "type": "line",
          "x0": 50,
          "x1": 100,
          "xref": "x",
          "y0": 7.57467020947521,
          "y1": 7.57467020947521,
          "yref": "y2"
         },
         {
          "line": {
           "color": "red",
           "dash": "dashdot"
          },
          "type": "line",
          "x0": 50,
          "x1": 100,
          "xref": "x",
          "y0": 24.754022244564986,
          "y1": 24.754022244564986,
          "yref": "y2"
         },
         {
          "line": {
           "color": "pink",
           "dash": "dot"
          },
          "type": "line",
          "x0": 50,
          "x1": 100,
          "xref": "x",
          "y0": 16.164346227020097,
          "y1": 16.164346227020097,
          "yref": "y2"
         }
        ],
        "showlegend": false,
        "template": {
         "data": {
          "bar": [
           {
            "error_x": {
             "color": "#2a3f5f"
            },
            "error_y": {
             "color": "#2a3f5f"
            },
            "marker": {
             "line": {
              "color": "#E5ECF6",
              "width": 0.5
             },
             "pattern": {
              "fillmode": "overlay",
              "size": 10,
              "solidity": 0.2
             }
            },
            "type": "bar"
           }
          ],
          "barpolar": [
           {
            "marker": {
             "line": {
              "color": "#E5ECF6",
              "width": 0.5
             },
             "pattern": {
              "fillmode": "overlay",
              "size": 10,
              "solidity": 0.2
             }
            },
            "type": "barpolar"
           }
          ],
          "carpet": [
           {
            "aaxis": {
             "endlinecolor": "#2a3f5f",
             "gridcolor": "white",
             "linecolor": "white",
             "minorgridcolor": "white",
             "startlinecolor": "#2a3f5f"
            },
            "baxis": {
             "endlinecolor": "#2a3f5f",
             "gridcolor": "white",
             "linecolor": "white",
             "minorgridcolor": "white",
             "startlinecolor": "#2a3f5f"
            },
            "type": "carpet"
           }
          ],
          "choropleth": [
           {
            "colorbar": {
             "outlinewidth": 0,
             "ticks": ""
            },
            "type": "choropleth"
           }
          ],
          "contour": [
           {
            "colorbar": {
             "outlinewidth": 0,
             "ticks": ""
            },
            "colorscale": [
             [
              0,
              "#0d0887"
             ],
             [
              0.1111111111111111,
              "#46039f"
             ],
             [
              0.2222222222222222,
              "#7201a8"
             ],
             [
              0.3333333333333333,
              "#9c179e"
             ],
             [
              0.4444444444444444,
              "#bd3786"
             ],
             [
              0.5555555555555556,
              "#d8576b"
             ],
             [
              0.6666666666666666,
              "#ed7953"
             ],
             [
              0.7777777777777778,
              "#fb9f3a"
             ],
             [
              0.8888888888888888,
              "#fdca26"
             ],
             [
              1,
              "#f0f921"
             ]
            ],
            "type": "contour"
           }
          ],
          "contourcarpet": [
           {
            "colorbar": {
             "outlinewidth": 0,
             "ticks": ""
            },
            "type": "contourcarpet"
           }
          ],
          "heatmap": [
           {
            "colorbar": {
             "outlinewidth": 0,
             "ticks": ""
            },
            "colorscale": [
             [
              0,
              "#0d0887"
             ],
             [
              0.1111111111111111,
              "#46039f"
             ],
             [
              0.2222222222222222,
              "#7201a8"
             ],
             [
              0.3333333333333333,
              "#9c179e"
             ],
             [
              0.4444444444444444,
              "#bd3786"
             ],
             [
              0.5555555555555556,
              "#d8576b"
             ],
             [
              0.6666666666666666,
              "#ed7953"
             ],
             [
              0.7777777777777778,
              "#fb9f3a"
             ],
             [
              0.8888888888888888,
              "#fdca26"
             ],
             [
              1,
              "#f0f921"
             ]
            ],
            "type": "heatmap"
           }
          ],
          "histogram": [
           {
            "marker": {
             "pattern": {
              "fillmode": "overlay",
              "size": 10,
              "solidity": 0.2
             }
            },
            "type": "histogram"
           }
          ],
          "histogram2d": [
           {
            "colorbar": {
             "outlinewidth": 0,
             "ticks": ""
            },
            "colorscale": [
             [
              0,
              "#0d0887"
             ],
             [
              0.1111111111111111,
              "#46039f"
             ],
             [
              0.2222222222222222,
              "#7201a8"
             ],
             [
              0.3333333333333333,
              "#9c179e"
             ],
             [
              0.4444444444444444,
              "#bd3786"
             ],
             [
              0.5555555555555556,
              "#d8576b"
             ],
             [
              0.6666666666666666,
              "#ed7953"
             ],
             [
              0.7777777777777778,
              "#fb9f3a"
             ],
             [
              0.8888888888888888,
              "#fdca26"
             ],
             [
              1,
              "#f0f921"
             ]
            ],
            "type": "histogram2d"
           }
          ],
          "histogram2dcontour": [
           {
            "colorbar": {
             "outlinewidth": 0,
             "ticks": ""
            },
            "colorscale": [
             [
              0,
              "#0d0887"
             ],
             [
              0.1111111111111111,
              "#46039f"
             ],
             [
              0.2222222222222222,
              "#7201a8"
             ],
             [
              0.3333333333333333,
              "#9c179e"
             ],
             [
              0.4444444444444444,
              "#bd3786"
             ],
             [
              0.5555555555555556,
              "#d8576b"
             ],
             [
              0.6666666666666666,
              "#ed7953"
             ],
             [
              0.7777777777777778,
              "#fb9f3a"
             ],
             [
              0.8888888888888888,
              "#fdca26"
             ],
             [
              1,
              "#f0f921"
             ]
            ],
            "type": "histogram2dcontour"
           }
          ],
          "mesh3d": [
           {
            "colorbar": {
             "outlinewidth": 0,
             "ticks": ""
            },
            "type": "mesh3d"
           }
          ],
          "parcoords": [
           {
            "line": {
             "colorbar": {
              "outlinewidth": 0,
              "ticks": ""
             }
            },
            "type": "parcoords"
           }
          ],
          "pie": [
           {
            "automargin": true,
            "type": "pie"
           }
          ],
          "scatter": [
           {
            "fillpattern": {
             "fillmode": "overlay",
             "size": 10,
             "solidity": 0.2
            },
            "type": "scatter"
           }
          ],
          "scatter3d": [
           {
            "line": {
             "colorbar": {
              "outlinewidth": 0,
              "ticks": ""
             }
            },
            "marker": {
             "colorbar": {
              "outlinewidth": 0,
              "ticks": ""
             }
            },
            "type": "scatter3d"
           }
          ],
          "scattercarpet": [
           {
            "marker": {
             "colorbar": {
              "outlinewidth": 0,
              "ticks": ""
             }
            },
            "type": "scattercarpet"
           }
          ],
          "scattergeo": [
           {
            "marker": {
             "colorbar": {
              "outlinewidth": 0,
              "ticks": ""
             }
            },
            "type": "scattergeo"
           }
          ],
          "scattergl": [
           {
            "marker": {
             "colorbar": {
              "outlinewidth": 0,
              "ticks": ""
             }
            },
            "type": "scattergl"
           }
          ],
          "scattermap": [
           {
            "marker": {
             "colorbar": {
              "outlinewidth": 0,
              "ticks": ""
             }
            },
            "type": "scattermap"
           }
          ],
          "scattermapbox": [
           {
            "marker": {
             "colorbar": {
              "outlinewidth": 0,
              "ticks": ""
             }
            },
            "type": "scattermapbox"
           }
          ],
          "scatterpolar": [
           {
            "marker": {
             "colorbar": {
              "outlinewidth": 0,
              "ticks": ""
             }
            },
            "type": "scatterpolar"
           }
          ],
          "scatterpolargl": [
           {
            "marker": {
             "colorbar": {
              "outlinewidth": 0,
              "ticks": ""
             }
            },
            "type": "scatterpolargl"
           }
          ],
          "scatterternary": [
           {
            "marker": {
             "colorbar": {
              "outlinewidth": 0,
              "ticks": ""
             }
            },
            "type": "scatterternary"
           }
          ],
          "surface": [
           {
            "colorbar": {
             "outlinewidth": 0,
             "ticks": ""
            },
            "colorscale": [
             [
              0,
              "#0d0887"
             ],
             [
              0.1111111111111111,
              "#46039f"
             ],
             [
              0.2222222222222222,
              "#7201a8"
             ],
             [
              0.3333333333333333,
              "#9c179e"
             ],
             [
              0.4444444444444444,
              "#bd3786"
             ],
             [
              0.5555555555555556,
              "#d8576b"
             ],
             [
              0.6666666666666666,
              "#ed7953"
             ],
             [
              0.7777777777777778,
              "#fb9f3a"
             ],
             [
              0.8888888888888888,
              "#fdca26"
             ],
             [
              1,
              "#f0f921"
             ]
            ],
            "type": "surface"
           }
          ],
          "table": [
           {
            "cells": {
             "fill": {
              "color": "#EBF0F8"
             },
             "line": {
              "color": "white"
             }
            },
            "header": {
             "fill": {
              "color": "#C8D4E3"
             },
             "line": {
              "color": "white"
             }
            },
            "type": "table"
           }
          ]
         },
         "layout": {
          "annotationdefaults": {
           "arrowcolor": "#2a3f5f",
           "arrowhead": 0,
           "arrowwidth": 1
          },
          "autotypenumbers": "strict",
          "coloraxis": {
           "colorbar": {
            "outlinewidth": 0,
            "ticks": ""
           }
          },
          "colorscale": {
           "diverging": [
            [
             0,
             "#8e0152"
            ],
            [
             0.1,
             "#c51b7d"
            ],
            [
             0.2,
             "#de77ae"
            ],
            [
             0.3,
             "#f1b6da"
            ],
            [
             0.4,
             "#fde0ef"
            ],
            [
             0.5,
             "#f7f7f7"
            ],
            [
             0.6,
             "#e6f5d0"
            ],
            [
             0.7,
             "#b8e186"
            ],
            [
             0.8,
             "#7fbc41"
            ],
            [
             0.9,
             "#4d9221"
            ],
            [
             1,
             "#276419"
            ]
           ],
           "sequential": [
            [
             0,
             "#0d0887"
            ],
            [
             0.1111111111111111,
             "#46039f"
            ],
            [
             0.2222222222222222,
             "#7201a8"
            ],
            [
             0.3333333333333333,
             "#9c179e"
            ],
            [
             0.4444444444444444,
             "#bd3786"
            ],
            [
             0.5555555555555556,
             "#d8576b"
            ],
            [
             0.6666666666666666,
             "#ed7953"
            ],
            [
             0.7777777777777778,
             "#fb9f3a"
            ],
            [
             0.8888888888888888,
             "#fdca26"
            ],
            [
             1,
             "#f0f921"
            ]
           ],
           "sequentialminus": [
            [
             0,
             "#0d0887"
            ],
            [
             0.1111111111111111,
             "#46039f"
            ],
            [
             0.2222222222222222,
             "#7201a8"
            ],
            [
             0.3333333333333333,
             "#9c179e"
            ],
            [
             0.4444444444444444,
             "#bd3786"
            ],
            [
             0.5555555555555556,
             "#d8576b"
            ],
            [
             0.6666666666666666,
             "#ed7953"
            ],
            [
             0.7777777777777778,
             "#fb9f3a"
            ],
            [
             0.8888888888888888,
             "#fdca26"
            ],
            [
             1,
             "#f0f921"
            ]
           ]
          },
          "colorway": [
           "#636efa",
           "#EF553B",
           "#00cc96",
           "#ab63fa",
           "#FFA15A",
           "#19d3f3",
           "#FF6692",
           "#B6E880",
           "#FF97FF",
           "#FECB52"
          ],
          "font": {
           "color": "#2a3f5f"
          },
          "geo": {
           "bgcolor": "white",
           "lakecolor": "white",
           "landcolor": "#E5ECF6",
           "showlakes": true,
           "showland": true,
           "subunitcolor": "white"
          },
          "hoverlabel": {
           "align": "left"
          },
          "hovermode": "closest",
          "mapbox": {
           "style": "light"
          },
          "paper_bgcolor": "white",
          "plot_bgcolor": "#E5ECF6",
          "polar": {
           "angularaxis": {
            "gridcolor": "white",
            "linecolor": "white",
            "ticks": ""
           },
           "bgcolor": "#E5ECF6",
           "radialaxis": {
            "gridcolor": "white",
            "linecolor": "white",
            "ticks": ""
           }
          },
          "scene": {
           "xaxis": {
            "backgroundcolor": "#E5ECF6",
            "gridcolor": "white",
            "gridwidth": 2,
            "linecolor": "white",
            "showbackground": true,
            "ticks": "",
            "zerolinecolor": "white"
           },
           "yaxis": {
            "backgroundcolor": "#E5ECF6",
            "gridcolor": "white",
            "gridwidth": 2,
            "linecolor": "white",
            "showbackground": true,
            "ticks": "",
            "zerolinecolor": "white"
           },
           "zaxis": {
            "backgroundcolor": "#E5ECF6",
            "gridcolor": "white",
            "gridwidth": 2,
            "linecolor": "white",
            "showbackground": true,
            "ticks": "",
            "zerolinecolor": "white"
           }
          },
          "shapedefaults": {
           "line": {
            "color": "#2a3f5f"
           }
          },
          "ternary": {
           "aaxis": {
            "gridcolor": "white",
            "linecolor": "white",
            "ticks": ""
           },
           "baxis": {
            "gridcolor": "white",
            "linecolor": "white",
            "ticks": ""
           },
           "bgcolor": "#E5ECF6",
           "caxis": {
            "gridcolor": "white",
            "linecolor": "white",
            "ticks": ""
           }
          },
          "title": {
           "x": 0.05
          },
          "xaxis": {
           "automargin": true,
           "gridcolor": "white",
           "linecolor": "white",
           "ticks": "",
           "title": {
            "standoff": 15
           },
           "zerolinecolor": "white",
           "zerolinewidth": 2
          },
          "yaxis": {
           "automargin": true,
           "gridcolor": "white",
           "linecolor": "white",
           "ticks": "",
           "title": {
            "standoff": 15
           },
           "zerolinecolor": "white",
           "zerolinewidth": 2
          }
         }
        },
        "updatemenus": [
         {
          "active": 0,
          "buttons": [
           {
            "args": [
             {
              "visible": [
               true,
               true,
               false,
               false
              ]
             },
             {
              "annotations": [
               {
                "font": {
                 "size": 16
                },
                "showarrow": false,
                "text": "measurement XmR Chart by position",
                "x": 0.5,
                "xanchor": "center",
                "xref": "paper",
                "y": 1.1,
                "yanchor": "top",
                "yref": "paper"
               },
               {
                "font": {
                 "size": 10
                },
                "showarrow": false,
                "text": "<b>mR Upper Limit = 36.927</b>",
                "x": 0.01,
                "xanchor": "left",
                "xref": "paper",
                "y": 38.77360892195775,
                "yanchor": "auto",
                "yref": "y2"
               },
               {
                "font": {
                 "size": 10
                },
                "showarrow": false,
                "text": "<b>measurement Upper Limit = 131.635</b>",
                "x": 0.01,
                "xanchor": "left",
                "xref": "paper",
                "y": 133.43874266483553,
                "yanchor": "auto",
                "yref": "y"
               },
               {
                "font": {
                 "size": 10
                },
                "showarrow": false,
                "text": "<b>measurement Lower Limit = 71.521</b>",
                "x": 0.01,
                "xanchor": "left",
                "xref": "paper",
                "y": 69.71777296363362,
                "yanchor": "auto",
                "yref": "y"
               }
              ],
              "shapes": [
               {
                "line": {
                 "color": "gray",
                 "dash": "dashdot"
                },
                "type": "line",
                "x0": 1,
                "x1": 40,
                "xref": "x",
                "y0": 101.57825781423458,
                "y1": 101.57825781423458,
                "yref": "y"
               },
               {
                "line": {
                 "color": "red",
                 "dash": "dashdot"
                },
                "type": "line",
                "x0": 1,
                "x1": 40,
                "xref": "x",
                "y0": 131.6353189940468,
                "y1": 131.6353189940468,
                "yref": "y"
               },
               {
                "line": {
                 "color": "red",
                 "dash": "dashdot"
                },
                "type": "line",
                "x0": 1,
                "x1": 40,
                "xref": "x",
                "y0": 71.52119663442235,
                "y1": 71.52119663442235,
                "yref": "y"
               },
               {
                "line": {
                 "color": "pink",
                 "dash": "dot"
                },
                "type": "line",
                "x0": 1,
                "x1": 40,
                "xref": "x",
                "y0": 116.60678840414069,
                "y1": 116.60678840414069,
                "yref": "y"
               },
               {
                "line": {
                 "color": "pink",
                 "dash": "dot"
                },
                "type": "line",
                "x0": 1,
                "x1": 40,
                "xref": "x",
                "y0": 86.54972722432846,
                "y1": 86.54972722432846,
                "yref": "y"
               },
               {
                "line": {
                 "color": "gray",
                 "dash": "dashdot"
                },
                "type": "line",
                "x0": 1,
                "x1": 40,
                "xref": "x",
                "y0": 11.29964706007978,
                "y1": 11.29964706007978,
                "yref": "y2"
               },
               {
                "line": {
                 "color": "red",
                 "dash": "dashdot"
                },
                "type": "line",
                "x0": 1,
                "x1": 40,
                "xref": "x",
                "y0": 36.927246592340715,
                "y1": 36.927246592340715,
                "yref": "y2"
               },
               {
                "line": {
                 "color": "pink",
                 "dash": "dot"
                },
                "type": "line",
                "x0": 1,
                "x1": 40,
                "xref": "x",
                "y0": 24.11344682621025,
                "y1": 24.11344682621025,
                "yref": "y2"
               },
               {
                "line": {
                 "color": "gray",
                 "dash": "dashdot"
                },
                "type": "line",
                "x0": 40,
                "x1": 45,
                "xref": "x",
                "y0": 102.2869799012215,
                "y1": 102.2869799012215,
                "yref": "y"
               },
               {
                "line": {
                 "color": "red",
                 "dash": "dashdot"
                },
                "type": "line",
                "x0": 40,
                "x1": 45,
                "xref": "x",
                "y0": 152.95059639958026,
                "y1": 152.95059639958026,
                "yref": "y"
               },
               {
                "line": {
                 "color": "red",
                 "dash": "dashdot"
                },
                "type": "line",
                "x0": 40,
                "x1": 45,
                "xref": "x",
                "y0": 51.62336340286274,
                "y1": 51.62336340286274,
                "yref": "y"
               },
               {
                "line": {
                 "color": "pink",
                 "dash": "dot"
                },
                "type": "line",
                "x0": 40,
                "x1": 45,
                "xref": "x",
                "y0": 127.61878815040089,
                "y1": 127.61878815040089,
                "yref": "y"
               },
               {
                "line": {
                 "color": "pink",
                 "dash": "dot"
                },
                "type": "line",
                "x0": 40,
                "x1": 45,
                "xref": "x",
                "y0": 76.95517165204213,
                "y1": 76.95517165204213,
                "yref": "y"
               },
               {
                "line": {
                 "color": "gray",
                 "dash": "dashdot"
                },
                "type": "line",
                "x0": 40,
                "x1": 45,
                "xref": "x",
                "y0": 19.046472367804043,
                "y1": 19.046472367804043,
                "yref": "y2"
               },
               {
                "line": {
                 "color": "red",
                 "dash": "dashdot"
                },
                "type": "line",
                "x0": 40,
                "x1": 45,
                "xref": "x",
                "y0": 62.24387169798361,
                "y1": 62.24387169798361,
                "yref": "y2"
               },
               {
                "line": {
                 "color": "pink",
                 "dash": "dot"
                },
                "type": "line",
                "x0": 40,
                "x1": 45,
                "xref": "x",
                "y0": 40.645172032893825,
                "y1": 40.645172032893825,
                "yref": "y2"
               },
               {
                "line": {
                 "color": "gray",
                 "dash": "dashdot"
                },
                "type": "line",
                "x0": 45,
                "x1": 50,
                "xref": "x",
                "y0": 103.31497268703039,
                "y1": 103.31497268703039,
                "yref": "y"
               },
               {
                "line": {
                 "color": "red",
                 "dash": "dashdot"
                },
                "type": "line",
                "x0": 45,
                "x1": 50,
                "xref": "x",
                "y0": 140.5340829870694,
                "y1": 140.5340829870694,
                "yref": "y"
               },
               {
                "line": {
                 "color": "red",
                 "dash": "dashdot"
                },
                "type": "line",
                "x0": 45,
                "x1": 50,
                "xref": "x",
                "y0": 66.09586238699137,
                "y1": 66.09586238699137,
                "yref": "y"
               },
               {
                "line": {
                 "color": "pink",
                 "dash": "dot"
                },
                "type": "line",
                "x0": 45,
                "x1": 50,
                "xref": "x",
                "y0": 121.92452783704991,
                "y1": 121.92452783704991,
                "yref": "y"
               },
               {
                "line": {
                 "color": "pink",
                 "dash": "dot"
                },
                "type": "line",
                "x0": 45,
                "x1": 50,
                "xref": "x",
                "y0": 84.70541753701087,
                "y1": 84.70541753701087,
                "yref": "y"
               },
               {
                "line": {
                 "color": "gray",
                 "dash": "dashdot"
                },
                "type": "line",
                "x0": 45,
                "x1": 50,
                "xref": "x",
                "y0": 13.99214672933798,
                "y1": 13.99214672933798,
                "yref": "y2"
               },
               {
                "line": {
                 "color": "red",
                 "dash": "dashdot"
                },
                "type": "line",
                "x0": 45,
                "x1": 50,
                "xref": "x",
                "y0": 45.72633551147651,
                "y1": 45.72633551147651,
                "yref": "y2"
               },
               {
                "line": {
                 "color": "pink",
                 "dash": "dot"
                },
                "type": "line",
                "x0": 45,
                "x1": 50,
                "xref": "x",
                "y0": 29.859241120407248,
                "y1": 29.859241120407248,
                "yref": "y2"
               },
               {
                "line": {
                 "color": "gray",
                 "dash": "dashdot"
                },
                "type": "line",
                "x0": 50,
                "x1": 100,
                "xref": "x",
                "y0": 100.32860451176059,
                "y1": 100.32860451176059,
                "yref": "y"
               },
               {
                "line": {
                 "color": "red",
                 "dash": "dashdot"
                },
                "type": "line",
                "x0": 50,
                "x1": 100,
                "xref": "x",
                "y0": 120.47722726896464,
                "y1": 120.47722726896464,
                "yref": "y"
               },
               {
                "line": {
                 "color": "red",
                 "dash": "dashdot"
                },
                "type": "line",
                "x0": 50,
                "x1": 100,
                "xref": "x",
                "y0": 80.17998175455654,
                "y1": 80.17998175455654,
                "yref": "y"
               },
               {
                "line": {
                 "color": "pink",
                 "dash": "dot"
                },
                "type": "line",
                "x0": 50,
                "x1": 100,
                "xref": "x",
                "y0": 110.4029158903626,
                "y1": 110.4029158903626,
                "yref": "y"
               },
               {
                "line": {
                 "color": "pink",
                 "dash": "dot"
                },
                "type": "line",
                "x0": 50,
                "x1": 100,
                "xref": "x",
                "y0": 90.25429313315857,
                "y1": 90.25429313315857,
                "yref": "y"
               },
               {
                "line": {
                 "color": "gray",
                 "dash": "dashdot"
                },
                "type": "line",
                "x0": 50,
                "x1": 100,
                "xref": "x",
                "y0": 7.57467020947521,
                "y1": 7.57467020947521,
                "yref": "y2"
               },
               {
                "line": {
                 "color": "red",
                 "dash": "dashdot"
                },
                "type": "line",
                "x0": 50,
                "x1": 100,
                "xref": "x",
                "y0": 24.754022244564986,
                "y1": 24.754022244564986,
                "yref": "y2"
               },
               {
                "line": {
                 "color": "pink",
                 "dash": "dot"
                },
                "type": "line",
                "x0": 50,
                "x1": 100,
                "xref": "x",
                "y0": 16.164346227020097,
                "y1": 16.164346227020097,
                "yref": "y2"
               }
              ]
             }
            ],
            "label": "None",
            "method": "update"
           },
           {
            "args": [
             {
              "visible": [
               true,
               true,
               true,
               true
              ]
             },
             {
              "annotations": [
               {
                "font": {
                 "size": 16
                },
                "showarrow": false,
                "text": "measurement XmR Chart by position",
                "x": 0.5,
                "xanchor": "center",
                "xref": "paper",
                "y": 1.1,
                "yanchor": "top",
                "yref": "paper"
               },
               {
                "font": {
                 "size": 10
                },
                "showarrow": false,
                "text": "<b>mR Upper Limit = 36.927</b>",
                "x": 0.01,
                "xanchor": "left",
                "xref": "paper",
                "y": 38.77360892195775,
                "yanchor": "auto",
                "yref": "y2"
               },
               {
                "font": {
                 "size": 10
                },
                "showarrow": false,
                "text": "<b>measurement Upper Limit = 131.635</b>",
                "x": 0.01,
                "xanchor": "left",
                "xref": "paper",
                "y": 133.43874266483553,
                "yanchor": "auto",
                "yref": "y"
               },
               {
                "font": {
                 "size": 10
                },
                "showarrow": false,
                "text": "<b>measurement Lower Limit = 71.521</b>",
                "x": 0.01,
                "xanchor": "left",
                "xref": "paper",
                "y": 69.71777296363362,
                "yanchor": "auto",
                "yref": "y"
               }
              ],
              "shapes": [
               {
                "line": {
                 "color": "gray",
                 "dash": "dashdot"
                },
                "type": "line",
                "x0": 1,
                "x1": 40,
                "xref": "x",
                "y0": 101.57825781423458,
                "y1": 101.57825781423458,
                "yref": "y"
               },
               {
                "line": {
                 "color": "red",
                 "dash": "dashdot"
                },
                "type": "line",
                "x0": 1,
                "x1": 40,
                "xref": "x",
                "y0": 131.6353189940468,
                "y1": 131.6353189940468,
                "yref": "y"
               },
               {
                "line": {
                 "color": "red",
                 "dash": "dashdot"
                },
                "type": "line",
                "x0": 1,
                "x1": 40,
                "xref": "x",
                "y0": 71.52119663442235,
                "y1": 71.52119663442235,
                "yref": "y"
               },
               {
                "line": {
                 "color": "pink",
                 "dash": "dot"
                },
                "type": "line",
                "x0": 1,
                "x1": 40,
                "xref": "x",
                "y0": 116.60678840414069,
                "y1": 116.60678840414069,
                "yref": "y"
               },
               {
                "line": {
                 "color": "pink",
                 "dash": "dot"
                },
                "type": "line",
                "x0": 1,
                "x1": 40,
                "xref": "x",
                "y0": 86.54972722432846,
                "y1": 86.54972722432846,
                "yref": "y"
               },
               {
                "line": {
                 "color": "gray",
                 "dash": "dashdot"
                },
                "type": "line",
                "x0": 1,
                "x1": 40,
                "xref": "x",
                "y0": 11.29964706007978,
                "y1": 11.29964706007978,
                "yref": "y2"
               },
               {
                "line": {
                 "color": "red",
                 "dash": "dashdot"
                },
                "type": "line",
                "x0": 1,
                "x1": 40,
                "xref": "x",
                "y0": 36.927246592340715,
                "y1": 36.927246592340715,
                "yref": "y2"
               },
               {
                "line": {
                 "color": "pink",
                 "dash": "dot"
                },
                "type": "line",
                "x0": 1,
                "x1": 40,
                "xref": "x",
                "y0": 24.11344682621025,
                "y1": 24.11344682621025,
                "yref": "y2"
               },
               {
                "line": {
                 "color": "gray",
                 "dash": "dashdot"
                },
                "type": "line",
                "x0": 40,
                "x1": 45,
                "xref": "x",
                "y0": 102.2869799012215,
                "y1": 102.2869799012215,
                "yref": "y"
               },
               {
                "line": {
                 "color": "red",
                 "dash": "dashdot"
                },
                "type": "line",
                "x0": 40,
                "x1": 45,
                "xref": "x",
                "y0": 152.95059639958026,
                "y1": 152.95059639958026,
                "yref": "y"
               },
               {
                "line": {
                 "color": "red",
                 "dash": "dashdot"
                },
                "type": "line",
                "x0": 40,
                "x1": 45,
                "xref": "x",
                "y0": 51.62336340286274,
                "y1": 51.62336340286274,
                "yref": "y"
               },
               {
                "line": {
                 "color": "pink",
                 "dash": "dot"
                },
                "type": "line",
                "x0": 40,
                "x1": 45,
                "xref": "x",
                "y0": 127.61878815040089,
                "y1": 127.61878815040089,
                "yref": "y"
               },
               {
                "line": {
                 "color": "pink",
                 "dash": "dot"
                },
                "type": "line",
                "x0": 40,
                "x1": 45,
                "xref": "x",
                "y0": 76.95517165204213,
                "y1": 76.95517165204213,
                "yref": "y"
               },
               {
                "line": {
                 "color": "gray",
                 "dash": "dashdot"
                },
                "type": "line",
                "x0": 40,
                "x1": 45,
                "xref": "x",
                "y0": 19.046472367804043,
                "y1": 19.046472367804043,
                "yref": "y2"
               },
               {
                "line": {
                 "color": "red",
                 "dash": "dashdot"
                },
                "type": "line",
                "x0": 40,
                "x1": 45,
                "xref": "x",
                "y0": 62.24387169798361,
                "y1": 62.24387169798361,
                "yref": "y2"
               },
               {
                "line": {
                 "color": "pink",
                 "dash": "dot"
                },
                "type": "line",
                "x0": 40,
                "x1": 45,
                "xref": "x",
                "y0": 40.645172032893825,
                "y1": 40.645172032893825,
                "yref": "y2"
               },
               {
                "line": {
                 "color": "gray",
                 "dash": "dashdot"
                },
                "type": "line",
                "x0": 45,
                "x1": 50,
                "xref": "x",
                "y0": 103.31497268703039,
                "y1": 103.31497268703039,
                "yref": "y"
               },
               {
                "line": {
                 "color": "red",
                 "dash": "dashdot"
                },
                "type": "line",
                "x0": 45,
                "x1": 50,
                "xref": "x",
                "y0": 140.5340829870694,
                "y1": 140.5340829870694,
                "yref": "y"
               },
               {
                "line": {
                 "color": "red",
                 "dash": "dashdot"
                },
                "type": "line",
                "x0": 45,
                "x1": 50,
                "xref": "x",
                "y0": 66.09586238699137,
                "y1": 66.09586238699137,
                "yref": "y"
               },
               {
                "line": {
                 "color": "pink",
                 "dash": "dot"
                },
                "type": "line",
                "x0": 45,
                "x1": 50,
                "xref": "x",
                "y0": 121.92452783704991,
                "y1": 121.92452783704991,
                "yref": "y"
               },
               {
                "line": {
                 "color": "pink",
                 "dash": "dot"
                },
                "type": "line",
                "x0": 45,
                "x1": 50,
                "xref": "x",
                "y0": 84.70541753701087,
                "y1": 84.70541753701087,
                "yref": "y"
               },
               {
                "line": {
                 "color": "gray",
                 "dash": "dashdot"
                },
                "type": "line",
                "x0": 45,
                "x1": 50,
                "xref": "x",
                "y0": 13.99214672933798,
                "y1": 13.99214672933798,
                "yref": "y2"
               },
               {
                "line": {
                 "color": "red",
                 "dash": "dashdot"
                },
                "type": "line",
                "x0": 45,
                "x1": 50,
                "xref": "x",
                "y0": 45.72633551147651,
                "y1": 45.72633551147651,
                "yref": "y2"
               },
               {
                "line": {
                 "color": "pink",
                 "dash": "dot"
                },
                "type": "line",
                "x0": 45,
                "x1": 50,
                "xref": "x",
                "y0": 29.859241120407248,
                "y1": 29.859241120407248,
                "yref": "y2"
               },
               {
                "line": {
                 "color": "gray",
                 "dash": "dashdot"
                },
                "type": "line",
                "x0": 50,
                "x1": 100,
                "xref": "x",
                "y0": 100.32860451176059,
                "y1": 100.32860451176059,
                "yref": "y"
               },
               {
                "line": {
                 "color": "red",
                 "dash": "dashdot"
                },
                "type": "line",
                "x0": 50,
                "x1": 100,
                "xref": "x",
                "y0": 120.47722726896464,
                "y1": 120.47722726896464,
                "yref": "y"
               },
               {
                "line": {
                 "color": "red",
                 "dash": "dashdot"
                },
                "type": "line",
                "x0": 50,
                "x1": 100,
                "xref": "x",
                "y0": 80.17998175455654,
                "y1": 80.17998175455654,
                "yref": "y"
               },
               {
                "line": {
                 "color": "pink",
                 "dash": "dot"
                },
                "type": "line",
                "x0": 50,
                "x1": 100,
                "xref": "x",
                "y0": 110.4029158903626,
                "y1": 110.4029158903626,
                "yref": "y"
               },
               {
                "line": {
                 "color": "pink",
                 "dash": "dot"
                },
                "type": "line",
                "x0": 50,
                "x1": 100,
                "xref": "x",
                "y0": 90.25429313315857,
                "y1": 90.25429313315857,
                "yref": "y"
               },
               {
                "line": {
                 "color": "gray",
                 "dash": "dashdot"
                },
                "type": "line",
                "x0": 50,
                "x1": 100,
                "xref": "x",
                "y0": 7.57467020947521,
                "y1": 7.57467020947521,
                "yref": "y2"
               },
               {
                "line": {
                 "color": "red",
                 "dash": "dashdot"
                },
                "type": "line",
                "x0": 50,
                "x1": 100,
                "xref": "x",
                "y0": 24.754022244564986,
                "y1": 24.754022244564986,
                "yref": "y2"
               },
               {
                "line": {
                 "color": "pink",
                 "dash": "dot"
                },
                "type": "line",
                "x0": 50,
                "x1": 100,
                "xref": "x",
                "y0": 16.164346227020097,
                "y1": 16.164346227020097,
                "yref": "y2"
               }
              ]
             }
            ],
            "label": "Anomalies",
            "method": "update"
           },
           {
            "args": [
             {
              "visible": [
               true,
               true,
               false,
               false
              ]
             },
             {
              "annotations": [
               {
                "font": {
                 "size": 16
                },
                "showarrow": false,
                "text": "measurement XmR Chart by position",
                "x": 0.5,
                "xanchor": "center",
                "xref": "paper",
                "y": 1.1,
                "yanchor": "top",
                "yref": "paper"
               },
               {
                "font": {
                 "size": 10
                },
                "showarrow": false,
                "text": "<b>mR Upper Limit = 36.927</b>",
                "x": 0.01,
                "xanchor": "left",
                "xref": "paper",
                "y": 38.77360892195775,
                "yanchor": "auto",
                "yref": "y2"
               },
               {
                "font": {
                 "size": 10
                },
                "showarrow": false,
                "text": "<b>measurement Upper Limit = 131.635</b>",
                "x": 0.01,
                "xanchor": "left",
                "xref": "paper",
                "y": 133.43874266483553,
                "yanchor": "auto",
                "yref": "y"
               },
               {
                "font": {
                 "size": 10
                },
                "showarrow": false,
                "text": "<b>measurement Lower Limit = 71.521</b>",
                "x": 0.01,
                "xanchor": "left",
                "xref": "paper",
                "y": 69.71777296363362,
                "yanchor": "auto",
                "yref": "y"
               }
              ],
              "shapes": [
               {
                "line": {
                 "color": "gray",
                 "dash": "dashdot"
                },
                "type": "line",
                "x0": 1,
                "x1": 40,
                "xref": "x",
                "y0": 101.57825781423458,
                "y1": 101.57825781423458,
                "yref": "y"
               },
               {
                "line": {
                 "color": "red",
                 "dash": "dashdot"
                },
                "type": "line",
                "x0": 1,
                "x1": 40,
                "xref": "x",
                "y0": 131.6353189940468,
                "y1": 131.6353189940468,
                "yref": "y"
               },
               {
                "line": {
                 "color": "red",
                 "dash": "dashdot"
                },
                "type": "line",
                "x0": 1,
                "x1": 40,
                "xref": "x",
                "y0": 71.52119663442235,
                "y1": 71.52119663442235,
                "yref": "y"
               },
               {
                "line": {
                 "color": "pink",
                 "dash": "dot"
                },
                "type": "line",
                "x0": 1,
                "x1": 40,
                "xref": "x",
                "y0": 116.60678840414069,
                "y1": 116.60678840414069,
                "yref": "y"
               },
               {
                "line": {
                 "color": "pink",
                 "dash": "dot"
                },
                "type": "line",
                "x0": 1,
                "x1": 40,
                "xref": "x",
                "y0": 86.54972722432846,
                "y1": 86.54972722432846,
                "yref": "y"
               },
               {
                "line": {
                 "color": "gray",
                 "dash": "dashdot"
                },
                "type": "line",
                "x0": 1,
                "x1": 40,
                "xref": "x",
                "y0": 11.29964706007978,
                "y1": 11.29964706007978,
                "yref": "y2"
               },
               {
                "line": {
                 "color": "red",
                 "dash": "dashdot"
                },
                "type": "line",
                "x0": 1,
                "x1": 40,
                "xref": "x",
                "y0": 36.927246592340715,
                "y1": 36.927246592340715,
                "yref": "y2"
               },
               {
                "line": {
                 "color": "pink",
                 "dash": "dot"
                },
                "type": "line",
                "x0": 1,
                "x1": 40,
                "xref": "x",
                "y0": 24.11344682621025,
                "y1": 24.11344682621025,
                "yref": "y2"
               },
               {
                "line": {
                 "color": "gray",
                 "dash": "dashdot"
                },
                "type": "line",
                "x0": 40,
                "x1": 45,
                "xref": "x",
                "y0": 102.2869799012215,
                "y1": 102.2869799012215,
                "yref": "y"
               },
               {
                "line": {
                 "color": "red",
                 "dash": "dashdot"
                },
                "type": "line",
                "x0": 40,
                "x1": 45,
                "xref": "x",
                "y0": 152.95059639958026,
                "y1": 152.95059639958026,
                "yref": "y"
               },
               {
                "line": {
                 "color": "red",
                 "dash": "dashdot"
                },
                "type": "line",
                "x0": 40,
                "x1": 45,
                "xref": "x",
                "y0": 51.62336340286274,
                "y1": 51.62336340286274,
                "yref": "y"
               },
               {
                "line": {
                 "color": "pink",
                 "dash": "dot"
                },
                "type": "line",
                "x0": 40,
                "x1": 45,
                "xref": "x",
                "y0": 127.61878815040089,
                "y1": 127.61878815040089,
                "yref": "y"
               },
               {
                "line": {
                 "color": "pink",
                 "dash": "dot"
                },
                "type": "line",
                "x0": 40,
                "x1": 45,
                "xref": "x",
                "y0": 76.95517165204213,
                "y1": 76.95517165204213,
                "yref": "y"
               },
               {
                "line": {
                 "color": "gray",
                 "dash": "dashdot"
                },
                "type": "line",
                "x0": 40,
                "x1": 45,
                "xref": "x",
                "y0": 19.046472367804043,
                "y1": 19.046472367804043,
                "yref": "y2"
               },
               {
                "line": {
                 "color": "red",
                 "dash": "dashdot"
                },
                "type": "line",
                "x0": 40,
                "x1": 45,
                "xref": "x",
                "y0": 62.24387169798361,
                "y1": 62.24387169798361,
                "yref": "y2"
               },
               {
                "line": {
                 "color": "pink",
                 "dash": "dot"
                },
                "type": "line",
                "x0": 40,
                "x1": 45,
                "xref": "x",
                "y0": 40.645172032893825,
                "y1": 40.645172032893825,
                "yref": "y2"
               },
               {
                "line": {
                 "color": "gray",
                 "dash": "dashdot"
                },
                "type": "line",
                "x0": 45,
                "x1": 50,
                "xref": "x",
                "y0": 103.31497268703039,
                "y1": 103.31497268703039,
                "yref": "y"
               },
               {
                "line": {
                 "color": "red",
                 "dash": "dashdot"
                },
                "type": "line",
                "x0": 45,
                "x1": 50,
                "xref": "x",
                "y0": 140.5340829870694,
                "y1": 140.5340829870694,
                "yref": "y"
               },
               {
                "line": {
                 "color": "red",
                 "dash": "dashdot"
                },
                "type": "line",
                "x0": 45,
                "x1": 50,
                "xref": "x",
                "y0": 66.09586238699137,
                "y1": 66.09586238699137,
                "yref": "y"
               },
               {
                "line": {
                 "color": "pink",
                 "dash": "dot"
                },
                "type": "line",
                "x0": 45,
                "x1": 50,
                "xref": "x",
                "y0": 121.92452783704991,
                "y1": 121.92452783704991,
                "yref": "y"
               },
               {
                "line": {
                 "color": "pink",
                 "dash": "dot"
                },
                "type": "line",
                "x0": 45,
                "x1": 50,
                "xref": "x",
                "y0": 84.70541753701087,
                "y1": 84.70541753701087,
                "yref": "y"
               },
               {
                "line": {
                 "color": "gray",
                 "dash": "dashdot"
                },
                "type": "line",
                "x0": 45,
                "x1": 50,
                "xref": "x",
                "y0": 13.99214672933798,
                "y1": 13.99214672933798,
                "yref": "y2"
               },
               {
                "line": {
                 "color": "red",
                 "dash": "dashdot"
                },
                "type": "line",
                "x0": 45,
                "x1": 50,
                "xref": "x",
                "y0": 45.72633551147651,
                "y1": 45.72633551147651,
                "yref": "y2"
               },
               {
                "line": {
                 "color": "pink",
                 "dash": "dot"
                },
                "type": "line",
                "x0": 45,
                "x1": 50,
                "xref": "x",
                "y0": 29.859241120407248,
                "y1": 29.859241120407248,
                "yref": "y2"
               },
               {
                "line": {
                 "color": "gray",
                 "dash": "dashdot"
                },
                "type": "line",
                "x0": 50,
                "x1": 100,
                "xref": "x",
                "y0": 100.32860451176059,
                "y1": 100.32860451176059,
                "yref": "y"
               },
               {
                "line": {
                 "color": "red",
                 "dash": "dashdot"
                },
                "type": "line",
                "x0": 50,
                "x1": 100,
                "xref": "x",
                "y0": 120.47722726896464,
                "y1": 120.47722726896464,
                "yref": "y"
               },
               {
                "line": {
                 "color": "red",
                 "dash": "dashdot"
                },
                "type": "line",
                "x0": 50,
                "x1": 100,
                "xref": "x",
                "y0": 80.17998175455654,
                "y1": 80.17998175455654,
                "yref": "y"
               },
               {
                "line": {
                 "color": "pink",
                 "dash": "dot"
                },
                "type": "line",
                "x0": 50,
                "x1": 100,
                "xref": "x",
                "y0": 110.4029158903626,
                "y1": 110.4029158903626,
                "yref": "y"
               },
               {
                "line": {
                 "color": "pink",
                 "dash": "dot"
                },
                "type": "line",
                "x0": 50,
                "x1": 100,
                "xref": "x",
                "y0": 90.25429313315857,
                "y1": 90.25429313315857,
                "yref": "y"
               },
               {
                "line": {
                 "color": "gray",
                 "dash": "dashdot"
                },
                "type": "line",
                "x0": 50,
                "x1": 100,
                "xref": "x",
                "y0": 7.57467020947521,
                "y1": 7.57467020947521,
                "yref": "y2"
               },
               {
                "line": {
                 "color": "red",
                 "dash": "dashdot"
                },
                "type": "line",
                "x0": 50,
                "x1": 100,
                "xref": "x",
                "y0": 24.754022244564986,
                "y1": 24.754022244564986,
                "yref": "y2"
               },
               {
                "line": {
                 "color": "pink",
                 "dash": "dot"
                },
                "type": "line",
                "x0": 50,
                "x1": 100,
                "xref": "x",
                "y0": 16.164346227020097,
                "y1": 16.164346227020097,
                "yref": "y2"
               }
              ]
             }
            ],
            "label": "Long Runs",
            "method": "update"
           },
           {
            "args": [
             {
              "visible": [
               true,
               true,
               false,
               false
              ]
             },
             {
              "annotations": [
               {
                "font": {
                 "size": 16
                },
                "showarrow": false,
                "text": "measurement XmR Chart by position",
                "x": 0.5,
                "xanchor": "center",
                "xref": "paper",
                "y": 1.1,
                "yanchor": "top",
                "yref": "paper"
               },
               {
                "font": {
                 "size": 10
                },
                "showarrow": false,
                "text": "<b>mR Upper Limit = 36.927</b>",
                "x": 0.01,
                "xanchor": "left",
                "xref": "paper",
                "y": 38.77360892195775,
                "yanchor": "auto",
                "yref": "y2"
               },
               {
                "font": {
                 "size": 10
                },
                "showarrow": false,
                "text": "<b>measurement Upper Limit = 131.635</b>",
                "x": 0.01,
                "xanchor": "left",
                "xref": "paper",
                "y": 133.43874266483553,
                "yanchor": "auto",
                "yref": "y"
               },
               {
                "font": {
                 "size": 10
                },
                "showarrow": false,
                "text": "<b>measurement Lower Limit = 71.521</b>",
                "x": 0.01,
                "xanchor": "left",
                "xref": "paper",
                "y": 69.71777296363362,
                "yanchor": "auto",
                "yref": "y"
               }
              ],
              "shapes": [
               {
                "line": {
                 "color": "gray",
                 "dash": "dashdot"
                },
                "type": "line",
                "x0": 1,
                "x1": 40,
                "xref": "x",
                "y0": 101.57825781423458,
                "y1": 101.57825781423458,
                "yref": "y"
               },
               {
                "line": {
                 "color": "red",
                 "dash": "dashdot"
                },
                "type": "line",
                "x0": 1,
                "x1": 40,
                "xref": "x",
                "y0": 131.6353189940468,
                "y1": 131.6353189940468,
                "yref": "y"
               },
               {
                "line": {
                 "color": "red",
                 "dash": "dashdot"
                },
                "type": "line",
                "x0": 1,
                "x1": 40,
                "xref": "x",
                "y0": 71.52119663442235,
                "y1": 71.52119663442235,
                "yref": "y"
               },
               {
                "line": {
                 "color": "pink",
                 "dash": "dot"
                },
                "type": "line",
                "x0": 1,
                "x1": 40,
                "xref": "x",
                "y0": 116.60678840414069,
                "y1": 116.60678840414069,
                "yref": "y"
               },
               {
                "line": {
                 "color": "pink",
                 "dash": "dot"
                },
                "type": "line",
                "x0": 1,
                "x1": 40,
                "xref": "x",
                "y0": 86.54972722432846,
                "y1": 86.54972722432846,
                "yref": "y"
               },
               {
                "line": {
                 "color": "gray",
                 "dash": "dashdot"
                },
                "type": "line",
                "x0": 1,
                "x1": 40,
                "xref": "x",
                "y0": 11.29964706007978,
                "y1": 11.29964706007978,
                "yref": "y2"
               },
               {
                "line": {
                 "color": "red",
                 "dash": "dashdot"
                },
                "type": "line",
                "x0": 1,
                "x1": 40,
                "xref": "x",
                "y0": 36.927246592340715,
                "y1": 36.927246592340715,
                "yref": "y2"
               },
               {
                "line": {
                 "color": "pink",
                 "dash": "dot"
                },
                "type": "line",
                "x0": 1,
                "x1": 40,
                "xref": "x",
                "y0": 24.11344682621025,
                "y1": 24.11344682621025,
                "yref": "y2"
               },
               {
                "line": {
                 "color": "gray",
                 "dash": "dashdot"
                },
                "type": "line",
                "x0": 40,
                "x1": 45,
                "xref": "x",
                "y0": 102.2869799012215,
                "y1": 102.2869799012215,
                "yref": "y"
               },
               {
                "line": {
                 "color": "red",
                 "dash": "dashdot"
                },
                "type": "line",
                "x0": 40,
                "x1": 45,
                "xref": "x",
                "y0": 152.95059639958026,
                "y1": 152.95059639958026,
                "yref": "y"
               },
               {
                "line": {
                 "color": "red",
                 "dash": "dashdot"
                },
                "type": "line",
                "x0": 40,
                "x1": 45,
                "xref": "x",
                "y0": 51.62336340286274,
                "y1": 51.62336340286274,
                "yref": "y"
               },
               {
                "line": {
                 "color": "pink",
                 "dash": "dot"
                },
                "type": "line",
                "x0": 40,
                "x1": 45,
                "xref": "x",
                "y0": 127.61878815040089,
                "y1": 127.61878815040089,
                "yref": "y"
               },
               {
                "line": {
                 "color": "pink",
                 "dash": "dot"
                },
                "type": "line",
                "x0": 40,
                "x1": 45,
                "xref": "x",
                "y0": 76.95517165204213,
                "y1": 76.95517165204213,
                "yref": "y"
               },
               {
                "line": {
                 "color": "gray",
                 "dash": "dashdot"
                },
                "type": "line",
                "x0": 40,
                "x1": 45,
                "xref": "x",
                "y0": 19.046472367804043,
                "y1": 19.046472367804043,
                "yref": "y2"
               },
               {
                "line": {
                 "color": "red",
                 "dash": "dashdot"
                },
                "type": "line",
                "x0": 40,
                "x1": 45,
                "xref": "x",
                "y0": 62.24387169798361,
                "y1": 62.24387169798361,
                "yref": "y2"
               },
               {
                "line": {
                 "color": "pink",
                 "dash": "dot"
                },
                "type": "line",
                "x0": 40,
                "x1": 45,
                "xref": "x",
                "y0": 40.645172032893825,
                "y1": 40.645172032893825,
                "yref": "y2"
               },
               {
                "line": {
                 "color": "gray",
                 "dash": "dashdot"
                },
                "type": "line",
                "x0": 45,
                "x1": 50,
                "xref": "x",
                "y0": 103.31497268703039,
                "y1": 103.31497268703039,
                "yref": "y"
               },
               {
                "line": {
                 "color": "red",
                 "dash": "dashdot"
                },
                "type": "line",
                "x0": 45,
                "x1": 50,
                "xref": "x",
                "y0": 140.5340829870694,
                "y1": 140.5340829870694,
                "yref": "y"
               },
               {
                "line": {
                 "color": "red",
                 "dash": "dashdot"
                },
                "type": "line",
                "x0": 45,
                "x1": 50,
                "xref": "x",
                "y0": 66.09586238699137,
                "y1": 66.09586238699137,
                "yref": "y"
               },
               {
                "line": {
                 "color": "pink",
                 "dash": "dot"
                },
                "type": "line",
                "x0": 45,
                "x1": 50,
                "xref": "x",
                "y0": 121.92452783704991,
                "y1": 121.92452783704991,
                "yref": "y"
               },
               {
                "line": {
                 "color": "pink",
                 "dash": "dot"
                },
                "type": "line",
                "x0": 45,
                "x1": 50,
                "xref": "x",
                "y0": 84.70541753701087,
                "y1": 84.70541753701087,
                "yref": "y"
               },
               {
                "line": {
                 "color": "gray",
                 "dash": "dashdot"
                },
                "type": "line",
                "x0": 45,
                "x1": 50,
                "xref": "x",
                "y0": 13.99214672933798,
                "y1": 13.99214672933798,
                "yref": "y2"
               },
               {
                "line": {
                 "color": "red",
                 "dash": "dashdot"
                },
                "type": "line",
                "x0": 45,
                "x1": 50,
                "xref": "x",
                "y0": 45.72633551147651,
                "y1": 45.72633551147651,
                "yref": "y2"
               },
               {
                "line": {
                 "color": "pink",
                 "dash": "dot"
                },
                "type": "line",
                "x0": 45,
                "x1": 50,
                "xref": "x",
                "y0": 29.859241120407248,
                "y1": 29.859241120407248,
                "yref": "y2"
               },
               {
                "line": {
                 "color": "gray",
                 "dash": "dashdot"
                },
                "type": "line",
                "x0": 50,
                "x1": 100,
                "xref": "x",
                "y0": 100.32860451176059,
                "y1": 100.32860451176059,
                "yref": "y"
               },
               {
                "line": {
                 "color": "red",
                 "dash": "dashdot"
                },
                "type": "line",
                "x0": 50,
                "x1": 100,
                "xref": "x",
                "y0": 120.47722726896464,
                "y1": 120.47722726896464,
                "yref": "y"
               },
               {
                "line": {
                 "color": "red",
                 "dash": "dashdot"
                },
                "type": "line",
                "x0": 50,
                "x1": 100,
                "xref": "x",
                "y0": 80.17998175455654,
                "y1": 80.17998175455654,
                "yref": "y"
               },
               {
                "line": {
                 "color": "pink",
                 "dash": "dot"
                },
                "type": "line",
                "x0": 50,
                "x1": 100,
                "xref": "x",
                "y0": 110.4029158903626,
                "y1": 110.4029158903626,
                "yref": "y"
               },
               {
                "line": {
                 "color": "pink",
                 "dash": "dot"
                },
                "type": "line",
                "x0": 50,
                "x1": 100,
                "xref": "x",
                "y0": 90.25429313315857,
                "y1": 90.25429313315857,
                "yref": "y"
               },
               {
                "line": {
                 "color": "gray",
                 "dash": "dashdot"
                },
                "type": "line",
                "x0": 50,
                "x1": 100,
                "xref": "x",
                "y0": 7.57467020947521,
                "y1": 7.57467020947521,
                "yref": "y2"
               },
               {
                "line": {
                 "color": "red",
                 "dash": "dashdot"
                },
                "type": "line",
                "x0": 50,
                "x1": 100,
                "xref": "x",
                "y0": 24.754022244564986,
                "y1": 24.754022244564986,
                "yref": "y2"
               },
               {
                "line": {
                 "color": "pink",
                 "dash": "dot"
                },
                "type": "line",
                "x0": 50,
                "x1": 100,
                "xref": "x",
                "y0": 16.164346227020097,
                "y1": 16.164346227020097,
                "yref": "y2"
               }
              ]
             }
            ],
            "label": "Short Runs",
            "method": "update"
           },
           {
            "args": [
             {
              "visible": [
               true,
               true,
               true,
               true
              ]
             },
             {
              "annotations": [
               {
                "font": {
                 "size": 16
                },
                "showarrow": false,
                "text": "measurement XmR Chart by position",
                "x": 0.5,
                "xanchor": "center",
                "xref": "paper",
                "y": 1.1,
                "yanchor": "top",
                "yref": "paper"
               },
               {
                "font": {
                 "size": 10
                },
                "showarrow": false,
                "text": "<b>mR Upper Limit = 36.927</b>",
                "x": 0.01,
                "xanchor": "left",
                "xref": "paper",
                "y": 38.77360892195775,
                "yanchor": "auto",
                "yref": "y2"
               },
               {
                "font": {
                 "size": 10
                },
                "showarrow": false,
                "text": "<b>measurement Upper Limit = 131.635</b>",
                "x": 0.01,
                "xanchor": "left",
                "xref": "paper",
                "y": 133.43874266483553,
                "yanchor": "auto",
                "yref": "y"
               },
               {
                "font": {
                 "size": 10
                },
                "showarrow": false,
                "text": "<b>measurement Lower Limit = 71.521</b>",
                "x": 0.01,
                "xanchor": "left",
                "xref": "paper",
                "y": 69.71777296363362,
                "yanchor": "auto",
                "yref": "y"
               }
              ],
              "shapes": [
               {
                "line": {
                 "color": "gray",
                 "dash": "dashdot"
                },
                "type": "line",
                "x0": 1,
                "x1": 40,
                "xref": "x",
                "y0": 101.57825781423458,
                "y1": 101.57825781423458,
                "yref": "y"
               },
               {
                "line": {
                 "color": "red",
                 "dash": "dashdot"
                },
                "type": "line",
                "x0": 1,
                "x1": 40,
                "xref": "x",
                "y0": 131.6353189940468,
                "y1": 131.6353189940468,
                "yref": "y"
               },
               {
                "line": {
                 "color": "red",
                 "dash": "dashdot"
                },
                "type": "line",
                "x0": 1,
                "x1": 40,
                "xref": "x",
                "y0": 71.52119663442235,
                "y1": 71.52119663442235,
                "yref": "y"
               },
               {
                "line": {
                 "color": "pink",
                 "dash": "dot"
                },
                "type": "line",
                "x0": 1,
                "x1": 40,
                "xref": "x",
                "y0": 116.60678840414069,
                "y1": 116.60678840414069,
                "yref": "y"
               },
               {
                "line": {
                 "color": "pink",
                 "dash": "dot"
                },
                "type": "line",
                "x0": 1,
                "x1": 40,
                "xref": "x",
                "y0": 86.54972722432846,
                "y1": 86.54972722432846,
                "yref": "y"
               },
               {
                "line": {
                 "color": "gray",
                 "dash": "dashdot"
                },
                "type": "line",
                "x0": 1,
                "x1": 40,
                "xref": "x",
                "y0": 11.29964706007978,
                "y1": 11.29964706007978,
                "yref": "y2"
               },
               {
                "line": {
                 "color": "red",
                 "dash": "dashdot"
                },
                "type": "line",
                "x0": 1,
                "x1": 40,
                "xref": "x",
                "y0": 36.927246592340715,
                "y1": 36.927246592340715,
                "yref": "y2"
               },
               {
                "line": {
                 "color": "pink",
                 "dash": "dot"
                },
                "type": "line",
                "x0": 1,
                "x1": 40,
                "xref": "x",
                "y0": 24.11344682621025,
                "y1": 24.11344682621025,
                "yref": "y2"
               },
               {
                "line": {
                 "color": "gray",
                 "dash": "dashdot"
                },
                "type": "line",
                "x0": 40,
                "x1": 45,
                "xref": "x",
                "y0": 102.2869799012215,
                "y1": 102.2869799012215,
                "yref": "y"
               },
               {
                "line": {
                 "color": "red",
                 "dash": "dashdot"
                },
                "type": "line",
                "x0": 40,
                "x1": 45,
                "xref": "x",
                "y0": 152.95059639958026,
                "y1": 152.95059639958026,
                "yref": "y"
               },
               {
                "line": {
                 "color": "red",
                 "dash": "dashdot"
                },
                "type": "line",
                "x0": 40,
                "x1": 45,
                "xref": "x",
                "y0": 51.62336340286274,
                "y1": 51.62336340286274,
                "yref": "y"
               },
               {
                "line": {
                 "color": "pink",
                 "dash": "dot"
                },
                "type": "line",
                "x0": 40,
                "x1": 45,
                "xref": "x",
                "y0": 127.61878815040089,
                "y1": 127.61878815040089,
                "yref": "y"
               },
               {
                "line": {
                 "color": "pink",
                 "dash": "dot"
                },
                "type": "line",
                "x0": 40,
                "x1": 45,
                "xref": "x",
                "y0": 76.95517165204213,
                "y1": 76.95517165204213,
                "yref": "y"
               },
               {
                "line": {
                 "color": "gray",
                 "dash": "dashdot"
                },
                "type": "line",
                "x0": 40,
                "x1": 45,
                "xref": "x",
                "y0": 19.046472367804043,
                "y1": 19.046472367804043,
                "yref": "y2"
               },
               {
                "line": {
                 "color": "red",
                 "dash": "dashdot"
                },
                "type": "line",
                "x0": 40,
                "x1": 45,
                "xref": "x",
                "y0": 62.24387169798361,
                "y1": 62.24387169798361,
                "yref": "y2"
               },
               {
                "line": {
                 "color": "pink",
                 "dash": "dot"
                },
                "type": "line",
                "x0": 40,
                "x1": 45,
                "xref": "x",
                "y0": 40.645172032893825,
                "y1": 40.645172032893825,
                "yref": "y2"
               },
               {
                "line": {
                 "color": "gray",
                 "dash": "dashdot"
                },
                "type": "line",
                "x0": 45,
                "x1": 50,
                "xref": "x",
                "y0": 103.31497268703039,
                "y1": 103.31497268703039,
                "yref": "y"
               },
               {
                "line": {
                 "color": "red",
                 "dash": "dashdot"
                },
                "type": "line",
                "x0": 45,
                "x1": 50,
                "xref": "x",
                "y0": 140.5340829870694,
                "y1": 140.5340829870694,
                "yref": "y"
               },
               {
                "line": {
                 "color": "red",
                 "dash": "dashdot"
                },
                "type": "line",
                "x0": 45,
                "x1": 50,
                "xref": "x",
                "y0": 66.09586238699137,
                "y1": 66.09586238699137,
                "yref": "y"
               },
               {
                "line": {
                 "color": "pink",
                 "dash": "dot"
                },
                "type": "line",
                "x0": 45,
                "x1": 50,
                "xref": "x",
                "y0": 121.92452783704991,
                "y1": 121.92452783704991,
                "yref": "y"
               },
               {
                "line": {
                 "color": "pink",
                 "dash": "dot"
                },
                "type": "line",
                "x0": 45,
                "x1": 50,
                "xref": "x",
                "y0": 84.70541753701087,
                "y1": 84.70541753701087,
                "yref": "y"
               },
               {
                "line": {
                 "color": "gray",
                 "dash": "dashdot"
                },
                "type": "line",
                "x0": 45,
                "x1": 50,
                "xref": "x",
                "y0": 13.99214672933798,
                "y1": 13.99214672933798,
                "yref": "y2"
               },
               {
                "line": {
                 "color": "red",
                 "dash": "dashdot"
                },
                "type": "line",
                "x0": 45,
                "x1": 50,
                "xref": "x",
                "y0": 45.72633551147651,
                "y1": 45.72633551147651,
                "yref": "y2"
               },
               {
                "line": {
                 "color": "pink",
                 "dash": "dot"
                },
                "type": "line",
                "x0": 45,
                "x1": 50,
                "xref": "x",
                "y0": 29.859241120407248,
                "y1": 29.859241120407248,
                "yref": "y2"
               },
               {
                "line": {
                 "color": "gray",
                 "dash": "dashdot"
                },
                "type": "line",
                "x0": 50,
                "x1": 100,
                "xref": "x",
                "y0": 100.32860451176059,
                "y1": 100.32860451176059,
                "yref": "y"
               },
               {
                "line": {
                 "color": "red",
                 "dash": "dashdot"
                },
                "type": "line",
                "x0": 50,
                "x1": 100,
                "xref": "x",
                "y0": 120.47722726896464,
                "y1": 120.47722726896464,
                "yref": "y"
               },
               {
                "line": {
                 "color": "red",
                 "dash": "dashdot"
                },
                "type": "line",
                "x0": 50,
                "x1": 100,
                "xref": "x",
                "y0": 80.17998175455654,
                "y1": 80.17998175455654,
                "yref": "y"
               },
               {
                "line": {
                 "color": "pink",
                 "dash": "dot"
                },
                "type": "line",
                "x0": 50,
                "x1": 100,
                "xref": "x",
                "y0": 110.4029158903626,
                "y1": 110.4029158903626,
                "yref": "y"
               },
               {
                "line": {
                 "color": "pink",
                 "dash": "dot"
                },
                "type": "line",
                "x0": 50,
                "x1": 100,
                "xref": "x",
                "y0": 90.25429313315857,
                "y1": 90.25429313315857,
                "yref": "y"
               },
               {
                "line": {
                 "color": "gray",
                 "dash": "dashdot"
                },
                "type": "line",
                "x0": 50,
                "x1": 100,
                "xref": "x",
                "y0": 7.57467020947521,
                "y1": 7.57467020947521,
                "yref": "y2"
               },
               {
                "line": {
                 "color": "red",
                 "dash": "dashdot"
                },
                "type": "line",
                "x0": 50,
                "x1": 100,
                "xref": "x",
                "y0": 24.754022244564986,
                "y1": 24.754022244564986,
                "yref": "y2"
               },
               {
                "line": {
                 "color": "pink",
                 "dash": "dot"
                },
                "type": "line",
                "x0": 50,
                "x1": 100,
                "xref": "x",
                "y0": 16.164346227020097,
                "y1": 16.164346227020097,
                "yref": "y2"
               }
              ]
             }
            ],
            "label": "All",
            "method": "update"
           }
          ],
          "direction": "right",
          "type": "buttons",
          "x": 0.5,
          "xanchor": "center",
          "y": 1.2
         }
        ],
        "xaxis": {
         "anchor": "y",
         "automargin": true,
         "domain": [
          0,
          1
         ],
         "gridcolor": "lightgray",
         "showgrid": true,
         "showline": true,
         "showspikes": true,
         "showticklabels": true,
         "spikemode": "across+toaxis",
         "spikesnap": "cursor",
         "tickangle": 0,
         "tickformat": "d",
         "ticklabelmode": "period",
         "type": "linear",
         "zeroline": false
        },
        "xaxis2": {
         "anchor": "y2",
         "domain": [
          0,
          1
         ],
         "matches": "x"
        },
        "yaxis": {
         "anchor": "x",
         "domain": [
          0.4,
          1
         ],
         "dtick": 10,
         "range": [
          40,
          170
         ],
         "tickformat": "0",
         "title": {
          "text": "measurement"
         }
        },
        "yaxis2": {
         "anchor": "x2",
         "domain": [
          0,
          0.3
         ],
         "dtick": 10,
         "range": [
          0,
          70
         ],
         "tickformat": "0",
         "title": {
          "text": "Moving Range"
         }
        }
       }
      }
     },
     "metadata": {},
     "output_type": "display_data"
    }
   ],
   "source": [
    "# Numeric example\n",
    "numeric_data = pd.DataFrame({\n",
    "    'position': range(1, 101),\n",
    "    'measurement': np.random.normal(100, 10, 100)\n",
    "})\n",
    "\n",
    "xmr_numeric = xmr.XmR(\n",
    "    data=numeric_data,\n",
    "    x_ser_name='position',\n",
    "    y_ser_name='measurement',\n",
    "    x_type='numeric',\n",
    "    chart_height=800,\n",
    "    period_breaks=[40, 45, 50],\n",
    "    period_end=70\n",
    ")\n",
    "\n",
    "xmr_numeric.xmr_chart"
   ]
  },
  {
   "cell_type": "code",
   "execution_count": 37,
   "metadata": {},
   "outputs": [
    {
     "data": {
      "application/vnd.plotly.v1+json": {
       "config": {
        "plotlyServerURL": "https://plot.ly"
       },
       "data": [
        {
         "customdata": {
          "bdata": "cX9BzJtuVUBaUepiazgUQAAAAAAAAAAAAAAAAAAAAAAAAAAAAAAAAHF/QcybblVAWlHqYms4FEAAAAAAAAAAAAAAAAAAAAAAAAAAAAAAAABxf0HMm25VQFpR6mJrOBRAAAAAAAAAAAAAAAAAAAAAAAAAAAAAAAAAcX9BzJtuVUBaUepiazgUQAAAAAAAAAAAAAAAAAAAAAAAAAAAAAAAAHF/QcybblVAWlHqYms4FEAAAAAAAAAAAAAAAAAAAAAAAAAAAAAAAABxf0HMm25VQFpR6mJrOBRAAAAAAAAA8D8AAAAAAAAAAAAAAAAAAAAAA0xPQ22RVUAWiieTjboUQAAAAAAAAAAAAAAAAAAAAAAAAAAAAAAAAANMT0NtkVVAFoonk426FEAAAAAAAAAAAAAAAAAAAAAAAAAAAAAAAAADTE9DbZFVQBaKJ5ONuhRAAAAAAAAAAAAAAAAAAAAAAAAAAAAAAAAAA0xPQ22RVUAWiieTjboUQAAAAAAAAAAAAAAAAAAAAAAAAAAAAAAAAANMT0NtkVVAFoonk426FEAAAAAAAAAAAAAAAAAAAAAAAAAAAAAAAAADTE9DbZFVQBaKJ5ONuhRAAAAAAAAAAAAAAAAAAAAAAAAAAAAAAAAAA0xPQ22RVUAWiieTjboUQAAAAAAAAAAAAAAAAAAAAAAAAAAAAAAAAANMT0NtkVVAFoonk426FEAAAAAAAAAAAAAAAAAAAAAAAAAAAAAAAAADTE9DbZFVQBaKJ5ONuhRAAAAAAAAAAAAAAAAAAAAAAAAAAAAAAAAAA0xPQ22RVUAWiieTjboUQAAAAAAAAAAAAAAAAAAAAAAAAAAAAAAAAANMT0NtkVVAFoonk426FEAAAAAAAAAAAAAAAAAAAAAAAAAAAAAAAAADTE9DbZFVQBaKJ5ONuhRAAAAAAAAAAAAAAAAAAAAAAAAAAAAAAAAAA0xPQ22RVUAWiieTjboUQAAAAAAAAAAAAAAAAAAAAAAAAAAAAAAAAANMT0NtkVVAFoonk426FEAAAAAAAAAAAAAAAAAAAAAAAAAAAAAAAAADTE9DbZFVQBaKJ5ONuhRAAAAAAAAAAAAAAAAAAAAAAAAAAAAAAAAAA0xPQ22RVUAWiieTjboUQAAAAAAAAAAAAAAAAAAAAAAAAAAAAAAAAANMT0NtkVVAFoonk426FEAAAAAAAAAAAAAAAAAAAAAAAAAAAAAAAAADTE9DbZFVQBaKJ5ONuhRAAAAAAAAAAAAAAAAAAAAAAAAAAAAAAAAAA0xPQ22RVUAWiieTjboUQAAAAAAAAAAAAAAAAAAAAAAAAAAAAAAAAANMT0NtkVVAFoonk426FEAAAAAAAAAAAAAAAAAAAAAAAAAAAAAAAAADTE9DbZFVQBaKJ5ONuhRAAAAAAAAAAAAAAAAAAAAAAAAAAAAAAAAAA0xPQ22RVUAWiieTjboUQAAAAAAAAAAAAAAAAAAAAAAAAAAAAAAAAANMT0NtkVVAFoonk426FEAAAAAAAADwPwAAAAAAAAAAAAAAAAAAAAADTE9DbZFVQBaKJ5ONuhRAAAAAAAAAAAAAAAAAAAAAAAAAAAAAAAAAA0xPQ22RVUAWiieTjboUQAAAAAAAAAAAAAAAAAAAAAAAAAAAAAAAAANMT0NtkVVAFoonk426FEAAAAAAAAAAAAAAAAAAAAAAAAAAAAAAAAADTE9DbZFVQBaKJ5ONuhRAAAAAAAAAAAAAAAAAAAAAAAAAAAAAAAAAA0xPQ22RVUAWiieTjboUQAAAAAAAAAAAAAAAAAAAAAAAAAAAAAAAAANMT0NtkVVAFoonk426FEAAAAAAAAAAAAAAAAAAAAAAAAAAAAAAAAADTE9DbZFVQBaKJ5ONuhRAAAAAAAAAAAAAAAAAAAAAAAAAAAAAAAAAA0xPQ22RVUAWiieTjboUQAAAAAAAAAAAAAAAAAAAAAAAAAAAAAAAAANMT0NtkVVAFoonk426FEAAAAAAAAAAAAAAAAAAAAAAAAAAAAAAAAADTE9DbZFVQBaKJ5ONuhRAAAAAAAAAAAAAAAAAAAAAAAAAAAAAAAAAA0xPQ22RVUAWiieTjboUQAAAAAAAAAAAAAAAAAAAAAAAAAAAAAAAAANMT0NtkVVAFoonk426FEAAAAAAAAAAAAAAAAAAAAAAAAAAAAAAAAADTE9DbZFVQBaKJ5ONuhRAAAAAAAAAAAAAAAAAAAAAAAAAAAAAAAAAA0xPQ22RVUAWiieTjboUQAAAAAAAAAAAAAAAAAAAAAAAAAAAAAAAAANMT0NtkVVAFoonk426FEAAAAAAAAAAAAAAAAAAAAAAAAAAAAAAAAADTE9DbZFVQBaKJ5ONuhRAAAAAAAAAAAAAAAAAAAAAAAAAAAAAAAAAA0xPQ22RVUAWiieTjboUQAAAAAAAAAAAAAAAAAAAAAAAAAAAAAAAAANMT0NtkVVAFoonk426FEAAAAAAAAAAAAAAAAAAAAAAAAAAAAAAAAADTE9DbZFVQBaKJ5ONuhRAAAAAAAAAAAAAAAAAAAAAAAAAAAAAAAAAA0xPQ22RVUAWiieTjboUQAAAAAAAAAAAAAAAAAAAAAAAAAAAAAAAAANMT0NtkVVAFoonk426FEAAAAAAAAAAAAAAAAAAAAAAAAAAAAAAAAADTE9DbZFVQBaKJ5ONuhRAAAAAAAAAAAAAAAAAAAAAAAAAAAAAAAAAA0xPQ22RVUAWiieTjboUQAAAAAAAAAAAAAAAAAAAAAAAAAAAAAAAAANMT0NtkVVAFoonk426FEAAAAAAAAAAAAAAAAAAAAAAAAAAAAAAAAADTE9DbZFVQBaKJ5ONuhRAAAAAAAAAAAAAAAAAAAAAAAAAAAAAAAAAA0xPQ22RVUAWiieTjboUQAAAAAAAAAAAAAAAAAAAAAAAAAAAAAAAAANMT0NtkVVAFoonk426FEAAAAAAAAAAAAAAAAAAAAAAAAAAAAAAAAADTE9DbZFVQBaKJ5ONuhRAAAAAAAAAAAAAAAAAAAAAAAAAAAAAAAAAA0xPQ22RVUAWiieTjboUQAAAAAAAAAAAAAAAAAAAAAAAAAAAAAAAAANMT0NtkVVAFoonk426FEAAAAAAAAAAAAAAAAAAAAAAAAAAAAAAAAADTE9DbZFVQBaKJ5ONuhRAAAAAAAAAAAAAAAAAAAAAAAAAAAAAAAAAA0xPQ22RVUAWiieTjboUQAAAAAAAAAAAAAAAAAAAAAAAAAAAAAAAAANMT0NtkVVAFoonk426FEAAAAAAAAAAAAAAAAAAAAAAAAAAAAAAAAADTE9DbZFVQBaKJ5ONuhRAAAAAAAAAAAAAAAAAAAAAAAAAAAAAAAAAA0xPQ22RVUAWiieTjboUQAAAAAAAAAAAAAAAAAAAAAAAAAAAAAAAAANMT0NtkVVAFoonk426FEAAAAAAAAAAAAAAAAAAAAAAAAAAAAAAAAADTE9DbZFVQBaKJ5ONuhRAAAAAAAAAAAAAAAAAAAAAAAAAAAAAAAAAA0xPQ22RVUAWiieTjboUQAAAAAAAAAAAAAAAAAAAAAAAAAAAAAAAAANMT0NtkVVAFoonk426FEAAAAAAAAAAAAAAAAAAAAAAAAAAAAAAAAADTE9DbZFVQBaKJ5ONuhRAAAAAAAAAAAAAAAAAAAAAAAAAAAAAAAAAA0xPQ22RVUAWiieTjboUQAAAAAAAAAAAAAAAAAAAAAAAAAAAAAAAAANMT0NtkVVAFoonk426FEAAAAAAAAAAAAAAAAAAAPA/AAAAAAAAAAADTE9DbZFVQBaKJ5ONuhRAAAAAAAAAAAAAAAAAAADwPwAAAAAAAAAAA0xPQ22RVUAWiieTjboUQAAAAAAAAAAAAAAAAAAA8D8AAAAAAAAAAANMT0NtkVVAFoonk426FEAAAAAAAAAAAAAAAAAAAPA/AAAAAAAAAAADTE9DbZFVQBaKJ5ONuhRAAAAAAAAAAAAAAAAAAAAAAAAAAAAAAAAAA0xPQ22RVUAWiieTjboUQAAAAAAAAAAAAAAAAAAAAAAAAAAAAAAAAANMT0NtkVVAFoonk426FEAAAAAAAAAAAAAAAAAAAAAAAAAAAAAAAAADTE9DbZFVQBaKJ5ONuhRAAAAAAAAAAAAAAAAAAAAAAAAAAAAAAAAAA0xPQ22RVUAWiieTjboUQAAAAAAAAAAAAAAAAAAAAAAAAAAAAAAAAANMT0NtkVVAFoonk426FEAAAAAAAAAAAAAAAAAAAAAAAAAAAAAAAAADTE9DbZFVQBaKJ5ONuhRAAAAAAAAAAAAAAAAAAAAAAAAAAAAAAAAAA0xPQ22RVUAWiieTjboUQAAAAAAAAAAAAAAAAAAAAAAAAAAAAAAAAANMT0NtkVVAFoonk426FEAAAAAAAAAAAAAAAAAAAAAAAAAAAAAAAAADTE9DbZFVQBaKJ5ONuhRAAAAAAAAAAAAAAAAAAAAAAAAAAAAAAAAAA0xPQ22RVUAWiieTjboUQAAAAAAAAAAAAAAAAAAAAAAAAAAAAAAAAANMT0NtkVVAFoonk426FEAAAAAAAAAAAAAAAAAAAAAAAAAAAAAAAAADTE9DbZFVQBaKJ5ONuhRAAAAAAAAAAAAAAAAAAAAAAAAAAAAAAAAAA0xPQ22RVUAWiieTjboUQAAAAAAAAAAAAAAAAAAAAAAAAAAAAAAAAANMT0NtkVVAFoonk426FEAAAAAAAAAAAAAAAAAAAAAAAAAAAAAAAAADTE9DbZFVQBaKJ5ONuhRAAAAAAAAAAAAAAAAAAAAAAAAAAAAAAAAAA0xPQ22RVUAWiieTjboUQAAAAAAAAAAAAAAAAAAAAAAAAAAAAAAAAANMT0NtkVVAFoonk426FEAAAAAAAAAAAAAAAAAAAAAAAAAAAAAAAAADTE9DbZFVQBaKJ5ONuhRAAAAAAAAAAAAAAAAAAAAAAAAAAAAAAAAAA0xPQ22RVUAWiieTjboUQAAAAAAAAAAAAAAAAAAAAAAAAAAAAAAAAANMT0NtkVVAFoonk426FEAAAAAAAAAAAAAAAAAAAAAAAAAAAAAAAAADTE9DbZFVQBaKJ5ONuhRAAAAAAAAAAAAAAAAAAAAAAAAAAAAAAAAAA0xPQ22RVUAWiieTjboUQAAAAAAAAAAAAAAAAAAAAAAAAAAAAAAAAANMT0NtkVVAFoonk426FEAAAAAAAADwPwAAAAAAAAAAAAAAAAAAAAADTE9DbZFVQBaKJ5ONuhRAAAAAAAAA8D8AAAAAAAAAAAAAAAAAAAAAA0xPQ22RVUAWiieTjboUQAAAAAAAAPA/AAAAAAAAAAAAAAAAAAAAAA==",
          "dtype": "f8",
          "shape": "100, 5"
         },
         "hovertemplate": "<b>Category:</b> %{x}<br><b>Value:</b> %{y:,.2f}<br><b>Mean:</b> %{customdata[0]:,.2f}<br><b>Is Anomaly:</b> %{customdata[2]}<br><b>Is Short Run:</b> %{customdata[3]}<br><b>Is Long Run:</b> %{customdata[4]}<br><extra></extra>",
         "line": {
          "color": "black",
          "width": 1
         },
         "marker": {
          "color": "black",
          "size": 6
         },
         "mode": "lines+markers",
         "name": "quality_score",
         "type": "scatter",
         "x": [
          "Station_a",
          "Station_b",
          "Station_c",
          "Station_d",
          "Station_e",
          "Station_f",
          "Station_g",
          "Station_h",
          "Station_i",
          "Station_j",
          "Station_k",
          "Station_l",
          "Station_m",
          "Station_n",
          "Station_o",
          "Station_p",
          "Station_q",
          "Station_r",
          "Station_s",
          "Station_t",
          "Station_u",
          "Station_v",
          "Station_w",
          "Station_x",
          "Station_y",
          "Station_z",
          "Station_{",
          "Station_|",
          "Station_}",
          "Station_~",
          "Station_",
          "Station_",
          "Station_",
          "Station_",
          "Station_",
          "Station_",
          "Station_",
          "Station_",
          "Station_",
          "Station_",
          "Station_",
          "Station_",
          "Station_",
          "Station_",
          "Station_",
          "Station_",
          "Station_",
          "Station_",
          "Station_",
          "Station_",
          "Station_",
          "Station_",
          "Station_",
          "Station_",
          "Station_",
          "Station_",
          "Station_",
          "Station_",
          "Station_",
          "Station_",
          "Station_",
          "Station_",
          "Station_",
          "Station_ ",
          "Station_¡",
          "Station_¢",
          "Station_£",
          "Station_¤",
          "Station_¥",
          "Station_¦",
          "Station_§",
          "Station_¨",
          "Station_©",
          "Station_ª",
          "Station_«",
          "Station_¬",
          "Station_­",
          "Station_®",
          "Station_¯",
          "Station_°",
          "Station_±",
          "Station_²",
          "Station_³",
          "Station_´",
          "Station_µ",
          "Station_¶",
          "Station_·",
          "Station_¸",
          "Station_¹",
          "Station_º",
          "Station_»",
          "Station_¼",
          "Station_½",
          "Station_¾",
          "Station_¿",
          "Station_À",
          "Station_Á",
          "Station_Â",
          "Station_Ã",
          "Station_Ä"
         ],
         "xaxis": "x",
         "y": {
          "bdata": "1VvgjySHVkBPWsWbAddWQGCIrBnJcldASvX/etYVVUBWTaf0FKRUQH97jxTMDFJAVhckdUUOVkDlHTk51HZVQHHOC3ozwVZA/UqGCGTlVUB/2I5U2+pTQD552GjblVRAMbYdjDVUVkAt3UoQ90pWQJuhV31P/FVAVZEbEjmqUkBnNxjYS99VQEDl9UFHaFVAJpOK/WD5VkCF81NvirBVQA2Xv5TYJVdArEP7YukJV0AbNoC9VxpWQH9R/X7fEFZAGjewKco/VkBDHepxy2JUQJxJgSZ+JldAwY/IxhnGUkA+pPfmG9VTQCajmkAquFVArPO9ywk3VUBagVbkXLBWQINd46cVWVRAEs354gA1V0BzK3dwnx9VQFssItDDJVRAyH5SYAuTVkDXUMAmJWdWQPezP43R9VdAVjhNgv4qVUBy52YBkChUQGAPT6DGYVdAfT3gM5jbVUDvQdFGm6ZTQHhTG8wQklVAFZ7UBarGVkAIBek6urxTQOsZdiXA2VRACCO/dECgVkCyKs0B2Y9UQIxlsv2fvlRACkweTsWAVEBnkfP+oqFVQCDmFwYMqVVAH18WNEb9VEBGoJCB8URVQDJvgQnyCFRAVl0jYKkzV0CmuctYzntUQHc9gcEw8FVA/VoDW+psVUAPrPLgSP1TQA2Ogy8yfVVApLOgwXXmVUAdGZyyGoNTQEVmSEJgVVVAC98THudMVkAcP4JEARRUQKStzDenilVAXTvMscrKVUALpQyY0VtTQOtczdEKe1RA9PwkM8S1U0DQuBQkLIJTQP3GVHMTwVVAaeLqdDhRVUDS1QNJS+NSQI8YiKHFcVJAbcNs6upwVUC8Oc+SdUVVQIWQdZmnalZASbDRqR0QU0DS4+oNBExVQKQ9Ougbo1RArmIN3DNXU0A2SvLK479UQEEotJoHUlVATqHGQdMUV0BKsKn8EsxWQBKr9buJoFVAUaG/GTd2VUB1k/hmfZhUQMA+gOK25FVAn9TZgJ2XVUDwS6SmVSFVQFg4AG9ULFVA4i/b8edJWEAbdh/roQxQQGajhLx/HVZAI80kcUtDVUA=",
          "dtype": "f8"
         },
         "yaxis": "y"
        },
        {
         "customdata": {
          "bdata": "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",
          "dtype": "f8",
          "shape": "100, 5"
         },
         "hovertemplate": "<b>Category:</b> %{x}<br><b>Range:</b> %{y:,.2f}<br><b>Mean:</b> %{customdata[0]:,.2f}<br><b>Is Anomaly:</b> %{customdata[2]}<br><b>Is Short Run:</b> %{customdata[3]}<br><b>Is Long Run:</b> %{customdata[4]}<br><extra></extra>",
         "line": {
          "color": "black",
          "width": 1
         },
         "marker": {
          "color": "black",
          "size": 6
         },
         "mode": "lines+markers",
         "name": "Moving Range",
         "type": "scatter",
         "x": [
          "Station_a",
          "Station_b",
          "Station_c",
          "Station_d",
          "Station_e",
          "Station_f",
          "Station_g",
          "Station_h",
          "Station_i",
          "Station_j",
          "Station_k",
          "Station_l",
          "Station_m",
          "Station_n",
          "Station_o",
          "Station_p",
          "Station_q",
          "Station_r",
          "Station_s",
          "Station_t",
          "Station_u",
          "Station_v",
          "Station_w",
          "Station_x",
          "Station_y",
          "Station_z",
          "Station_{",
          "Station_|",
          "Station_}",
          "Station_~",
          "Station_",
          "Station_",
          "Station_",
          "Station_",
          "Station_",
          "Station_",
          "Station_",
          "Station_",
          "Station_",
          "Station_",
          "Station_",
          "Station_",
          "Station_",
          "Station_",
          "Station_",
          "Station_",
          "Station_",
          "Station_",
          "Station_",
          "Station_",
          "Station_",
          "Station_",
          "Station_",
          "Station_",
          "Station_",
          "Station_",
          "Station_",
          "Station_",
          "Station_",
          "Station_",
          "Station_",
          "Station_",
          "Station_",
          "Station_ ",
          "Station_¡",
          "Station_¢",
          "Station_£",
          "Station_¤",
          "Station_¥",
          "Station_¦",
          "Station_§",
          "Station_¨",
          "Station_©",
          "Station_ª",
          "Station_«",
          "Station_¬",
          "Station_­",
          "Station_®",
          "Station_¯",
          "Station_°",
          "Station_±",
          "Station_²",
          "Station_³",
          "Station_´",
          "Station_µ",
          "Station_¶",
          "Station_·",
          "Station_¸",
          "Station_¹",
          "Station_º",
          "Station_»",
          "Station_¼",
          "Station_½",
          "Station_¾",
          "Station_¿",
          "Station_À",
          "Station_Á",
          "Station_Â",
          "Station_Ã",
          "Station_Ä"
         ],
         "xaxis": "x2",
         "y": {
          "bdata": "AAAAAAAA+H+Anj/5QvfzPyDC5bzveANAsJhk9ZTnIkAA/SmWYXD8P7iOvgBHuiRAAAAAAAAA+H9cb1KC5QUwQCAuX30n7gJAwAgrDfSlFECAbrAw7nkLQOAndz+LqB9A4Bc0iQJgBUAwz1M0ouUbQAAIsqX3fMI/gOTOvOSp8z8wguBZs5AqQJAw5S+WqClAwImUiCXB/T9g3kq5mxEZQBD6aeNojRRAgDi6VuJUF0AAYVPEMe/bPyCyYa808g1AADjJBX3wwj+AzXJZVXXnP3CdYXzrzx1AyGK5pJUdJkBs5+J+kYExQNBH8QIi8BBAgO4vmuUwHkBA75WbDiQAQODaiIkxlRdAuB6Z4zm6IkB4fLPYWd8mQPgMFZQLqyBAAOOfCnQ7D0Bok4KBPGojQID4Fskc8+U/ADL2Z8bqGEAI3ZNXmFYmQEAOZQ7oJhBAcD9B97TJKUAwHu3G5mIYQHDcd2jnpyFAkBihVFi3HkDQqZSbk0kTQGjIXFd+TyhAME7RqF7QEUDQkZD0BGgcQLDCj5c7gyBAAG2d8n1j5z8AwQzKV+3uP9BVVA3bDRJAAORSkRykvT8g4DBAungFQMBJkF7T6vE/QBHzgPe/E0AgcQ+1ulUpQIAdvTrYviVAED1YiyZGF0BAT7zPzGgAQODuCqEX+hZA4B8O6ZT+F0DAZUmH5FD6PzjUJHjYGiNAgNLE+lgkHUDAGG952/AOQHj/jMwuxyFAgOimNF9qF0BAbuN/3gjwP5Cy/M3IdyNAAH4LnJPzEUDg/gvV06gIQAASIogHzOk/aHEAejr3IUAAJXmav/b7P7hkOF9pbyNAwFDv3mlh/D/wViVHKvknQIDYxM6ruuU/kGxlaiBTEkDgAR99T9QqQEicySAz3yFAwMUUtgQdBUBgr83CgL4UQIB4Tu7+ihZAYME7+HlEAkDQkCdxuiwcQABBPEcRMPI/gFNAC5S4EkCA4AQbUSnlP4C74Vg2twtAsLR6uJfDFEBAiJppWEbzP8ArYo32kf0/ANDYt5D9xT9QvNcWnOwoQI5zdw2MekBALLWURXdDOEA=",
          "dtype": "f8"
         },
         "yaxis": "y2"
        },
        {
         "marker": {
          "color": "red",
          "size": 8,
          "symbol": "cross"
         },
         "mode": "markers",
         "texttemplate": "%{y}",
         "type": "scatter",
         "visible": false,
         "x": [
          "Station_f",
          "Station_Â"
         ],
         "xaxis": "x",
         "y": [
          72.19995607387499,
          64.197382717823
         ],
         "yaxis": "y"
        },
        {
         "marker": {
          "color": "red",
          "size": 8,
          "symbol": "cross"
         },
         "mode": "markers",
         "type": "scatter",
         "visible": false,
         "x": [
          "Station_}",
          "Station_Ã",
          "Station_Ä"
         ],
         "xaxis": "x2",
         "y": [
          17.506126337429507,
          32.95739906628215,
          24.263538693242637
         ],
         "yaxis": "y2"
        }
       ],
       "layout": {
        "annotations": [
         {
          "font": {
           "size": 16
          },
          "showarrow": false,
          "text": "quality_score XmR Chart by station",
          "x": 0.5,
          "xanchor": "center",
          "xref": "paper",
          "y": 1.1,
          "yanchor": "top",
          "yref": "paper"
         },
         {
          "font": {
           "size": 10
          },
          "showarrow": false,
          "text": "<b>mR Upper Limit = 16.520</b>",
          "x": 0.01,
          "xanchor": "left",
          "xref": "paper",
          "y": 17.34606034870704,
          "yanchor": "auto",
          "yref": "y2"
         },
         {
          "font": {
           "size": 10
          },
          "showarrow": false,
          "text": "<b>quality_score Upper Limit = 99.175</b>",
          "x": 0.01,
          "xanchor": "left",
          "xref": "paper",
          "y": 99.98161106204994,
          "yanchor": "auto",
          "yref": "y"
         },
         {
          "font": {
           "size": 10
          },
          "showarrow": false,
          "text": "<b>quality_score Lower Limit = 72.282</b>",
          "x": 0.01,
          "xanchor": "left",
          "xref": "paper",
          "y": 71.47490723316703,
          "yanchor": "auto",
          "yref": "y"
         }
        ],
        "font": {
         "size": 10
        },
        "height": 600,
        "hovermode": "x",
        "plot_bgcolor": "white",
        "shapes": [
         {
          "line": {
           "color": "gray",
           "dash": "dashdot"
          },
          "type": "line",
          "x0": "Station_a",
          "x1": "Station_f",
          "xref": "x",
          "y0": 85.72825914760848,
          "y1": 85.72825914760848,
          "yref": "y"
         },
         {
          "line": {
           "color": "red",
           "dash": "dashdot"
          },
          "type": "line",
          "x0": "Station_a",
          "x1": "Station_f",
          "xref": "x",
          "y0": 99.17481755745891,
          "y1": 99.17481755745891,
          "yref": "y"
         },
         {
          "line": {
           "color": "red",
           "dash": "dashdot"
          },
          "type": "line",
          "x0": "Station_a",
          "x1": "Station_f",
          "xref": "x",
          "y0": 72.28170073775806,
          "y1": 72.28170073775806,
          "yref": "y"
         },
         {
          "line": {
           "color": "pink",
           "dash": "dot"
          },
          "type": "line",
          "x0": "Station_a",
          "x1": "Station_f",
          "xref": "x",
          "y0": 92.4515383525337,
          "y1": 92.4515383525337,
          "yref": "y"
         },
         {
          "line": {
           "color": "pink",
           "dash": "dot"
          },
          "type": "line",
          "x0": "Station_a",
          "x1": "Station_f",
          "xref": "x",
          "y0": 79.00497994268326,
          "y1": 79.00497994268326,
          "yref": "y"
         },
         {
          "line": {
           "color": "gray",
           "dash": "dashdot"
          },
          "type": "line",
          "x0": "Station_a",
          "x1": "Station_f",
          "xref": "x",
          "y0": 5.055097146560309,
          "y1": 5.055097146560309,
          "yref": "y2"
         },
         {
          "line": {
           "color": "red",
           "dash": "dashdot"
          },
          "type": "line",
          "x0": "Station_a",
          "x1": "Station_f",
          "xref": "x",
          "y0": 16.52005747495909,
          "y1": 16.52005747495909,
          "yref": "y2"
         },
         {
          "line": {
           "color": "pink",
           "dash": "dot"
          },
          "type": "line",
          "x0": "Station_a",
          "x1": "Station_f",
          "xref": "x",
          "y0": 10.787577310759698,
          "y1": 10.787577310759698,
          "yref": "y2"
         },
         {
          "line": {
           "color": "gray",
           "dash": "dashdot"
          },
          "type": "line",
          "x0": "Station_f",
          "x1": "Station_Ä",
          "xref": "x",
          "y0": 86.27229387992706,
          "y1": 86.27229387992706,
          "yref": "y"
         },
         {
          "line": {
           "color": "red",
           "dash": "dashdot"
          },
          "type": "line",
          "x0": "Station_f",
          "x1": "Station_Ä",
          "xref": "x",
          "y0": 100.05689451555753,
          "y1": 100.05689451555753,
          "yref": "y"
         },
         {
          "line": {
           "color": "red",
           "dash": "dashdot"
          },
          "type": "line",
          "x0": "Station_f",
          "x1": "Station_Ä",
          "xref": "x",
          "y0": 72.4876932442966,
          "y1": 72.4876932442966,
          "yref": "y"
         },
         {
          "line": {
           "color": "pink",
           "dash": "dot"
          },
          "type": "line",
          "x0": "Station_f",
          "x1": "Station_Ä",
          "xref": "x",
          "y0": 93.1645941977423,
          "y1": 93.1645941977423,
          "yref": "y"
         },
         {
          "line": {
           "color": "pink",
           "dash": "dot"
          },
          "type": "line",
          "x0": "Station_f",
          "x1": "Station_Ä",
          "xref": "x",
          "y0": 79.37999356211182,
          "y1": 79.37999356211182,
          "yref": "y"
         },
         {
          "line": {
           "color": "gray",
           "dash": "dashdot"
          },
          "type": "line",
          "x0": "Station_f",
          "x1": "Station_Ä",
          "xref": "x",
          "y0": 5.1821806900866445,
          "y1": 5.1821806900866445,
          "yref": "y2"
         },
         {
          "line": {
           "color": "red",
           "dash": "dashdot"
          },
          "type": "line",
          "x0": "Station_f",
          "x1": "Station_Ä",
          "xref": "x",
          "y0": 16.93536649520315,
          "y1": 16.93536649520315,
          "yref": "y2"
         },
         {
          "line": {
           "color": "pink",
           "dash": "dot"
          },
          "type": "line",
          "x0": "Station_f",
          "x1": "Station_Ä",
          "xref": "x",
          "y0": 11.058773592644897,
          "y1": 11.058773592644897,
          "yref": "y2"
         }
        ],
        "showlegend": false,
        "template": {
         "data": {
          "bar": [
           {
            "error_x": {
             "color": "#2a3f5f"
            },
            "error_y": {
             "color": "#2a3f5f"
            },
            "marker": {
             "line": {
              "color": "#E5ECF6",
              "width": 0.5
             },
             "pattern": {
              "fillmode": "overlay",
              "size": 10,
              "solidity": 0.2
             }
            },
            "type": "bar"
           }
          ],
          "barpolar": [
           {
            "marker": {
             "line": {
              "color": "#E5ECF6",
              "width": 0.5
             },
             "pattern": {
              "fillmode": "overlay",
              "size": 10,
              "solidity": 0.2
             }
            },
            "type": "barpolar"
           }
          ],
          "carpet": [
           {
            "aaxis": {
             "endlinecolor": "#2a3f5f",
             "gridcolor": "white",
             "linecolor": "white",
             "minorgridcolor": "white",
             "startlinecolor": "#2a3f5f"
            },
            "baxis": {
             "endlinecolor": "#2a3f5f",
             "gridcolor": "white",
             "linecolor": "white",
             "minorgridcolor": "white",
             "startlinecolor": "#2a3f5f"
            },
            "type": "carpet"
           }
          ],
          "choropleth": [
           {
            "colorbar": {
             "outlinewidth": 0,
             "ticks": ""
            },
            "type": "choropleth"
           }
          ],
          "contour": [
           {
            "colorbar": {
             "outlinewidth": 0,
             "ticks": ""
            },
            "colorscale": [
             [
              0,
              "#0d0887"
             ],
             [
              0.1111111111111111,
              "#46039f"
             ],
             [
              0.2222222222222222,
              "#7201a8"
             ],
             [
              0.3333333333333333,
              "#9c179e"
             ],
             [
              0.4444444444444444,
              "#bd3786"
             ],
             [
              0.5555555555555556,
              "#d8576b"
             ],
             [
              0.6666666666666666,
              "#ed7953"
             ],
             [
              0.7777777777777778,
              "#fb9f3a"
             ],
             [
              0.8888888888888888,
              "#fdca26"
             ],
             [
              1,
              "#f0f921"
             ]
            ],
            "type": "contour"
           }
          ],
          "contourcarpet": [
           {
            "colorbar": {
             "outlinewidth": 0,
             "ticks": ""
            },
            "type": "contourcarpet"
           }
          ],
          "heatmap": [
           {
            "colorbar": {
             "outlinewidth": 0,
             "ticks": ""
            },
            "colorscale": [
             [
              0,
              "#0d0887"
             ],
             [
              0.1111111111111111,
              "#46039f"
             ],
             [
              0.2222222222222222,
              "#7201a8"
             ],
             [
              0.3333333333333333,
              "#9c179e"
             ],
             [
              0.4444444444444444,
              "#bd3786"
             ],
             [
              0.5555555555555556,
              "#d8576b"
             ],
             [
              0.6666666666666666,
              "#ed7953"
             ],
             [
              0.7777777777777778,
              "#fb9f3a"
             ],
             [
              0.8888888888888888,
              "#fdca26"
             ],
             [
              1,
              "#f0f921"
             ]
            ],
            "type": "heatmap"
           }
          ],
          "histogram": [
           {
            "marker": {
             "pattern": {
              "fillmode": "overlay",
              "size": 10,
              "solidity": 0.2
             }
            },
            "type": "histogram"
           }
          ],
          "histogram2d": [
           {
            "colorbar": {
             "outlinewidth": 0,
             "ticks": ""
            },
            "colorscale": [
             [
              0,
              "#0d0887"
             ],
             [
              0.1111111111111111,
              "#46039f"
             ],
             [
              0.2222222222222222,
              "#7201a8"
             ],
             [
              0.3333333333333333,
              "#9c179e"
             ],
             [
              0.4444444444444444,
              "#bd3786"
             ],
             [
              0.5555555555555556,
              "#d8576b"
             ],
             [
              0.6666666666666666,
              "#ed7953"
             ],
             [
              0.7777777777777778,
              "#fb9f3a"
             ],
             [
              0.8888888888888888,
              "#fdca26"
             ],
             [
              1,
              "#f0f921"
             ]
            ],
            "type": "histogram2d"
           }
          ],
          "histogram2dcontour": [
           {
            "colorbar": {
             "outlinewidth": 0,
             "ticks": ""
            },
            "colorscale": [
             [
              0,
              "#0d0887"
             ],
             [
              0.1111111111111111,
              "#46039f"
             ],
             [
              0.2222222222222222,
              "#7201a8"
             ],
             [
              0.3333333333333333,
              "#9c179e"
             ],
             [
              0.4444444444444444,
              "#bd3786"
             ],
             [
              0.5555555555555556,
              "#d8576b"
             ],
             [
              0.6666666666666666,
              "#ed7953"
             ],
             [
              0.7777777777777778,
              "#fb9f3a"
             ],
             [
              0.8888888888888888,
              "#fdca26"
             ],
             [
              1,
              "#f0f921"
             ]
            ],
            "type": "histogram2dcontour"
           }
          ],
          "mesh3d": [
           {
            "colorbar": {
             "outlinewidth": 0,
             "ticks": ""
            },
            "type": "mesh3d"
           }
          ],
          "parcoords": [
           {
            "line": {
             "colorbar": {
              "outlinewidth": 0,
              "ticks": ""
             }
            },
            "type": "parcoords"
           }
          ],
          "pie": [
           {
            "automargin": true,
            "type": "pie"
           }
          ],
          "scatter": [
           {
            "fillpattern": {
             "fillmode": "overlay",
             "size": 10,
             "solidity": 0.2
            },
            "type": "scatter"
           }
          ],
          "scatter3d": [
           {
            "line": {
             "colorbar": {
              "outlinewidth": 0,
              "ticks": ""
             }
            },
            "marker": {
             "colorbar": {
              "outlinewidth": 0,
              "ticks": ""
             }
            },
            "type": "scatter3d"
           }
          ],
          "scattercarpet": [
           {
            "marker": {
             "colorbar": {
              "outlinewidth": 0,
              "ticks": ""
             }
            },
            "type": "scattercarpet"
           }
          ],
          "scattergeo": [
           {
            "marker": {
             "colorbar": {
              "outlinewidth": 0,
              "ticks": ""
             }
            },
            "type": "scattergeo"
           }
          ],
          "scattergl": [
           {
            "marker": {
             "colorbar": {
              "outlinewidth": 0,
              "ticks": ""
             }
            },
            "type": "scattergl"
           }
          ],
          "scattermap": [
           {
            "marker": {
             "colorbar": {
              "outlinewidth": 0,
              "ticks": ""
             }
            },
            "type": "scattermap"
           }
          ],
          "scattermapbox": [
           {
            "marker": {
             "colorbar": {
              "outlinewidth": 0,
              "ticks": ""
             }
            },
            "type": "scattermapbox"
           }
          ],
          "scatterpolar": [
           {
            "marker": {
             "colorbar": {
              "outlinewidth": 0,
              "ticks": ""
             }
            },
            "type": "scatterpolar"
           }
          ],
          "scatterpolargl": [
           {
            "marker": {
             "colorbar": {
              "outlinewidth": 0,
              "ticks": ""
             }
            },
            "type": "scatterpolargl"
           }
          ],
          "scatterternary": [
           {
            "marker": {
             "colorbar": {
              "outlinewidth": 0,
              "ticks": ""
             }
            },
            "type": "scatterternary"
           }
          ],
          "surface": [
           {
            "colorbar": {
             "outlinewidth": 0,
             "ticks": ""
            },
            "colorscale": [
             [
              0,
              "#0d0887"
             ],
             [
              0.1111111111111111,
              "#46039f"
             ],
             [
              0.2222222222222222,
              "#7201a8"
             ],
             [
              0.3333333333333333,
              "#9c179e"
             ],
             [
              0.4444444444444444,
              "#bd3786"
             ],
             [
              0.5555555555555556,
              "#d8576b"
             ],
             [
              0.6666666666666666,
              "#ed7953"
             ],
             [
              0.7777777777777778,
              "#fb9f3a"
             ],
             [
              0.8888888888888888,
              "#fdca26"
             ],
             [
              1,
              "#f0f921"
             ]
            ],
            "type": "surface"
           }
          ],
          "table": [
           {
            "cells": {
             "fill": {
              "color": "#EBF0F8"
             },
             "line": {
              "color": "white"
             }
            },
            "header": {
             "fill": {
              "color": "#C8D4E3"
             },
             "line": {
              "color": "white"
             }
            },
            "type": "table"
           }
          ]
         },
         "layout": {
          "annotationdefaults": {
           "arrowcolor": "#2a3f5f",
           "arrowhead": 0,
           "arrowwidth": 1
          },
          "autotypenumbers": "strict",
          "coloraxis": {
           "colorbar": {
            "outlinewidth": 0,
            "ticks": ""
           }
          },
          "colorscale": {
           "diverging": [
            [
             0,
             "#8e0152"
            ],
            [
             0.1,
             "#c51b7d"
            ],
            [
             0.2,
             "#de77ae"
            ],
            [
             0.3,
             "#f1b6da"
            ],
            [
             0.4,
             "#fde0ef"
            ],
            [
             0.5,
             "#f7f7f7"
            ],
            [
             0.6,
             "#e6f5d0"
            ],
            [
             0.7,
             "#b8e186"
            ],
            [
             0.8,
             "#7fbc41"
            ],
            [
             0.9,
             "#4d9221"
            ],
            [
             1,
             "#276419"
            ]
           ],
           "sequential": [
            [
             0,
             "#0d0887"
            ],
            [
             0.1111111111111111,
             "#46039f"
            ],
            [
             0.2222222222222222,
             "#7201a8"
            ],
            [
             0.3333333333333333,
             "#9c179e"
            ],
            [
             0.4444444444444444,
             "#bd3786"
            ],
            [
             0.5555555555555556,
             "#d8576b"
            ],
            [
             0.6666666666666666,
             "#ed7953"
            ],
            [
             0.7777777777777778,
             "#fb9f3a"
            ],
            [
             0.8888888888888888,
             "#fdca26"
            ],
            [
             1,
             "#f0f921"
            ]
           ],
           "sequentialminus": [
            [
             0,
             "#0d0887"
            ],
            [
             0.1111111111111111,
             "#46039f"
            ],
            [
             0.2222222222222222,
             "#7201a8"
            ],
            [
             0.3333333333333333,
             "#9c179e"
            ],
            [
             0.4444444444444444,
             "#bd3786"
            ],
            [
             0.5555555555555556,
             "#d8576b"
            ],
            [
             0.6666666666666666,
             "#ed7953"
            ],
            [
             0.7777777777777778,
             "#fb9f3a"
            ],
            [
             0.8888888888888888,
             "#fdca26"
            ],
            [
             1,
             "#f0f921"
            ]
           ]
          },
          "colorway": [
           "#636efa",
           "#EF553B",
           "#00cc96",
           "#ab63fa",
           "#FFA15A",
           "#19d3f3",
           "#FF6692",
           "#B6E880",
           "#FF97FF",
           "#FECB52"
          ],
          "font": {
           "color": "#2a3f5f"
          },
          "geo": {
           "bgcolor": "white",
           "lakecolor": "white",
           "landcolor": "#E5ECF6",
           "showlakes": true,
           "showland": true,
           "subunitcolor": "white"
          },
          "hoverlabel": {
           "align": "left"
          },
          "hovermode": "closest",
          "mapbox": {
           "style": "light"
          },
          "paper_bgcolor": "white",
          "plot_bgcolor": "#E5ECF6",
          "polar": {
           "angularaxis": {
            "gridcolor": "white",
            "linecolor": "white",
            "ticks": ""
           },
           "bgcolor": "#E5ECF6",
           "radialaxis": {
            "gridcolor": "white",
            "linecolor": "white",
            "ticks": ""
           }
          },
          "scene": {
           "xaxis": {
            "backgroundcolor": "#E5ECF6",
            "gridcolor": "white",
            "gridwidth": 2,
            "linecolor": "white",
            "showbackground": true,
            "ticks": "",
            "zerolinecolor": "white"
           },
           "yaxis": {
            "backgroundcolor": "#E5ECF6",
            "gridcolor": "white",
            "gridwidth": 2,
            "linecolor": "white",
            "showbackground": true,
            "ticks": "",
            "zerolinecolor": "white"
           },
           "zaxis": {
            "backgroundcolor": "#E5ECF6",
            "gridcolor": "white",
            "gridwidth": 2,
            "linecolor": "white",
            "showbackground": true,
            "ticks": "",
            "zerolinecolor": "white"
           }
          },
          "shapedefaults": {
           "line": {
            "color": "#2a3f5f"
           }
          },
          "ternary": {
           "aaxis": {
            "gridcolor": "white",
            "linecolor": "white",
            "ticks": ""
           },
           "baxis": {
            "gridcolor": "white",
            "linecolor": "white",
            "ticks": ""
           },
           "bgcolor": "#E5ECF6",
           "caxis": {
            "gridcolor": "white",
            "linecolor": "white",
            "ticks": ""
           }
          },
          "title": {
           "x": 0.05
          },
          "xaxis": {
           "automargin": true,
           "gridcolor": "white",
           "linecolor": "white",
           "ticks": "",
           "title": {
            "standoff": 15
           },
           "zerolinecolor": "white",
           "zerolinewidth": 2
          },
          "yaxis": {
           "automargin": true,
           "gridcolor": "white",
           "linecolor": "white",
           "ticks": "",
           "title": {
            "standoff": 15
           },
           "zerolinecolor": "white",
           "zerolinewidth": 2
          }
         }
        },
        "updatemenus": [
         {
          "active": 0,
          "buttons": [
           {
            "args": [
             {
              "visible": [
               true,
               true,
               false,
               false
              ]
             },
             {
              "annotations": [
               {
                "font": {
                 "size": 16
                },
                "showarrow": false,
                "text": "quality_score XmR Chart by station",
                "x": 0.5,
                "xanchor": "center",
                "xref": "paper",
                "y": 1.1,
                "yanchor": "top",
                "yref": "paper"
               },
               {
                "font": {
                 "size": 10
                },
                "showarrow": false,
                "text": "<b>mR Upper Limit = 16.520</b>",
                "x": 0.01,
                "xanchor": "left",
                "xref": "paper",
                "y": 17.34606034870704,
                "yanchor": "auto",
                "yref": "y2"
               },
               {
                "font": {
                 "size": 10
                },
                "showarrow": false,
                "text": "<b>quality_score Upper Limit = 99.175</b>",
                "x": 0.01,
                "xanchor": "left",
                "xref": "paper",
                "y": 99.98161106204994,
                "yanchor": "auto",
                "yref": "y"
               },
               {
                "font": {
                 "size": 10
                },
                "showarrow": false,
                "text": "<b>quality_score Lower Limit = 72.282</b>",
                "x": 0.01,
                "xanchor": "left",
                "xref": "paper",
                "y": 71.47490723316703,
                "yanchor": "auto",
                "yref": "y"
               }
              ],
              "shapes": [
               {
                "line": {
                 "color": "gray",
                 "dash": "dashdot"
                },
                "type": "line",
                "x0": "Station_a",
                "x1": "Station_f",
                "xref": "x",
                "y0": 85.72825914760848,
                "y1": 85.72825914760848,
                "yref": "y"
               },
               {
                "line": {
                 "color": "red",
                 "dash": "dashdot"
                },
                "type": "line",
                "x0": "Station_a",
                "x1": "Station_f",
                "xref": "x",
                "y0": 99.17481755745891,
                "y1": 99.17481755745891,
                "yref": "y"
               },
               {
                "line": {
                 "color": "red",
                 "dash": "dashdot"
                },
                "type": "line",
                "x0": "Station_a",
                "x1": "Station_f",
                "xref": "x",
                "y0": 72.28170073775806,
                "y1": 72.28170073775806,
                "yref": "y"
               },
               {
                "line": {
                 "color": "pink",
                 "dash": "dot"
                },
                "type": "line",
                "x0": "Station_a",
                "x1": "Station_f",
                "xref": "x",
                "y0": 92.4515383525337,
                "y1": 92.4515383525337,
                "yref": "y"
               },
               {
                "line": {
                 "color": "pink",
                 "dash": "dot"
                },
                "type": "line",
                "x0": "Station_a",
                "x1": "Station_f",
                "xref": "x",
                "y0": 79.00497994268326,
                "y1": 79.00497994268326,
                "yref": "y"
               },
               {
                "line": {
                 "color": "gray",
                 "dash": "dashdot"
                },
                "type": "line",
                "x0": "Station_a",
                "x1": "Station_f",
                "xref": "x",
                "y0": 5.055097146560309,
                "y1": 5.055097146560309,
                "yref": "y2"
               },
               {
                "line": {
                 "color": "red",
                 "dash": "dashdot"
                },
                "type": "line",
                "x0": "Station_a",
                "x1": "Station_f",
                "xref": "x",
                "y0": 16.52005747495909,
                "y1": 16.52005747495909,
                "yref": "y2"
               },
               {
                "line": {
                 "color": "pink",
                 "dash": "dot"
                },
                "type": "line",
                "x0": "Station_a",
                "x1": "Station_f",
                "xref": "x",
                "y0": 10.787577310759698,
                "y1": 10.787577310759698,
                "yref": "y2"
               },
               {
                "line": {
                 "color": "gray",
                 "dash": "dashdot"
                },
                "type": "line",
                "x0": "Station_f",
                "x1": "Station_Ä",
                "xref": "x",
                "y0": 86.27229387992706,
                "y1": 86.27229387992706,
                "yref": "y"
               },
               {
                "line": {
                 "color": "red",
                 "dash": "dashdot"
                },
                "type": "line",
                "x0": "Station_f",
                "x1": "Station_Ä",
                "xref": "x",
                "y0": 100.05689451555753,
                "y1": 100.05689451555753,
                "yref": "y"
               },
               {
                "line": {
                 "color": "red",
                 "dash": "dashdot"
                },
                "type": "line",
                "x0": "Station_f",
                "x1": "Station_Ä",
                "xref": "x",
                "y0": 72.4876932442966,
                "y1": 72.4876932442966,
                "yref": "y"
               },
               {
                "line": {
                 "color": "pink",
                 "dash": "dot"
                },
                "type": "line",
                "x0": "Station_f",
                "x1": "Station_Ä",
                "xref": "x",
                "y0": 93.1645941977423,
                "y1": 93.1645941977423,
                "yref": "y"
               },
               {
                "line": {
                 "color": "pink",
                 "dash": "dot"
                },
                "type": "line",
                "x0": "Station_f",
                "x1": "Station_Ä",
                "xref": "x",
                "y0": 79.37999356211182,
                "y1": 79.37999356211182,
                "yref": "y"
               },
               {
                "line": {
                 "color": "gray",
                 "dash": "dashdot"
                },
                "type": "line",
                "x0": "Station_f",
                "x1": "Station_Ä",
                "xref": "x",
                "y0": 5.1821806900866445,
                "y1": 5.1821806900866445,
                "yref": "y2"
               },
               {
                "line": {
                 "color": "red",
                 "dash": "dashdot"
                },
                "type": "line",
                "x0": "Station_f",
                "x1": "Station_Ä",
                "xref": "x",
                "y0": 16.93536649520315,
                "y1": 16.93536649520315,
                "yref": "y2"
               },
               {
                "line": {
                 "color": "pink",
                 "dash": "dot"
                },
                "type": "line",
                "x0": "Station_f",
                "x1": "Station_Ä",
                "xref": "x",
                "y0": 11.058773592644897,
                "y1": 11.058773592644897,
                "yref": "y2"
               }
              ]
             }
            ],
            "label": "None",
            "method": "update"
           },
           {
            "args": [
             {
              "visible": [
               true,
               true,
               true,
               true
              ]
             },
             {
              "annotations": [
               {
                "font": {
                 "size": 16
                },
                "showarrow": false,
                "text": "quality_score XmR Chart by station",
                "x": 0.5,
                "xanchor": "center",
                "xref": "paper",
                "y": 1.1,
                "yanchor": "top",
                "yref": "paper"
               },
               {
                "font": {
                 "size": 10
                },
                "showarrow": false,
                "text": "<b>mR Upper Limit = 16.520</b>",
                "x": 0.01,
                "xanchor": "left",
                "xref": "paper",
                "y": 17.34606034870704,
                "yanchor": "auto",
                "yref": "y2"
               },
               {
                "font": {
                 "size": 10
                },
                "showarrow": false,
                "text": "<b>quality_score Upper Limit = 99.175</b>",
                "x": 0.01,
                "xanchor": "left",
                "xref": "paper",
                "y": 99.98161106204994,
                "yanchor": "auto",
                "yref": "y"
               },
               {
                "font": {
                 "size": 10
                },
                "showarrow": false,
                "text": "<b>quality_score Lower Limit = 72.282</b>",
                "x": 0.01,
                "xanchor": "left",
                "xref": "paper",
                "y": 71.47490723316703,
                "yanchor": "auto",
                "yref": "y"
               }
              ],
              "shapes": [
               {
                "line": {
                 "color": "gray",
                 "dash": "dashdot"
                },
                "type": "line",
                "x0": "Station_a",
                "x1": "Station_f",
                "xref": "x",
                "y0": 85.72825914760848,
                "y1": 85.72825914760848,
                "yref": "y"
               },
               {
                "line": {
                 "color": "red",
                 "dash": "dashdot"
                },
                "type": "line",
                "x0": "Station_a",
                "x1": "Station_f",
                "xref": "x",
                "y0": 99.17481755745891,
                "y1": 99.17481755745891,
                "yref": "y"
               },
               {
                "line": {
                 "color": "red",
                 "dash": "dashdot"
                },
                "type": "line",
                "x0": "Station_a",
                "x1": "Station_f",
                "xref": "x",
                "y0": 72.28170073775806,
                "y1": 72.28170073775806,
                "yref": "y"
               },
               {
                "line": {
                 "color": "pink",
                 "dash": "dot"
                },
                "type": "line",
                "x0": "Station_a",
                "x1": "Station_f",
                "xref": "x",
                "y0": 92.4515383525337,
                "y1": 92.4515383525337,
                "yref": "y"
               },
               {
                "line": {
                 "color": "pink",
                 "dash": "dot"
                },
                "type": "line",
                "x0": "Station_a",
                "x1": "Station_f",
                "xref": "x",
                "y0": 79.00497994268326,
                "y1": 79.00497994268326,
                "yref": "y"
               },
               {
                "line": {
                 "color": "gray",
                 "dash": "dashdot"
                },
                "type": "line",
                "x0": "Station_a",
                "x1": "Station_f",
                "xref": "x",
                "y0": 5.055097146560309,
                "y1": 5.055097146560309,
                "yref": "y2"
               },
               {
                "line": {
                 "color": "red",
                 "dash": "dashdot"
                },
                "type": "line",
                "x0": "Station_a",
                "x1": "Station_f",
                "xref": "x",
                "y0": 16.52005747495909,
                "y1": 16.52005747495909,
                "yref": "y2"
               },
               {
                "line": {
                 "color": "pink",
                 "dash": "dot"
                },
                "type": "line",
                "x0": "Station_a",
                "x1": "Station_f",
                "xref": "x",
                "y0": 10.787577310759698,
                "y1": 10.787577310759698,
                "yref": "y2"
               },
               {
                "line": {
                 "color": "gray",
                 "dash": "dashdot"
                },
                "type": "line",
                "x0": "Station_f",
                "x1": "Station_Ä",
                "xref": "x",
                "y0": 86.27229387992706,
                "y1": 86.27229387992706,
                "yref": "y"
               },
               {
                "line": {
                 "color": "red",
                 "dash": "dashdot"
                },
                "type": "line",
                "x0": "Station_f",
                "x1": "Station_Ä",
                "xref": "x",
                "y0": 100.05689451555753,
                "y1": 100.05689451555753,
                "yref": "y"
               },
               {
                "line": {
                 "color": "red",
                 "dash": "dashdot"
                },
                "type": "line",
                "x0": "Station_f",
                "x1": "Station_Ä",
                "xref": "x",
                "y0": 72.4876932442966,
                "y1": 72.4876932442966,
                "yref": "y"
               },
               {
                "line": {
                 "color": "pink",
                 "dash": "dot"
                },
                "type": "line",
                "x0": "Station_f",
                "x1": "Station_Ä",
                "xref": "x",
                "y0": 93.1645941977423,
                "y1": 93.1645941977423,
                "yref": "y"
               },
               {
                "line": {
                 "color": "pink",
                 "dash": "dot"
                },
                "type": "line",
                "x0": "Station_f",
                "x1": "Station_Ä",
                "xref": "x",
                "y0": 79.37999356211182,
                "y1": 79.37999356211182,
                "yref": "y"
               },
               {
                "line": {
                 "color": "gray",
                 "dash": "dashdot"
                },
                "type": "line",
                "x0": "Station_f",
                "x1": "Station_Ä",
                "xref": "x",
                "y0": 5.1821806900866445,
                "y1": 5.1821806900866445,
                "yref": "y2"
               },
               {
                "line": {
                 "color": "red",
                 "dash": "dashdot"
                },
                "type": "line",
                "x0": "Station_f",
                "x1": "Station_Ä",
                "xref": "x",
                "y0": 16.93536649520315,
                "y1": 16.93536649520315,
                "yref": "y2"
               },
               {
                "line": {
                 "color": "pink",
                 "dash": "dot"
                },
                "type": "line",
                "x0": "Station_f",
                "x1": "Station_Ä",
                "xref": "x",
                "y0": 11.058773592644897,
                "y1": 11.058773592644897,
                "yref": "y2"
               }
              ]
             }
            ],
            "label": "Anomalies",
            "method": "update"
           },
           {
            "args": [
             {
              "visible": [
               true,
               true,
               false,
               false
              ]
             },
             {
              "annotations": [
               {
                "font": {
                 "size": 16
                },
                "showarrow": false,
                "text": "quality_score XmR Chart by station",
                "x": 0.5,
                "xanchor": "center",
                "xref": "paper",
                "y": 1.1,
                "yanchor": "top",
                "yref": "paper"
               },
               {
                "font": {
                 "size": 10
                },
                "showarrow": false,
                "text": "<b>mR Upper Limit = 16.520</b>",
                "x": 0.01,
                "xanchor": "left",
                "xref": "paper",
                "y": 17.34606034870704,
                "yanchor": "auto",
                "yref": "y2"
               },
               {
                "font": {
                 "size": 10
                },
                "showarrow": false,
                "text": "<b>quality_score Upper Limit = 99.175</b>",
                "x": 0.01,
                "xanchor": "left",
                "xref": "paper",
                "y": 99.98161106204994,
                "yanchor": "auto",
                "yref": "y"
               },
               {
                "font": {
                 "size": 10
                },
                "showarrow": false,
                "text": "<b>quality_score Lower Limit = 72.282</b>",
                "x": 0.01,
                "xanchor": "left",
                "xref": "paper",
                "y": 71.47490723316703,
                "yanchor": "auto",
                "yref": "y"
               }
              ],
              "shapes": [
               {
                "line": {
                 "color": "gray",
                 "dash": "dashdot"
                },
                "type": "line",
                "x0": "Station_a",
                "x1": "Station_f",
                "xref": "x",
                "y0": 85.72825914760848,
                "y1": 85.72825914760848,
                "yref": "y"
               },
               {
                "line": {
                 "color": "red",
                 "dash": "dashdot"
                },
                "type": "line",
                "x0": "Station_a",
                "x1": "Station_f",
                "xref": "x",
                "y0": 99.17481755745891,
                "y1": 99.17481755745891,
                "yref": "y"
               },
               {
                "line": {
                 "color": "red",
                 "dash": "dashdot"
                },
                "type": "line",
                "x0": "Station_a",
                "x1": "Station_f",
                "xref": "x",
                "y0": 72.28170073775806,
                "y1": 72.28170073775806,
                "yref": "y"
               },
               {
                "line": {
                 "color": "pink",
                 "dash": "dot"
                },
                "type": "line",
                "x0": "Station_a",
                "x1": "Station_f",
                "xref": "x",
                "y0": 92.4515383525337,
                "y1": 92.4515383525337,
                "yref": "y"
               },
               {
                "line": {
                 "color": "pink",
                 "dash": "dot"
                },
                "type": "line",
                "x0": "Station_a",
                "x1": "Station_f",
                "xref": "x",
                "y0": 79.00497994268326,
                "y1": 79.00497994268326,
                "yref": "y"
               },
               {
                "line": {
                 "color": "gray",
                 "dash": "dashdot"
                },
                "type": "line",
                "x0": "Station_a",
                "x1": "Station_f",
                "xref": "x",
                "y0": 5.055097146560309,
                "y1": 5.055097146560309,
                "yref": "y2"
               },
               {
                "line": {
                 "color": "red",
                 "dash": "dashdot"
                },
                "type": "line",
                "x0": "Station_a",
                "x1": "Station_f",
                "xref": "x",
                "y0": 16.52005747495909,
                "y1": 16.52005747495909,
                "yref": "y2"
               },
               {
                "line": {
                 "color": "pink",
                 "dash": "dot"
                },
                "type": "line",
                "x0": "Station_a",
                "x1": "Station_f",
                "xref": "x",
                "y0": 10.787577310759698,
                "y1": 10.787577310759698,
                "yref": "y2"
               },
               {
                "line": {
                 "color": "gray",
                 "dash": "dashdot"
                },
                "type": "line",
                "x0": "Station_f",
                "x1": "Station_Ä",
                "xref": "x",
                "y0": 86.27229387992706,
                "y1": 86.27229387992706,
                "yref": "y"
               },
               {
                "line": {
                 "color": "red",
                 "dash": "dashdot"
                },
                "type": "line",
                "x0": "Station_f",
                "x1": "Station_Ä",
                "xref": "x",
                "y0": 100.05689451555753,
                "y1": 100.05689451555753,
                "yref": "y"
               },
               {
                "line": {
                 "color": "red",
                 "dash": "dashdot"
                },
                "type": "line",
                "x0": "Station_f",
                "x1": "Station_Ä",
                "xref": "x",
                "y0": 72.4876932442966,
                "y1": 72.4876932442966,
                "yref": "y"
               },
               {
                "line": {
                 "color": "pink",
                 "dash": "dot"
                },
                "type": "line",
                "x0": "Station_f",
                "x1": "Station_Ä",
                "xref": "x",
                "y0": 93.1645941977423,
                "y1": 93.1645941977423,
                "yref": "y"
               },
               {
                "line": {
                 "color": "pink",
                 "dash": "dot"
                },
                "type": "line",
                "x0": "Station_f",
                "x1": "Station_Ä",
                "xref": "x",
                "y0": 79.37999356211182,
                "y1": 79.37999356211182,
                "yref": "y"
               },
               {
                "line": {
                 "color": "gray",
                 "dash": "dashdot"
                },
                "type": "line",
                "x0": "Station_f",
                "x1": "Station_Ä",
                "xref": "x",
                "y0": 5.1821806900866445,
                "y1": 5.1821806900866445,
                "yref": "y2"
               },
               {
                "line": {
                 "color": "red",
                 "dash": "dashdot"
                },
                "type": "line",
                "x0": "Station_f",
                "x1": "Station_Ä",
                "xref": "x",
                "y0": 16.93536649520315,
                "y1": 16.93536649520315,
                "yref": "y2"
               },
               {
                "line": {
                 "color": "pink",
                 "dash": "dot"
                },
                "type": "line",
                "x0": "Station_f",
                "x1": "Station_Ä",
                "xref": "x",
                "y0": 11.058773592644897,
                "y1": 11.058773592644897,
                "yref": "y2"
               }
              ]
             }
            ],
            "label": "Long Runs",
            "method": "update"
           },
           {
            "args": [
             {
              "visible": [
               true,
               true,
               false,
               false
              ]
             },
             {
              "annotations": [
               {
                "font": {
                 "size": 16
                },
                "showarrow": false,
                "text": "quality_score XmR Chart by station",
                "x": 0.5,
                "xanchor": "center",
                "xref": "paper",
                "y": 1.1,
                "yanchor": "top",
                "yref": "paper"
               },
               {
                "font": {
                 "size": 10
                },
                "showarrow": false,
                "text": "<b>mR Upper Limit = 16.520</b>",
                "x": 0.01,
                "xanchor": "left",
                "xref": "paper",
                "y": 17.34606034870704,
                "yanchor": "auto",
                "yref": "y2"
               },
               {
                "font": {
                 "size": 10
                },
                "showarrow": false,
                "text": "<b>quality_score Upper Limit = 99.175</b>",
                "x": 0.01,
                "xanchor": "left",
                "xref": "paper",
                "y": 99.98161106204994,
                "yanchor": "auto",
                "yref": "y"
               },
               {
                "font": {
                 "size": 10
                },
                "showarrow": false,
                "text": "<b>quality_score Lower Limit = 72.282</b>",
                "x": 0.01,
                "xanchor": "left",
                "xref": "paper",
                "y": 71.47490723316703,
                "yanchor": "auto",
                "yref": "y"
               }
              ],
              "shapes": [
               {
                "line": {
                 "color": "gray",
                 "dash": "dashdot"
                },
                "type": "line",
                "x0": "Station_a",
                "x1": "Station_f",
                "xref": "x",
                "y0": 85.72825914760848,
                "y1": 85.72825914760848,
                "yref": "y"
               },
               {
                "line": {
                 "color": "red",
                 "dash": "dashdot"
                },
                "type": "line",
                "x0": "Station_a",
                "x1": "Station_f",
                "xref": "x",
                "y0": 99.17481755745891,
                "y1": 99.17481755745891,
                "yref": "y"
               },
               {
                "line": {
                 "color": "red",
                 "dash": "dashdot"
                },
                "type": "line",
                "x0": "Station_a",
                "x1": "Station_f",
                "xref": "x",
                "y0": 72.28170073775806,
                "y1": 72.28170073775806,
                "yref": "y"
               },
               {
                "line": {
                 "color": "pink",
                 "dash": "dot"
                },
                "type": "line",
                "x0": "Station_a",
                "x1": "Station_f",
                "xref": "x",
                "y0": 92.4515383525337,
                "y1": 92.4515383525337,
                "yref": "y"
               },
               {
                "line": {
                 "color": "pink",
                 "dash": "dot"
                },
                "type": "line",
                "x0": "Station_a",
                "x1": "Station_f",
                "xref": "x",
                "y0": 79.00497994268326,
                "y1": 79.00497994268326,
                "yref": "y"
               },
               {
                "line": {
                 "color": "gray",
                 "dash": "dashdot"
                },
                "type": "line",
                "x0": "Station_a",
                "x1": "Station_f",
                "xref": "x",
                "y0": 5.055097146560309,
                "y1": 5.055097146560309,
                "yref": "y2"
               },
               {
                "line": {
                 "color": "red",
                 "dash": "dashdot"
                },
                "type": "line",
                "x0": "Station_a",
                "x1": "Station_f",
                "xref": "x",
                "y0": 16.52005747495909,
                "y1": 16.52005747495909,
                "yref": "y2"
               },
               {
                "line": {
                 "color": "pink",
                 "dash": "dot"
                },
                "type": "line",
                "x0": "Station_a",
                "x1": "Station_f",
                "xref": "x",
                "y0": 10.787577310759698,
                "y1": 10.787577310759698,
                "yref": "y2"
               },
               {
                "line": {
                 "color": "gray",
                 "dash": "dashdot"
                },
                "type": "line",
                "x0": "Station_f",
                "x1": "Station_Ä",
                "xref": "x",
                "y0": 86.27229387992706,
                "y1": 86.27229387992706,
                "yref": "y"
               },
               {
                "line": {
                 "color": "red",
                 "dash": "dashdot"
                },
                "type": "line",
                "x0": "Station_f",
                "x1": "Station_Ä",
                "xref": "x",
                "y0": 100.05689451555753,
                "y1": 100.05689451555753,
                "yref": "y"
               },
               {
                "line": {
                 "color": "red",
                 "dash": "dashdot"
                },
                "type": "line",
                "x0": "Station_f",
                "x1": "Station_Ä",
                "xref": "x",
                "y0": 72.4876932442966,
                "y1": 72.4876932442966,
                "yref": "y"
               },
               {
                "line": {
                 "color": "pink",
                 "dash": "dot"
                },
                "type": "line",
                "x0": "Station_f",
                "x1": "Station_Ä",
                "xref": "x",
                "y0": 93.1645941977423,
                "y1": 93.1645941977423,
                "yref": "y"
               },
               {
                "line": {
                 "color": "pink",
                 "dash": "dot"
                },
                "type": "line",
                "x0": "Station_f",
                "x1": "Station_Ä",
                "xref": "x",
                "y0": 79.37999356211182,
                "y1": 79.37999356211182,
                "yref": "y"
               },
               {
                "line": {
                 "color": "gray",
                 "dash": "dashdot"
                },
                "type": "line",
                "x0": "Station_f",
                "x1": "Station_Ä",
                "xref": "x",
                "y0": 5.1821806900866445,
                "y1": 5.1821806900866445,
                "yref": "y2"
               },
               {
                "line": {
                 "color": "red",
                 "dash": "dashdot"
                },
                "type": "line",
                "x0": "Station_f",
                "x1": "Station_Ä",
                "xref": "x",
                "y0": 16.93536649520315,
                "y1": 16.93536649520315,
                "yref": "y2"
               },
               {
                "line": {
                 "color": "pink",
                 "dash": "dot"
                },
                "type": "line",
                "x0": "Station_f",
                "x1": "Station_Ä",
                "xref": "x",
                "y0": 11.058773592644897,
                "y1": 11.058773592644897,
                "yref": "y2"
               },
               {
                "fillcolor": "purple",
                "line": {
                 "color": "blue",
                 "dash": "longdashdot",
                 "width": 2
                },
                "name": "Short Run",
                "opacity": 0.2,
                "path": "M Station_§ 79.43466759905657 L Station_¨ 83.9225353723047 L Station_© 80.84010008442038 L Station_ª 80.03394414924264 L Station_ª 76.03394414924264 L Station_© 76.84010008442038 L Station_¨ 79.9225353723047 L Station_§ 75.43466759905657 Z",
                "type": "path"
               }
              ]
             }
            ],
            "label": "Short Runs",
            "method": "update"
           },
           {
            "args": [
             {
              "visible": [
               true,
               true,
               true,
               true
              ]
             },
             {
              "annotations": [
               {
                "font": {
                 "size": 16
                },
                "showarrow": false,
                "text": "quality_score XmR Chart by station",
                "x": 0.5,
                "xanchor": "center",
                "xref": "paper",
                "y": 1.1,
                "yanchor": "top",
                "yref": "paper"
               },
               {
                "font": {
                 "size": 10
                },
                "showarrow": false,
                "text": "<b>mR Upper Limit = 16.520</b>",
                "x": 0.01,
                "xanchor": "left",
                "xref": "paper",
                "y": 17.34606034870704,
                "yanchor": "auto",
                "yref": "y2"
               },
               {
                "font": {
                 "size": 10
                },
                "showarrow": false,
                "text": "<b>quality_score Upper Limit = 99.175</b>",
                "x": 0.01,
                "xanchor": "left",
                "xref": "paper",
                "y": 99.98161106204994,
                "yanchor": "auto",
                "yref": "y"
               },
               {
                "font": {
                 "size": 10
                },
                "showarrow": false,
                "text": "<b>quality_score Lower Limit = 72.282</b>",
                "x": 0.01,
                "xanchor": "left",
                "xref": "paper",
                "y": 71.47490723316703,
                "yanchor": "auto",
                "yref": "y"
               }
              ],
              "shapes": [
               {
                "line": {
                 "color": "gray",
                 "dash": "dashdot"
                },
                "type": "line",
                "x0": "Station_a",
                "x1": "Station_f",
                "xref": "x",
                "y0": 85.72825914760848,
                "y1": 85.72825914760848,
                "yref": "y"
               },
               {
                "line": {
                 "color": "red",
                 "dash": "dashdot"
                },
                "type": "line",
                "x0": "Station_a",
                "x1": "Station_f",
                "xref": "x",
                "y0": 99.17481755745891,
                "y1": 99.17481755745891,
                "yref": "y"
               },
               {
                "line": {
                 "color": "red",
                 "dash": "dashdot"
                },
                "type": "line",
                "x0": "Station_a",
                "x1": "Station_f",
                "xref": "x",
                "y0": 72.28170073775806,
                "y1": 72.28170073775806,
                "yref": "y"
               },
               {
                "line": {
                 "color": "pink",
                 "dash": "dot"
                },
                "type": "line",
                "x0": "Station_a",
                "x1": "Station_f",
                "xref": "x",
                "y0": 92.4515383525337,
                "y1": 92.4515383525337,
                "yref": "y"
               },
               {
                "line": {
                 "color": "pink",
                 "dash": "dot"
                },
                "type": "line",
                "x0": "Station_a",
                "x1": "Station_f",
                "xref": "x",
                "y0": 79.00497994268326,
                "y1": 79.00497994268326,
                "yref": "y"
               },
               {
                "line": {
                 "color": "gray",
                 "dash": "dashdot"
                },
                "type": "line",
                "x0": "Station_a",
                "x1": "Station_f",
                "xref": "x",
                "y0": 5.055097146560309,
                "y1": 5.055097146560309,
                "yref": "y2"
               },
               {
                "line": {
                 "color": "red",
                 "dash": "dashdot"
                },
                "type": "line",
                "x0": "Station_a",
                "x1": "Station_f",
                "xref": "x",
                "y0": 16.52005747495909,
                "y1": 16.52005747495909,
                "yref": "y2"
               },
               {
                "line": {
                 "color": "pink",
                 "dash": "dot"
                },
                "type": "line",
                "x0": "Station_a",
                "x1": "Station_f",
                "xref": "x",
                "y0": 10.787577310759698,
                "y1": 10.787577310759698,
                "yref": "y2"
               },
               {
                "line": {
                 "color": "gray",
                 "dash": "dashdot"
                },
                "type": "line",
                "x0": "Station_f",
                "x1": "Station_Ä",
                "xref": "x",
                "y0": 86.27229387992706,
                "y1": 86.27229387992706,
                "yref": "y"
               },
               {
                "line": {
                 "color": "red",
                 "dash": "dashdot"
                },
                "type": "line",
                "x0": "Station_f",
                "x1": "Station_Ä",
                "xref": "x",
                "y0": 100.05689451555753,
                "y1": 100.05689451555753,
                "yref": "y"
               },
               {
                "line": {
                 "color": "red",
                 "dash": "dashdot"
                },
                "type": "line",
                "x0": "Station_f",
                "x1": "Station_Ä",
                "xref": "x",
                "y0": 72.4876932442966,
                "y1": 72.4876932442966,
                "yref": "y"
               },
               {
                "line": {
                 "color": "pink",
                 "dash": "dot"
                },
                "type": "line",
                "x0": "Station_f",
                "x1": "Station_Ä",
                "xref": "x",
                "y0": 93.1645941977423,
                "y1": 93.1645941977423,
                "yref": "y"
               },
               {
                "line": {
                 "color": "pink",
                 "dash": "dot"
                },
                "type": "line",
                "x0": "Station_f",
                "x1": "Station_Ä",
                "xref": "x",
                "y0": 79.37999356211182,
                "y1": 79.37999356211182,
                "yref": "y"
               },
               {
                "line": {
                 "color": "gray",
                 "dash": "dashdot"
                },
                "type": "line",
                "x0": "Station_f",
                "x1": "Station_Ä",
                "xref": "x",
                "y0": 5.1821806900866445,
                "y1": 5.1821806900866445,
                "yref": "y2"
               },
               {
                "line": {
                 "color": "red",
                 "dash": "dashdot"
                },
                "type": "line",
                "x0": "Station_f",
                "x1": "Station_Ä",
                "xref": "x",
                "y0": 16.93536649520315,
                "y1": 16.93536649520315,
                "yref": "y2"
               },
               {
                "line": {
                 "color": "pink",
                 "dash": "dot"
                },
                "type": "line",
                "x0": "Station_f",
                "x1": "Station_Ä",
                "xref": "x",
                "y0": 11.058773592644897,
                "y1": 11.058773592644897,
                "yref": "y2"
               },
               {
                "fillcolor": "purple",
                "line": {
                 "color": "blue",
                 "dash": "longdashdot",
                 "width": 2
                },
                "name": "Short Run",
                "opacity": 0.2,
                "path": "M Station_§ 79.43466759905657 L Station_¨ 83.9225353723047 L Station_© 80.84010008442038 L Station_ª 80.03394414924264 L Station_ª 76.03394414924264 L Station_© 76.84010008442038 L Station_¨ 79.9225353723047 L Station_§ 75.43466759905657 Z",
                "type": "path"
               }
              ]
             }
            ],
            "label": "All",
            "method": "update"
           }
          ],
          "direction": "right",
          "type": "buttons",
          "x": 0.5,
          "xanchor": "center",
          "y": 1.2
         }
        ],
        "xaxis": {
         "anchor": "y",
         "automargin": true,
         "domain": [
          0,
          1
         ],
         "gridcolor": "lightgray",
         "showgrid": true,
         "showline": true,
         "showspikes": true,
         "showticklabels": true,
         "spikemode": "across+toaxis",
         "spikesnap": "cursor",
         "tickangle": 45,
         "tickformat": "%b\n%Y",
         "ticklabelmode": "period",
         "type": "category",
         "zeroline": false
        },
        "xaxis2": {
         "anchor": "y2",
         "domain": [
          0,
          1
         ],
         "matches": "x"
        },
        "yaxis": {
         "anchor": "x",
         "domain": [
          0.4,
          1
         ],
         "dtick": 2,
         "range": [
          64,
          104
         ],
         "tickformat": "0",
         "title": {
          "text": "quality_score"
         }
        },
        "yaxis2": {
         "anchor": "x2",
         "domain": [
          0,
          0.3
         ],
         "dtick": 3,
         "range": [
          0,
          39
         ],
         "tickformat": "0",
         "title": {
          "text": "Moving Range"
         }
        }
       }
      }
     },
     "metadata": {},
     "output_type": "display_data"
    }
   ],
   "source": [
    "# Categorical example\n",
    "categories = ['Station_' + chr(ord('a') + i) for i in range(100)]\n",
    "categorical_data = pd.DataFrame({\n",
    "    'station': categories,\n",
    "    'quality_score': np.random.normal(85, 5, 100)\n",
    "}).sort_values('station')\n",
    "\n",
    "xmr_categorical = xmr.XmR(\n",
    "    data=categorical_data,\n",
    "    x_ser_name='station',\n",
    "    y_ser_name='quality_score',\n",
    "    x_type='categorical',\n",
    "    period_breaks = [\"Station_f\"],\n",
    "    period_end = [\"Station_z\"]\n",
    "    \n",
    ")\n",
    "\n",
    "xmr_categorical.xmr_chart"
   ]
  },
  {
   "cell_type": "code",
   "execution_count": 33,
   "metadata": {},
   "outputs": [
    {
     "data": {
      "text/html": [
       "<div>\n",
       "<style scoped>\n",
       "    .dataframe tbody tr th:only-of-type {\n",
       "        vertical-align: middle;\n",
       "    }\n",
       "\n",
       "    .dataframe tbody tr th {\n",
       "        vertical-align: top;\n",
       "    }\n",
       "\n",
       "    .dataframe thead th {\n",
       "        text-align: right;\n",
       "    }\n",
       "</style>\n",
       "<table border=\"1\" class=\"dataframe\">\n",
       "  <thead>\n",
       "    <tr style=\"text-align: right;\">\n",
       "      <th></th>\n",
       "      <th>date</th>\n",
       "      <th>vehicle_counts</th>\n",
       "      <th>numeric_values</th>\n",
       "    </tr>\n",
       "  </thead>\n",
       "  <tbody>\n",
       "    <tr>\n",
       "      <th>0</th>\n",
       "      <td>2024-01-01</td>\n",
       "      <td>1100</td>\n",
       "      <td>1</td>\n",
       "    </tr>\n",
       "    <tr>\n",
       "      <th>1</th>\n",
       "      <td>2024-01-02</td>\n",
       "      <td>1101</td>\n",
       "      <td>2</td>\n",
       "    </tr>\n",
       "    <tr>\n",
       "      <th>2</th>\n",
       "      <td>2024-01-03</td>\n",
       "      <td>1103</td>\n",
       "      <td>3</td>\n",
       "    </tr>\n",
       "    <tr>\n",
       "      <th>3</th>\n",
       "      <td>2024-01-04</td>\n",
       "      <td>1104</td>\n",
       "      <td>4</td>\n",
       "    </tr>\n",
       "    <tr>\n",
       "      <th>4</th>\n",
       "      <td>2024-01-05</td>\n",
       "      <td>1106</td>\n",
       "      <td>5</td>\n",
       "    </tr>\n",
       "  </tbody>\n",
       "</table>\n",
       "</div>"
      ],
      "text/plain": [
       "        date  vehicle_counts  numeric_values\n",
       "0 2024-01-01            1100               1\n",
       "1 2024-01-02            1101               2\n",
       "2 2024-01-03            1103               3\n",
       "3 2024-01-04            1104               4\n",
       "4 2024-01-05            1106               5"
      ]
     },
     "execution_count": 33,
     "metadata": {},
     "output_type": "execute_result"
    }
   ],
   "source": [
    "import numpy as np\n",
    "import pandas as pd\n",
    "from datetime import datetime, timedelta\n",
    "\n",
    "# Generate 100 days of data\n",
    "start_date = datetime(2024, 1, 1)\n",
    "dates = [start_date + timedelta(days=x) for x in range(100)]\n",
    "\n",
    "# Generate vehicle counts with controlled patterns\n",
    "base_counts = 1000\n",
    "trend = np.linspace(0, 150, 100)  # Gradual increase over time\n",
    "\n",
    "# Create long runs\n",
    "long_run_length = 20\n",
    "long_run_value = 1100  # Value for long runs\n",
    "short_run_value = 1050  # Value for short runs\n",
    "\n",
    "# Initialize vehicle counts with the base level\n",
    "vehicle_counts = np.full(100, base_counts)\n",
    "\n",
    "# Introduce long runs\n",
    "for i in range(0, 100, long_run_length):\n",
    "    if i + long_run_length <= 100:\n",
    "        vehicle_counts[i:i + long_run_length] = long_run_value + trend[i:i + long_run_length]\n",
    "\n",
    "# Introduce short runs\n",
    "short_run_indices = [10, 40, 70]  # Starting points for short runs\n",
    "for idx in short_run_indices:\n",
    "    if idx + 5 <= 100:  # Ensure we don't go out of bounds\n",
    "        vehicle_counts[idx:idx + 5] = short_run_value + trend[idx:idx + 5]\n",
    "\n",
    "# Add some anomalies\n",
    "vehicle_counts[25] += 300  # Special event\n",
    "vehicle_counts[50:55] += 200  # Construction period\n",
    "vehicle_counts[80] -= 400  # Road closure\n",
    "\n",
    "# Create DataFrame with an additional column for numeric values from 1 to 100\n",
    "data_controlled = pd.DataFrame({\n",
    "    'date': dates,\n",
    "    'vehicle_counts': vehicle_counts.astype(int),\n",
    "    'numeric_values': range(1, 101)  # New column with numeric values from 1 to 100\n",
    "})\n",
    "\n",
    "# Display first few rows\n",
    "data_controlled.head()"
   ]
  },
  {
   "cell_type": "code",
   "execution_count": 45,
   "metadata": {},
   "outputs": [],
   "source": [
    "# data_controlled[['date', 'vehicle_counts']].to_clipboard()"
   ]
  },
  {
   "cell_type": "code",
   "execution_count": 42,
   "metadata": {},
   "outputs": [
    {
     "data": {
      "application/vnd.plotly.v1+json": {
       "config": {
        "plotlyServerURL": "https://plot.ly"
       },
       "data": [
        {
         "customdata": {
          "bdata": "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",
          "dtype": "f8",
          "shape": "100, 5"
         },
         "hovertemplate": "<b>Date:</b> %{x|%Y-%m-%d}<br><b>Value:</b> %{y:,.2f}<br><b>Mean:</b> %{customdata[0]:,.2f}<br><b>Is Anomaly:</b> %{customdata[2]}<br><b>Is Short Run:</b> %{customdata[3]}<br><b>Is Long Run:</b> %{customdata[4]}<br><extra></extra>",
         "line": {
          "color": "black",
          "width": 1
         },
         "marker": {
          "color": "black",
          "size": 6
         },
         "mode": "lines+markers",
         "name": "vehicle_counts",
         "type": "scatter",
         "x": [
          "2024-01-01T00:00:00.000000000",
          "2024-01-02T00:00:00.000000000",
          "2024-01-03T00:00:00.000000000",
          "2024-01-04T00:00:00.000000000",
          "2024-01-05T00:00:00.000000000",
          "2024-01-06T00:00:00.000000000",
          "2024-01-07T00:00:00.000000000",
          "2024-01-08T00:00:00.000000000",
          "2024-01-09T00:00:00.000000000",
          "2024-01-10T00:00:00.000000000",
          "2024-01-11T00:00:00.000000000",
          "2024-01-12T00:00:00.000000000",
          "2024-01-13T00:00:00.000000000",
          "2024-01-14T00:00:00.000000000",
          "2024-01-15T00:00:00.000000000",
          "2024-01-16T00:00:00.000000000",
          "2024-01-17T00:00:00.000000000",
          "2024-01-18T00:00:00.000000000",
          "2024-01-19T00:00:00.000000000",
          "2024-01-20T00:00:00.000000000",
          "2024-01-21T00:00:00.000000000",
          "2024-01-22T00:00:00.000000000",
          "2024-01-23T00:00:00.000000000",
          "2024-01-24T00:00:00.000000000",
          "2024-01-25T00:00:00.000000000",
          "2024-01-26T00:00:00.000000000",
          "2024-01-27T00:00:00.000000000",
          "2024-01-28T00:00:00.000000000",
          "2024-01-29T00:00:00.000000000",
          "2024-01-30T00:00:00.000000000",
          "2024-01-31T00:00:00.000000000",
          "2024-02-01T00:00:00.000000000",
          "2024-02-02T00:00:00.000000000",
          "2024-02-03T00:00:00.000000000",
          "2024-02-04T00:00:00.000000000",
          "2024-02-05T00:00:00.000000000",
          "2024-02-06T00:00:00.000000000",
          "2024-02-07T00:00:00.000000000",
          "2024-02-08T00:00:00.000000000",
          "2024-02-09T00:00:00.000000000",
          "2024-02-10T00:00:00.000000000",
          "2024-02-11T00:00:00.000000000",
          "2024-02-12T00:00:00.000000000",
          "2024-02-13T00:00:00.000000000",
          "2024-02-14T00:00:00.000000000",
          "2024-02-15T00:00:00.000000000",
          "2024-02-16T00:00:00.000000000",
          "2024-02-17T00:00:00.000000000",
          "2024-02-18T00:00:00.000000000",
          "2024-02-19T00:00:00.000000000",
          "2024-02-20T00:00:00.000000000",
          "2024-02-21T00:00:00.000000000",
          "2024-02-22T00:00:00.000000000",
          "2024-02-23T00:00:00.000000000",
          "2024-02-24T00:00:00.000000000",
          "2024-02-25T00:00:00.000000000",
          "2024-02-26T00:00:00.000000000",
          "2024-02-27T00:00:00.000000000",
          "2024-02-28T00:00:00.000000000",
          "2024-02-29T00:00:00.000000000",
          "2024-03-01T00:00:00.000000000",
          "2024-03-02T00:00:00.000000000",
          "2024-03-03T00:00:00.000000000",
          "2024-03-04T00:00:00.000000000",
          "2024-03-05T00:00:00.000000000",
          "2024-03-06T00:00:00.000000000",
          "2024-03-07T00:00:00.000000000",
          "2024-03-08T00:00:00.000000000",
          "2024-03-09T00:00:00.000000000",
          "2024-03-10T00:00:00.000000000",
          "2024-03-11T00:00:00.000000000",
          "2024-03-12T00:00:00.000000000",
          "2024-03-13T00:00:00.000000000",
          "2024-03-14T00:00:00.000000000",
          "2024-03-15T00:00:00.000000000",
          "2024-03-16T00:00:00.000000000",
          "2024-03-17T00:00:00.000000000",
          "2024-03-18T00:00:00.000000000",
          "2024-03-19T00:00:00.000000000",
          "2024-03-20T00:00:00.000000000",
          "2024-03-21T00:00:00.000000000",
          "2024-03-22T00:00:00.000000000",
          "2024-03-23T00:00:00.000000000",
          "2024-03-24T00:00:00.000000000",
          "2024-03-25T00:00:00.000000000",
          "2024-03-26T00:00:00.000000000",
          "2024-03-27T00:00:00.000000000",
          "2024-03-28T00:00:00.000000000",
          "2024-03-29T00:00:00.000000000",
          "2024-03-30T00:00:00.000000000",
          "2024-03-31T00:00:00.000000000",
          "2024-04-01T00:00:00.000000000",
          "2024-04-02T00:00:00.000000000",
          "2024-04-03T00:00:00.000000000",
          "2024-04-04T00:00:00.000000000",
          "2024-04-05T00:00:00.000000000",
          "2024-04-06T00:00:00.000000000",
          "2024-04-07T00:00:00.000000000",
          "2024-04-08T00:00:00.000000000",
          "2024-04-09T00:00:00.000000000"
         ],
         "xaxis": "x",
         "y": {
          "bdata": "TARNBE8EUARSBFMEVQRWBFgEWQQpBCoELAQtBC8EYgRkBGUEZwRoBGoEawRtBG4EcASdBXMEdAR2BHcEeQR6BHwEfgR/BIEEggSEBIUEhwRWBFgEWQRbBFwEkASRBJMElASWBF8FYQViBWQFZQWfBKAEogSjBKUEpgSoBKkEqwSsBK4EsASxBLMEtASEBIUEhwSIBIoEvQS/BMAEwgTDBDUDxgTIBMkEywTMBM4EzwTRBNIE1ATVBNcE2ATaBNsE3QTeBOAE4gQ=",
          "dtype": "i2"
         },
         "yaxis": "y"
        },
        {
         "customdata": {
          "bdata": "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",
          "dtype": "f8",
          "shape": "100, 5"
         },
         "hovertemplate": "<b>Date:</b> %{x|%Y-%m-%d}<br><b>Range:</b> %{y:,.2f}<br><b>Mean:</b> %{customdata[0]:,.2f}<br><b>Is Anomaly:</b> %{customdata[2]}<br><b>Is Short Run:</b> %{customdata[3]}<br><b>Is Long Run:</b> %{customdata[4]}<br><extra></extra>",
         "line": {
          "color": "black",
          "width": 1
         },
         "marker": {
          "color": "black",
          "size": 6
         },
         "mode": "lines+markers",
         "name": "Moving Range",
         "type": "scatter",
         "x": [
          "2024-01-01T00:00:00.000000000",
          "2024-01-02T00:00:00.000000000",
          "2024-01-03T00:00:00.000000000",
          "2024-01-04T00:00:00.000000000",
          "2024-01-05T00:00:00.000000000",
          "2024-01-06T00:00:00.000000000",
          "2024-01-07T00:00:00.000000000",
          "2024-01-08T00:00:00.000000000",
          "2024-01-09T00:00:00.000000000",
          "2024-01-10T00:00:00.000000000",
          "2024-01-11T00:00:00.000000000",
          "2024-01-12T00:00:00.000000000",
          "2024-01-13T00:00:00.000000000",
          "2024-01-14T00:00:00.000000000",
          "2024-01-15T00:00:00.000000000",
          "2024-01-16T00:00:00.000000000",
          "2024-01-17T00:00:00.000000000",
          "2024-01-18T00:00:00.000000000",
          "2024-01-19T00:00:00.000000000",
          "2024-01-20T00:00:00.000000000",
          "2024-01-21T00:00:00.000000000",
          "2024-01-22T00:00:00.000000000",
          "2024-01-23T00:00:00.000000000",
          "2024-01-24T00:00:00.000000000",
          "2024-01-25T00:00:00.000000000",
          "2024-01-26T00:00:00.000000000",
          "2024-01-27T00:00:00.000000000",
          "2024-01-28T00:00:00.000000000",
          "2024-01-29T00:00:00.000000000",
          "2024-01-30T00:00:00.000000000",
          "2024-01-31T00:00:00.000000000",
          "2024-02-01T00:00:00.000000000",
          "2024-02-02T00:00:00.000000000",
          "2024-02-03T00:00:00.000000000",
          "2024-02-04T00:00:00.000000000",
          "2024-02-05T00:00:00.000000000",
          "2024-02-06T00:00:00.000000000",
          "2024-02-07T00:00:00.000000000",
          "2024-02-08T00:00:00.000000000",
          "2024-02-09T00:00:00.000000000",
          "2024-02-10T00:00:00.000000000",
          "2024-02-11T00:00:00.000000000",
          "2024-02-12T00:00:00.000000000",
          "2024-02-13T00:00:00.000000000",
          "2024-02-14T00:00:00.000000000",
          "2024-02-15T00:00:00.000000000",
          "2024-02-16T00:00:00.000000000",
          "2024-02-17T00:00:00.000000000",
          "2024-02-18T00:00:00.000000000",
          "2024-02-19T00:00:00.000000000",
          "2024-02-20T00:00:00.000000000",
          "2024-02-21T00:00:00.000000000",
          "2024-02-22T00:00:00.000000000",
          "2024-02-23T00:00:00.000000000",
          "2024-02-24T00:00:00.000000000",
          "2024-02-25T00:00:00.000000000",
          "2024-02-26T00:00:00.000000000",
          "2024-02-27T00:00:00.000000000",
          "2024-02-28T00:00:00.000000000",
          "2024-02-29T00:00:00.000000000",
          "2024-03-01T00:00:00.000000000",
          "2024-03-02T00:00:00.000000000",
          "2024-03-03T00:00:00.000000000",
          "2024-03-04T00:00:00.000000000",
          "2024-03-05T00:00:00.000000000",
          "2024-03-06T00:00:00.000000000",
          "2024-03-07T00:00:00.000000000",
          "2024-03-08T00:00:00.000000000",
          "2024-03-09T00:00:00.000000000",
          "2024-03-10T00:00:00.000000000",
          "2024-03-11T00:00:00.000000000",
          "2024-03-12T00:00:00.000000000",
          "2024-03-13T00:00:00.000000000",
          "2024-03-14T00:00:00.000000000",
          "2024-03-15T00:00:00.000000000",
          "2024-03-16T00:00:00.000000000",
          "2024-03-17T00:00:00.000000000",
          "2024-03-18T00:00:00.000000000",
          "2024-03-19T00:00:00.000000000",
          "2024-03-20T00:00:00.000000000",
          "2024-03-21T00:00:00.000000000",
          "2024-03-22T00:00:00.000000000",
          "2024-03-23T00:00:00.000000000",
          "2024-03-24T00:00:00.000000000",
          "2024-03-25T00:00:00.000000000",
          "2024-03-26T00:00:00.000000000",
          "2024-03-27T00:00:00.000000000",
          "2024-03-28T00:00:00.000000000",
          "2024-03-29T00:00:00.000000000",
          "2024-03-30T00:00:00.000000000",
          "2024-03-31T00:00:00.000000000",
          "2024-04-01T00:00:00.000000000",
          "2024-04-02T00:00:00.000000000",
          "2024-04-03T00:00:00.000000000",
          "2024-04-04T00:00:00.000000000",
          "2024-04-05T00:00:00.000000000",
          "2024-04-06T00:00:00.000000000",
          "2024-04-07T00:00:00.000000000",
          "2024-04-08T00:00:00.000000000",
          "2024-04-09T00:00:00.000000000"
         ],
         "xaxis": "x2",
         "y": {
          "bdata": "AAAAAAAA+H8AAAAAAADwPwAAAAAAAABAAAAAAAAA8D8AAAAAAAAAQAAAAAAAAPA/AAAAAAAAAEAAAAAAAADwPwAAAAAAAABAAAAAAAAA8D8AAAAAAABIQAAAAAAAAPA/AAAAAAAAAEAAAAAAAADwPwAAAAAAAABAAAAAAACASUAAAAAAAAAAQAAAAAAAAPA/AAAAAAAAAEAAAAAAAADwPwAAAAAAAABAAAAAAAAA+H8AAAAAAADwPwAAAAAAAABAAAAAAAAA8D8AAAAAAAAAQAAAAAAA0HJAAAAAAACgckAAAAAAAADwPwAAAAAAAABAAAAAAAAA8D8AAAAAAAAAQAAAAAAAAPA/AAAAAAAAAEAAAAAAAAAAQAAAAAAAAPA/AAAAAAAAAEAAAAAAAADwPwAAAAAAAABAAAAAAAAA8D8AAAAAAAAAQAAAAAAAgEhAAAAAAAAAAEAAAAAAAADwPwAAAAAAAABAAAAAAAAA8D8AAAAAAABKQAAAAAAAAPA/AAAAAAAAAEAAAAAAAADwPwAAAAAAAABAAAAAAAAgaUAAAAAAAAAAQAAAAAAAAPA/AAAAAAAAAEAAAAAAAADwPwAAAAAAwGhAAAAAAAAA8D8AAAAAAAAAQAAAAAAAAPA/AAAAAAAAAEAAAAAAAADwPwAAAAAAAPh/AAAAAAAAAEAAAAAAAADwPwAAAAAAAABAAAAAAAAA8D8AAAAAAAAAQAAAAAAAAABAAAAAAAAA8D8AAAAAAAAAQAAAAAAAAPA/AAAAAAAASEAAAAAAAADwPwAAAAAAAABAAAAAAAAA8D8AAAAAAAAAQAAAAAAAgElAAAAAAAAAAEAAAAAAAADwPwAAAAAAAABAAAAAAAAA8D8AAAAAAOB4QAAAAAAAEHlAAAAAAAAAAEAAAAAAAADwPwAAAAAAAABAAAAAAAAA8D8AAAAAAAAAQAAAAAAAAPA/AAAAAAAAAEAAAAAAAADwPwAAAAAAAABAAAAAAAAA8D8AAAAAAAAAQAAAAAAAAPA/AAAAAAAAAEAAAAAAAADwPwAAAAAAAABAAAAAAAAA8D8=",
          "dtype": "f8"
         },
         "yaxis": "y2"
        },
        {
         "marker": {
          "color": "red",
          "size": 8,
          "symbol": "cross"
         },
         "mode": "markers",
         "texttemplate": "%{y}",
         "type": "scatter",
         "visible": false,
         "x": [
          1704931200000000000,
          1705017600000000000,
          1705104000000000000,
          1705190400000000000,
          1705276800000000000,
          1705363200000000000,
          1705449600000000000,
          1705536000000000000,
          1705622400000000000,
          1705708800000000000,
          1706227200000000000,
          1708387200000000000,
          1708473600000000000,
          1708560000000000000,
          1708646400000000000,
          1708732800000000000,
          1710979200000000000
         ],
         "xaxis": "x",
         "y": [
          1065,
          1066,
          1068,
          1069,
          1071,
          1122,
          1124,
          1125,
          1127,
          1128,
          1437,
          1375,
          1377,
          1378,
          1380,
          1381,
          821
         ],
         "yaxis": "y"
        },
        {
         "marker": {
          "color": "red",
          "size": 8,
          "symbol": "cross"
         },
         "mode": "markers",
         "type": "scatter",
         "visible": false,
         "x": [
          1704931200000000000,
          1705363200000000000,
          1706313600000000000,
          1706400000000000000,
          1708473600000000000,
          1708905600000000000,
          1711152000000000000,
          1711238400000000000
         ],
         "xaxis": "x2",
         "y": [
          48,
          51,
          301,
          298,
          201,
          198,
          398,
          401
         ],
         "yaxis": "y2"
        }
       ],
       "layout": {
        "annotations": [
         {
          "font": {
           "size": 16
          },
          "showarrow": false,
          "text": "Daily Vehicle Counts - XmR Chart",
          "x": 0.5,
          "xanchor": "center",
          "xref": "paper",
          "y": 1.1,
          "yanchor": "top",
          "yref": "paper"
         },
         {
          "font": {
           "size": 10
          },
          "showarrow": false,
          "text": "<b>mR Upper Limit = 20.588</b>",
          "x": 0.01,
          "xanchor": "left",
          "xref": "paper",
          "y": 21.617819999999995,
          "yanchor": "auto",
          "yref": "y2"
         },
         {
          "font": {
           "size": 10
          },
          "showarrow": false,
          "text": "<b>vehicle_counts Upper Limit = 1119.615</b>",
          "x": 0.01,
          "xanchor": "left",
          "xref": "paper",
          "y": 1120.620622857143,
          "yanchor": "auto",
          "yref": "y"
         },
         {
          "font": {
           "size": 10
          },
          "showarrow": false,
          "text": "<b>vehicle_counts Lower Limit = 1086.099</b>",
          "x": 0.01,
          "xanchor": "left",
          "xref": "paper",
          "y": 1085.0936628571428,
          "yanchor": "auto",
          "yref": "y"
         }
        ],
        "font": {
         "size": 10
        },
        "height": 600,
        "hovermode": "x",
        "plot_bgcolor": "white",
        "shapes": [
         {
          "line": {
           "color": "gray",
           "dash": "dashdot"
          },
          "type": "line",
          "x0": "2024-01-01T00:00:00",
          "x1": "2024-01-21T00:00:00",
          "xref": "x",
          "y0": 1102.857142857143,
          "y1": 1102.857142857143,
          "yref": "y"
         },
         {
          "line": {
           "color": "red",
           "dash": "dashdot"
          },
          "type": "line",
          "x0": "2024-01-01T00:00:00",
          "x1": "2024-01-21T00:00:00",
          "xref": "x",
          "y0": 1119.615142857143,
          "y1": 1119.615142857143,
          "yref": "y"
         },
         {
          "line": {
           "color": "red",
           "dash": "dashdot"
          },
          "type": "line",
          "x0": "2024-01-01T00:00:00",
          "x1": "2024-01-21T00:00:00",
          "xref": "x",
          "y0": 1086.0991428571429,
          "y1": 1086.0991428571429,
          "yref": "y"
         },
         {
          "line": {
           "color": "pink",
           "dash": "dot"
          },
          "type": "line",
          "x0": "2024-01-01T00:00:00",
          "x1": "2024-01-21T00:00:00",
          "xref": "x",
          "y0": 1111.236142857143,
          "y1": 1111.236142857143,
          "yref": "y"
         },
         {
          "line": {
           "color": "pink",
           "dash": "dot"
          },
          "type": "line",
          "x0": "2024-01-01T00:00:00",
          "x1": "2024-01-21T00:00:00",
          "xref": "x",
          "y0": 1094.4781428571428,
          "y1": 1094.4781428571428,
          "yref": "y"
         },
         {
          "line": {
           "color": "gray",
           "dash": "dashdot"
          },
          "type": "line",
          "x0": "2024-01-01T00:00:00",
          "x1": "2024-01-21T00:00:00",
          "xref": "x",
          "y0": 6.3,
          "y1": 6.3,
          "yref": "y2"
         },
         {
          "line": {
           "color": "red",
           "dash": "dashdot"
          },
          "type": "line",
          "x0": "2024-01-01T00:00:00",
          "x1": "2024-01-21T00:00:00",
          "xref": "x",
          "y0": 20.588399999999996,
          "y1": 20.588399999999996,
          "yref": "y2"
         },
         {
          "line": {
           "color": "pink",
           "dash": "dot"
          },
          "type": "line",
          "x0": "2024-01-01T00:00:00",
          "x1": "2024-01-21T00:00:00",
          "xref": "x",
          "y0": 13.444199999999999,
          "y1": 13.444199999999999,
          "yref": "y2"
         },
         {
          "line": {
           "color": "gray",
           "dash": "dashdot"
          },
          "type": "line",
          "x0": "2024-01-21T00:00:00",
          "x1": "2024-03-01T00:00:00",
          "xref": "x",
          "y0": 1185.7073170731708,
          "y1": 1185.7073170731708,
          "yref": "y"
         },
         {
          "line": {
           "color": "red",
           "dash": "dashdot"
          },
          "type": "line",
          "x0": "2024-01-21T00:00:00",
          "x1": "2024-03-01T00:00:00",
          "xref": "x",
          "y0": 1262.1823170731707,
          "y1": 1262.1823170731707,
          "yref": "y"
         },
         {
          "line": {
           "color": "red",
           "dash": "dashdot"
          },
          "type": "line",
          "x0": "2024-01-21T00:00:00",
          "x1": "2024-03-01T00:00:00",
          "xref": "x",
          "y0": 1109.2323170731709,
          "y1": 1109.2323170731709,
          "yref": "y"
         },
         {
          "line": {
           "color": "pink",
           "dash": "dot"
          },
          "type": "line",
          "x0": "2024-01-21T00:00:00",
          "x1": "2024-03-01T00:00:00",
          "xref": "x",
          "y0": 1223.9448170731707,
          "y1": 1223.9448170731707,
          "yref": "y"
         },
         {
          "line": {
           "color": "pink",
           "dash": "dot"
          },
          "type": "line",
          "x0": "2024-01-21T00:00:00",
          "x1": "2024-03-01T00:00:00",
          "xref": "x",
          "y0": 1147.4698170731708,
          "y1": 1147.4698170731708,
          "yref": "y"
         },
         {
          "line": {
           "color": "gray",
           "dash": "dashdot"
          },
          "type": "line",
          "x0": "2024-01-21T00:00:00",
          "x1": "2024-03-01T00:00:00",
          "xref": "x",
          "y0": 28.75,
          "y1": 28.75,
          "yref": "y2"
         },
         {
          "line": {
           "color": "red",
           "dash": "dashdot"
          },
          "type": "line",
          "x0": "2024-01-21T00:00:00",
          "x1": "2024-03-01T00:00:00",
          "xref": "x",
          "y0": 93.955,
          "y1": 93.955,
          "yref": "y2"
         },
         {
          "line": {
           "color": "pink",
           "dash": "dot"
          },
          "type": "line",
          "x0": "2024-01-21T00:00:00",
          "x1": "2024-03-01T00:00:00",
          "xref": "x",
          "y0": 61.3525,
          "y1": 61.3525,
          "yref": "y2"
         },
         {
          "line": {
           "color": "gray",
           "dash": "dashdot"
          },
          "type": "line",
          "x0": "2024-03-01T00:00:00",
          "x1": "2024-04-09T00:00:00",
          "xref": "x",
          "y0": 1203.7,
          "y1": 1203.7,
          "yref": "y"
         },
         {
          "line": {
           "color": "red",
           "dash": "dashdot"
          },
          "type": "line",
          "x0": "2024-03-01T00:00:00",
          "x1": "2024-04-09T00:00:00",
          "xref": "x",
          "y0": 1268.6312820512821,
          "y1": 1268.6312820512821,
          "yref": "y"
         },
         {
          "line": {
           "color": "red",
           "dash": "dashdot"
          },
          "type": "line",
          "x0": "2024-03-01T00:00:00",
          "x1": "2024-04-09T00:00:00",
          "xref": "x",
          "y0": 1138.768717948718,
          "y1": 1138.768717948718,
          "yref": "y"
         },
         {
          "line": {
           "color": "pink",
           "dash": "dot"
          },
          "type": "line",
          "x0": "2024-03-01T00:00:00",
          "x1": "2024-04-09T00:00:00",
          "xref": "x",
          "y0": 1236.165641025641,
          "y1": 1236.165641025641,
          "yref": "y"
         },
         {
          "line": {
           "color": "pink",
           "dash": "dot"
          },
          "type": "line",
          "x0": "2024-03-01T00:00:00",
          "x1": "2024-04-09T00:00:00",
          "xref": "x",
          "y0": 1171.234358974359,
          "y1": 1171.234358974359,
          "yref": "y"
         },
         {
          "line": {
           "color": "gray",
           "dash": "dashdot"
          },
          "type": "line",
          "x0": "2024-03-01T00:00:00",
          "x1": "2024-04-09T00:00:00",
          "xref": "x",
          "y0": 24.41025641025641,
          "y1": 24.41025641025641,
          "yref": "y2"
         },
         {
          "line": {
           "color": "red",
           "dash": "dashdot"
          },
          "type": "line",
          "x0": "2024-03-01T00:00:00",
          "x1": "2024-04-09T00:00:00",
          "xref": "x",
          "y0": 79.77271794871794,
          "y1": 79.77271794871794,
          "yref": "y2"
         },
         {
          "line": {
           "color": "pink",
           "dash": "dot"
          },
          "type": "line",
          "x0": "2024-03-01T00:00:00",
          "x1": "2024-04-09T00:00:00",
          "xref": "x",
          "y0": 52.091487179487174,
          "y1": 52.091487179487174,
          "yref": "y2"
         }
        ],
        "showlegend": false,
        "template": {
         "data": {
          "bar": [
           {
            "error_x": {
             "color": "#2a3f5f"
            },
            "error_y": {
             "color": "#2a3f5f"
            },
            "marker": {
             "line": {
              "color": "#E5ECF6",
              "width": 0.5
             },
             "pattern": {
              "fillmode": "overlay",
              "size": 10,
              "solidity": 0.2
             }
            },
            "type": "bar"
           }
          ],
          "barpolar": [
           {
            "marker": {
             "line": {
              "color": "#E5ECF6",
              "width": 0.5
             },
             "pattern": {
              "fillmode": "overlay",
              "size": 10,
              "solidity": 0.2
             }
            },
            "type": "barpolar"
           }
          ],
          "carpet": [
           {
            "aaxis": {
             "endlinecolor": "#2a3f5f",
             "gridcolor": "white",
             "linecolor": "white",
             "minorgridcolor": "white",
             "startlinecolor": "#2a3f5f"
            },
            "baxis": {
             "endlinecolor": "#2a3f5f",
             "gridcolor": "white",
             "linecolor": "white",
             "minorgridcolor": "white",
             "startlinecolor": "#2a3f5f"
            },
            "type": "carpet"
           }
          ],
          "choropleth": [
           {
            "colorbar": {
             "outlinewidth": 0,
             "ticks": ""
            },
            "type": "choropleth"
           }
          ],
          "contour": [
           {
            "colorbar": {
             "outlinewidth": 0,
             "ticks": ""
            },
            "colorscale": [
             [
              0,
              "#0d0887"
             ],
             [
              0.1111111111111111,
              "#46039f"
             ],
             [
              0.2222222222222222,
              "#7201a8"
             ],
             [
              0.3333333333333333,
              "#9c179e"
             ],
             [
              0.4444444444444444,
              "#bd3786"
             ],
             [
              0.5555555555555556,
              "#d8576b"
             ],
             [
              0.6666666666666666,
              "#ed7953"
             ],
             [
              0.7777777777777778,
              "#fb9f3a"
             ],
             [
              0.8888888888888888,
              "#fdca26"
             ],
             [
              1,
              "#f0f921"
             ]
            ],
            "type": "contour"
           }
          ],
          "contourcarpet": [
           {
            "colorbar": {
             "outlinewidth": 0,
             "ticks": ""
            },
            "type": "contourcarpet"
           }
          ],
          "heatmap": [
           {
            "colorbar": {
             "outlinewidth": 0,
             "ticks": ""
            },
            "colorscale": [
             [
              0,
              "#0d0887"
             ],
             [
              0.1111111111111111,
              "#46039f"
             ],
             [
              0.2222222222222222,
              "#7201a8"
             ],
             [
              0.3333333333333333,
              "#9c179e"
             ],
             [
              0.4444444444444444,
              "#bd3786"
             ],
             [
              0.5555555555555556,
              "#d8576b"
             ],
             [
              0.6666666666666666,
              "#ed7953"
             ],
             [
              0.7777777777777778,
              "#fb9f3a"
             ],
             [
              0.8888888888888888,
              "#fdca26"
             ],
             [
              1,
              "#f0f921"
             ]
            ],
            "type": "heatmap"
           }
          ],
          "histogram": [
           {
            "marker": {
             "pattern": {
              "fillmode": "overlay",
              "size": 10,
              "solidity": 0.2
             }
            },
            "type": "histogram"
           }
          ],
          "histogram2d": [
           {
            "colorbar": {
             "outlinewidth": 0,
             "ticks": ""
            },
            "colorscale": [
             [
              0,
              "#0d0887"
             ],
             [
              0.1111111111111111,
              "#46039f"
             ],
             [
              0.2222222222222222,
              "#7201a8"
             ],
             [
              0.3333333333333333,
              "#9c179e"
             ],
             [
              0.4444444444444444,
              "#bd3786"
             ],
             [
              0.5555555555555556,
              "#d8576b"
             ],
             [
              0.6666666666666666,
              "#ed7953"
             ],
             [
              0.7777777777777778,
              "#fb9f3a"
             ],
             [
              0.8888888888888888,
              "#fdca26"
             ],
             [
              1,
              "#f0f921"
             ]
            ],
            "type": "histogram2d"
           }
          ],
          "histogram2dcontour": [
           {
            "colorbar": {
             "outlinewidth": 0,
             "ticks": ""
            },
            "colorscale": [
             [
              0,
              "#0d0887"
             ],
             [
              0.1111111111111111,
              "#46039f"
             ],
             [
              0.2222222222222222,
              "#7201a8"
             ],
             [
              0.3333333333333333,
              "#9c179e"
             ],
             [
              0.4444444444444444,
              "#bd3786"
             ],
             [
              0.5555555555555556,
              "#d8576b"
             ],
             [
              0.6666666666666666,
              "#ed7953"
             ],
             [
              0.7777777777777778,
              "#fb9f3a"
             ],
             [
              0.8888888888888888,
              "#fdca26"
             ],
             [
              1,
              "#f0f921"
             ]
            ],
            "type": "histogram2dcontour"
           }
          ],
          "mesh3d": [
           {
            "colorbar": {
             "outlinewidth": 0,
             "ticks": ""
            },
            "type": "mesh3d"
           }
          ],
          "parcoords": [
           {
            "line": {
             "colorbar": {
              "outlinewidth": 0,
              "ticks": ""
             }
            },
            "type": "parcoords"
           }
          ],
          "pie": [
           {
            "automargin": true,
            "type": "pie"
           }
          ],
          "scatter": [
           {
            "fillpattern": {
             "fillmode": "overlay",
             "size": 10,
             "solidity": 0.2
            },
            "type": "scatter"
           }
          ],
          "scatter3d": [
           {
            "line": {
             "colorbar": {
              "outlinewidth": 0,
              "ticks": ""
             }
            },
            "marker": {
             "colorbar": {
              "outlinewidth": 0,
              "ticks": ""
             }
            },
            "type": "scatter3d"
           }
          ],
          "scattercarpet": [
           {
            "marker": {
             "colorbar": {
              "outlinewidth": 0,
              "ticks": ""
             }
            },
            "type": "scattercarpet"
           }
          ],
          "scattergeo": [
           {
            "marker": {
             "colorbar": {
              "outlinewidth": 0,
              "ticks": ""
             }
            },
            "type": "scattergeo"
           }
          ],
          "scattergl": [
           {
            "marker": {
             "colorbar": {
              "outlinewidth": 0,
              "ticks": ""
             }
            },
            "type": "scattergl"
           }
          ],
          "scattermap": [
           {
            "marker": {
             "colorbar": {
              "outlinewidth": 0,
              "ticks": ""
             }
            },
            "type": "scattermap"
           }
          ],
          "scattermapbox": [
           {
            "marker": {
             "colorbar": {
              "outlinewidth": 0,
              "ticks": ""
             }
            },
            "type": "scattermapbox"
           }
          ],
          "scatterpolar": [
           {
            "marker": {
             "colorbar": {
              "outlinewidth": 0,
              "ticks": ""
             }
            },
            "type": "scatterpolar"
           }
          ],
          "scatterpolargl": [
           {
            "marker": {
             "colorbar": {
              "outlinewidth": 0,
              "ticks": ""
             }
            },
            "type": "scatterpolargl"
           }
          ],
          "scatterternary": [
           {
            "marker": {
             "colorbar": {
              "outlinewidth": 0,
              "ticks": ""
             }
            },
            "type": "scatterternary"
           }
          ],
          "surface": [
           {
            "colorbar": {
             "outlinewidth": 0,
             "ticks": ""
            },
            "colorscale": [
             [
              0,
              "#0d0887"
             ],
             [
              0.1111111111111111,
              "#46039f"
             ],
             [
              0.2222222222222222,
              "#7201a8"
             ],
             [
              0.3333333333333333,
              "#9c179e"
             ],
             [
              0.4444444444444444,
              "#bd3786"
             ],
             [
              0.5555555555555556,
              "#d8576b"
             ],
             [
              0.6666666666666666,
              "#ed7953"
             ],
             [
              0.7777777777777778,
              "#fb9f3a"
             ],
             [
              0.8888888888888888,
              "#fdca26"
             ],
             [
              1,
              "#f0f921"
             ]
            ],
            "type": "surface"
           }
          ],
          "table": [
           {
            "cells": {
             "fill": {
              "color": "#EBF0F8"
             },
             "line": {
              "color": "white"
             }
            },
            "header": {
             "fill": {
              "color": "#C8D4E3"
             },
             "line": {
              "color": "white"
             }
            },
            "type": "table"
           }
          ]
         },
         "layout": {
          "annotationdefaults": {
           "arrowcolor": "#2a3f5f",
           "arrowhead": 0,
           "arrowwidth": 1
          },
          "autotypenumbers": "strict",
          "coloraxis": {
           "colorbar": {
            "outlinewidth": 0,
            "ticks": ""
           }
          },
          "colorscale": {
           "diverging": [
            [
             0,
             "#8e0152"
            ],
            [
             0.1,
             "#c51b7d"
            ],
            [
             0.2,
             "#de77ae"
            ],
            [
             0.3,
             "#f1b6da"
            ],
            [
             0.4,
             "#fde0ef"
            ],
            [
             0.5,
             "#f7f7f7"
            ],
            [
             0.6,
             "#e6f5d0"
            ],
            [
             0.7,
             "#b8e186"
            ],
            [
             0.8,
             "#7fbc41"
            ],
            [
             0.9,
             "#4d9221"
            ],
            [
             1,
             "#276419"
            ]
           ],
           "sequential": [
            [
             0,
             "#0d0887"
            ],
            [
             0.1111111111111111,
             "#46039f"
            ],
            [
             0.2222222222222222,
             "#7201a8"
            ],
            [
             0.3333333333333333,
             "#9c179e"
            ],
            [
             0.4444444444444444,
             "#bd3786"
            ],
            [
             0.5555555555555556,
             "#d8576b"
            ],
            [
             0.6666666666666666,
             "#ed7953"
            ],
            [
             0.7777777777777778,
             "#fb9f3a"
            ],
            [
             0.8888888888888888,
             "#fdca26"
            ],
            [
             1,
             "#f0f921"
            ]
           ],
           "sequentialminus": [
            [
             0,
             "#0d0887"
            ],
            [
             0.1111111111111111,
             "#46039f"
            ],
            [
             0.2222222222222222,
             "#7201a8"
            ],
            [
             0.3333333333333333,
             "#9c179e"
            ],
            [
             0.4444444444444444,
             "#bd3786"
            ],
            [
             0.5555555555555556,
             "#d8576b"
            ],
            [
             0.6666666666666666,
             "#ed7953"
            ],
            [
             0.7777777777777778,
             "#fb9f3a"
            ],
            [
             0.8888888888888888,
             "#fdca26"
            ],
            [
             1,
             "#f0f921"
            ]
           ]
          },
          "colorway": [
           "#636efa",
           "#EF553B",
           "#00cc96",
           "#ab63fa",
           "#FFA15A",
           "#19d3f3",
           "#FF6692",
           "#B6E880",
           "#FF97FF",
           "#FECB52"
          ],
          "font": {
           "color": "#2a3f5f"
          },
          "geo": {
           "bgcolor": "white",
           "lakecolor": "white",
           "landcolor": "#E5ECF6",
           "showlakes": true,
           "showland": true,
           "subunitcolor": "white"
          },
          "hoverlabel": {
           "align": "left"
          },
          "hovermode": "closest",
          "mapbox": {
           "style": "light"
          },
          "paper_bgcolor": "white",
          "plot_bgcolor": "#E5ECF6",
          "polar": {
           "angularaxis": {
            "gridcolor": "white",
            "linecolor": "white",
            "ticks": ""
           },
           "bgcolor": "#E5ECF6",
           "radialaxis": {
            "gridcolor": "white",
            "linecolor": "white",
            "ticks": ""
           }
          },
          "scene": {
           "xaxis": {
            "backgroundcolor": "#E5ECF6",
            "gridcolor": "white",
            "gridwidth": 2,
            "linecolor": "white",
            "showbackground": true,
            "ticks": "",
            "zerolinecolor": "white"
           },
           "yaxis": {
            "backgroundcolor": "#E5ECF6",
            "gridcolor": "white",
            "gridwidth": 2,
            "linecolor": "white",
            "showbackground": true,
            "ticks": "",
            "zerolinecolor": "white"
           },
           "zaxis": {
            "backgroundcolor": "#E5ECF6",
            "gridcolor": "white",
            "gridwidth": 2,
            "linecolor": "white",
            "showbackground": true,
            "ticks": "",
            "zerolinecolor": "white"
           }
          },
          "shapedefaults": {
           "line": {
            "color": "#2a3f5f"
           }
          },
          "ternary": {
           "aaxis": {
            "gridcolor": "white",
            "linecolor": "white",
            "ticks": ""
           },
           "baxis": {
            "gridcolor": "white",
            "linecolor": "white",
            "ticks": ""
           },
           "bgcolor": "#E5ECF6",
           "caxis": {
            "gridcolor": "white",
            "linecolor": "white",
            "ticks": ""
           }
          },
          "title": {
           "x": 0.05
          },
          "xaxis": {
           "automargin": true,
           "gridcolor": "white",
           "linecolor": "white",
           "ticks": "",
           "title": {
            "standoff": 15
           },
           "zerolinecolor": "white",
           "zerolinewidth": 2
          },
          "yaxis": {
           "automargin": true,
           "gridcolor": "white",
           "linecolor": "white",
           "ticks": "",
           "title": {
            "standoff": 15
           },
           "zerolinecolor": "white",
           "zerolinewidth": 2
          }
         }
        },
        "updatemenus": [
         {
          "active": 0,
          "buttons": [
           {
            "args": [
             {
              "visible": [
               true,
               true,
               false,
               false
              ]
             },
             {
              "annotations": [
               {
                "font": {
                 "size": 16
                },
                "showarrow": false,
                "text": "Daily Vehicle Counts - XmR Chart",
                "x": 0.5,
                "xanchor": "center",
                "xref": "paper",
                "y": 1.1,
                "yanchor": "top",
                "yref": "paper"
               },
               {
                "font": {
                 "size": 10
                },
                "showarrow": false,
                "text": "<b>mR Upper Limit = 20.588</b>",
                "x": 0.01,
                "xanchor": "left",
                "xref": "paper",
                "y": 21.617819999999995,
                "yanchor": "auto",
                "yref": "y2"
               },
               {
                "font": {
                 "size": 10
                },
                "showarrow": false,
                "text": "<b>vehicle_counts Upper Limit = 1119.615</b>",
                "x": 0.01,
                "xanchor": "left",
                "xref": "paper",
                "y": 1120.620622857143,
                "yanchor": "auto",
                "yref": "y"
               },
               {
                "font": {
                 "size": 10
                },
                "showarrow": false,
                "text": "<b>vehicle_counts Lower Limit = 1086.099</b>",
                "x": 0.01,
                "xanchor": "left",
                "xref": "paper",
                "y": 1085.0936628571428,
                "yanchor": "auto",
                "yref": "y"
               }
              ],
              "shapes": [
               {
                "line": {
                 "color": "gray",
                 "dash": "dashdot"
                },
                "type": "line",
                "x0": "2024-01-01T00:00:00",
                "x1": "2024-01-21T00:00:00",
                "xref": "x",
                "y0": 1102.857142857143,
                "y1": 1102.857142857143,
                "yref": "y"
               },
               {
                "line": {
                 "color": "red",
                 "dash": "dashdot"
                },
                "type": "line",
                "x0": "2024-01-01T00:00:00",
                "x1": "2024-01-21T00:00:00",
                "xref": "x",
                "y0": 1119.615142857143,
                "y1": 1119.615142857143,
                "yref": "y"
               },
               {
                "line": {
                 "color": "red",
                 "dash": "dashdot"
                },
                "type": "line",
                "x0": "2024-01-01T00:00:00",
                "x1": "2024-01-21T00:00:00",
                "xref": "x",
                "y0": 1086.0991428571429,
                "y1": 1086.0991428571429,
                "yref": "y"
               },
               {
                "line": {
                 "color": "pink",
                 "dash": "dot"
                },
                "type": "line",
                "x0": "2024-01-01T00:00:00",
                "x1": "2024-01-21T00:00:00",
                "xref": "x",
                "y0": 1111.236142857143,
                "y1": 1111.236142857143,
                "yref": "y"
               },
               {
                "line": {
                 "color": "pink",
                 "dash": "dot"
                },
                "type": "line",
                "x0": "2024-01-01T00:00:00",
                "x1": "2024-01-21T00:00:00",
                "xref": "x",
                "y0": 1094.4781428571428,
                "y1": 1094.4781428571428,
                "yref": "y"
               },
               {
                "line": {
                 "color": "gray",
                 "dash": "dashdot"
                },
                "type": "line",
                "x0": "2024-01-01T00:00:00",
                "x1": "2024-01-21T00:00:00",
                "xref": "x",
                "y0": 6.3,
                "y1": 6.3,
                "yref": "y2"
               },
               {
                "line": {
                 "color": "red",
                 "dash": "dashdot"
                },
                "type": "line",
                "x0": "2024-01-01T00:00:00",
                "x1": "2024-01-21T00:00:00",
                "xref": "x",
                "y0": 20.588399999999996,
                "y1": 20.588399999999996,
                "yref": "y2"
               },
               {
                "line": {
                 "color": "pink",
                 "dash": "dot"
                },
                "type": "line",
                "x0": "2024-01-01T00:00:00",
                "x1": "2024-01-21T00:00:00",
                "xref": "x",
                "y0": 13.444199999999999,
                "y1": 13.444199999999999,
                "yref": "y2"
               },
               {
                "line": {
                 "color": "gray",
                 "dash": "dashdot"
                },
                "type": "line",
                "x0": "2024-01-21T00:00:00",
                "x1": "2024-03-01T00:00:00",
                "xref": "x",
                "y0": 1185.7073170731708,
                "y1": 1185.7073170731708,
                "yref": "y"
               },
               {
                "line": {
                 "color": "red",
                 "dash": "dashdot"
                },
                "type": "line",
                "x0": "2024-01-21T00:00:00",
                "x1": "2024-03-01T00:00:00",
                "xref": "x",
                "y0": 1262.1823170731707,
                "y1": 1262.1823170731707,
                "yref": "y"
               },
               {
                "line": {
                 "color": "red",
                 "dash": "dashdot"
                },
                "type": "line",
                "x0": "2024-01-21T00:00:00",
                "x1": "2024-03-01T00:00:00",
                "xref": "x",
                "y0": 1109.2323170731709,
                "y1": 1109.2323170731709,
                "yref": "y"
               },
               {
                "line": {
                 "color": "pink",
                 "dash": "dot"
                },
                "type": "line",
                "x0": "2024-01-21T00:00:00",
                "x1": "2024-03-01T00:00:00",
                "xref": "x",
                "y0": 1223.9448170731707,
                "y1": 1223.9448170731707,
                "yref": "y"
               },
               {
                "line": {
                 "color": "pink",
                 "dash": "dot"
                },
                "type": "line",
                "x0": "2024-01-21T00:00:00",
                "x1": "2024-03-01T00:00:00",
                "xref": "x",
                "y0": 1147.4698170731708,
                "y1": 1147.4698170731708,
                "yref": "y"
               },
               {
                "line": {
                 "color": "gray",
                 "dash": "dashdot"
                },
                "type": "line",
                "x0": "2024-01-21T00:00:00",
                "x1": "2024-03-01T00:00:00",
                "xref": "x",
                "y0": 28.75,
                "y1": 28.75,
                "yref": "y2"
               },
               {
                "line": {
                 "color": "red",
                 "dash": "dashdot"
                },
                "type": "line",
                "x0": "2024-01-21T00:00:00",
                "x1": "2024-03-01T00:00:00",
                "xref": "x",
                "y0": 93.955,
                "y1": 93.955,
                "yref": "y2"
               },
               {
                "line": {
                 "color": "pink",
                 "dash": "dot"
                },
                "type": "line",
                "x0": "2024-01-21T00:00:00",
                "x1": "2024-03-01T00:00:00",
                "xref": "x",
                "y0": 61.3525,
                "y1": 61.3525,
                "yref": "y2"
               },
               {
                "line": {
                 "color": "gray",
                 "dash": "dashdot"
                },
                "type": "line",
                "x0": "2024-03-01T00:00:00",
                "x1": "2024-04-09T00:00:00",
                "xref": "x",
                "y0": 1203.7,
                "y1": 1203.7,
                "yref": "y"
               },
               {
                "line": {
                 "color": "red",
                 "dash": "dashdot"
                },
                "type": "line",
                "x0": "2024-03-01T00:00:00",
                "x1": "2024-04-09T00:00:00",
                "xref": "x",
                "y0": 1268.6312820512821,
                "y1": 1268.6312820512821,
                "yref": "y"
               },
               {
                "line": {
                 "color": "red",
                 "dash": "dashdot"
                },
                "type": "line",
                "x0": "2024-03-01T00:00:00",
                "x1": "2024-04-09T00:00:00",
                "xref": "x",
                "y0": 1138.768717948718,
                "y1": 1138.768717948718,
                "yref": "y"
               },
               {
                "line": {
                 "color": "pink",
                 "dash": "dot"
                },
                "type": "line",
                "x0": "2024-03-01T00:00:00",
                "x1": "2024-04-09T00:00:00",
                "xref": "x",
                "y0": 1236.165641025641,
                "y1": 1236.165641025641,
                "yref": "y"
               },
               {
                "line": {
                 "color": "pink",
                 "dash": "dot"
                },
                "type": "line",
                "x0": "2024-03-01T00:00:00",
                "x1": "2024-04-09T00:00:00",
                "xref": "x",
                "y0": 1171.234358974359,
                "y1": 1171.234358974359,
                "yref": "y"
               },
               {
                "line": {
                 "color": "gray",
                 "dash": "dashdot"
                },
                "type": "line",
                "x0": "2024-03-01T00:00:00",
                "x1": "2024-04-09T00:00:00",
                "xref": "x",
                "y0": 24.41025641025641,
                "y1": 24.41025641025641,
                "yref": "y2"
               },
               {
                "line": {
                 "color": "red",
                 "dash": "dashdot"
                },
                "type": "line",
                "x0": "2024-03-01T00:00:00",
                "x1": "2024-04-09T00:00:00",
                "xref": "x",
                "y0": 79.77271794871794,
                "y1": 79.77271794871794,
                "yref": "y2"
               },
               {
                "line": {
                 "color": "pink",
                 "dash": "dot"
                },
                "type": "line",
                "x0": "2024-03-01T00:00:00",
                "x1": "2024-04-09T00:00:00",
                "xref": "x",
                "y0": 52.091487179487174,
                "y1": 52.091487179487174,
                "yref": "y2"
               }
              ]
             }
            ],
            "label": "None",
            "method": "update"
           },
           {
            "args": [
             {
              "visible": [
               true,
               true,
               true,
               true
              ]
             },
             {
              "annotations": [
               {
                "font": {
                 "size": 16
                },
                "showarrow": false,
                "text": "Daily Vehicle Counts - XmR Chart",
                "x": 0.5,
                "xanchor": "center",
                "xref": "paper",
                "y": 1.1,
                "yanchor": "top",
                "yref": "paper"
               },
               {
                "font": {
                 "size": 10
                },
                "showarrow": false,
                "text": "<b>mR Upper Limit = 20.588</b>",
                "x": 0.01,
                "xanchor": "left",
                "xref": "paper",
                "y": 21.617819999999995,
                "yanchor": "auto",
                "yref": "y2"
               },
               {
                "font": {
                 "size": 10
                },
                "showarrow": false,
                "text": "<b>vehicle_counts Upper Limit = 1119.615</b>",
                "x": 0.01,
                "xanchor": "left",
                "xref": "paper",
                "y": 1120.620622857143,
                "yanchor": "auto",
                "yref": "y"
               },
               {
                "font": {
                 "size": 10
                },
                "showarrow": false,
                "text": "<b>vehicle_counts Lower Limit = 1086.099</b>",
                "x": 0.01,
                "xanchor": "left",
                "xref": "paper",
                "y": 1085.0936628571428,
                "yanchor": "auto",
                "yref": "y"
               }
              ],
              "shapes": [
               {
                "line": {
                 "color": "gray",
                 "dash": "dashdot"
                },
                "type": "line",
                "x0": "2024-01-01T00:00:00",
                "x1": "2024-01-21T00:00:00",
                "xref": "x",
                "y0": 1102.857142857143,
                "y1": 1102.857142857143,
                "yref": "y"
               },
               {
                "line": {
                 "color": "red",
                 "dash": "dashdot"
                },
                "type": "line",
                "x0": "2024-01-01T00:00:00",
                "x1": "2024-01-21T00:00:00",
                "xref": "x",
                "y0": 1119.615142857143,
                "y1": 1119.615142857143,
                "yref": "y"
               },
               {
                "line": {
                 "color": "red",
                 "dash": "dashdot"
                },
                "type": "line",
                "x0": "2024-01-01T00:00:00",
                "x1": "2024-01-21T00:00:00",
                "xref": "x",
                "y0": 1086.0991428571429,
                "y1": 1086.0991428571429,
                "yref": "y"
               },
               {
                "line": {
                 "color": "pink",
                 "dash": "dot"
                },
                "type": "line",
                "x0": "2024-01-01T00:00:00",
                "x1": "2024-01-21T00:00:00",
                "xref": "x",
                "y0": 1111.236142857143,
                "y1": 1111.236142857143,
                "yref": "y"
               },
               {
                "line": {
                 "color": "pink",
                 "dash": "dot"
                },
                "type": "line",
                "x0": "2024-01-01T00:00:00",
                "x1": "2024-01-21T00:00:00",
                "xref": "x",
                "y0": 1094.4781428571428,
                "y1": 1094.4781428571428,
                "yref": "y"
               },
               {
                "line": {
                 "color": "gray",
                 "dash": "dashdot"
                },
                "type": "line",
                "x0": "2024-01-01T00:00:00",
                "x1": "2024-01-21T00:00:00",
                "xref": "x",
                "y0": 6.3,
                "y1": 6.3,
                "yref": "y2"
               },
               {
                "line": {
                 "color": "red",
                 "dash": "dashdot"
                },
                "type": "line",
                "x0": "2024-01-01T00:00:00",
                "x1": "2024-01-21T00:00:00",
                "xref": "x",
                "y0": 20.588399999999996,
                "y1": 20.588399999999996,
                "yref": "y2"
               },
               {
                "line": {
                 "color": "pink",
                 "dash": "dot"
                },
                "type": "line",
                "x0": "2024-01-01T00:00:00",
                "x1": "2024-01-21T00:00:00",
                "xref": "x",
                "y0": 13.444199999999999,
                "y1": 13.444199999999999,
                "yref": "y2"
               },
               {
                "line": {
                 "color": "gray",
                 "dash": "dashdot"
                },
                "type": "line",
                "x0": "2024-01-21T00:00:00",
                "x1": "2024-03-01T00:00:00",
                "xref": "x",
                "y0": 1185.7073170731708,
                "y1": 1185.7073170731708,
                "yref": "y"
               },
               {
                "line": {
                 "color": "red",
                 "dash": "dashdot"
                },
                "type": "line",
                "x0": "2024-01-21T00:00:00",
                "x1": "2024-03-01T00:00:00",
                "xref": "x",
                "y0": 1262.1823170731707,
                "y1": 1262.1823170731707,
                "yref": "y"
               },
               {
                "line": {
                 "color": "red",
                 "dash": "dashdot"
                },
                "type": "line",
                "x0": "2024-01-21T00:00:00",
                "x1": "2024-03-01T00:00:00",
                "xref": "x",
                "y0": 1109.2323170731709,
                "y1": 1109.2323170731709,
                "yref": "y"
               },
               {
                "line": {
                 "color": "pink",
                 "dash": "dot"
                },
                "type": "line",
                "x0": "2024-01-21T00:00:00",
                "x1": "2024-03-01T00:00:00",
                "xref": "x",
                "y0": 1223.9448170731707,
                "y1": 1223.9448170731707,
                "yref": "y"
               },
               {
                "line": {
                 "color": "pink",
                 "dash": "dot"
                },
                "type": "line",
                "x0": "2024-01-21T00:00:00",
                "x1": "2024-03-01T00:00:00",
                "xref": "x",
                "y0": 1147.4698170731708,
                "y1": 1147.4698170731708,
                "yref": "y"
               },
               {
                "line": {
                 "color": "gray",
                 "dash": "dashdot"
                },
                "type": "line",
                "x0": "2024-01-21T00:00:00",
                "x1": "2024-03-01T00:00:00",
                "xref": "x",
                "y0": 28.75,
                "y1": 28.75,
                "yref": "y2"
               },
               {
                "line": {
                 "color": "red",
                 "dash": "dashdot"
                },
                "type": "line",
                "x0": "2024-01-21T00:00:00",
                "x1": "2024-03-01T00:00:00",
                "xref": "x",
                "y0": 93.955,
                "y1": 93.955,
                "yref": "y2"
               },
               {
                "line": {
                 "color": "pink",
                 "dash": "dot"
                },
                "type": "line",
                "x0": "2024-01-21T00:00:00",
                "x1": "2024-03-01T00:00:00",
                "xref": "x",
                "y0": 61.3525,
                "y1": 61.3525,
                "yref": "y2"
               },
               {
                "line": {
                 "color": "gray",
                 "dash": "dashdot"
                },
                "type": "line",
                "x0": "2024-03-01T00:00:00",
                "x1": "2024-04-09T00:00:00",
                "xref": "x",
                "y0": 1203.7,
                "y1": 1203.7,
                "yref": "y"
               },
               {
                "line": {
                 "color": "red",
                 "dash": "dashdot"
                },
                "type": "line",
                "x0": "2024-03-01T00:00:00",
                "x1": "2024-04-09T00:00:00",
                "xref": "x",
                "y0": 1268.6312820512821,
                "y1": 1268.6312820512821,
                "yref": "y"
               },
               {
                "line": {
                 "color": "red",
                 "dash": "dashdot"
                },
                "type": "line",
                "x0": "2024-03-01T00:00:00",
                "x1": "2024-04-09T00:00:00",
                "xref": "x",
                "y0": 1138.768717948718,
                "y1": 1138.768717948718,
                "yref": "y"
               },
               {
                "line": {
                 "color": "pink",
                 "dash": "dot"
                },
                "type": "line",
                "x0": "2024-03-01T00:00:00",
                "x1": "2024-04-09T00:00:00",
                "xref": "x",
                "y0": 1236.165641025641,
                "y1": 1236.165641025641,
                "yref": "y"
               },
               {
                "line": {
                 "color": "pink",
                 "dash": "dot"
                },
                "type": "line",
                "x0": "2024-03-01T00:00:00",
                "x1": "2024-04-09T00:00:00",
                "xref": "x",
                "y0": 1171.234358974359,
                "y1": 1171.234358974359,
                "yref": "y"
               },
               {
                "line": {
                 "color": "gray",
                 "dash": "dashdot"
                },
                "type": "line",
                "x0": "2024-03-01T00:00:00",
                "x1": "2024-04-09T00:00:00",
                "xref": "x",
                "y0": 24.41025641025641,
                "y1": 24.41025641025641,
                "yref": "y2"
               },
               {
                "line": {
                 "color": "red",
                 "dash": "dashdot"
                },
                "type": "line",
                "x0": "2024-03-01T00:00:00",
                "x1": "2024-04-09T00:00:00",
                "xref": "x",
                "y0": 79.77271794871794,
                "y1": 79.77271794871794,
                "yref": "y2"
               },
               {
                "line": {
                 "color": "pink",
                 "dash": "dot"
                },
                "type": "line",
                "x0": "2024-03-01T00:00:00",
                "x1": "2024-04-09T00:00:00",
                "xref": "x",
                "y0": 52.091487179487174,
                "y1": 52.091487179487174,
                "yref": "y2"
               }
              ]
             }
            ],
            "label": "Anomalies",
            "method": "update"
           },
           {
            "args": [
             {
              "visible": [
               true,
               true,
               false,
               false
              ]
             },
             {
              "annotations": [
               {
                "font": {
                 "size": 16
                },
                "showarrow": false,
                "text": "Daily Vehicle Counts - XmR Chart",
                "x": 0.5,
                "xanchor": "center",
                "xref": "paper",
                "y": 1.1,
                "yanchor": "top",
                "yref": "paper"
               },
               {
                "font": {
                 "size": 10
                },
                "showarrow": false,
                "text": "<b>mR Upper Limit = 20.588</b>",
                "x": 0.01,
                "xanchor": "left",
                "xref": "paper",
                "y": 21.617819999999995,
                "yanchor": "auto",
                "yref": "y2"
               },
               {
                "font": {
                 "size": 10
                },
                "showarrow": false,
                "text": "<b>vehicle_counts Upper Limit = 1119.615</b>",
                "x": 0.01,
                "xanchor": "left",
                "xref": "paper",
                "y": 1120.620622857143,
                "yanchor": "auto",
                "yref": "y"
               },
               {
                "font": {
                 "size": 10
                },
                "showarrow": false,
                "text": "<b>vehicle_counts Lower Limit = 1086.099</b>",
                "x": 0.01,
                "xanchor": "left",
                "xref": "paper",
                "y": 1085.0936628571428,
                "yanchor": "auto",
                "yref": "y"
               }
              ],
              "shapes": [
               {
                "line": {
                 "color": "gray",
                 "dash": "dashdot"
                },
                "type": "line",
                "x0": "2024-01-01T00:00:00",
                "x1": "2024-01-21T00:00:00",
                "xref": "x",
                "y0": 1102.857142857143,
                "y1": 1102.857142857143,
                "yref": "y"
               },
               {
                "line": {
                 "color": "red",
                 "dash": "dashdot"
                },
                "type": "line",
                "x0": "2024-01-01T00:00:00",
                "x1": "2024-01-21T00:00:00",
                "xref": "x",
                "y0": 1119.615142857143,
                "y1": 1119.615142857143,
                "yref": "y"
               },
               {
                "line": {
                 "color": "red",
                 "dash": "dashdot"
                },
                "type": "line",
                "x0": "2024-01-01T00:00:00",
                "x1": "2024-01-21T00:00:00",
                "xref": "x",
                "y0": 1086.0991428571429,
                "y1": 1086.0991428571429,
                "yref": "y"
               },
               {
                "line": {
                 "color": "pink",
                 "dash": "dot"
                },
                "type": "line",
                "x0": "2024-01-01T00:00:00",
                "x1": "2024-01-21T00:00:00",
                "xref": "x",
                "y0": 1111.236142857143,
                "y1": 1111.236142857143,
                "yref": "y"
               },
               {
                "line": {
                 "color": "pink",
                 "dash": "dot"
                },
                "type": "line",
                "x0": "2024-01-01T00:00:00",
                "x1": "2024-01-21T00:00:00",
                "xref": "x",
                "y0": 1094.4781428571428,
                "y1": 1094.4781428571428,
                "yref": "y"
               },
               {
                "line": {
                 "color": "gray",
                 "dash": "dashdot"
                },
                "type": "line",
                "x0": "2024-01-01T00:00:00",
                "x1": "2024-01-21T00:00:00",
                "xref": "x",
                "y0": 6.3,
                "y1": 6.3,
                "yref": "y2"
               },
               {
                "line": {
                 "color": "red",
                 "dash": "dashdot"
                },
                "type": "line",
                "x0": "2024-01-01T00:00:00",
                "x1": "2024-01-21T00:00:00",
                "xref": "x",
                "y0": 20.588399999999996,
                "y1": 20.588399999999996,
                "yref": "y2"
               },
               {
                "line": {
                 "color": "pink",
                 "dash": "dot"
                },
                "type": "line",
                "x0": "2024-01-01T00:00:00",
                "x1": "2024-01-21T00:00:00",
                "xref": "x",
                "y0": 13.444199999999999,
                "y1": 13.444199999999999,
                "yref": "y2"
               },
               {
                "line": {
                 "color": "gray",
                 "dash": "dashdot"
                },
                "type": "line",
                "x0": "2024-01-21T00:00:00",
                "x1": "2024-03-01T00:00:00",
                "xref": "x",
                "y0": 1185.7073170731708,
                "y1": 1185.7073170731708,
                "yref": "y"
               },
               {
                "line": {
                 "color": "red",
                 "dash": "dashdot"
                },
                "type": "line",
                "x0": "2024-01-21T00:00:00",
                "x1": "2024-03-01T00:00:00",
                "xref": "x",
                "y0": 1262.1823170731707,
                "y1": 1262.1823170731707,
                "yref": "y"
               },
               {
                "line": {
                 "color": "red",
                 "dash": "dashdot"
                },
                "type": "line",
                "x0": "2024-01-21T00:00:00",
                "x1": "2024-03-01T00:00:00",
                "xref": "x",
                "y0": 1109.2323170731709,
                "y1": 1109.2323170731709,
                "yref": "y"
               },
               {
                "line": {
                 "color": "pink",
                 "dash": "dot"
                },
                "type": "line",
                "x0": "2024-01-21T00:00:00",
                "x1": "2024-03-01T00:00:00",
                "xref": "x",
                "y0": 1223.9448170731707,
                "y1": 1223.9448170731707,
                "yref": "y"
               },
               {
                "line": {
                 "color": "pink",
                 "dash": "dot"
                },
                "type": "line",
                "x0": "2024-01-21T00:00:00",
                "x1": "2024-03-01T00:00:00",
                "xref": "x",
                "y0": 1147.4698170731708,
                "y1": 1147.4698170731708,
                "yref": "y"
               },
               {
                "line": {
                 "color": "gray",
                 "dash": "dashdot"
                },
                "type": "line",
                "x0": "2024-01-21T00:00:00",
                "x1": "2024-03-01T00:00:00",
                "xref": "x",
                "y0": 28.75,
                "y1": 28.75,
                "yref": "y2"
               },
               {
                "line": {
                 "color": "red",
                 "dash": "dashdot"
                },
                "type": "line",
                "x0": "2024-01-21T00:00:00",
                "x1": "2024-03-01T00:00:00",
                "xref": "x",
                "y0": 93.955,
                "y1": 93.955,
                "yref": "y2"
               },
               {
                "line": {
                 "color": "pink",
                 "dash": "dot"
                },
                "type": "line",
                "x0": "2024-01-21T00:00:00",
                "x1": "2024-03-01T00:00:00",
                "xref": "x",
                "y0": 61.3525,
                "y1": 61.3525,
                "yref": "y2"
               },
               {
                "line": {
                 "color": "gray",
                 "dash": "dashdot"
                },
                "type": "line",
                "x0": "2024-03-01T00:00:00",
                "x1": "2024-04-09T00:00:00",
                "xref": "x",
                "y0": 1203.7,
                "y1": 1203.7,
                "yref": "y"
               },
               {
                "line": {
                 "color": "red",
                 "dash": "dashdot"
                },
                "type": "line",
                "x0": "2024-03-01T00:00:00",
                "x1": "2024-04-09T00:00:00",
                "xref": "x",
                "y0": 1268.6312820512821,
                "y1": 1268.6312820512821,
                "yref": "y"
               },
               {
                "line": {
                 "color": "red",
                 "dash": "dashdot"
                },
                "type": "line",
                "x0": "2024-03-01T00:00:00",
                "x1": "2024-04-09T00:00:00",
                "xref": "x",
                "y0": 1138.768717948718,
                "y1": 1138.768717948718,
                "yref": "y"
               },
               {
                "line": {
                 "color": "pink",
                 "dash": "dot"
                },
                "type": "line",
                "x0": "2024-03-01T00:00:00",
                "x1": "2024-04-09T00:00:00",
                "xref": "x",
                "y0": 1236.165641025641,
                "y1": 1236.165641025641,
                "yref": "y"
               },
               {
                "line": {
                 "color": "pink",
                 "dash": "dot"
                },
                "type": "line",
                "x0": "2024-03-01T00:00:00",
                "x1": "2024-04-09T00:00:00",
                "xref": "x",
                "y0": 1171.234358974359,
                "y1": 1171.234358974359,
                "yref": "y"
               },
               {
                "line": {
                 "color": "gray",
                 "dash": "dashdot"
                },
                "type": "line",
                "x0": "2024-03-01T00:00:00",
                "x1": "2024-04-09T00:00:00",
                "xref": "x",
                "y0": 24.41025641025641,
                "y1": 24.41025641025641,
                "yref": "y2"
               },
               {
                "line": {
                 "color": "red",
                 "dash": "dashdot"
                },
                "type": "line",
                "x0": "2024-03-01T00:00:00",
                "x1": "2024-04-09T00:00:00",
                "xref": "x",
                "y0": 79.77271794871794,
                "y1": 79.77271794871794,
                "yref": "y2"
               },
               {
                "line": {
                 "color": "pink",
                 "dash": "dot"
                },
                "type": "line",
                "x0": "2024-03-01T00:00:00",
                "x1": "2024-04-09T00:00:00",
                "xref": "x",
                "y0": 52.091487179487174,
                "y1": 52.091487179487174,
                "yref": "y2"
               },
               {
                "fillcolor": "pink",
                "line": {
                 "color": "purple",
                 "dash": "longdashdot",
                 "width": 2
                },
                "name": "Long Run",
                "opacity": 0.2,
                "path": "M 1704268800000.0 1138.0 L 1704355200000.0 1139.0 L 1704441600000.0 1141.0 L 1704528000000.0 1142.0 L 1704614400000.0 1144.0 L 1704700800000.0 1145.0 L 1704787200000.0 1147.0 L 1704873600000.0 1148.0 L 1704873600000.0 1078.0 L 1704787200000.0 1077.0 L 1704700800000.0 1075.0 L 1704614400000.0 1074.0 L 1704528000000.0 1072.0 L 1704441600000.0 1071.0 L 1704355200000.0 1069.0 L 1704268800000.0 1068.0 Z",
                "type": "path"
               },
               {
                "fillcolor": "pink",
                "line": {
                 "color": "purple",
                 "dash": "longdashdot",
                 "width": 2
                },
                "name": "Long Run",
                "opacity": 0.2,
                "path": "M 1706342400000.0 1174.0 L 1706428800000.0 1175.0 L 1706515200000.0 1177.0 L 1706601600000.0 1178.0 L 1706688000000.0 1180.0 L 1706774400000.0 1181.0 L 1706860800000.0 1183.0 L 1706947200000.0 1185.0 L 1707033600000.0 1186.0 L 1707120000000.0 1188.0 L 1707206400000.0 1189.0 L 1707292800000.0 1191.0 L 1707379200000.0 1192.0 L 1707465600000.0 1194.0 L 1707552000000.0 1145.0 L 1707638400000.0 1147.0 L 1707724800000.0 1148.0 L 1707811200000.0 1150.0 L 1707897600000.0 1151.0 L 1707984000000.0 1203.0 L 1708070400000.0 1204.0 L 1708156800000.0 1206.0 L 1708243200000.0 1207.0 L 1708329600000.0 1209.0 L 1708329600000.0 1139.0 L 1708243200000.0 1137.0 L 1708156800000.0 1136.0 L 1708070400000.0 1134.0 L 1707984000000.0 1133.0 L 1707897600000.0 1081.0 L 1707811200000.0 1080.0 L 1707724800000.0 1078.0 L 1707638400000.0 1077.0 L 1707552000000.0 1075.0 L 1707465600000.0 1124.0 L 1707379200000.0 1122.0 L 1707292800000.0 1121.0 L 1707206400000.0 1119.0 L 1707120000000.0 1118.0 L 1707033600000.0 1116.0 L 1706947200000.0 1115.0 L 1706860800000.0 1113.0 L 1706774400000.0 1111.0 L 1706688000000.0 1110.0 L 1706601600000.0 1108.0 L 1706515200000.0 1107.0 L 1706428800000.0 1105.0 L 1706342400000.0 1104.0 Z",
                "type": "path"
               },
               {
                "fillcolor": "pink",
                "line": {
                 "color": "purple",
                 "dash": "longdashdot",
                 "width": 2
                },
                "name": "Long Run",
                "opacity": 0.2,
                "path": "M 1709280000000.0 1225.0 L 1709366400000.0 1227.0 L 1709452800000.0 1228.0 L 1709539200000.0 1230.0 L 1709625600000.0 1231.0 L 1709712000000.0 1233.0 L 1709798400000.0 1235.0 L 1709884800000.0 1236.0 L 1709971200000.0 1238.0 L 1709971200000.0 1168.0 L 1709884800000.0 1166.0 L 1709798400000.0 1165.0 L 1709712000000.0 1163.0 L 1709625600000.0 1161.0 L 1709539200000.0 1160.0 L 1709452800000.0 1158.0 L 1709366400000.0 1157.0 L 1709280000000.0 1155.0 Z",
                "type": "path"
               },
               {
                "fillcolor": "pink",
                "line": {
                 "color": "purple",
                 "dash": "longdashdot",
                 "width": 2
                },
                "name": "Long Run",
                "opacity": 0.2,
                "path": "M 1711090800000.0 1257.0 L 1711177200000.0 1259.0 L 1711263600000.0 1260.0 L 1711350000000.0 1262.0 L 1711436400000.0 1263.0 L 1711522800000.0 1265.0 L 1711609200000.0 1266.0 L 1711695600000.0 1268.0 L 1711782000000.0 1269.0 L 1711868400000.0 1271.0 L 1711954800000.0 1272.0 L 1712041200000.0 1274.0 L 1712127600000.0 1275.0 L 1712214000000.0 1277.0 L 1712300400000.0 1278.0 L 1712386800000.0 1280.0 L 1712473200000.0 1281.0 L 1712559600000.0 1283.0 L 1712646000000.0 1285.0 L 1712646000000.0 1215.0 L 1712559600000.0 1213.0 L 1712473200000.0 1211.0 L 1712386800000.0 1210.0 L 1712300400000.0 1208.0 L 1712214000000.0 1207.0 L 1712127600000.0 1205.0 L 1712041200000.0 1204.0 L 1711954800000.0 1202.0 L 1711868400000.0 1201.0 L 1711782000000.0 1199.0 L 1711695600000.0 1198.0 L 1711609200000.0 1196.0 L 1711522800000.0 1195.0 L 1711436400000.0 1193.0 L 1711350000000.0 1192.0 L 1711263600000.0 1190.0 L 1711177200000.0 1189.0 L 1711090800000.0 1187.0 Z",
                "type": "path"
               }
              ]
             }
            ],
            "label": "Long Runs",
            "method": "update"
           },
           {
            "args": [
             {
              "visible": [
               true,
               true,
               false,
               false
              ]
             },
             {
              "annotations": [
               {
                "font": {
                 "size": 16
                },
                "showarrow": false,
                "text": "Daily Vehicle Counts - XmR Chart",
                "x": 0.5,
                "xanchor": "center",
                "xref": "paper",
                "y": 1.1,
                "yanchor": "top",
                "yref": "paper"
               },
               {
                "font": {
                 "size": 10
                },
                "showarrow": false,
                "text": "<b>mR Upper Limit = 20.588</b>",
                "x": 0.01,
                "xanchor": "left",
                "xref": "paper",
                "y": 21.617819999999995,
                "yanchor": "auto",
                "yref": "y2"
               },
               {
                "font": {
                 "size": 10
                },
                "showarrow": false,
                "text": "<b>vehicle_counts Upper Limit = 1119.615</b>",
                "x": 0.01,
                "xanchor": "left",
                "xref": "paper",
                "y": 1120.620622857143,
                "yanchor": "auto",
                "yref": "y"
               },
               {
                "font": {
                 "size": 10
                },
                "showarrow": false,
                "text": "<b>vehicle_counts Lower Limit = 1086.099</b>",
                "x": 0.01,
                "xanchor": "left",
                "xref": "paper",
                "y": 1085.0936628571428,
                "yanchor": "auto",
                "yref": "y"
               }
              ],
              "shapes": [
               {
                "line": {
                 "color": "gray",
                 "dash": "dashdot"
                },
                "type": "line",
                "x0": "2024-01-01T00:00:00",
                "x1": "2024-01-21T00:00:00",
                "xref": "x",
                "y0": 1102.857142857143,
                "y1": 1102.857142857143,
                "yref": "y"
               },
               {
                "line": {
                 "color": "red",
                 "dash": "dashdot"
                },
                "type": "line",
                "x0": "2024-01-01T00:00:00",
                "x1": "2024-01-21T00:00:00",
                "xref": "x",
                "y0": 1119.615142857143,
                "y1": 1119.615142857143,
                "yref": "y"
               },
               {
                "line": {
                 "color": "red",
                 "dash": "dashdot"
                },
                "type": "line",
                "x0": "2024-01-01T00:00:00",
                "x1": "2024-01-21T00:00:00",
                "xref": "x",
                "y0": 1086.0991428571429,
                "y1": 1086.0991428571429,
                "yref": "y"
               },
               {
                "line": {
                 "color": "pink",
                 "dash": "dot"
                },
                "type": "line",
                "x0": "2024-01-01T00:00:00",
                "x1": "2024-01-21T00:00:00",
                "xref": "x",
                "y0": 1111.236142857143,
                "y1": 1111.236142857143,
                "yref": "y"
               },
               {
                "line": {
                 "color": "pink",
                 "dash": "dot"
                },
                "type": "line",
                "x0": "2024-01-01T00:00:00",
                "x1": "2024-01-21T00:00:00",
                "xref": "x",
                "y0": 1094.4781428571428,
                "y1": 1094.4781428571428,
                "yref": "y"
               },
               {
                "line": {
                 "color": "gray",
                 "dash": "dashdot"
                },
                "type": "line",
                "x0": "2024-01-01T00:00:00",
                "x1": "2024-01-21T00:00:00",
                "xref": "x",
                "y0": 6.3,
                "y1": 6.3,
                "yref": "y2"
               },
               {
                "line": {
                 "color": "red",
                 "dash": "dashdot"
                },
                "type": "line",
                "x0": "2024-01-01T00:00:00",
                "x1": "2024-01-21T00:00:00",
                "xref": "x",
                "y0": 20.588399999999996,
                "y1": 20.588399999999996,
                "yref": "y2"
               },
               {
                "line": {
                 "color": "pink",
                 "dash": "dot"
                },
                "type": "line",
                "x0": "2024-01-01T00:00:00",
                "x1": "2024-01-21T00:00:00",
                "xref": "x",
                "y0": 13.444199999999999,
                "y1": 13.444199999999999,
                "yref": "y2"
               },
               {
                "line": {
                 "color": "gray",
                 "dash": "dashdot"
                },
                "type": "line",
                "x0": "2024-01-21T00:00:00",
                "x1": "2024-03-01T00:00:00",
                "xref": "x",
                "y0": 1185.7073170731708,
                "y1": 1185.7073170731708,
                "yref": "y"
               },
               {
                "line": {
                 "color": "red",
                 "dash": "dashdot"
                },
                "type": "line",
                "x0": "2024-01-21T00:00:00",
                "x1": "2024-03-01T00:00:00",
                "xref": "x",
                "y0": 1262.1823170731707,
                "y1": 1262.1823170731707,
                "yref": "y"
               },
               {
                "line": {
                 "color": "red",
                 "dash": "dashdot"
                },
                "type": "line",
                "x0": "2024-01-21T00:00:00",
                "x1": "2024-03-01T00:00:00",
                "xref": "x",
                "y0": 1109.2323170731709,
                "y1": 1109.2323170731709,
                "yref": "y"
               },
               {
                "line": {
                 "color": "pink",
                 "dash": "dot"
                },
                "type": "line",
                "x0": "2024-01-21T00:00:00",
                "x1": "2024-03-01T00:00:00",
                "xref": "x",
                "y0": 1223.9448170731707,
                "y1": 1223.9448170731707,
                "yref": "y"
               },
               {
                "line": {
                 "color": "pink",
                 "dash": "dot"
                },
                "type": "line",
                "x0": "2024-01-21T00:00:00",
                "x1": "2024-03-01T00:00:00",
                "xref": "x",
                "y0": 1147.4698170731708,
                "y1": 1147.4698170731708,
                "yref": "y"
               },
               {
                "line": {
                 "color": "gray",
                 "dash": "dashdot"
                },
                "type": "line",
                "x0": "2024-01-21T00:00:00",
                "x1": "2024-03-01T00:00:00",
                "xref": "x",
                "y0": 28.75,
                "y1": 28.75,
                "yref": "y2"
               },
               {
                "line": {
                 "color": "red",
                 "dash": "dashdot"
                },
                "type": "line",
                "x0": "2024-01-21T00:00:00",
                "x1": "2024-03-01T00:00:00",
                "xref": "x",
                "y0": 93.955,
                "y1": 93.955,
                "yref": "y2"
               },
               {
                "line": {
                 "color": "pink",
                 "dash": "dot"
                },
                "type": "line",
                "x0": "2024-01-21T00:00:00",
                "x1": "2024-03-01T00:00:00",
                "xref": "x",
                "y0": 61.3525,
                "y1": 61.3525,
                "yref": "y2"
               },
               {
                "line": {
                 "color": "gray",
                 "dash": "dashdot"
                },
                "type": "line",
                "x0": "2024-03-01T00:00:00",
                "x1": "2024-04-09T00:00:00",
                "xref": "x",
                "y0": 1203.7,
                "y1": 1203.7,
                "yref": "y"
               },
               {
                "line": {
                 "color": "red",
                 "dash": "dashdot"
                },
                "type": "line",
                "x0": "2024-03-01T00:00:00",
                "x1": "2024-04-09T00:00:00",
                "xref": "x",
                "y0": 1268.6312820512821,
                "y1": 1268.6312820512821,
                "yref": "y"
               },
               {
                "line": {
                 "color": "red",
                 "dash": "dashdot"
                },
                "type": "line",
                "x0": "2024-03-01T00:00:00",
                "x1": "2024-04-09T00:00:00",
                "xref": "x",
                "y0": 1138.768717948718,
                "y1": 1138.768717948718,
                "yref": "y"
               },
               {
                "line": {
                 "color": "pink",
                 "dash": "dot"
                },
                "type": "line",
                "x0": "2024-03-01T00:00:00",
                "x1": "2024-04-09T00:00:00",
                "xref": "x",
                "y0": 1236.165641025641,
                "y1": 1236.165641025641,
                "yref": "y"
               },
               {
                "line": {
                 "color": "pink",
                 "dash": "dot"
                },
                "type": "line",
                "x0": "2024-03-01T00:00:00",
                "x1": "2024-04-09T00:00:00",
                "xref": "x",
                "y0": 1171.234358974359,
                "y1": 1171.234358974359,
                "yref": "y"
               },
               {
                "line": {
                 "color": "gray",
                 "dash": "dashdot"
                },
                "type": "line",
                "x0": "2024-03-01T00:00:00",
                "x1": "2024-04-09T00:00:00",
                "xref": "x",
                "y0": 24.41025641025641,
                "y1": 24.41025641025641,
                "yref": "y2"
               },
               {
                "line": {
                 "color": "red",
                 "dash": "dashdot"
                },
                "type": "line",
                "x0": "2024-03-01T00:00:00",
                "x1": "2024-04-09T00:00:00",
                "xref": "x",
                "y0": 79.77271794871794,
                "y1": 79.77271794871794,
                "yref": "y2"
               },
               {
                "line": {
                 "color": "pink",
                 "dash": "dot"
                },
                "type": "line",
                "x0": "2024-03-01T00:00:00",
                "x1": "2024-04-09T00:00:00",
                "xref": "x",
                "y0": 52.091487179487174,
                "y1": 52.091487179487174,
                "yref": "y2"
               },
               {
                "fillcolor": "purple",
                "line": {
                 "color": "blue",
                 "dash": "longdashdot",
                 "width": 2
                },
                "name": "Short Run",
                "opacity": 0.2,
                "path": "M 1704960000000.0 1100.0 L 1705046400000.0 1101.0 L 1705132800000.0 1103.0 L 1705219200000.0 1104.0 L 1705305600000.0 1106.0 L 1705392000000.0 1157.0 L 1705478400000.0 1159.0 L 1705564800000.0 1160.0 L 1705651200000.0 1162.0 L 1705737600000.0 1163.0 L 1705824000000.0 1165.0 L 1705910400000.0 1166.0 L 1705996800000.0 1168.0 L 1706083200000.0 1169.0 L 1706169600000.0 1171.0 L 1706169600000.0 1101.0 L 1706083200000.0 1099.0 L 1705996800000.0 1098.0 L 1705910400000.0 1096.0 L 1705824000000.0 1095.0 L 1705737600000.0 1093.0 L 1705651200000.0 1092.0 L 1705564800000.0 1090.0 L 1705478400000.0 1089.0 L 1705392000000.0 1087.0 L 1705305600000.0 1036.0 L 1705219200000.0 1034.0 L 1705132800000.0 1033.0 L 1705046400000.0 1031.0 L 1704960000000.0 1030.0 Z",
                "type": "path"
               },
               {
                "fillcolor": "purple",
                "line": {
                 "color": "blue",
                 "dash": "longdashdot",
                 "width": 2
                },
                "name": "Short Run",
                "opacity": 0.2,
                "path": "M 1706342400000.0 1174.0 L 1706428800000.0 1175.0 L 1706515200000.0 1177.0 L 1706601600000.0 1178.0 L 1706688000000.0 1180.0 L 1706774400000.0 1181.0 L 1706860800000.0 1183.0 L 1706860800000.0 1113.0 L 1706774400000.0 1111.0 L 1706688000000.0 1110.0 L 1706601600000.0 1108.0 L 1706515200000.0 1107.0 L 1706428800000.0 1105.0 L 1706342400000.0 1104.0 Z",
                "type": "path"
               },
               {
                "fillcolor": "purple",
                "line": {
                 "color": "blue",
                 "dash": "longdashdot",
                 "width": 2
                },
                "name": "Short Run",
                "opacity": 0.2,
                "path": "M 1707552000000.0 1145.0 L 1707638400000.0 1147.0 L 1707724800000.0 1148.0 L 1707811200000.0 1150.0 L 1707897600000.0 1151.0 L 1707984000000.0 1203.0 L 1707984000000.0 1133.0 L 1707897600000.0 1081.0 L 1707811200000.0 1080.0 L 1707724800000.0 1078.0 L 1707638400000.0 1077.0 L 1707552000000.0 1075.0 Z",
                "type": "path"
               },
               {
                "fillcolor": "purple",
                "line": {
                 "color": "blue",
                 "dash": "longdashdot",
                 "width": 2
                },
                "name": "Short Run",
                "opacity": 0.2,
                "path": "M 1708416000000.0 1410.0 L 1708502400000.0 1412.0 L 1708588800000.0 1413.0 L 1708675200000.0 1415.0 L 1708761600000.0 1416.0 L 1708848000000.0 1218.0 L 1708848000000.0 1148.0 L 1708761600000.0 1346.0 L 1708675200000.0 1345.0 L 1708588800000.0 1343.0 L 1708502400000.0 1342.0 L 1708416000000.0 1340.0 Z",
                "type": "path"
               },
               {
                "fillcolor": "purple",
                "line": {
                 "color": "blue",
                 "dash": "longdashdot",
                 "width": 2
                },
                "name": "Short Run",
                "opacity": 0.2,
                "path": "M 1710140400000.0 1191.0 L 1710226800000.0 1192.0 L 1710313200000.0 1194.0 L 1710399600000.0 1195.0 L 1710486000000.0 1197.0 L 1710572400000.0 1248.0 L 1710572400000.0 1178.0 L 1710486000000.0 1127.0 L 1710399600000.0 1125.0 L 1710313200000.0 1124.0 L 1710226800000.0 1122.0 L 1710140400000.0 1121.0 Z",
                "type": "path"
               },
               {
                "fillcolor": "purple",
                "line": {
                 "color": "blue",
                 "dash": "longdashdot",
                 "width": 2
                },
                "name": "Short Run",
                "opacity": 0.2,
                "path": "M 1711954800000.0 1272.0 L 1712041200000.0 1274.0 L 1712127600000.0 1275.0 L 1712214000000.0 1277.0 L 1712300400000.0 1278.0 L 1712386800000.0 1280.0 L 1712473200000.0 1281.0 L 1712559600000.0 1283.0 L 1712646000000.0 1285.0 L 1712646000000.0 1215.0 L 1712559600000.0 1213.0 L 1712473200000.0 1211.0 L 1712386800000.0 1210.0 L 1712300400000.0 1208.0 L 1712214000000.0 1207.0 L 1712127600000.0 1205.0 L 1712041200000.0 1204.0 L 1711954800000.0 1202.0 Z",
                "type": "path"
               }
              ]
             }
            ],
            "label": "Short Runs",
            "method": "update"
           },
           {
            "args": [
             {
              "visible": [
               true,
               true,
               true,
               true
              ]
             },
             {
              "annotations": [
               {
                "font": {
                 "size": 16
                },
                "showarrow": false,
                "text": "Daily Vehicle Counts - XmR Chart",
                "x": 0.5,
                "xanchor": "center",
                "xref": "paper",
                "y": 1.1,
                "yanchor": "top",
                "yref": "paper"
               },
               {
                "font": {
                 "size": 10
                },
                "showarrow": false,
                "text": "<b>mR Upper Limit = 20.588</b>",
                "x": 0.01,
                "xanchor": "left",
                "xref": "paper",
                "y": 21.617819999999995,
                "yanchor": "auto",
                "yref": "y2"
               },
               {
                "font": {
                 "size": 10
                },
                "showarrow": false,
                "text": "<b>vehicle_counts Upper Limit = 1119.615</b>",
                "x": 0.01,
                "xanchor": "left",
                "xref": "paper",
                "y": 1120.620622857143,
                "yanchor": "auto",
                "yref": "y"
               },
               {
                "font": {
                 "size": 10
                },
                "showarrow": false,
                "text": "<b>vehicle_counts Lower Limit = 1086.099</b>",
                "x": 0.01,
                "xanchor": "left",
                "xref": "paper",
                "y": 1085.0936628571428,
                "yanchor": "auto",
                "yref": "y"
               }
              ],
              "shapes": [
               {
                "line": {
                 "color": "gray",
                 "dash": "dashdot"
                },
                "type": "line",
                "x0": "2024-01-01T00:00:00",
                "x1": "2024-01-21T00:00:00",
                "xref": "x",
                "y0": 1102.857142857143,
                "y1": 1102.857142857143,
                "yref": "y"
               },
               {
                "line": {
                 "color": "red",
                 "dash": "dashdot"
                },
                "type": "line",
                "x0": "2024-01-01T00:00:00",
                "x1": "2024-01-21T00:00:00",
                "xref": "x",
                "y0": 1119.615142857143,
                "y1": 1119.615142857143,
                "yref": "y"
               },
               {
                "line": {
                 "color": "red",
                 "dash": "dashdot"
                },
                "type": "line",
                "x0": "2024-01-01T00:00:00",
                "x1": "2024-01-21T00:00:00",
                "xref": "x",
                "y0": 1086.0991428571429,
                "y1": 1086.0991428571429,
                "yref": "y"
               },
               {
                "line": {
                 "color": "pink",
                 "dash": "dot"
                },
                "type": "line",
                "x0": "2024-01-01T00:00:00",
                "x1": "2024-01-21T00:00:00",
                "xref": "x",
                "y0": 1111.236142857143,
                "y1": 1111.236142857143,
                "yref": "y"
               },
               {
                "line": {
                 "color": "pink",
                 "dash": "dot"
                },
                "type": "line",
                "x0": "2024-01-01T00:00:00",
                "x1": "2024-01-21T00:00:00",
                "xref": "x",
                "y0": 1094.4781428571428,
                "y1": 1094.4781428571428,
                "yref": "y"
               },
               {
                "line": {
                 "color": "gray",
                 "dash": "dashdot"
                },
                "type": "line",
                "x0": "2024-01-01T00:00:00",
                "x1": "2024-01-21T00:00:00",
                "xref": "x",
                "y0": 6.3,
                "y1": 6.3,
                "yref": "y2"
               },
               {
                "line": {
                 "color": "red",
                 "dash": "dashdot"
                },
                "type": "line",
                "x0": "2024-01-01T00:00:00",
                "x1": "2024-01-21T00:00:00",
                "xref": "x",
                "y0": 20.588399999999996,
                "y1": 20.588399999999996,
                "yref": "y2"
               },
               {
                "line": {
                 "color": "pink",
                 "dash": "dot"
                },
                "type": "line",
                "x0": "2024-01-01T00:00:00",
                "x1": "2024-01-21T00:00:00",
                "xref": "x",
                "y0": 13.444199999999999,
                "y1": 13.444199999999999,
                "yref": "y2"
               },
               {
                "line": {
                 "color": "gray",
                 "dash": "dashdot"
                },
                "type": "line",
                "x0": "2024-01-21T00:00:00",
                "x1": "2024-03-01T00:00:00",
                "xref": "x",
                "y0": 1185.7073170731708,
                "y1": 1185.7073170731708,
                "yref": "y"
               },
               {
                "line": {
                 "color": "red",
                 "dash": "dashdot"
                },
                "type": "line",
                "x0": "2024-01-21T00:00:00",
                "x1": "2024-03-01T00:00:00",
                "xref": "x",
                "y0": 1262.1823170731707,
                "y1": 1262.1823170731707,
                "yref": "y"
               },
               {
                "line": {
                 "color": "red",
                 "dash": "dashdot"
                },
                "type": "line",
                "x0": "2024-01-21T00:00:00",
                "x1": "2024-03-01T00:00:00",
                "xref": "x",
                "y0": 1109.2323170731709,
                "y1": 1109.2323170731709,
                "yref": "y"
               },
               {
                "line": {
                 "color": "pink",
                 "dash": "dot"
                },
                "type": "line",
                "x0": "2024-01-21T00:00:00",
                "x1": "2024-03-01T00:00:00",
                "xref": "x",
                "y0": 1223.9448170731707,
                "y1": 1223.9448170731707,
                "yref": "y"
               },
               {
                "line": {
                 "color": "pink",
                 "dash": "dot"
                },
                "type": "line",
                "x0": "2024-01-21T00:00:00",
                "x1": "2024-03-01T00:00:00",
                "xref": "x",
                "y0": 1147.4698170731708,
                "y1": 1147.4698170731708,
                "yref": "y"
               },
               {
                "line": {
                 "color": "gray",
                 "dash": "dashdot"
                },
                "type": "line",
                "x0": "2024-01-21T00:00:00",
                "x1": "2024-03-01T00:00:00",
                "xref": "x",
                "y0": 28.75,
                "y1": 28.75,
                "yref": "y2"
               },
               {
                "line": {
                 "color": "red",
                 "dash": "dashdot"
                },
                "type": "line",
                "x0": "2024-01-21T00:00:00",
                "x1": "2024-03-01T00:00:00",
                "xref": "x",
                "y0": 93.955,
                "y1": 93.955,
                "yref": "y2"
               },
               {
                "line": {
                 "color": "pink",
                 "dash": "dot"
                },
                "type": "line",
                "x0": "2024-01-21T00:00:00",
                "x1": "2024-03-01T00:00:00",
                "xref": "x",
                "y0": 61.3525,
                "y1": 61.3525,
                "yref": "y2"
               },
               {
                "line": {
                 "color": "gray",
                 "dash": "dashdot"
                },
                "type": "line",
                "x0": "2024-03-01T00:00:00",
                "x1": "2024-04-09T00:00:00",
                "xref": "x",
                "y0": 1203.7,
                "y1": 1203.7,
                "yref": "y"
               },
               {
                "line": {
                 "color": "red",
                 "dash": "dashdot"
                },
                "type": "line",
                "x0": "2024-03-01T00:00:00",
                "x1": "2024-04-09T00:00:00",
                "xref": "x",
                "y0": 1268.6312820512821,
                "y1": 1268.6312820512821,
                "yref": "y"
               },
               {
                "line": {
                 "color": "red",
                 "dash": "dashdot"
                },
                "type": "line",
                "x0": "2024-03-01T00:00:00",
                "x1": "2024-04-09T00:00:00",
                "xref": "x",
                "y0": 1138.768717948718,
                "y1": 1138.768717948718,
                "yref": "y"
               },
               {
                "line": {
                 "color": "pink",
                 "dash": "dot"
                },
                "type": "line",
                "x0": "2024-03-01T00:00:00",
                "x1": "2024-04-09T00:00:00",
                "xref": "x",
                "y0": 1236.165641025641,
                "y1": 1236.165641025641,
                "yref": "y"
               },
               {
                "line": {
                 "color": "pink",
                 "dash": "dot"
                },
                "type": "line",
                "x0": "2024-03-01T00:00:00",
                "x1": "2024-04-09T00:00:00",
                "xref": "x",
                "y0": 1171.234358974359,
                "y1": 1171.234358974359,
                "yref": "y"
               },
               {
                "line": {
                 "color": "gray",
                 "dash": "dashdot"
                },
                "type": "line",
                "x0": "2024-03-01T00:00:00",
                "x1": "2024-04-09T00:00:00",
                "xref": "x",
                "y0": 24.41025641025641,
                "y1": 24.41025641025641,
                "yref": "y2"
               },
               {
                "line": {
                 "color": "red",
                 "dash": "dashdot"
                },
                "type": "line",
                "x0": "2024-03-01T00:00:00",
                "x1": "2024-04-09T00:00:00",
                "xref": "x",
                "y0": 79.77271794871794,
                "y1": 79.77271794871794,
                "yref": "y2"
               },
               {
                "line": {
                 "color": "pink",
                 "dash": "dot"
                },
                "type": "line",
                "x0": "2024-03-01T00:00:00",
                "x1": "2024-04-09T00:00:00",
                "xref": "x",
                "y0": 52.091487179487174,
                "y1": 52.091487179487174,
                "yref": "y2"
               },
               {
                "fillcolor": "pink",
                "line": {
                 "color": "purple",
                 "dash": "longdashdot",
                 "width": 2
                },
                "name": "Long Run",
                "opacity": 0.2,
                "path": "M 1704268800000.0 1138.0 L 1704355200000.0 1139.0 L 1704441600000.0 1141.0 L 1704528000000.0 1142.0 L 1704614400000.0 1144.0 L 1704700800000.0 1145.0 L 1704787200000.0 1147.0 L 1704873600000.0 1148.0 L 1704873600000.0 1078.0 L 1704787200000.0 1077.0 L 1704700800000.0 1075.0 L 1704614400000.0 1074.0 L 1704528000000.0 1072.0 L 1704441600000.0 1071.0 L 1704355200000.0 1069.0 L 1704268800000.0 1068.0 Z",
                "type": "path"
               },
               {
                "fillcolor": "pink",
                "line": {
                 "color": "purple",
                 "dash": "longdashdot",
                 "width": 2
                },
                "name": "Long Run",
                "opacity": 0.2,
                "path": "M 1706342400000.0 1174.0 L 1706428800000.0 1175.0 L 1706515200000.0 1177.0 L 1706601600000.0 1178.0 L 1706688000000.0 1180.0 L 1706774400000.0 1181.0 L 1706860800000.0 1183.0 L 1706947200000.0 1185.0 L 1707033600000.0 1186.0 L 1707120000000.0 1188.0 L 1707206400000.0 1189.0 L 1707292800000.0 1191.0 L 1707379200000.0 1192.0 L 1707465600000.0 1194.0 L 1707552000000.0 1145.0 L 1707638400000.0 1147.0 L 1707724800000.0 1148.0 L 1707811200000.0 1150.0 L 1707897600000.0 1151.0 L 1707984000000.0 1203.0 L 1708070400000.0 1204.0 L 1708156800000.0 1206.0 L 1708243200000.0 1207.0 L 1708329600000.0 1209.0 L 1708329600000.0 1139.0 L 1708243200000.0 1137.0 L 1708156800000.0 1136.0 L 1708070400000.0 1134.0 L 1707984000000.0 1133.0 L 1707897600000.0 1081.0 L 1707811200000.0 1080.0 L 1707724800000.0 1078.0 L 1707638400000.0 1077.0 L 1707552000000.0 1075.0 L 1707465600000.0 1124.0 L 1707379200000.0 1122.0 L 1707292800000.0 1121.0 L 1707206400000.0 1119.0 L 1707120000000.0 1118.0 L 1707033600000.0 1116.0 L 1706947200000.0 1115.0 L 1706860800000.0 1113.0 L 1706774400000.0 1111.0 L 1706688000000.0 1110.0 L 1706601600000.0 1108.0 L 1706515200000.0 1107.0 L 1706428800000.0 1105.0 L 1706342400000.0 1104.0 Z",
                "type": "path"
               },
               {
                "fillcolor": "pink",
                "line": {
                 "color": "purple",
                 "dash": "longdashdot",
                 "width": 2
                },
                "name": "Long Run",
                "opacity": 0.2,
                "path": "M 1709280000000.0 1225.0 L 1709366400000.0 1227.0 L 1709452800000.0 1228.0 L 1709539200000.0 1230.0 L 1709625600000.0 1231.0 L 1709712000000.0 1233.0 L 1709798400000.0 1235.0 L 1709884800000.0 1236.0 L 1709971200000.0 1238.0 L 1709971200000.0 1168.0 L 1709884800000.0 1166.0 L 1709798400000.0 1165.0 L 1709712000000.0 1163.0 L 1709625600000.0 1161.0 L 1709539200000.0 1160.0 L 1709452800000.0 1158.0 L 1709366400000.0 1157.0 L 1709280000000.0 1155.0 Z",
                "type": "path"
               },
               {
                "fillcolor": "pink",
                "line": {
                 "color": "purple",
                 "dash": "longdashdot",
                 "width": 2
                },
                "name": "Long Run",
                "opacity": 0.2,
                "path": "M 1711090800000.0 1257.0 L 1711177200000.0 1259.0 L 1711263600000.0 1260.0 L 1711350000000.0 1262.0 L 1711436400000.0 1263.0 L 1711522800000.0 1265.0 L 1711609200000.0 1266.0 L 1711695600000.0 1268.0 L 1711782000000.0 1269.0 L 1711868400000.0 1271.0 L 1711954800000.0 1272.0 L 1712041200000.0 1274.0 L 1712127600000.0 1275.0 L 1712214000000.0 1277.0 L 1712300400000.0 1278.0 L 1712386800000.0 1280.0 L 1712473200000.0 1281.0 L 1712559600000.0 1283.0 L 1712646000000.0 1285.0 L 1712646000000.0 1215.0 L 1712559600000.0 1213.0 L 1712473200000.0 1211.0 L 1712386800000.0 1210.0 L 1712300400000.0 1208.0 L 1712214000000.0 1207.0 L 1712127600000.0 1205.0 L 1712041200000.0 1204.0 L 1711954800000.0 1202.0 L 1711868400000.0 1201.0 L 1711782000000.0 1199.0 L 1711695600000.0 1198.0 L 1711609200000.0 1196.0 L 1711522800000.0 1195.0 L 1711436400000.0 1193.0 L 1711350000000.0 1192.0 L 1711263600000.0 1190.0 L 1711177200000.0 1189.0 L 1711090800000.0 1187.0 Z",
                "type": "path"
               },
               {
                "fillcolor": "purple",
                "line": {
                 "color": "blue",
                 "dash": "longdashdot",
                 "width": 2
                },
                "name": "Short Run",
                "opacity": 0.2,
                "path": "M 1704960000000.0 1100.0 L 1705046400000.0 1101.0 L 1705132800000.0 1103.0 L 1705219200000.0 1104.0 L 1705305600000.0 1106.0 L 1705392000000.0 1157.0 L 1705478400000.0 1159.0 L 1705564800000.0 1160.0 L 1705651200000.0 1162.0 L 1705737600000.0 1163.0 L 1705824000000.0 1165.0 L 1705910400000.0 1166.0 L 1705996800000.0 1168.0 L 1706083200000.0 1169.0 L 1706169600000.0 1171.0 L 1706169600000.0 1101.0 L 1706083200000.0 1099.0 L 1705996800000.0 1098.0 L 1705910400000.0 1096.0 L 1705824000000.0 1095.0 L 1705737600000.0 1093.0 L 1705651200000.0 1092.0 L 1705564800000.0 1090.0 L 1705478400000.0 1089.0 L 1705392000000.0 1087.0 L 1705305600000.0 1036.0 L 1705219200000.0 1034.0 L 1705132800000.0 1033.0 L 1705046400000.0 1031.0 L 1704960000000.0 1030.0 Z",
                "type": "path"
               },
               {
                "fillcolor": "purple",
                "line": {
                 "color": "blue",
                 "dash": "longdashdot",
                 "width": 2
                },
                "name": "Short Run",
                "opacity": 0.2,
                "path": "M 1706342400000.0 1174.0 L 1706428800000.0 1175.0 L 1706515200000.0 1177.0 L 1706601600000.0 1178.0 L 1706688000000.0 1180.0 L 1706774400000.0 1181.0 L 1706860800000.0 1183.0 L 1706860800000.0 1113.0 L 1706774400000.0 1111.0 L 1706688000000.0 1110.0 L 1706601600000.0 1108.0 L 1706515200000.0 1107.0 L 1706428800000.0 1105.0 L 1706342400000.0 1104.0 Z",
                "type": "path"
               },
               {
                "fillcolor": "purple",
                "line": {
                 "color": "blue",
                 "dash": "longdashdot",
                 "width": 2
                },
                "name": "Short Run",
                "opacity": 0.2,
                "path": "M 1707552000000.0 1145.0 L 1707638400000.0 1147.0 L 1707724800000.0 1148.0 L 1707811200000.0 1150.0 L 1707897600000.0 1151.0 L 1707984000000.0 1203.0 L 1707984000000.0 1133.0 L 1707897600000.0 1081.0 L 1707811200000.0 1080.0 L 1707724800000.0 1078.0 L 1707638400000.0 1077.0 L 1707552000000.0 1075.0 Z",
                "type": "path"
               },
               {
                "fillcolor": "purple",
                "line": {
                 "color": "blue",
                 "dash": "longdashdot",
                 "width": 2
                },
                "name": "Short Run",
                "opacity": 0.2,
                "path": "M 1708416000000.0 1410.0 L 1708502400000.0 1412.0 L 1708588800000.0 1413.0 L 1708675200000.0 1415.0 L 1708761600000.0 1416.0 L 1708848000000.0 1218.0 L 1708848000000.0 1148.0 L 1708761600000.0 1346.0 L 1708675200000.0 1345.0 L 1708588800000.0 1343.0 L 1708502400000.0 1342.0 L 1708416000000.0 1340.0 Z",
                "type": "path"
               },
               {
                "fillcolor": "purple",
                "line": {
                 "color": "blue",
                 "dash": "longdashdot",
                 "width": 2
                },
                "name": "Short Run",
                "opacity": 0.2,
                "path": "M 1710140400000.0 1191.0 L 1710226800000.0 1192.0 L 1710313200000.0 1194.0 L 1710399600000.0 1195.0 L 1710486000000.0 1197.0 L 1710572400000.0 1248.0 L 1710572400000.0 1178.0 L 1710486000000.0 1127.0 L 1710399600000.0 1125.0 L 1710313200000.0 1124.0 L 1710226800000.0 1122.0 L 1710140400000.0 1121.0 Z",
                "type": "path"
               },
               {
                "fillcolor": "purple",
                "line": {
                 "color": "blue",
                 "dash": "longdashdot",
                 "width": 2
                },
                "name": "Short Run",
                "opacity": 0.2,
                "path": "M 1711954800000.0 1272.0 L 1712041200000.0 1274.0 L 1712127600000.0 1275.0 L 1712214000000.0 1277.0 L 1712300400000.0 1278.0 L 1712386800000.0 1280.0 L 1712473200000.0 1281.0 L 1712559600000.0 1283.0 L 1712646000000.0 1285.0 L 1712646000000.0 1215.0 L 1712559600000.0 1213.0 L 1712473200000.0 1211.0 L 1712386800000.0 1210.0 L 1712300400000.0 1208.0 L 1712214000000.0 1207.0 L 1712127600000.0 1205.0 L 1712041200000.0 1204.0 L 1711954800000.0 1202.0 Z",
                "type": "path"
               }
              ]
             }
            ],
            "label": "All",
            "method": "update"
           }
          ],
          "direction": "right",
          "type": "buttons",
          "x": 0.5,
          "xanchor": "center",
          "y": 1.2
         }
        ],
        "xaxis": {
         "anchor": "y",
         "automargin": true,
         "domain": [
          0,
          1
         ],
         "dtick": "M1",
         "gridcolor": "lightgray",
         "showgrid": true,
         "showline": true,
         "showspikes": true,
         "showticklabels": true,
         "spikemode": "across+toaxis",
         "spikesnap": "cursor",
         "tickangle": 0,
         "tickformat": "%Y-%m-%d",
         "ticklabelmode": "period",
         "type": "date",
         "zeroline": false
        },
        "xaxis2": {
         "anchor": "y2",
         "domain": [
          0,
          1
         ],
         "matches": "x"
        },
        "yaxis": {
         "anchor": "x",
         "domain": [
          0.4,
          1
         ],
         "dtick": 100,
         "range": [
          800,
          1500
         ],
         "tickformat": "0",
         "title": {
          "text": "vehicle_counts"
         }
        },
        "yaxis2": {
         "anchor": "x2",
         "domain": [
          0,
          0.3
         ],
         "dtick": 100,
         "range": [
          0,
          500
         ],
         "tickformat": "0",
         "title": {
          "text": "Moving Range"
         }
        }
       }
      }
     },
     "metadata": {},
     "output_type": "display_data"
    }
   ],
   "source": [
    "# Create XmR chart\n",
    "xmr_chart = xmr.XmR(\n",
    "    data=data_controlled,\n",
    "    x_type='date_time',\n",
    "    x_ser_name='date',\n",
    "    y_ser_name='vehicle_counts',\n",
    "    date_part_resolution='day',\n",
    "    title='Daily Vehicle Counts - XmR Chart',\n",
    "    period_breaks = ['2024-01-21', '2024-03-01'],\n",
    "    # period_end = '2024-01-03',\n",
    "    y_axis_dtick = 100\n",
    "    \n",
    ")\n",
    "\n",
    "# Display the chart\n",
    "\n",
    "xmr_chart.xmr_chart"
   ]
  },
  {
   "cell_type": "code",
   "execution_count": 44,
   "metadata": {},
   "outputs": [
    {
     "data": {
      "text/plain": [
       "{'y_xmr_func': [np.float64(1102.857142857143),\n",
       "  np.float64(1185.7073170731708),\n",
       "  np.float64(1203.7)],\n",
       " 'npl_upper_limit': [np.float64(1119.615142857143),\n",
       "  np.float64(1262.1823170731707),\n",
       "  np.float64(1268.6312820512821)],\n",
       " 'npl_lower_limit': [np.float64(1086.0991428571429),\n",
       "  np.float64(1109.2323170731709),\n",
       "  np.float64(1138.768717948718)],\n",
       " 'xmr_func': 'mean'}"
      ]
     },
     "execution_count": 44,
     "metadata": {},
     "output_type": "execute_result"
    }
   ],
   "source": [
    "xmr_chart.npl_limit_values"
   ]
  }
 ],
 "metadata": {
  "kernelspec": {
   "display_name": "spc-env",
   "language": "python",
   "name": "python3"
  },
  "language_info": {
   "codemirror_mode": {
    "name": "ipython",
    "version": 3
   },
   "file_extension": ".py",
   "mimetype": "text/x-python",
   "name": "python",
   "nbconvert_exporter": "python",
   "pygments_lexer": "ipython3",
   "version": "3.13.0"
  }
 },
 "nbformat": 4,
 "nbformat_minor": 4
}
