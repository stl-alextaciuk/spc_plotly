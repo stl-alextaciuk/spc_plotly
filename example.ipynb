{
 "cells": [
  {
   "cell_type": "markdown",
   "metadata": {},
   "source": [
    "# XmR Chart Example\n",
    "\n",
    "This notebook demonstrates the usage of the spc_plotly package with sample vehicle count data."
   ]
  },
  {
   "cell_type": "code",
   "execution_count": 1,
   "metadata": {},
   "outputs": [],
   "source": [
    "import pandas as pd\n",
    "import numpy as np\n",
    "from datetime import datetime, timedelta\n",
    "from spc_plotly import xmr\n",
    "\n",
    "# Set random seed for reproducibility\n",
    "np.random.seed(475)"
   ]
  },
  {
   "cell_type": "markdown",
   "metadata": {},
   "source": [
    "## Make data"
   ]
  },
  {
   "cell_type": "code",
   "execution_count": 2,
   "metadata": {},
   "outputs": [
    {
     "data": {
      "text/html": [
       "<div>\n",
       "<style scoped>\n",
       "    .dataframe tbody tr th:only-of-type {\n",
       "        vertical-align: middle;\n",
       "    }\n",
       "\n",
       "    .dataframe tbody tr th {\n",
       "        vertical-align: top;\n",
       "    }\n",
       "\n",
       "    .dataframe thead th {\n",
       "        text-align: right;\n",
       "    }\n",
       "</style>\n",
       "<table border=\"1\" class=\"dataframe\">\n",
       "  <thead>\n",
       "    <tr style=\"text-align: right;\">\n",
       "      <th></th>\n",
       "      <th>date</th>\n",
       "      <th>vehicle_counts</th>\n",
       "    </tr>\n",
       "  </thead>\n",
       "  <tbody>\n",
       "    <tr>\n",
       "      <th>0</th>\n",
       "      <td>2024-01-01</td>\n",
       "      <td>942</td>\n",
       "    </tr>\n",
       "    <tr>\n",
       "      <th>1</th>\n",
       "      <td>2024-01-02</td>\n",
       "      <td>1033</td>\n",
       "    </tr>\n",
       "    <tr>\n",
       "      <th>2</th>\n",
       "      <td>2024-01-03</td>\n",
       "      <td>1023</td>\n",
       "    </tr>\n",
       "    <tr>\n",
       "      <th>3</th>\n",
       "      <td>2024-01-04</td>\n",
       "      <td>983</td>\n",
       "    </tr>\n",
       "    <tr>\n",
       "      <th>4</th>\n",
       "      <td>2024-01-05</td>\n",
       "      <td>1011</td>\n",
       "    </tr>\n",
       "  </tbody>\n",
       "</table>\n",
       "</div>"
      ],
      "text/plain": [
       "        date  vehicle_counts\n",
       "0 2024-01-01             942\n",
       "1 2024-01-02            1033\n",
       "2 2024-01-03            1023\n",
       "3 2024-01-04             983\n",
       "4 2024-01-05            1011"
      ]
     },
     "execution_count": 2,
     "metadata": {},
     "output_type": "execute_result"
    }
   ],
   "source": [
    "# Generate 100 days of data\n",
    "start_date = datetime(2024, 1, 1)\n",
    "dates = [start_date + timedelta(days=x) for x in range(100)]\n",
    "\n",
    "# Generate vehicle counts with some patterns:\n",
    "# - Base level around 1000 vehicles\n",
    "# - Gradual upward trend\n",
    "# - Some random variation\n",
    "# - A few anomalies\n",
    "\n",
    "base_counts = 1000\n",
    "trend = np.linspace(0, 200, 100)  # Gradual increase over time\n",
    "variation = np.random.normal(0, 50, 100)  # Random daily variation\n",
    "weekly_pattern = np.tile([50, 30, 0, -20, -30, -80, -100], 15)[:100]  # Weekly patterns\n",
    "\n",
    "# Combine components\n",
    "vehicle_counts = base_counts + trend + variation + weekly_pattern\n",
    "\n",
    "# Add some anomalies\n",
    "vehicle_counts[25] += 300  # Special event\n",
    "vehicle_counts[50:55] += 200  # Construction period\n",
    "vehicle_counts[80] -= 400  # Road closure\n",
    "\n",
    "# Create DataFrame\n",
    "data = pd.DataFrame({\n",
    "    'date': dates,\n",
    "    'vehicle_counts': vehicle_counts.astype(int)\n",
    "})\n",
    "\n",
    "# Display first few rows\n",
    "data.head()"
   ]
  },
  {
   "cell_type": "markdown",
   "metadata": {},
   "source": [
    "## Date example"
   ]
  },
  {
   "cell_type": "code",
   "execution_count": 3,
   "metadata": {},
   "outputs": [
    {
     "ename": "ValueError",
     "evalue": "The truth value of an array with more than one element is ambiguous. Use a.any() or a.all()",
     "output_type": "error",
     "traceback": [
      "\u001b[0;31m---------------------------------------------------------------------------\u001b[0m",
      "\u001b[0;31mValueError\u001b[0m                                Traceback (most recent call last)",
      "Cell \u001b[0;32mIn[3], line 2\u001b[0m\n\u001b[1;32m      1\u001b[0m \u001b[38;5;66;03m# Create XmR chart\u001b[39;00m\n\u001b[0;32m----> 2\u001b[0m xmr_chart \u001b[38;5;241m=\u001b[39m \u001b[43mxmr\u001b[49m\u001b[38;5;241;43m.\u001b[39;49m\u001b[43mXmR\u001b[49m\u001b[43m(\u001b[49m\n\u001b[1;32m      3\u001b[0m \u001b[43m    \u001b[49m\u001b[43mdata\u001b[49m\u001b[38;5;241;43m=\u001b[39;49m\u001b[43mdata\u001b[49m\u001b[43m,\u001b[49m\n\u001b[1;32m      4\u001b[0m \u001b[43m    \u001b[49m\u001b[43mx_type\u001b[49m\u001b[38;5;241;43m=\u001b[39;49m\u001b[38;5;124;43m'\u001b[39;49m\u001b[38;5;124;43mdate_time\u001b[39;49m\u001b[38;5;124;43m'\u001b[39;49m\u001b[43m,\u001b[49m\n\u001b[1;32m      5\u001b[0m \u001b[43m    \u001b[49m\u001b[43mx_ser_name\u001b[49m\u001b[38;5;241;43m=\u001b[39;49m\u001b[38;5;124;43m'\u001b[39;49m\u001b[38;5;124;43mdate\u001b[39;49m\u001b[38;5;124;43m'\u001b[39;49m\u001b[43m,\u001b[49m\n\u001b[1;32m      6\u001b[0m \u001b[43m    \u001b[49m\u001b[43my_ser_name\u001b[49m\u001b[38;5;241;43m=\u001b[39;49m\u001b[38;5;124;43m'\u001b[39;49m\u001b[38;5;124;43mvehicle_counts\u001b[39;49m\u001b[38;5;124;43m'\u001b[39;49m\u001b[43m,\u001b[49m\n\u001b[1;32m      7\u001b[0m \u001b[43m    \u001b[49m\u001b[43mdate_part_resolution\u001b[49m\u001b[38;5;241;43m=\u001b[39;49m\u001b[38;5;124;43m'\u001b[39;49m\u001b[38;5;124;43mday\u001b[39;49m\u001b[38;5;124;43m'\u001b[39;49m\u001b[43m,\u001b[49m\n\u001b[1;32m      8\u001b[0m \u001b[43m    \u001b[49m\u001b[43mtitle\u001b[49m\u001b[38;5;241;43m=\u001b[39;49m\u001b[38;5;124;43m'\u001b[39;49m\u001b[38;5;124;43mDaily Vehicle Counts - XmR Chart\u001b[39;49m\u001b[38;5;124;43m'\u001b[39;49m\u001b[43m,\u001b[49m\n\u001b[1;32m      9\u001b[0m \u001b[43m    \u001b[49m\u001b[43mperiod_breaks\u001b[49m\u001b[43m \u001b[49m\u001b[38;5;241;43m=\u001b[39;49m\u001b[43m \u001b[49m\u001b[43m[\u001b[49m\u001b[38;5;124;43m'\u001b[39;49m\u001b[38;5;124;43m2024-02-01\u001b[39;49m\u001b[38;5;124;43m'\u001b[39;49m\u001b[43m]\u001b[49m\n\u001b[1;32m     10\u001b[0m \u001b[43m)\u001b[49m\n\u001b[1;32m     12\u001b[0m \u001b[38;5;66;03m# Display the chart\u001b[39;00m\n\u001b[1;32m     13\u001b[0m xmr_chart\u001b[38;5;241m.\u001b[39mxmr_chart\n",
      "File \u001b[0;32m~/code/spc_plotly/src/spc_plotly/xmr.py:191\u001b[0m, in \u001b[0;36mXmR.__init__\u001b[0;34m(self, data, y_ser_name, x_ser_name, period_breaks, x_type, date_part_resolution, custom_date_part, x_begin, x_cutoff, title, sloped, xmr_function, chart_height, y_axis_dtick)\u001b[0m\n\u001b[1;32m    189\u001b[0m \u001b[38;5;28mself\u001b[39m\u001b[38;5;241m.\u001b[39m_height \u001b[38;5;241m=\u001b[39m chart_height\n\u001b[1;32m    190\u001b[0m \u001b[38;5;28mself\u001b[39m\u001b[38;5;241m.\u001b[39my_axis_dtick \u001b[38;5;241m=\u001b[39m y_axis_dtick\n\u001b[0;32m--> 191\u001b[0m \u001b[38;5;28mself\u001b[39m\u001b[38;5;241m.\u001b[39mxmr_chart, \u001b[38;5;28mself\u001b[39m\u001b[38;5;241m.\u001b[39msignals \u001b[38;5;241m=\u001b[39m \u001b[38;5;28;43mself\u001b[39;49m\u001b[38;5;241;43m.\u001b[39;49m\u001b[43m_XmR_chart\u001b[49m\u001b[43m(\u001b[49m\u001b[43m)\u001b[49m\n",
      "File \u001b[0;32m~/code/spc_plotly/src/spc_plotly/xmr.py:412\u001b[0m, in \u001b[0;36mXmR._XmR_chart\u001b[0;34m(self)\u001b[0m\n\u001b[1;32m    399\u001b[0m limit_line_annotations \u001b[38;5;241m=\u001b[39m annotations\u001b[38;5;241m.\u001b[39m_create_limit_line_annotations(\n\u001b[1;32m    400\u001b[0m     data\u001b[38;5;241m=\u001b[39m\u001b[38;5;28mself\u001b[39m\u001b[38;5;241m.\u001b[39mdata,\n\u001b[1;32m    401\u001b[0m     chart_title\u001b[38;5;241m=\u001b[39m\u001b[38;5;28mself\u001b[39m\u001b[38;5;241m.\u001b[39m_title,\n\u001b[0;32m   (...)\u001b[0m\n\u001b[1;32m    408\u001b[0m     sloped\u001b[38;5;241m=\u001b[39m\u001b[38;5;28mself\u001b[39m\u001b[38;5;241m.\u001b[39msloped,\n\u001b[1;32m    409\u001b[0m )\n\u001b[1;32m    410\u001b[0m fig_XmR\u001b[38;5;241m.\u001b[39mlayout\u001b[38;5;241m.\u001b[39mannotations \u001b[38;5;241m=\u001b[39m limit_line_annotations\n\u001b[0;32m--> 412\u001b[0m fig_XmR, anomalies \u001b[38;5;241m=\u001b[39m \u001b[43msignals\u001b[49m\u001b[38;5;241;43m.\u001b[39;49m\u001b[43m_anomalies\u001b[49m\u001b[43m(\u001b[49m\n\u001b[1;32m    413\u001b[0m \u001b[43m    \u001b[49m\u001b[43mfig\u001b[49m\u001b[38;5;241;43m=\u001b[39;49m\u001b[43mfig_XmR\u001b[49m\u001b[43m,\u001b[49m\n\u001b[1;32m    414\u001b[0m \u001b[43m    \u001b[49m\u001b[43mnpl_upper\u001b[49m\u001b[38;5;241;43m=\u001b[39;49m\u001b[38;5;28;43mself\u001b[39;49m\u001b[38;5;241;43m.\u001b[39;49m\u001b[43mnpl_limit_values\u001b[49m\u001b[38;5;241;43m.\u001b[39;49m\u001b[43mget\u001b[49m\u001b[43m(\u001b[49m\u001b[38;5;124;43m\"\u001b[39;49m\u001b[38;5;124;43mnpl_upper_limit\u001b[39;49m\u001b[38;5;124;43m\"\u001b[39;49m\u001b[43m)\u001b[49m\u001b[43m,\u001b[49m\n\u001b[1;32m    415\u001b[0m \u001b[43m    \u001b[49m\u001b[43mnpl_lower\u001b[49m\u001b[38;5;241;43m=\u001b[39;49m\u001b[38;5;28;43mself\u001b[39;49m\u001b[38;5;241;43m.\u001b[39;49m\u001b[43mnpl_limit_values\u001b[49m\u001b[38;5;241;43m.\u001b[39;49m\u001b[43mget\u001b[49m\u001b[43m(\u001b[49m\u001b[38;5;124;43m\"\u001b[39;49m\u001b[38;5;124;43mnpl_lower_limit\u001b[39;49m\u001b[38;5;124;43m\"\u001b[39;49m\u001b[43m)\u001b[49m\u001b[43m,\u001b[49m\n\u001b[1;32m    416\u001b[0m \u001b[43m    \u001b[49m\u001b[43mmR_upper\u001b[49m\u001b[38;5;241;43m=\u001b[39;49m\u001b[38;5;28;43mself\u001b[39;49m\u001b[38;5;241;43m.\u001b[39;49m\u001b[43mmR_limit_values\u001b[49m\u001b[38;5;241;43m.\u001b[39;49m\u001b[43mget\u001b[49m\u001b[43m(\u001b[49m\u001b[38;5;124;43m\"\u001b[39;49m\u001b[38;5;124;43mmR_upper_limit\u001b[39;49m\u001b[38;5;124;43m\"\u001b[39;49m\u001b[43m)\u001b[49m\u001b[43m,\u001b[49m\n\u001b[1;32m    417\u001b[0m \u001b[43m    \u001b[49m\u001b[43msloped\u001b[49m\u001b[38;5;241;43m=\u001b[39;49m\u001b[38;5;28;43mself\u001b[39;49m\u001b[38;5;241;43m.\u001b[39;49m\u001b[43msloped\u001b[49m\u001b[43m,\u001b[49m\n\u001b[1;32m    418\u001b[0m \u001b[43m\u001b[49m\u001b[43m)\u001b[49m\n\u001b[1;32m    420\u001b[0m long_run_shapes, long_runs \u001b[38;5;241m=\u001b[39m signals\u001b[38;5;241m.\u001b[39m_long_run_test(\n\u001b[1;32m    421\u001b[0m     fig\u001b[38;5;241m=\u001b[39mfig_XmR,\n\u001b[1;32m    422\u001b[0m     x_type\u001b[38;5;241m=\u001b[39m\u001b[38;5;28mself\u001b[39m\u001b[38;5;241m.\u001b[39mx_type,\n\u001b[1;32m    423\u001b[0m     y_xmr_func\u001b[38;5;241m=\u001b[39m\u001b[38;5;28mself\u001b[39m\u001b[38;5;241m.\u001b[39mnpl_limit_values\u001b[38;5;241m.\u001b[39mget(\u001b[38;5;124m\"\u001b[39m\u001b[38;5;124my_xmr_func\u001b[39m\u001b[38;5;124m\"\u001b[39m),\n\u001b[1;32m    424\u001b[0m     sloped\u001b[38;5;241m=\u001b[39m\u001b[38;5;28mself\u001b[39m\u001b[38;5;241m.\u001b[39msloped,\n\u001b[1;32m    425\u001b[0m )\n\u001b[1;32m    427\u001b[0m short_run_shapes, short_runs \u001b[38;5;241m=\u001b[39m signals\u001b[38;5;241m.\u001b[39m_short_run_test(\n\u001b[1;32m    428\u001b[0m     fig_XmR,\n\u001b[1;32m    429\u001b[0m     x_type\u001b[38;5;241m=\u001b[39m\u001b[38;5;28mself\u001b[39m\u001b[38;5;241m.\u001b[39mx_type,\n\u001b[0;32m   (...)\u001b[0m\n\u001b[1;32m    433\u001b[0m     sloped\u001b[38;5;241m=\u001b[39m\u001b[38;5;28mself\u001b[39m\u001b[38;5;241m.\u001b[39msloped,\n\u001b[1;32m    434\u001b[0m )\n",
      "File \u001b[0;32m~/code/spc_plotly/src/spc_plotly/helpers/signals.py:49\u001b[0m, in \u001b[0;36m_anomalies\u001b[0;34m(fig, npl_upper, npl_lower, mR_upper, sloped, period_ranges)\u001b[0m\n\u001b[1;32m     40\u001b[0m     anomaly_points \u001b[38;5;241m=\u001b[39m [\n\u001b[1;32m     41\u001b[0m         (x, y, upper \u001b[38;5;28;01mif\u001b[39;00m upper \u001b[38;5;129;01mis\u001b[39;00m \u001b[38;5;129;01mnot\u001b[39;00m \u001b[38;5;28;01mNone\u001b[39;00m \u001b[38;5;28;01melse\u001b[39;00m lower)\n\u001b[1;32m     42\u001b[0m         \u001b[38;5;28;01mfor\u001b[39;00m (x, y, upper, lower) \u001b[38;5;129;01min\u001b[39;00m anomaly_points_raw\n\u001b[1;32m     43\u001b[0m         \u001b[38;5;28;01mif\u001b[39;00m \u001b[38;5;129;01mnot\u001b[39;00m (upper \u001b[38;5;129;01mis\u001b[39;00m \u001b[38;5;28;01mNone\u001b[39;00m \u001b[38;5;129;01mand\u001b[39;00m lower \u001b[38;5;129;01mis\u001b[39;00m \u001b[38;5;28;01mNone\u001b[39;00m)\n\u001b[1;32m     44\u001b[0m     ]\n\u001b[1;32m     45\u001b[0m \u001b[38;5;28;01melse\u001b[39;00m:\n\u001b[1;32m     46\u001b[0m     anomaly_points \u001b[38;5;241m=\u001b[39m [\n\u001b[1;32m     47\u001b[0m         (x, y, \u001b[38;5;124m\"\u001b[39m\u001b[38;5;124mHigh\u001b[39m\u001b[38;5;124m\"\u001b[39m \u001b[38;5;28;01mif\u001b[39;00m y \u001b[38;5;241m>\u001b[39m\u001b[38;5;241m=\u001b[39m npl_upper \u001b[38;5;28;01melse\u001b[39;00m \u001b[38;5;124m\"\u001b[39m\u001b[38;5;124mLow\u001b[39m\u001b[38;5;124m\"\u001b[39m)\n\u001b[1;32m     48\u001b[0m         \u001b[38;5;28;01mfor\u001b[39;00m x, y \u001b[38;5;129;01min\u001b[39;00m \u001b[38;5;28mzip\u001b[39m(fig_data[\u001b[38;5;241m0\u001b[39m]\u001b[38;5;241m.\u001b[39mx, fig_data[\u001b[38;5;241m0\u001b[39m]\u001b[38;5;241m.\u001b[39my)\n\u001b[0;32m---> 49\u001b[0m         \u001b[38;5;28;01mif\u001b[39;00m \u001b[43my\u001b[49m\u001b[43m \u001b[49m\u001b[38;5;241;43m>\u001b[39;49m\u001b[38;5;241;43m=\u001b[39;49m\u001b[43m \u001b[49m\u001b[43mnpl_upper\u001b[49m \u001b[38;5;129;01mor\u001b[39;00m y \u001b[38;5;241m<\u001b[39m\u001b[38;5;241m=\u001b[39m npl_lower\n\u001b[1;32m     50\u001b[0m     ]\n\u001b[1;32m     52\u001b[0m fig\u001b[38;5;241m.\u001b[39madd_trace(\n\u001b[1;32m     53\u001b[0m     Scatter(\n\u001b[1;32m     54\u001b[0m         x\u001b[38;5;241m=\u001b[39m[x[\u001b[38;5;241m0\u001b[39m] \u001b[38;5;28;01mfor\u001b[39;00m x \u001b[38;5;129;01min\u001b[39;00m anomaly_points],\n\u001b[0;32m   (...)\u001b[0m\n\u001b[1;32m     62\u001b[0m     col\u001b[38;5;241m=\u001b[39m\u001b[38;5;241m1\u001b[39m,\n\u001b[1;32m     63\u001b[0m )\n\u001b[1;32m     65\u001b[0m mR_anomaly_points \u001b[38;5;241m=\u001b[39m [\n\u001b[1;32m     66\u001b[0m     (x, y) \u001b[38;5;28;01mfor\u001b[39;00m x, y \u001b[38;5;129;01min\u001b[39;00m \u001b[38;5;28mzip\u001b[39m(fig_data[\u001b[38;5;241m1\u001b[39m]\u001b[38;5;241m.\u001b[39mx, fig_data[\u001b[38;5;241m1\u001b[39m]\u001b[38;5;241m.\u001b[39my) \u001b[38;5;28;01mif\u001b[39;00m y \u001b[38;5;241m>\u001b[39m\u001b[38;5;241m=\u001b[39m mR_upper\n\u001b[1;32m     67\u001b[0m ]\n",
      "\u001b[0;31mValueError\u001b[0m: The truth value of an array with more than one element is ambiguous. Use a.any() or a.all()"
     ]
    }
   ],
   "source": [
    "# Create XmR chart\n",
    "xmr_chart = xmr.XmR(\n",
    "    data=data,\n",
    "    x_type='date_time',\n",
    "    x_ser_name='date',\n",
    "    y_ser_name='vehicle_counts',\n",
    "    date_part_resolution='day',\n",
    "    title='Daily Vehicle Counts - XmR Chart',\n",
    "    period_breaks = ['2024-02-01']\n",
    ")\n",
    "\n",
    "# Display the chart\n",
    "xmr_chart.xmr_chart"
   ]
  },
  {
   "cell_type": "code",
   "execution_count": 4,
   "metadata": {},
   "outputs": [
    {
     "data": {
      "text/plain": [
       "0    2024-01-01\n",
       "1    2024-01-02\n",
       "2    2024-01-03\n",
       "3    2024-01-04\n",
       "4    2024-01-05\n",
       "        ...    \n",
       "95   2024-04-05\n",
       "96   2024-04-06\n",
       "97   2024-04-07\n",
       "98   2024-04-08\n",
       "99   2024-04-09\n",
       "Name: date, Length: 100, dtype: datetime64[ns]"
      ]
     },
     "execution_count": 4,
     "metadata": {},
     "output_type": "execute_result"
    }
   ],
   "source": [
    "pd.to_datetime(data.date)"
   ]
  },
  {
   "cell_type": "code",
   "execution_count": 5,
   "metadata": {},
   "outputs": [
    {
     "ename": "NameError",
     "evalue": "name '_x_Ser' is not defined",
     "output_type": "error",
     "traceback": [
      "\u001b[0;31m---------------------------------------------------------------------------\u001b[0m",
      "\u001b[0;31mNameError\u001b[0m                                 Traceback (most recent call last)",
      "Cell \u001b[0;32mIn[5], line 1\u001b[0m\n\u001b[0;32m----> 1\u001b[0m \u001b[43m_x_Ser\u001b[49m[\u001b[38;5;241m0\u001b[39m]\n",
      "\u001b[0;31mNameError\u001b[0m: name '_x_Ser' is not defined"
     ]
    }
   ],
   "source": [
    "_x_Ser[0]"
   ]
  },
  {
   "cell_type": "code",
   "execution_count": 6,
   "metadata": {},
   "outputs": [],
   "source": [
    "l = ['a','b','c','d']"
   ]
  },
  {
   "cell_type": "code",
   "execution_count": 7,
   "metadata": {},
   "outputs": [],
   "source": [
    "i = [5,6,7,8,9,'b']"
   ]
  },
  {
   "cell_type": "code",
   "execution_count": 8,
   "metadata": {},
   "outputs": [
    {
     "data": {
      "text/plain": [
       "5"
      ]
     },
     "execution_count": 8,
     "metadata": {},
     "output_type": "execute_result"
    }
   ],
   "source": [
    "i.index('b')"
   ]
  },
  {
   "cell_type": "code",
   "execution_count": 9,
   "metadata": {},
   "outputs": [],
   "source": [
    "period_breaks = ['2024-02-01', '2024-03-12']"
   ]
  },
  {
   "cell_type": "code",
   "execution_count": 10,
   "metadata": {},
   "outputs": [],
   "source": [
    "# Calculate period ranges\n",
    "period_ranges = []\n",
    "start_date = _x_Ser.min()\n",
    "end_date = _x_Ser.max()"
   ]
  },
  {
   "cell_type": "code",
   "execution_count": 12,
   "metadata": {},
   "outputs": [],
   "source": [
    "if 'timestamp' in str(type(start_date)):\n",
    "    period_ranges.append((start_date, pd.to_datetime(period_breaks[0])))\n",
    "    for i in range(len(period_breaks) - 1):\n",
    "        period_ranges.append((pd.to_datetime(period_breaks[i]), pd.to_datetime(period_breaks[i + 1])))\n",
    "    period_ranges.append((pd.to_datetime(period_breaks[-1]), end_date))\n",
    "else:\n",
    "    period_ranges.append((start_date, period_breaks[0]))\n",
    "    for i in range(len(period_breaks) - 1):\n",
    "        period_ranges.append((period_breaks[i], period_breaks[i + 1]))\n",
    "    period_ranges.append((period_breaks[-1], end_date))"
   ]
  },
  {
   "cell_type": "code",
   "execution_count": 13,
   "metadata": {},
   "outputs": [
    {
     "data": {
      "text/plain": [
       "[(Timestamp('2024-01-01 00:00:00'), Timestamp('2024-02-01 00:00:00')),\n",
       " (Timestamp('2024-02-01 00:00:00'), Timestamp('2024-03-12 00:00:00')),\n",
       " (Timestamp('2024-03-12 00:00:00'), Timestamp('2024-04-09 00:00:00')),\n",
       " (Timestamp('2024-01-01 00:00:00'), Timestamp('2024-02-01 00:00:00')),\n",
       " (Timestamp('2024-02-01 00:00:00'), Timestamp('2024-03-12 00:00:00')),\n",
       " (Timestamp('2024-03-12 00:00:00'), Timestamp('2024-04-09 00:00:00'))]"
      ]
     },
     "execution_count": 13,
     "metadata": {},
     "output_type": "execute_result"
    }
   ],
   "source": [
    "period_ranges"
   ]
  },
  {
   "cell_type": "code",
   "execution_count": 19,
   "metadata": {},
   "outputs": [
    {
     "data": {
      "text/plain": [
       "31   2024-02-01\n",
       "Name: date, dtype: datetime64[ns]"
      ]
     },
     "execution_count": 19,
     "metadata": {},
     "output_type": "execute_result"
    }
   ],
   "source": [
    "_x_Ser[_x_Ser == period_ranges[1][0]]"
   ]
  },
  {
   "cell_type": "code",
   "execution_count": 14,
   "metadata": {},
   "outputs": [
    {
     "name": "stdout",
     "output_type": "stream",
     "text": [
      "         date  vehicle_counts\n",
      "0  2024-01-01             942\n",
      "1  2024-01-02            1033\n",
      "2  2024-01-03            1023\n",
      "3  2024-01-04             983\n",
      "4  2024-01-05            1011\n",
      "5  2024-01-06             883\n",
      "6  2024-01-07             859\n",
      "7  2024-01-08            1033\n",
      "8  2024-01-09            1058\n",
      "9  2024-01-10             981\n",
      "10 2024-01-11            1056\n",
      "11 2024-01-12             987\n",
      "12 2024-01-13             862\n",
      "13 2024-01-14             820\n",
      "14 2024-01-15            1118\n",
      "15 2024-01-16            1020\n",
      "16 2024-01-17            1058\n",
      "17 2024-01-18             944\n",
      "18 2024-01-19            1052\n",
      "19 2024-01-20             965\n",
      "20 2024-01-21             901\n",
      "21 2024-01-22            1045\n",
      "22 2024-01-23            1119\n",
      "23 2024-01-24             966\n",
      "24 2024-01-25            1002\n",
      "25 2024-01-26            1340\n",
      "26 2024-01-27             942\n",
      "27 2024-01-28             953\n",
      "28 2024-01-29            1181\n",
      "29 2024-01-30            1054\n",
      "30 2024-01-31            1130\n",
      "31 2024-02-01            1046\n",
      "         date  vehicle_counts\n",
      "31 2024-02-01            1046\n",
      "32 2024-02-02            1083\n",
      "33 2024-02-03             979\n",
      "34 2024-02-04             955\n",
      "35 2024-02-05            1145\n",
      "36 2024-02-06            1136\n",
      "37 2024-02-07            1106\n",
      "38 2024-02-08            1056\n",
      "39 2024-02-09            1043\n",
      "40 2024-02-10            1058\n",
      "41 2024-02-11             936\n",
      "42 2024-02-12            1229\n",
      "43 2024-02-13            1111\n",
      "44 2024-02-14            1192\n",
      "45 2024-02-15            1036\n",
      "46 2024-02-16            1117\n",
      "47 2024-02-17            1011\n",
      "48 2024-02-18             989\n",
      "49 2024-02-19            1158\n",
      "50 2024-02-20            1217\n",
      "51 2024-02-21            1317\n",
      "52 2024-02-22            1315\n",
      "53 2024-02-23            1221\n",
      "54 2024-02-24            1255\n",
      "55 2024-02-25            1040\n",
      "56 2024-02-26            1222\n",
      "57 2024-02-27            1097\n",
      "58 2024-02-28            1107\n",
      "59 2024-02-29            1129\n",
      "60 2024-03-01            1100\n",
      "61 2024-03-02            1053\n",
      "62 2024-03-03            1025\n",
      "63 2024-03-04            1153\n",
      "64 2024-03-05            1186\n",
      "65 2024-03-06            1160\n",
      "66 2024-03-07            1117\n",
      "67 2024-03-08            1039\n",
      "68 2024-03-09            1047\n",
      "69 2024-03-10            1037\n",
      "70 2024-03-11            1176\n",
      "71 2024-03-12            1243\n",
      "         date  vehicle_counts\n",
      "71 2024-03-12            1243\n",
      "72 2024-03-13            1181\n",
      "73 2024-03-14            1026\n",
      "74 2024-03-15            1131\n",
      "75 2024-03-16            1118\n",
      "76 2024-03-17            1030\n",
      "77 2024-03-18            1253\n",
      "78 2024-03-19            1227\n",
      "79 2024-03-20            1193\n",
      "80 2024-03-21             703\n",
      "81 2024-03-22            1075\n",
      "82 2024-03-23            1069\n",
      "83 2024-03-24            1124\n",
      "84 2024-03-25            1184\n",
      "85 2024-03-26            1165\n",
      "86 2024-03-27            1197\n",
      "87 2024-03-28            1178\n",
      "88 2024-03-29            1100\n",
      "89 2024-03-30            1125\n",
      "90 2024-03-31            1009\n",
      "91 2024-04-01            1208\n",
      "92 2024-04-02            1177\n",
      "93 2024-04-03            1184\n",
      "94 2024-04-04            1128\n",
      "95 2024-04-05            1163\n",
      "96 2024-04-06            1081\n",
      "97 2024-04-07            1121\n",
      "98 2024-04-08            1223\n",
      "99 2024-04-09            1238\n",
      "         date  vehicle_counts\n",
      "0  2024-01-01             942\n",
      "1  2024-01-02            1033\n",
      "2  2024-01-03            1023\n",
      "3  2024-01-04             983\n",
      "4  2024-01-05            1011\n",
      "5  2024-01-06             883\n",
      "6  2024-01-07             859\n",
      "7  2024-01-08            1033\n",
      "8  2024-01-09            1058\n",
      "9  2024-01-10             981\n",
      "10 2024-01-11            1056\n",
      "11 2024-01-12             987\n",
      "12 2024-01-13             862\n",
      "13 2024-01-14             820\n",
      "14 2024-01-15            1118\n",
      "15 2024-01-16            1020\n",
      "16 2024-01-17            1058\n",
      "17 2024-01-18             944\n",
      "18 2024-01-19            1052\n",
      "19 2024-01-20             965\n",
      "20 2024-01-21             901\n",
      "21 2024-01-22            1045\n",
      "22 2024-01-23            1119\n",
      "23 2024-01-24             966\n",
      "24 2024-01-25            1002\n",
      "25 2024-01-26            1340\n",
      "26 2024-01-27             942\n",
      "27 2024-01-28             953\n",
      "28 2024-01-29            1181\n",
      "29 2024-01-30            1054\n",
      "30 2024-01-31            1130\n",
      "31 2024-02-01            1046\n",
      "         date  vehicle_counts\n",
      "31 2024-02-01            1046\n",
      "32 2024-02-02            1083\n",
      "33 2024-02-03             979\n",
      "34 2024-02-04             955\n",
      "35 2024-02-05            1145\n",
      "36 2024-02-06            1136\n",
      "37 2024-02-07            1106\n",
      "38 2024-02-08            1056\n",
      "39 2024-02-09            1043\n",
      "40 2024-02-10            1058\n",
      "41 2024-02-11             936\n",
      "42 2024-02-12            1229\n",
      "43 2024-02-13            1111\n",
      "44 2024-02-14            1192\n",
      "45 2024-02-15            1036\n",
      "46 2024-02-16            1117\n",
      "47 2024-02-17            1011\n",
      "48 2024-02-18             989\n",
      "49 2024-02-19            1158\n",
      "50 2024-02-20            1217\n",
      "51 2024-02-21            1317\n",
      "52 2024-02-22            1315\n",
      "53 2024-02-23            1221\n",
      "54 2024-02-24            1255\n",
      "55 2024-02-25            1040\n",
      "56 2024-02-26            1222\n",
      "57 2024-02-27            1097\n",
      "58 2024-02-28            1107\n",
      "59 2024-02-29            1129\n",
      "60 2024-03-01            1100\n",
      "61 2024-03-02            1053\n",
      "62 2024-03-03            1025\n",
      "63 2024-03-04            1153\n",
      "64 2024-03-05            1186\n",
      "65 2024-03-06            1160\n",
      "66 2024-03-07            1117\n",
      "67 2024-03-08            1039\n",
      "68 2024-03-09            1047\n",
      "69 2024-03-10            1037\n",
      "70 2024-03-11            1176\n",
      "71 2024-03-12            1243\n",
      "         date  vehicle_counts\n",
      "71 2024-03-12            1243\n",
      "72 2024-03-13            1181\n",
      "73 2024-03-14            1026\n",
      "74 2024-03-15            1131\n",
      "75 2024-03-16            1118\n",
      "76 2024-03-17            1030\n",
      "77 2024-03-18            1253\n",
      "78 2024-03-19            1227\n",
      "79 2024-03-20            1193\n",
      "80 2024-03-21             703\n",
      "81 2024-03-22            1075\n",
      "82 2024-03-23            1069\n",
      "83 2024-03-24            1124\n",
      "84 2024-03-25            1184\n",
      "85 2024-03-26            1165\n",
      "86 2024-03-27            1197\n",
      "87 2024-03-28            1178\n",
      "88 2024-03-29            1100\n",
      "89 2024-03-30            1125\n",
      "90 2024-03-31            1009\n",
      "91 2024-04-01            1208\n",
      "92 2024-04-02            1177\n",
      "93 2024-04-03            1184\n",
      "94 2024-04-04            1128\n",
      "95 2024-04-05            1163\n",
      "96 2024-04-06            1081\n",
      "97 2024-04-07            1121\n",
      "98 2024-04-08            1223\n",
      "99 2024-04-09            1238\n"
     ]
    }
   ],
   "source": [
    "# Calculate limits for each period - changing this to assume ordered. \n",
    "period_results = []\n",
    "for start, end in period_ranges:\n",
    "    period_data = data.loc[int(_x_Ser[_x_Ser == start].index[0]):int(_x_Ser[_x_Ser == end].index[0])]\n",
    "    print(period_data)"
   ]
  },
  {
   "cell_type": "code",
   "execution_count": null,
   "metadata": {},
   "outputs": [],
   "source": [
    "period"
   ]
  },
  {
   "cell_type": "code",
   "execution_count": 4,
   "metadata": {},
   "outputs": [
    {
     "name": "stdout",
     "output_type": "stream",
     "text": [
      "Moving Range Limits:\n",
      "{'mR_xmr_func': np.float64(91.1919191919192), 'mR_upper_limit': np.float64(298.0151919191919), 'xmr_func': 'mean'}\n",
      "\n",
      "Natural Process Limits:\n",
      "{'y_xmr_func': np.float64(1085.74), 'npl_upper_limit': np.float64(1328.310505050505), 'npl_lower_limit': np.float64(843.169494949495), 'xmr_func': 'mean'}\n",
      "\n",
      "Detected Signals:\n",
      "{'anomalies': [('2024-01-14', np.int64(820), 'Low'), ('2024-01-26', np.int64(1340), 'High'), ('2024-03-21', np.int64(703), 'Low')], 'long_runs': [[(Timestamp('2024-01-01 00:00:00'), np.int64(942), 'Low'), (Timestamp('2024-01-02 00:00:00'), np.int64(1033), 'Low'), (Timestamp('2024-01-03 00:00:00'), np.int64(1023), 'Low'), (Timestamp('2024-01-04 00:00:00'), np.int64(983), 'Low'), (Timestamp('2024-01-05 00:00:00'), np.int64(1011), 'Low'), (Timestamp('2024-01-06 00:00:00'), np.int64(883), 'Low'), (Timestamp('2024-01-07 00:00:00'), np.int64(859), 'Low'), (Timestamp('2024-01-08 00:00:00'), np.int64(1033), 'Low'), (Timestamp('2024-01-09 00:00:00'), np.int64(1058), 'Low'), (Timestamp('2024-01-10 00:00:00'), np.int64(981), 'Low'), (Timestamp('2024-01-11 00:00:00'), np.int64(1056), 'Low'), (Timestamp('2024-01-12 00:00:00'), np.int64(987), 'Low'), (Timestamp('2024-01-13 00:00:00'), np.int64(862), 'Low'), (Timestamp('2024-01-14 00:00:00'), np.int64(820), 'Low')]], 'short_runs': [[(Timestamp('2024-02-19 00:00:00'), np.int64(1158), 'High'), (Timestamp('2024-02-20 00:00:00'), np.int64(1217), 'High'), (Timestamp('2024-02-21 00:00:00'), np.int64(1317), 'High'), (Timestamp('2024-02-22 00:00:00'), np.int64(1315), 'High'), (Timestamp('2024-02-23 00:00:00'), np.int64(1221), 'High'), (Timestamp('2024-02-24 00:00:00'), np.int64(1255), 'High'), (Timestamp('2024-02-25 00:00:00'), np.int64(1040), 'High'), (Timestamp('2024-02-26 00:00:00'), np.int64(1222), 'High')]]}\n"
     ]
    }
   ],
   "source": [
    "# Check the calculated limits and signals\n",
    "print(\"Moving Range Limits:\")\n",
    "print(xmr_chart.mR_limit_values)\n",
    "print(\"\\nNatural Process Limits:\")\n",
    "print(xmr_chart.npl_limit_values)\n",
    "print(\"\\nDetected Signals:\")\n",
    "print(xmr_chart.signals)"
   ]
  },
  {
   "cell_type": "code",
   "execution_count": 5,
   "metadata": {},
   "outputs": [
    {
     "data": {
      "application/vnd.plotly.v1+json": {
       "config": {
        "plotlyServerURL": "https://plot.ly"
       },
       "data": [
        {
         "hovertemplate": "<b>Position:</b> %{x}<br><b>Value:</b> %{y:.2f}<br><extra></extra>",
         "line": {
          "color": "black",
          "width": 1
         },
         "marker": {
          "color": "black",
          "size": 6
         },
         "mode": "lines+markers",
         "name": "measurement",
         "type": "scatter",
         "x": [
          1,
          2,
          3,
          4,
          5,
          6,
          7,
          8,
          9,
          10,
          11,
          12,
          13,
          14,
          15,
          16,
          17,
          18,
          19,
          20,
          21,
          22,
          23,
          24,
          25,
          26,
          27,
          28,
          29,
          30,
          31,
          32,
          33,
          34,
          35,
          36,
          37,
          38,
          39,
          40,
          41,
          42,
          43,
          44,
          45,
          46,
          47,
          48,
          49,
          50,
          51,
          52,
          53,
          54,
          55,
          56,
          57,
          58,
          59,
          60,
          61,
          62,
          63,
          64,
          65,
          66,
          67,
          68,
          69,
          70,
          71,
          72,
          73,
          74,
          75,
          76,
          77,
          78,
          79,
          80,
          81,
          82,
          83,
          84,
          85,
          86,
          87,
          88,
          89,
          90,
          91,
          92,
          93,
          94,
          95,
          96,
          97,
          98,
          99,
          100
         ],
         "xaxis": "x",
         "y": [
          94.32151516596603,
          88.90167814936424,
          105.17824665457881,
          78.04943619362305,
          93.87532788024212,
          107.2971759085456,
          104.37887977577873,
          98.30821910130572,
          101.24562407855942,
          114.61280596167776,
          100.00355532688809,
          109.36098041742086,
          99.97000473617489,
          97.8299499313188,
          100.37542831877887,
          74.22315925759501,
          112.82721021418064,
          105.67721680320263,
          114.44352259983994,
          86.16254796408455,
          87.54297050431576,
          99.4160356169997,
          102.58930754111653,
          93.90835290843911,
          80.77512358153113,
          99.11727544259989,
          87.45834368927449,
          99.09715598103912,
          116.61217267225085,
          106.17949428479886,
          97.74847812474346,
          108.23084909779065,
          100.45197867668618,
          107.00176161258175,
          92.3468213059986,
          99.21807389308732,
          106.49212543724937,
          120.01215119339793,
          97.33805369514909,
          102.68516956225845,
          109.29093501127318,
          95.23947597908766,
          95.22930551784948,
          101.46493419245192,
          88.65874348304371,
          74.25832015889645,
          99.17393528142941,
          111.48915378949248,
          98.55978990385375,
          116.89706141128742,
          110.58431568488034,
          100.89115861622624,
          108.06442646941245,
          103.19279392093259,
          85.74352750774432,
          97.96620083341305,
          106.67086619505712,
          90.61497877475918,
          80.8726852549367,
          97.70279604150808,
          84.47510136302328,
          85.86600393944454,
          100.18475375163214,
          90.87733320994298,
          99.13195842864222,
          80.96516817999375,
          106.40641320754933,
          92.21396727771386,
          107.94355926861374,
          100.4993696232328,
          114.14055239107434,
          101.48859841395696,
          106.29594813262254,
          109.69545113659336,
          105.02946719354414,
          126.49407126900064,
          110.8761894537193,
          109.45241379064402,
          100.5482916271029,
          127.1909136783542,
          101.38769879077122,
          122.5187103186942,
          91.5380843186327,
          114.20636744234542,
          100.66779473589351,
          108.62581401487057,
          112.98767947160589,
          99.46289404396089,
          91.49932397189404,
          84.83141267835674,
          100.66506574541839,
          114.23044693967124,
          95.18636205554166,
          108.58387353054529,
          85.22487527873645,
          99.75557408133511,
          91.05254562694716,
          102.29240773213608,
          91.26918231130827,
          104.51553350451363
         ],
         "yaxis": "y"
        },
        {
         "hovertemplate": "<b>Position:</b> %{x}<br><b>Range:</b> %{y:.2f}<br><extra></extra>",
         "line": {
          "color": "black",
          "width": 1
         },
         "marker": {
          "color": "black",
          "size": 6
         },
         "mode": "lines+markers",
         "name": "Moving Range",
         "type": "scatter",
         "x": [
          1,
          2,
          3,
          4,
          5,
          6,
          7,
          8,
          9,
          10,
          11,
          12,
          13,
          14,
          15,
          16,
          17,
          18,
          19,
          20,
          21,
          22,
          23,
          24,
          25,
          26,
          27,
          28,
          29,
          30,
          31,
          32,
          33,
          34,
          35,
          36,
          37,
          38,
          39,
          40,
          41,
          42,
          43,
          44,
          45,
          46,
          47,
          48,
          49,
          50,
          51,
          52,
          53,
          54,
          55,
          56,
          57,
          58,
          59,
          60,
          61,
          62,
          63,
          64,
          65,
          66,
          67,
          68,
          69,
          70,
          71,
          72,
          73,
          74,
          75,
          76,
          77,
          78,
          79,
          80,
          81,
          82,
          83,
          84,
          85,
          86,
          87,
          88,
          89,
          90,
          91,
          92,
          93,
          94,
          95,
          96,
          97,
          98,
          99,
          100
         ],
         "xaxis": "x2",
         "y": [
          null,
          5.4198370166017895,
          16.27656850521457,
          27.128810460955762,
          15.825891686619073,
          13.421848028303472,
          2.9182961327668693,
          6.070660674473004,
          2.937404977253692,
          13.367181883118349,
          14.609250634789674,
          9.357425090532772,
          9.390975681245976,
          2.140054804856092,
          2.5454783874600793,
          26.15226906118386,
          38.604050956585624,
          7.149993410978013,
          8.766305796637312,
          28.280974635755385,
          1.3804225402312085,
          11.873065112683932,
          3.1732719241168326,
          8.680954632677413,
          13.13322932690798,
          18.342151861068757,
          11.658931753325405,
          11.638812291764637,
          17.515016691211727,
          10.432678387451986,
          8.431016160055407,
          10.482370973047196,
          7.778870421104472,
          6.549782935895564,
          14.654940306583143,
          6.871252587088719,
          7.274051544162049,
          13.520025756148556,
          22.67409749824884,
          5.347115867109366,
          6.605765449014726,
          14.05145903218552,
          0.010170461238175221,
          6.235628674602438,
          12.806190709408213,
          14.400423324147255,
          24.915615122532955,
          12.315218508063069,
          12.929363885638722,
          18.33727150743367,
          6.312745726407087,
          9.693157068654102,
          7.173267853186218,
          4.871632548479866,
          17.44926641318827,
          12.222673325668737,
          8.70466536164406,
          16.055887420297935,
          9.742293519822482,
          16.83011078657138,
          13.227694678484795,
          1.3909025764212544,
          14.318749812187605,
          9.307420541689169,
          8.254625218699246,
          18.166790248648468,
          25.44124502755558,
          14.192445929835472,
          15.729591990899877,
          7.444189645380945,
          13.641182767841542,
          12.651953977117373,
          4.807349718665577,
          3.399503003970821,
          4.665983943049227,
          21.464604075456506,
          15.617881815281336,
          1.4237756630752898,
          8.904122163541118,
          26.64262205125131,
          25.803214887582982,
          21.13101152792298,
          30.980626000061505,
          22.668283123712726,
          13.538572706451916,
          7.958019278977062,
          4.361865456735316,
          13.524785427645,
          7.963570072066844,
          6.667911293537301,
          15.833653067061647,
          13.56538119425285,
          19.044084884129575,
          13.397511475003625,
          23.358998251808842,
          14.530698802598664,
          8.703028454387947,
          11.23986210518892,
          11.023225420827814,
          13.246351193205356
         ],
         "yaxis": "y2"
        },
        {
         "marker": {
          "color": "red",
          "size": 8,
          "symbol": "cross"
         },
         "mode": "markers",
         "texttemplate": "%{y}",
         "type": "scatter",
         "visible": false,
         "x": [],
         "xaxis": "x",
         "y": [],
         "yaxis": "y"
        },
        {
         "marker": {
          "color": "red",
          "size": 8,
          "symbol": "cross"
         },
         "mode": "markers",
         "type": "scatter",
         "visible": false,
         "x": [],
         "xaxis": "x2",
         "y": [],
         "yaxis": "y2"
        }
       ],
       "layout": {
        "annotations": [
         {
          "font": {
           "size": 16
          },
          "showarrow": false,
          "text": "measurement XmR Chart by position",
          "x": 0.5,
          "xanchor": "center",
          "xref": "paper",
          "y": 1.1,
          "yanchor": "top",
          "yref": "paper"
         },
         {
          "font": {
           "size": 10
          },
          "showarrow": false,
          "text": "<b>mR Upper Limit = 40.691</b>",
          "x": 0.01,
          "xanchor": "left",
          "xref": "paper",
          "y": 42.72513892635422,
          "yanchor": "auto",
          "yref": "y2"
         },
         {
          "font": {
           "size": 10
          },
          "showarrow": false,
          "text": "<b>measurement Upper Limit = 133.561</b>",
          "x": 0.01,
          "xanchor": "left",
          "xref": "paper",
          "y": 135.54854604979988,
          "yanchor": "auto",
          "yref": "y"
         },
         {
          "font": {
           "size": 10
          },
          "showarrow": false,
          "text": "<b>measurement Lower Limit = 67.321</b>",
          "x": 0.01,
          "xanchor": "left",
          "xref": "paper",
          "y": 65.3335890545511,
          "yanchor": "auto",
          "yref": "y"
         }
        ],
        "font": {
         "size": 10
        },
        "height": 800,
        "hovermode": "x",
        "plot_bgcolor": "white",
        "shapes": [
         {
          "line": {
           "color": "gray",
           "dash": "dashdot"
          },
          "type": "line",
          "x0": 0,
          "x1": 1,
          "xref": "x domain",
          "y0": 100.4410675521755,
          "y1": 100.4410675521755,
          "yref": "y"
         },
         {
          "line": {
           "color": "red",
           "dash": "dashdot"
          },
          "type": "line",
          "x0": 0,
          "x1": 1,
          "xref": "x domain",
          "y0": 133.5613302857834,
          "y1": 133.5613302857834,
          "yref": "y"
         },
         {
          "line": {
           "color": "red",
           "dash": "dashdot"
          },
          "type": "line",
          "x0": 0,
          "x1": 1,
          "xref": "x domain",
          "y0": 67.32080481856757,
          "y1": 67.32080481856757,
          "yref": "y"
         },
         {
          "line": {
           "color": "pink",
           "dash": "dot"
          },
          "type": "line",
          "x0": 0,
          "x1": 1,
          "xref": "x domain",
          "y0": 117.00119891897945,
          "y1": 117.00119891897945,
          "yref": "y"
         },
         {
          "line": {
           "color": "pink",
           "dash": "dot"
          },
          "type": "line",
          "x0": 0,
          "x1": 1,
          "xref": "x domain",
          "y0": 83.88093618537152,
          "y1": 83.88093618537152,
          "yref": "y"
         },
         {
          "line": {
           "color": "gray",
           "dash": "dashdot"
          },
          "type": "line",
          "x0": 0,
          "x1": 1,
          "xref": "x domain",
          "y0": 12.451226591581927,
          "y1": 12.451226591581927,
          "yref": "y2"
         },
         {
          "line": {
           "color": "red",
           "dash": "dashdot"
          },
          "type": "line",
          "x0": 0,
          "x1": 1,
          "xref": "x domain",
          "y0": 40.69060850128973,
          "y1": 40.69060850128973,
          "yref": "y2"
         },
         {
          "line": {
           "color": "pink",
           "dash": "dot"
          },
          "type": "line",
          "x0": 0,
          "x1": 1,
          "xref": "x domain",
          "y0": 26.57091754643583,
          "y1": 26.57091754643583,
          "yref": "y2"
         }
        ],
        "showlegend": false,
        "template": {
         "data": {
          "bar": [
           {
            "error_x": {
             "color": "#2a3f5f"
            },
            "error_y": {
             "color": "#2a3f5f"
            },
            "marker": {
             "line": {
              "color": "#E5ECF6",
              "width": 0.5
             },
             "pattern": {
              "fillmode": "overlay",
              "size": 10,
              "solidity": 0.2
             }
            },
            "type": "bar"
           }
          ],
          "barpolar": [
           {
            "marker": {
             "line": {
              "color": "#E5ECF6",
              "width": 0.5
             },
             "pattern": {
              "fillmode": "overlay",
              "size": 10,
              "solidity": 0.2
             }
            },
            "type": "barpolar"
           }
          ],
          "carpet": [
           {
            "aaxis": {
             "endlinecolor": "#2a3f5f",
             "gridcolor": "white",
             "linecolor": "white",
             "minorgridcolor": "white",
             "startlinecolor": "#2a3f5f"
            },
            "baxis": {
             "endlinecolor": "#2a3f5f",
             "gridcolor": "white",
             "linecolor": "white",
             "minorgridcolor": "white",
             "startlinecolor": "#2a3f5f"
            },
            "type": "carpet"
           }
          ],
          "choropleth": [
           {
            "colorbar": {
             "outlinewidth": 0,
             "ticks": ""
            },
            "type": "choropleth"
           }
          ],
          "contour": [
           {
            "colorbar": {
             "outlinewidth": 0,
             "ticks": ""
            },
            "colorscale": [
             [
              0,
              "#0d0887"
             ],
             [
              0.1111111111111111,
              "#46039f"
             ],
             [
              0.2222222222222222,
              "#7201a8"
             ],
             [
              0.3333333333333333,
              "#9c179e"
             ],
             [
              0.4444444444444444,
              "#bd3786"
             ],
             [
              0.5555555555555556,
              "#d8576b"
             ],
             [
              0.6666666666666666,
              "#ed7953"
             ],
             [
              0.7777777777777778,
              "#fb9f3a"
             ],
             [
              0.8888888888888888,
              "#fdca26"
             ],
             [
              1,
              "#f0f921"
             ]
            ],
            "type": "contour"
           }
          ],
          "contourcarpet": [
           {
            "colorbar": {
             "outlinewidth": 0,
             "ticks": ""
            },
            "type": "contourcarpet"
           }
          ],
          "heatmap": [
           {
            "colorbar": {
             "outlinewidth": 0,
             "ticks": ""
            },
            "colorscale": [
             [
              0,
              "#0d0887"
             ],
             [
              0.1111111111111111,
              "#46039f"
             ],
             [
              0.2222222222222222,
              "#7201a8"
             ],
             [
              0.3333333333333333,
              "#9c179e"
             ],
             [
              0.4444444444444444,
              "#bd3786"
             ],
             [
              0.5555555555555556,
              "#d8576b"
             ],
             [
              0.6666666666666666,
              "#ed7953"
             ],
             [
              0.7777777777777778,
              "#fb9f3a"
             ],
             [
              0.8888888888888888,
              "#fdca26"
             ],
             [
              1,
              "#f0f921"
             ]
            ],
            "type": "heatmap"
           }
          ],
          "heatmapgl": [
           {
            "colorbar": {
             "outlinewidth": 0,
             "ticks": ""
            },
            "colorscale": [
             [
              0,
              "#0d0887"
             ],
             [
              0.1111111111111111,
              "#46039f"
             ],
             [
              0.2222222222222222,
              "#7201a8"
             ],
             [
              0.3333333333333333,
              "#9c179e"
             ],
             [
              0.4444444444444444,
              "#bd3786"
             ],
             [
              0.5555555555555556,
              "#d8576b"
             ],
             [
              0.6666666666666666,
              "#ed7953"
             ],
             [
              0.7777777777777778,
              "#fb9f3a"
             ],
             [
              0.8888888888888888,
              "#fdca26"
             ],
             [
              1,
              "#f0f921"
             ]
            ],
            "type": "heatmapgl"
           }
          ],
          "histogram": [
           {
            "marker": {
             "pattern": {
              "fillmode": "overlay",
              "size": 10,
              "solidity": 0.2
             }
            },
            "type": "histogram"
           }
          ],
          "histogram2d": [
           {
            "colorbar": {
             "outlinewidth": 0,
             "ticks": ""
            },
            "colorscale": [
             [
              0,
              "#0d0887"
             ],
             [
              0.1111111111111111,
              "#46039f"
             ],
             [
              0.2222222222222222,
              "#7201a8"
             ],
             [
              0.3333333333333333,
              "#9c179e"
             ],
             [
              0.4444444444444444,
              "#bd3786"
             ],
             [
              0.5555555555555556,
              "#d8576b"
             ],
             [
              0.6666666666666666,
              "#ed7953"
             ],
             [
              0.7777777777777778,
              "#fb9f3a"
             ],
             [
              0.8888888888888888,
              "#fdca26"
             ],
             [
              1,
              "#f0f921"
             ]
            ],
            "type": "histogram2d"
           }
          ],
          "histogram2dcontour": [
           {
            "colorbar": {
             "outlinewidth": 0,
             "ticks": ""
            },
            "colorscale": [
             [
              0,
              "#0d0887"
             ],
             [
              0.1111111111111111,
              "#46039f"
             ],
             [
              0.2222222222222222,
              "#7201a8"
             ],
             [
              0.3333333333333333,
              "#9c179e"
             ],
             [
              0.4444444444444444,
              "#bd3786"
             ],
             [
              0.5555555555555556,
              "#d8576b"
             ],
             [
              0.6666666666666666,
              "#ed7953"
             ],
             [
              0.7777777777777778,
              "#fb9f3a"
             ],
             [
              0.8888888888888888,
              "#fdca26"
             ],
             [
              1,
              "#f0f921"
             ]
            ],
            "type": "histogram2dcontour"
           }
          ],
          "mesh3d": [
           {
            "colorbar": {
             "outlinewidth": 0,
             "ticks": ""
            },
            "type": "mesh3d"
           }
          ],
          "parcoords": [
           {
            "line": {
             "colorbar": {
              "outlinewidth": 0,
              "ticks": ""
             }
            },
            "type": "parcoords"
           }
          ],
          "pie": [
           {
            "automargin": true,
            "type": "pie"
           }
          ],
          "scatter": [
           {
            "fillpattern": {
             "fillmode": "overlay",
             "size": 10,
             "solidity": 0.2
            },
            "type": "scatter"
           }
          ],
          "scatter3d": [
           {
            "line": {
             "colorbar": {
              "outlinewidth": 0,
              "ticks": ""
             }
            },
            "marker": {
             "colorbar": {
              "outlinewidth": 0,
              "ticks": ""
             }
            },
            "type": "scatter3d"
           }
          ],
          "scattercarpet": [
           {
            "marker": {
             "colorbar": {
              "outlinewidth": 0,
              "ticks": ""
             }
            },
            "type": "scattercarpet"
           }
          ],
          "scattergeo": [
           {
            "marker": {
             "colorbar": {
              "outlinewidth": 0,
              "ticks": ""
             }
            },
            "type": "scattergeo"
           }
          ],
          "scattergl": [
           {
            "marker": {
             "colorbar": {
              "outlinewidth": 0,
              "ticks": ""
             }
            },
            "type": "scattergl"
           }
          ],
          "scattermapbox": [
           {
            "marker": {
             "colorbar": {
              "outlinewidth": 0,
              "ticks": ""
             }
            },
            "type": "scattermapbox"
           }
          ],
          "scatterpolar": [
           {
            "marker": {
             "colorbar": {
              "outlinewidth": 0,
              "ticks": ""
             }
            },
            "type": "scatterpolar"
           }
          ],
          "scatterpolargl": [
           {
            "marker": {
             "colorbar": {
              "outlinewidth": 0,
              "ticks": ""
             }
            },
            "type": "scatterpolargl"
           }
          ],
          "scatterternary": [
           {
            "marker": {
             "colorbar": {
              "outlinewidth": 0,
              "ticks": ""
             }
            },
            "type": "scatterternary"
           }
          ],
          "surface": [
           {
            "colorbar": {
             "outlinewidth": 0,
             "ticks": ""
            },
            "colorscale": [
             [
              0,
              "#0d0887"
             ],
             [
              0.1111111111111111,
              "#46039f"
             ],
             [
              0.2222222222222222,
              "#7201a8"
             ],
             [
              0.3333333333333333,
              "#9c179e"
             ],
             [
              0.4444444444444444,
              "#bd3786"
             ],
             [
              0.5555555555555556,
              "#d8576b"
             ],
             [
              0.6666666666666666,
              "#ed7953"
             ],
             [
              0.7777777777777778,
              "#fb9f3a"
             ],
             [
              0.8888888888888888,
              "#fdca26"
             ],
             [
              1,
              "#f0f921"
             ]
            ],
            "type": "surface"
           }
          ],
          "table": [
           {
            "cells": {
             "fill": {
              "color": "#EBF0F8"
             },
             "line": {
              "color": "white"
             }
            },
            "header": {
             "fill": {
              "color": "#C8D4E3"
             },
             "line": {
              "color": "white"
             }
            },
            "type": "table"
           }
          ]
         },
         "layout": {
          "annotationdefaults": {
           "arrowcolor": "#2a3f5f",
           "arrowhead": 0,
           "arrowwidth": 1
          },
          "autotypenumbers": "strict",
          "coloraxis": {
           "colorbar": {
            "outlinewidth": 0,
            "ticks": ""
           }
          },
          "colorscale": {
           "diverging": [
            [
             0,
             "#8e0152"
            ],
            [
             0.1,
             "#c51b7d"
            ],
            [
             0.2,
             "#de77ae"
            ],
            [
             0.3,
             "#f1b6da"
            ],
            [
             0.4,
             "#fde0ef"
            ],
            [
             0.5,
             "#f7f7f7"
            ],
            [
             0.6,
             "#e6f5d0"
            ],
            [
             0.7,
             "#b8e186"
            ],
            [
             0.8,
             "#7fbc41"
            ],
            [
             0.9,
             "#4d9221"
            ],
            [
             1,
             "#276419"
            ]
           ],
           "sequential": [
            [
             0,
             "#0d0887"
            ],
            [
             0.1111111111111111,
             "#46039f"
            ],
            [
             0.2222222222222222,
             "#7201a8"
            ],
            [
             0.3333333333333333,
             "#9c179e"
            ],
            [
             0.4444444444444444,
             "#bd3786"
            ],
            [
             0.5555555555555556,
             "#d8576b"
            ],
            [
             0.6666666666666666,
             "#ed7953"
            ],
            [
             0.7777777777777778,
             "#fb9f3a"
            ],
            [
             0.8888888888888888,
             "#fdca26"
            ],
            [
             1,
             "#f0f921"
            ]
           ],
           "sequentialminus": [
            [
             0,
             "#0d0887"
            ],
            [
             0.1111111111111111,
             "#46039f"
            ],
            [
             0.2222222222222222,
             "#7201a8"
            ],
            [
             0.3333333333333333,
             "#9c179e"
            ],
            [
             0.4444444444444444,
             "#bd3786"
            ],
            [
             0.5555555555555556,
             "#d8576b"
            ],
            [
             0.6666666666666666,
             "#ed7953"
            ],
            [
             0.7777777777777778,
             "#fb9f3a"
            ],
            [
             0.8888888888888888,
             "#fdca26"
            ],
            [
             1,
             "#f0f921"
            ]
           ]
          },
          "colorway": [
           "#636efa",
           "#EF553B",
           "#00cc96",
           "#ab63fa",
           "#FFA15A",
           "#19d3f3",
           "#FF6692",
           "#B6E880",
           "#FF97FF",
           "#FECB52"
          ],
          "font": {
           "color": "#2a3f5f"
          },
          "geo": {
           "bgcolor": "white",
           "lakecolor": "white",
           "landcolor": "#E5ECF6",
           "showlakes": true,
           "showland": true,
           "subunitcolor": "white"
          },
          "hoverlabel": {
           "align": "left"
          },
          "hovermode": "closest",
          "mapbox": {
           "style": "light"
          },
          "paper_bgcolor": "white",
          "plot_bgcolor": "#E5ECF6",
          "polar": {
           "angularaxis": {
            "gridcolor": "white",
            "linecolor": "white",
            "ticks": ""
           },
           "bgcolor": "#E5ECF6",
           "radialaxis": {
            "gridcolor": "white",
            "linecolor": "white",
            "ticks": ""
           }
          },
          "scene": {
           "xaxis": {
            "backgroundcolor": "#E5ECF6",
            "gridcolor": "white",
            "gridwidth": 2,
            "linecolor": "white",
            "showbackground": true,
            "ticks": "",
            "zerolinecolor": "white"
           },
           "yaxis": {
            "backgroundcolor": "#E5ECF6",
            "gridcolor": "white",
            "gridwidth": 2,
            "linecolor": "white",
            "showbackground": true,
            "ticks": "",
            "zerolinecolor": "white"
           },
           "zaxis": {
            "backgroundcolor": "#E5ECF6",
            "gridcolor": "white",
            "gridwidth": 2,
            "linecolor": "white",
            "showbackground": true,
            "ticks": "",
            "zerolinecolor": "white"
           }
          },
          "shapedefaults": {
           "line": {
            "color": "#2a3f5f"
           }
          },
          "ternary": {
           "aaxis": {
            "gridcolor": "white",
            "linecolor": "white",
            "ticks": ""
           },
           "baxis": {
            "gridcolor": "white",
            "linecolor": "white",
            "ticks": ""
           },
           "bgcolor": "#E5ECF6",
           "caxis": {
            "gridcolor": "white",
            "linecolor": "white",
            "ticks": ""
           }
          },
          "title": {
           "x": 0.05
          },
          "xaxis": {
           "automargin": true,
           "gridcolor": "white",
           "linecolor": "white",
           "ticks": "",
           "title": {
            "standoff": 15
           },
           "zerolinecolor": "white",
           "zerolinewidth": 2
          },
          "yaxis": {
           "automargin": true,
           "gridcolor": "white",
           "linecolor": "white",
           "ticks": "",
           "title": {
            "standoff": 15
           },
           "zerolinecolor": "white",
           "zerolinewidth": 2
          }
         }
        },
        "updatemenus": [
         {
          "active": 0,
          "buttons": [
           {
            "args": [
             {
              "visible": [
               true,
               true,
               false,
               false
              ]
             },
             {
              "annotations": [
               {
                "font": {
                 "size": 16
                },
                "showarrow": false,
                "text": "measurement XmR Chart by position",
                "x": 0.5,
                "xanchor": "center",
                "xref": "paper",
                "y": 1.1,
                "yanchor": "top",
                "yref": "paper"
               },
               {
                "font": {
                 "size": 10
                },
                "showarrow": false,
                "text": "<b>mR Upper Limit = 40.691</b>",
                "x": 0.01,
                "xanchor": "left",
                "xref": "paper",
                "y": 42.72513892635422,
                "yanchor": "auto",
                "yref": "y2"
               },
               {
                "font": {
                 "size": 10
                },
                "showarrow": false,
                "text": "<b>measurement Upper Limit = 133.561</b>",
                "x": 0.01,
                "xanchor": "left",
                "xref": "paper",
                "y": 135.54854604979988,
                "yanchor": "auto",
                "yref": "y"
               },
               {
                "font": {
                 "size": 10
                },
                "showarrow": false,
                "text": "<b>measurement Lower Limit = 67.321</b>",
                "x": 0.01,
                "xanchor": "left",
                "xref": "paper",
                "y": 65.3335890545511,
                "yanchor": "auto",
                "yref": "y"
               }
              ],
              "shapes": [
               {
                "line": {
                 "color": "gray",
                 "dash": "dashdot"
                },
                "type": "line",
                "x0": 0,
                "x1": 1,
                "xref": "x domain",
                "y0": 100.4410675521755,
                "y1": 100.4410675521755,
                "yref": "y"
               },
               {
                "line": {
                 "color": "red",
                 "dash": "dashdot"
                },
                "type": "line",
                "x0": 0,
                "x1": 1,
                "xref": "x domain",
                "y0": 133.5613302857834,
                "y1": 133.5613302857834,
                "yref": "y"
               },
               {
                "line": {
                 "color": "red",
                 "dash": "dashdot"
                },
                "type": "line",
                "x0": 0,
                "x1": 1,
                "xref": "x domain",
                "y0": 67.32080481856757,
                "y1": 67.32080481856757,
                "yref": "y"
               },
               {
                "line": {
                 "color": "pink",
                 "dash": "dot"
                },
                "type": "line",
                "x0": 0,
                "x1": 1,
                "xref": "x domain",
                "y0": 117.00119891897945,
                "y1": 117.00119891897945,
                "yref": "y"
               },
               {
                "line": {
                 "color": "pink",
                 "dash": "dot"
                },
                "type": "line",
                "x0": 0,
                "x1": 1,
                "xref": "x domain",
                "y0": 83.88093618537152,
                "y1": 83.88093618537152,
                "yref": "y"
               },
               {
                "line": {
                 "color": "gray",
                 "dash": "dashdot"
                },
                "type": "line",
                "x0": 0,
                "x1": 1,
                "xref": "x domain",
                "y0": 12.451226591581927,
                "y1": 12.451226591581927,
                "yref": "y2"
               },
               {
                "line": {
                 "color": "red",
                 "dash": "dashdot"
                },
                "type": "line",
                "x0": 0,
                "x1": 1,
                "xref": "x domain",
                "y0": 40.69060850128973,
                "y1": 40.69060850128973,
                "yref": "y2"
               },
               {
                "line": {
                 "color": "pink",
                 "dash": "dot"
                },
                "type": "line",
                "x0": 0,
                "x1": 1,
                "xref": "x domain",
                "y0": 26.57091754643583,
                "y1": 26.57091754643583,
                "yref": "y2"
               }
              ]
             }
            ],
            "label": "None",
            "method": "update"
           },
           {
            "args": [
             {
              "visible": [
               true,
               true,
               true,
               true
              ]
             },
             {
              "annotations": [
               {
                "font": {
                 "size": 16
                },
                "showarrow": false,
                "text": "measurement XmR Chart by position",
                "x": 0.5,
                "xanchor": "center",
                "xref": "paper",
                "y": 1.1,
                "yanchor": "top",
                "yref": "paper"
               },
               {
                "font": {
                 "size": 10
                },
                "showarrow": false,
                "text": "<b>mR Upper Limit = 40.691</b>",
                "x": 0.01,
                "xanchor": "left",
                "xref": "paper",
                "y": 42.72513892635422,
                "yanchor": "auto",
                "yref": "y2"
               },
               {
                "font": {
                 "size": 10
                },
                "showarrow": false,
                "text": "<b>measurement Upper Limit = 133.561</b>",
                "x": 0.01,
                "xanchor": "left",
                "xref": "paper",
                "y": 135.54854604979988,
                "yanchor": "auto",
                "yref": "y"
               },
               {
                "font": {
                 "size": 10
                },
                "showarrow": false,
                "text": "<b>measurement Lower Limit = 67.321</b>",
                "x": 0.01,
                "xanchor": "left",
                "xref": "paper",
                "y": 65.3335890545511,
                "yanchor": "auto",
                "yref": "y"
               }
              ],
              "shapes": [
               {
                "line": {
                 "color": "gray",
                 "dash": "dashdot"
                },
                "type": "line",
                "x0": 0,
                "x1": 1,
                "xref": "x domain",
                "y0": 100.4410675521755,
                "y1": 100.4410675521755,
                "yref": "y"
               },
               {
                "line": {
                 "color": "red",
                 "dash": "dashdot"
                },
                "type": "line",
                "x0": 0,
                "x1": 1,
                "xref": "x domain",
                "y0": 133.5613302857834,
                "y1": 133.5613302857834,
                "yref": "y"
               },
               {
                "line": {
                 "color": "red",
                 "dash": "dashdot"
                },
                "type": "line",
                "x0": 0,
                "x1": 1,
                "xref": "x domain",
                "y0": 67.32080481856757,
                "y1": 67.32080481856757,
                "yref": "y"
               },
               {
                "line": {
                 "color": "pink",
                 "dash": "dot"
                },
                "type": "line",
                "x0": 0,
                "x1": 1,
                "xref": "x domain",
                "y0": 117.00119891897945,
                "y1": 117.00119891897945,
                "yref": "y"
               },
               {
                "line": {
                 "color": "pink",
                 "dash": "dot"
                },
                "type": "line",
                "x0": 0,
                "x1": 1,
                "xref": "x domain",
                "y0": 83.88093618537152,
                "y1": 83.88093618537152,
                "yref": "y"
               },
               {
                "line": {
                 "color": "gray",
                 "dash": "dashdot"
                },
                "type": "line",
                "x0": 0,
                "x1": 1,
                "xref": "x domain",
                "y0": 12.451226591581927,
                "y1": 12.451226591581927,
                "yref": "y2"
               },
               {
                "line": {
                 "color": "red",
                 "dash": "dashdot"
                },
                "type": "line",
                "x0": 0,
                "x1": 1,
                "xref": "x domain",
                "y0": 40.69060850128973,
                "y1": 40.69060850128973,
                "yref": "y2"
               },
               {
                "line": {
                 "color": "pink",
                 "dash": "dot"
                },
                "type": "line",
                "x0": 0,
                "x1": 1,
                "xref": "x domain",
                "y0": 26.57091754643583,
                "y1": 26.57091754643583,
                "yref": "y2"
               }
              ]
             }
            ],
            "label": "Anomalies",
            "method": "update"
           },
           {
            "args": [
             {
              "visible": [
               true,
               true,
               false,
               false
              ]
             },
             {
              "annotations": [
               {
                "font": {
                 "size": 16
                },
                "showarrow": false,
                "text": "measurement XmR Chart by position",
                "x": 0.5,
                "xanchor": "center",
                "xref": "paper",
                "y": 1.1,
                "yanchor": "top",
                "yref": "paper"
               },
               {
                "font": {
                 "size": 10
                },
                "showarrow": false,
                "text": "<b>mR Upper Limit = 40.691</b>",
                "x": 0.01,
                "xanchor": "left",
                "xref": "paper",
                "y": 42.72513892635422,
                "yanchor": "auto",
                "yref": "y2"
               },
               {
                "font": {
                 "size": 10
                },
                "showarrow": false,
                "text": "<b>measurement Upper Limit = 133.561</b>",
                "x": 0.01,
                "xanchor": "left",
                "xref": "paper",
                "y": 135.54854604979988,
                "yanchor": "auto",
                "yref": "y"
               },
               {
                "font": {
                 "size": 10
                },
                "showarrow": false,
                "text": "<b>measurement Lower Limit = 67.321</b>",
                "x": 0.01,
                "xanchor": "left",
                "xref": "paper",
                "y": 65.3335890545511,
                "yanchor": "auto",
                "yref": "y"
               }
              ],
              "shapes": [
               {
                "line": {
                 "color": "gray",
                 "dash": "dashdot"
                },
                "type": "line",
                "x0": 0,
                "x1": 1,
                "xref": "x domain",
                "y0": 100.4410675521755,
                "y1": 100.4410675521755,
                "yref": "y"
               },
               {
                "line": {
                 "color": "red",
                 "dash": "dashdot"
                },
                "type": "line",
                "x0": 0,
                "x1": 1,
                "xref": "x domain",
                "y0": 133.5613302857834,
                "y1": 133.5613302857834,
                "yref": "y"
               },
               {
                "line": {
                 "color": "red",
                 "dash": "dashdot"
                },
                "type": "line",
                "x0": 0,
                "x1": 1,
                "xref": "x domain",
                "y0": 67.32080481856757,
                "y1": 67.32080481856757,
                "yref": "y"
               },
               {
                "line": {
                 "color": "pink",
                 "dash": "dot"
                },
                "type": "line",
                "x0": 0,
                "x1": 1,
                "xref": "x domain",
                "y0": 117.00119891897945,
                "y1": 117.00119891897945,
                "yref": "y"
               },
               {
                "line": {
                 "color": "pink",
                 "dash": "dot"
                },
                "type": "line",
                "x0": 0,
                "x1": 1,
                "xref": "x domain",
                "y0": 83.88093618537152,
                "y1": 83.88093618537152,
                "yref": "y"
               },
               {
                "line": {
                 "color": "gray",
                 "dash": "dashdot"
                },
                "type": "line",
                "x0": 0,
                "x1": 1,
                "xref": "x domain",
                "y0": 12.451226591581927,
                "y1": 12.451226591581927,
                "yref": "y2"
               },
               {
                "line": {
                 "color": "red",
                 "dash": "dashdot"
                },
                "type": "line",
                "x0": 0,
                "x1": 1,
                "xref": "x domain",
                "y0": 40.69060850128973,
                "y1": 40.69060850128973,
                "yref": "y2"
               },
               {
                "line": {
                 "color": "pink",
                 "dash": "dot"
                },
                "type": "line",
                "x0": 0,
                "x1": 1,
                "xref": "x domain",
                "y0": 26.57091754643583,
                "y1": 26.57091754643583,
                "yref": "y2"
               },
               {
                "fillcolor": "pink",
                "line": {
                 "color": "purple",
                 "dash": "longdashdot",
                 "width": 2
                },
                "name": "Long Run",
                "opacity": 0.2,
                "path": "M 69 112.14355926861374 L 70 104.6993696232328 L 71 118.34055239107434 L 72 105.68859841395697 L 73 110.49594813262254 L 74 113.89545113659337 L 75 109.22946719354414 L 76 130.69407126900063 L 77 115.07618945371931 L 78 113.65241379064402 L 79 104.7482916271029 L 80 131.3909136783542 L 81 105.58769879077123 L 81 97.18769879077122 L 80 122.9909136783542 L 79 96.3482916271029 L 78 105.25241379064401 L 77 106.6761894537193 L 76 122.29407126900064 L 75 100.82946719354413 L 74 105.49545113659336 L 73 102.09594813262254 L 72 97.28859841395696 L 71 109.94055239107433 L 70 96.29936962323279 L 69 103.74355926861374 Z",
                "type": "path"
               },
               {
                "fillcolor": "pink",
                "line": {
                 "color": "purple",
                 "dash": "longdashdot",
                 "width": 2
                },
                "name": "Long Run",
                "opacity": 0.2,
                "path": "M 58 94.81497877475918 L 59 85.0726852549367 L 60 101.90279604150808 L 61 88.67510136302329 L 62 90.06600393944454 L 63 104.38475375163215 L 64 95.07733320994298 L 65 103.33195842864222 L 66 85.16516817999376 L 66 76.76516817999375 L 65 94.93195842864222 L 64 86.67733320994297 L 63 95.98475375163214 L 62 81.66600393944454 L 61 80.27510136302328 L 60 93.50279604150808 L 59 76.6726852549367 L 58 86.41497877475918 Z",
                "type": "path"
               },
               {
                "fillcolor": "pink",
                "line": {
                 "color": "purple",
                 "dash": "longdashdot",
                 "width": 2
                },
                "name": "Long Run",
                "opacity": 0.2,
                "path": "M 75 109.22946719354414 L 76 130.69407126900063 L 77 115.07618945371931 L 78 113.65241379064402 L 79 104.7482916271029 L 80 131.3909136783542 L 81 105.58769879077123 L 82 126.7187103186942 L 82 118.3187103186942 L 81 97.18769879077122 L 80 122.9909136783542 L 79 96.3482916271029 L 78 105.25241379064401 L 77 106.6761894537193 L 76 122.29407126900064 L 75 100.82946719354413 Z",
                "type": "path"
               }
              ]
             }
            ],
            "label": "Long Runs",
            "method": "update"
           },
           {
            "args": [
             {
              "visible": [
               true,
               true,
               false,
               false
              ]
             },
             {
              "annotations": [
               {
                "font": {
                 "size": 16
                },
                "showarrow": false,
                "text": "measurement XmR Chart by position",
                "x": 0.5,
                "xanchor": "center",
                "xref": "paper",
                "y": 1.1,
                "yanchor": "top",
                "yref": "paper"
               },
               {
                "font": {
                 "size": 10
                },
                "showarrow": false,
                "text": "<b>mR Upper Limit = 40.691</b>",
                "x": 0.01,
                "xanchor": "left",
                "xref": "paper",
                "y": 42.72513892635422,
                "yanchor": "auto",
                "yref": "y2"
               },
               {
                "font": {
                 "size": 10
                },
                "showarrow": false,
                "text": "<b>measurement Upper Limit = 133.561</b>",
                "x": 0.01,
                "xanchor": "left",
                "xref": "paper",
                "y": 135.54854604979988,
                "yanchor": "auto",
                "yref": "y"
               },
               {
                "font": {
                 "size": 10
                },
                "showarrow": false,
                "text": "<b>measurement Lower Limit = 67.321</b>",
                "x": 0.01,
                "xanchor": "left",
                "xref": "paper",
                "y": 65.3335890545511,
                "yanchor": "auto",
                "yref": "y"
               }
              ],
              "shapes": [
               {
                "line": {
                 "color": "gray",
                 "dash": "dashdot"
                },
                "type": "line",
                "x0": 0,
                "x1": 1,
                "xref": "x domain",
                "y0": 100.4410675521755,
                "y1": 100.4410675521755,
                "yref": "y"
               },
               {
                "line": {
                 "color": "red",
                 "dash": "dashdot"
                },
                "type": "line",
                "x0": 0,
                "x1": 1,
                "xref": "x domain",
                "y0": 133.5613302857834,
                "y1": 133.5613302857834,
                "yref": "y"
               },
               {
                "line": {
                 "color": "red",
                 "dash": "dashdot"
                },
                "type": "line",
                "x0": 0,
                "x1": 1,
                "xref": "x domain",
                "y0": 67.32080481856757,
                "y1": 67.32080481856757,
                "yref": "y"
               },
               {
                "line": {
                 "color": "pink",
                 "dash": "dot"
                },
                "type": "line",
                "x0": 0,
                "x1": 1,
                "xref": "x domain",
                "y0": 117.00119891897945,
                "y1": 117.00119891897945,
                "yref": "y"
               },
               {
                "line": {
                 "color": "pink",
                 "dash": "dot"
                },
                "type": "line",
                "x0": 0,
                "x1": 1,
                "xref": "x domain",
                "y0": 83.88093618537152,
                "y1": 83.88093618537152,
                "yref": "y"
               },
               {
                "line": {
                 "color": "gray",
                 "dash": "dashdot"
                },
                "type": "line",
                "x0": 0,
                "x1": 1,
                "xref": "x domain",
                "y0": 12.451226591581927,
                "y1": 12.451226591581927,
                "yref": "y2"
               },
               {
                "line": {
                 "color": "red",
                 "dash": "dashdot"
                },
                "type": "line",
                "x0": 0,
                "x1": 1,
                "xref": "x domain",
                "y0": 40.69060850128973,
                "y1": 40.69060850128973,
                "yref": "y2"
               },
               {
                "line": {
                 "color": "pink",
                 "dash": "dot"
                },
                "type": "line",
                "x0": 0,
                "x1": 1,
                "xref": "x domain",
                "y0": 26.57091754643583,
                "y1": 26.57091754643583,
                "yref": "y2"
               }
              ]
             }
            ],
            "label": "Short Runs",
            "method": "update"
           },
           {
            "args": [
             {
              "visible": [
               true,
               true,
               true,
               true
              ]
             },
             {
              "annotations": [
               {
                "font": {
                 "size": 16
                },
                "showarrow": false,
                "text": "measurement XmR Chart by position",
                "x": 0.5,
                "xanchor": "center",
                "xref": "paper",
                "y": 1.1,
                "yanchor": "top",
                "yref": "paper"
               },
               {
                "font": {
                 "size": 10
                },
                "showarrow": false,
                "text": "<b>mR Upper Limit = 40.691</b>",
                "x": 0.01,
                "xanchor": "left",
                "xref": "paper",
                "y": 42.72513892635422,
                "yanchor": "auto",
                "yref": "y2"
               },
               {
                "font": {
                 "size": 10
                },
                "showarrow": false,
                "text": "<b>measurement Upper Limit = 133.561</b>",
                "x": 0.01,
                "xanchor": "left",
                "xref": "paper",
                "y": 135.54854604979988,
                "yanchor": "auto",
                "yref": "y"
               },
               {
                "font": {
                 "size": 10
                },
                "showarrow": false,
                "text": "<b>measurement Lower Limit = 67.321</b>",
                "x": 0.01,
                "xanchor": "left",
                "xref": "paper",
                "y": 65.3335890545511,
                "yanchor": "auto",
                "yref": "y"
               }
              ],
              "shapes": [
               {
                "line": {
                 "color": "gray",
                 "dash": "dashdot"
                },
                "type": "line",
                "x0": 0,
                "x1": 1,
                "xref": "x domain",
                "y0": 100.4410675521755,
                "y1": 100.4410675521755,
                "yref": "y"
               },
               {
                "line": {
                 "color": "red",
                 "dash": "dashdot"
                },
                "type": "line",
                "x0": 0,
                "x1": 1,
                "xref": "x domain",
                "y0": 133.5613302857834,
                "y1": 133.5613302857834,
                "yref": "y"
               },
               {
                "line": {
                 "color": "red",
                 "dash": "dashdot"
                },
                "type": "line",
                "x0": 0,
                "x1": 1,
                "xref": "x domain",
                "y0": 67.32080481856757,
                "y1": 67.32080481856757,
                "yref": "y"
               },
               {
                "line": {
                 "color": "pink",
                 "dash": "dot"
                },
                "type": "line",
                "x0": 0,
                "x1": 1,
                "xref": "x domain",
                "y0": 117.00119891897945,
                "y1": 117.00119891897945,
                "yref": "y"
               },
               {
                "line": {
                 "color": "pink",
                 "dash": "dot"
                },
                "type": "line",
                "x0": 0,
                "x1": 1,
                "xref": "x domain",
                "y0": 83.88093618537152,
                "y1": 83.88093618537152,
                "yref": "y"
               },
               {
                "line": {
                 "color": "gray",
                 "dash": "dashdot"
                },
                "type": "line",
                "x0": 0,
                "x1": 1,
                "xref": "x domain",
                "y0": 12.451226591581927,
                "y1": 12.451226591581927,
                "yref": "y2"
               },
               {
                "line": {
                 "color": "red",
                 "dash": "dashdot"
                },
                "type": "line",
                "x0": 0,
                "x1": 1,
                "xref": "x domain",
                "y0": 40.69060850128973,
                "y1": 40.69060850128973,
                "yref": "y2"
               },
               {
                "line": {
                 "color": "pink",
                 "dash": "dot"
                },
                "type": "line",
                "x0": 0,
                "x1": 1,
                "xref": "x domain",
                "y0": 26.57091754643583,
                "y1": 26.57091754643583,
                "yref": "y2"
               },
               {
                "fillcolor": "pink",
                "line": {
                 "color": "purple",
                 "dash": "longdashdot",
                 "width": 2
                },
                "name": "Long Run",
                "opacity": 0.2,
                "path": "M 69 112.14355926861374 L 70 104.6993696232328 L 71 118.34055239107434 L 72 105.68859841395697 L 73 110.49594813262254 L 74 113.89545113659337 L 75 109.22946719354414 L 76 130.69407126900063 L 77 115.07618945371931 L 78 113.65241379064402 L 79 104.7482916271029 L 80 131.3909136783542 L 81 105.58769879077123 L 81 97.18769879077122 L 80 122.9909136783542 L 79 96.3482916271029 L 78 105.25241379064401 L 77 106.6761894537193 L 76 122.29407126900064 L 75 100.82946719354413 L 74 105.49545113659336 L 73 102.09594813262254 L 72 97.28859841395696 L 71 109.94055239107433 L 70 96.29936962323279 L 69 103.74355926861374 Z",
                "type": "path"
               },
               {
                "fillcolor": "pink",
                "line": {
                 "color": "purple",
                 "dash": "longdashdot",
                 "width": 2
                },
                "name": "Long Run",
                "opacity": 0.2,
                "path": "M 58 94.81497877475918 L 59 85.0726852549367 L 60 101.90279604150808 L 61 88.67510136302329 L 62 90.06600393944454 L 63 104.38475375163215 L 64 95.07733320994298 L 65 103.33195842864222 L 66 85.16516817999376 L 66 76.76516817999375 L 65 94.93195842864222 L 64 86.67733320994297 L 63 95.98475375163214 L 62 81.66600393944454 L 61 80.27510136302328 L 60 93.50279604150808 L 59 76.6726852549367 L 58 86.41497877475918 Z",
                "type": "path"
               },
               {
                "fillcolor": "pink",
                "line": {
                 "color": "purple",
                 "dash": "longdashdot",
                 "width": 2
                },
                "name": "Long Run",
                "opacity": 0.2,
                "path": "M 75 109.22946719354414 L 76 130.69407126900063 L 77 115.07618945371931 L 78 113.65241379064402 L 79 104.7482916271029 L 80 131.3909136783542 L 81 105.58769879077123 L 82 126.7187103186942 L 82 118.3187103186942 L 81 97.18769879077122 L 80 122.9909136783542 L 79 96.3482916271029 L 78 105.25241379064401 L 77 106.6761894537193 L 76 122.29407126900064 L 75 100.82946719354413 Z",
                "type": "path"
               }
              ]
             }
            ],
            "label": "All",
            "method": "update"
           }
          ],
          "direction": "right",
          "type": "buttons",
          "x": 0.5,
          "xanchor": "center",
          "y": 1.2
         }
        ],
        "xaxis": {
         "anchor": "y",
         "automargin": true,
         "domain": [
          0,
          1
         ],
         "gridcolor": "lightgray",
         "showgrid": true,
         "showline": true,
         "showspikes": true,
         "showticklabels": true,
         "spikemode": "across+toaxis",
         "spikesnap": "cursor",
         "tickangle": 0,
         "tickformat": "d",
         "ticklabelmode": "period",
         "type": "linear",
         "zeroline": false
        },
        "xaxis2": {
         "anchor": "y2",
         "automargin": true,
         "domain": [
          0,
          1
         ],
         "gridcolor": "lightgray",
         "showgrid": true,
         "showline": true,
         "showspikes": true,
         "showticklabels": true,
         "spikemode": "across+toaxis",
         "spikesnap": "cursor",
         "tickangle": 0,
         "tickformat": "d",
         "ticklabelmode": "period",
         "type": "linear",
         "zeroline": false
        },
        "yaxis": {
         "anchor": "x",
         "domain": [
          0.4,
          1
         ],
         "dtick": 6,
         "range": [
          60,
          144
         ],
         "tickformat": "0",
         "title": {
          "text": "measurement"
         }
        },
        "yaxis2": {
         "anchor": "x2",
         "domain": [
          0,
          0.3
         ],
         "dtick": 15,
         "range": [
          0,
          45
         ],
         "tickformat": "0",
         "title": {
          "text": "Moving Range"
         }
        }
       }
      }
     },
     "metadata": {},
     "output_type": "display_data"
    }
   ],
   "source": [
    "# Numeric example\n",
    "numeric_data = pd.DataFrame({\n",
    "    'position': range(1, 101),\n",
    "    'measurement': np.random.normal(100, 10, 100)\n",
    "})\n",
    "\n",
    "xmr_numeric = xmr.XmR(\n",
    "    data=numeric_data,\n",
    "    x_ser_name='position',\n",
    "    y_ser_name='measurement',\n",
    "    x_type='numeric',\n",
    "    chart_height=800\n",
    ")\n",
    "\n",
    "xmr_numeric.xmr_chart"
   ]
  },
  {
   "cell_type": "code",
   "execution_count": 6,
   "metadata": {},
   "outputs": [
    {
     "data": {
      "application/vnd.plotly.v1+json": {
       "config": {
        "plotlyServerURL": "https://plot.ly"
       },
       "data": [
        {
         "hovertemplate": "<b>Category:</b> %{x}<br><b>Value:</b> %{y:.2f}<br><extra></extra>",
         "line": {
          "color": "black",
          "width": 1
         },
         "marker": {
          "color": "black",
          "size": 6
         },
         "mode": "lines+markers",
         "name": "quality_score",
         "type": "scatter",
         "x": [
          "Station_a",
          "Station_b",
          "Station_c",
          "Station_d",
          "Station_e",
          "Station_f",
          "Station_g",
          "Station_h",
          "Station_i",
          "Station_j",
          "Station_k",
          "Station_l",
          "Station_m",
          "Station_n",
          "Station_o",
          "Station_p",
          "Station_q",
          "Station_r",
          "Station_s",
          "Station_t",
          "Station_u",
          "Station_v",
          "Station_w",
          "Station_x",
          "Station_y",
          "Station_z",
          "Station_{",
          "Station_|",
          "Station_}",
          "Station_~",
          "Station_",
          "Station_",
          "Station_",
          "Station_",
          "Station_",
          "Station_",
          "Station_",
          "Station_",
          "Station_",
          "Station_",
          "Station_",
          "Station_",
          "Station_",
          "Station_",
          "Station_",
          "Station_",
          "Station_",
          "Station_",
          "Station_",
          "Station_",
          "Station_",
          "Station_",
          "Station_",
          "Station_",
          "Station_",
          "Station_",
          "Station_",
          "Station_",
          "Station_",
          "Station_",
          "Station_",
          "Station_",
          "Station_",
          "Station_ ",
          "Station_¡",
          "Station_¢",
          "Station_£",
          "Station_¤",
          "Station_¥",
          "Station_¦",
          "Station_§",
          "Station_¨",
          "Station_©",
          "Station_ª",
          "Station_«",
          "Station_¬",
          "Station_­",
          "Station_®",
          "Station_¯",
          "Station_°",
          "Station_±",
          "Station_²",
          "Station_³",
          "Station_´",
          "Station_µ",
          "Station_¶",
          "Station_·",
          "Station_¸",
          "Station_¹",
          "Station_º",
          "Station_»",
          "Station_¼",
          "Station_½",
          "Station_¾",
          "Station_¿",
          "Station_À",
          "Station_Á",
          "Station_Â",
          "Station_Ã",
          "Station_Ä"
         ],
         "xaxis": "x",
         "y": [
          80.13515992463788,
          86.59709719819932,
          92.04790141536554,
          83.86797257182623,
          86.54523733161665,
          83.56357467960368,
          85.92424464219008,
          83.54327241029019,
          88.78143652181426,
          94.44316295740639,
          90.3850725533637,
          86.69534607353661,
          87.29269121666222,
          91.25590993001647,
          82.09013046001705,
          89.80984699214059,
          86.51343168267111,
          82.45372216347732,
          90.50157027692354,
          82.61622278855948,
          86.4880642543455,
          85.56804543382039,
          84.94746181475512,
          87.18463318155608,
          81.32558246322318,
          90.11221996896008,
          77.97507298656296,
          82.0571758163293,
          70.63314384587743,
          79.90732107079437,
          80.94813499063237,
          81.67514817369032,
          90.01429125360357,
          80.25947851673365,
          84.70474523910843,
          90.45118249003471,
          80.30966914361035,
          79.4695451847787,
          87.58810790820071,
          80.5128802626032,
          86.15054269336107,
          79.31837438853906,
          82.61815090255517,
          100.9337341645601,
          81.03853532682672,
          77.88638769582629,
          87.0344072404478,
          91.60142033762556,
          88.02701519038527,
          79.34258915377919,
          97.70662718926569,
          84.89645421230803,
          86.31957175043001,
          82.45714918446012,
          75.57089371991974,
          83.70299284521326,
          76.23902359005973,
          91.16232517094689,
          84.72014021113105,
          82.25394293980766,
          72.570721876793,
          91.48139988768482,
          77.07765279532897,
          88.54695640203421,
          83.10472159170607,
          84.35391816757142,
          88.04465411267648,
          93.45340670430299,
          79.95653388718456,
          79.12408482211256,
          89.16237495685375,
          82.19268472230736,
          83.30618055342383,
          77.83584773433572,
          92.11443800651948,
          91.03518923489212,
          90.83189279158901,
          87.79601743793158,
          91.712446743903,
          91.45333657921833,
          74.67620663187172,
          92.15236765638825,
          88.7721671714913,
          84.24460050511108,
          84.81406334104433,
          77.54695352568848,
          83.58448244985111,
          80.35564788224117,
          79.57947120529667,
          81.22867146472494,
          83.36226880952117,
          101.23979785916508,
          80.65688293231437,
          84.82673471937989,
          83.81204891149045,
          79.18494930040613,
          91.92395483886423,
          78.04519437424091,
          78.01216048387766,
          82.2662092015682
         ],
         "yaxis": "y"
        },
        {
         "hovertemplate": "<b>Category:</b> %{x}<br><b>Range:</b> %{y:.2f}<br><extra></extra>",
         "line": {
          "color": "black",
          "width": 1
         },
         "marker": {
          "color": "black",
          "size": 6
         },
         "mode": "lines+markers",
         "name": "Moving Range",
         "type": "scatter",
         "x": [
          "Station_a",
          "Station_b",
          "Station_c",
          "Station_d",
          "Station_e",
          "Station_f",
          "Station_g",
          "Station_h",
          "Station_i",
          "Station_j",
          "Station_k",
          "Station_l",
          "Station_m",
          "Station_n",
          "Station_o",
          "Station_p",
          "Station_q",
          "Station_r",
          "Station_s",
          "Station_t",
          "Station_u",
          "Station_v",
          "Station_w",
          "Station_x",
          "Station_y",
          "Station_z",
          "Station_{",
          "Station_|",
          "Station_}",
          "Station_~",
          "Station_",
          "Station_",
          "Station_",
          "Station_",
          "Station_",
          "Station_",
          "Station_",
          "Station_",
          "Station_",
          "Station_",
          "Station_",
          "Station_",
          "Station_",
          "Station_",
          "Station_",
          "Station_",
          "Station_",
          "Station_",
          "Station_",
          "Station_",
          "Station_",
          "Station_",
          "Station_",
          "Station_",
          "Station_",
          "Station_",
          "Station_",
          "Station_",
          "Station_",
          "Station_",
          "Station_",
          "Station_",
          "Station_",
          "Station_ ",
          "Station_¡",
          "Station_¢",
          "Station_£",
          "Station_¤",
          "Station_¥",
          "Station_¦",
          "Station_§",
          "Station_¨",
          "Station_©",
          "Station_ª",
          "Station_«",
          "Station_¬",
          "Station_­",
          "Station_®",
          "Station_¯",
          "Station_°",
          "Station_±",
          "Station_²",
          "Station_³",
          "Station_´",
          "Station_µ",
          "Station_¶",
          "Station_·",
          "Station_¸",
          "Station_¹",
          "Station_º",
          "Station_»",
          "Station_¼",
          "Station_½",
          "Station_¾",
          "Station_¿",
          "Station_À",
          "Station_Á",
          "Station_Â",
          "Station_Ã",
          "Station_Ä"
         ],
         "xaxis": "x2",
         "y": [
          null,
          6.461937273561446,
          5.4508042171662225,
          8.179928843539315,
          2.6772647597904182,
          2.9816626520129716,
          2.3606699625863996,
          2.3809722318998894,
          5.238164111524071,
          5.661726435592129,
          4.058090404042687,
          3.689726479827087,
          0.597345143125608,
          3.9632187133542516,
          9.165779469999421,
          7.719716532123542,
          3.296415309469481,
          4.059709519193788,
          8.047848113446221,
          7.8853474883640615,
          3.8718414657860194,
          0.9200188205251152,
          0.6205836190652718,
          2.2371713668009647,
          5.859050718332895,
          8.786637505736891,
          12.137146982397113,
          4.082102829766342,
          11.424031970451878,
          9.27417722491694,
          1.0408139198380013,
          0.7270131830579487,
          8.339143079913256,
          9.754812736869923,
          4.445266722374782,
          5.746437250926277,
          10.141513346424361,
          0.8401239588316542,
          8.118562723422016,
          7.075227645597508,
          5.637662430757871,
          6.832168304822019,
          3.2997765140161164,
          18.31558326200492,
          19.895198837733375,
          3.1521476310004317,
          9.14801954462152,
          4.56701309717775,
          3.5744051472402845,
          8.684426036606084,
          18.3640380354865,
          12.81017297695766,
          1.4231175381219856,
          3.8624225659698936,
          6.886255464540383,
          8.132099125293522,
          7.463969255153529,
          14.923301580887156,
          6.442184959815833,
          2.466197271323395,
          9.683221063014656,
          18.910678010891814,
          14.403747092355843,
          11.469303606705239,
          5.442234810328145,
          1.249196575865355,
          3.690735945105061,
          5.408752591626509,
          13.49687281711843,
          0.832449065071998,
          10.038290134741189,
          6.969690234546391,
          1.1134958311164667,
          5.470332819088114,
          14.278590272183763,
          1.0792487716273627,
          0.2032964433031026,
          3.035875353657431,
          3.9164293059714197,
          0.25911016468467096,
          16.77712994734661,
          17.47616102451653,
          3.380200484896946,
          4.527566666380224,
          0.5694628359332512,
          7.267109815355852,
          6.037528924162629,
          3.228834567609937,
          0.7761766769445018,
          1.6492002594282695,
          2.133597344796229,
          17.87752904964391,
          20.582914926850705,
          4.169851787065511,
          1.0146858078894354,
          4.6270996110843186,
          12.739005538458102,
          13.878760464623326,
          0.033033890363242335,
          4.254048717690537
         ],
         "yaxis": "y2"
        },
        {
         "marker": {
          "color": "red",
          "size": 8,
          "symbol": "cross"
         },
         "mode": "markers",
         "texttemplate": "%{y}",
         "type": "scatter",
         "visible": false,
         "x": [],
         "xaxis": "x",
         "y": [],
         "yaxis": "y"
        },
        {
         "marker": {
          "color": "red",
          "size": 8,
          "symbol": "cross"
         },
         "mode": "markers",
         "type": "scatter",
         "visible": false,
         "x": [],
         "xaxis": "x2",
         "y": [],
         "yaxis": "y2"
        }
       ],
       "layout": {
        "annotations": [
         {
          "font": {
           "size": 16
          },
          "showarrow": false,
          "text": "quality_score XmR Chart by station",
          "x": 0.5,
          "xanchor": "center",
          "xref": "paper",
          "y": 1.1,
          "yanchor": "top",
          "yref": "paper"
         },
         {
          "font": {
           "size": 10
          },
          "showarrow": false,
          "text": "<b>mR Upper Limit = 21.428</b>",
          "x": 0.01,
          "xanchor": "left",
          "xref": "paper",
          "y": 22.499919030040363,
          "yanchor": "auto",
          "yref": "y2"
         },
         {
          "font": {
           "size": 10
          },
          "showarrow": false,
          "text": "<b>quality_score Upper Limit = 102.258</b>",
          "x": 0.01,
          "xanchor": "left",
          "xref": "paper",
          "y": 103.30445033926698,
          "yanchor": "auto",
          "yref": "y"
         },
         {
          "font": {
           "size": 10
          },
          "showarrow": false,
          "text": "<b>quality_score Lower Limit = 67.374</b>",
          "x": 0.01,
          "xanchor": "left",
          "xref": "paper",
          "y": 66.32783922013088,
          "yanchor": "auto",
          "yref": "y"
         }
        ],
        "font": {
         "size": 10
        },
        "height": 600,
        "hovermode": "x",
        "plot_bgcolor": "white",
        "shapes": [
         {
          "line": {
           "color": "gray",
           "dash": "dashdot"
          },
          "type": "line",
          "x0": 0,
          "x1": 1,
          "xref": "x domain",
          "y0": 84.81614477969893,
          "y1": 84.81614477969893,
          "yref": "y"
         },
         {
          "line": {
           "color": "red",
           "dash": "dashdot"
          },
          "type": "line",
          "x0": 0,
          "x1": 1,
          "xref": "x domain",
          "y0": 102.25794247740464,
          "y1": 102.25794247740464,
          "yref": "y"
         },
         {
          "line": {
           "color": "red",
           "dash": "dashdot"
          },
          "type": "line",
          "x0": 0,
          "x1": 1,
          "xref": "x domain",
          "y0": 67.37434708199322,
          "y1": 67.37434708199322,
          "yref": "y"
         },
         {
          "line": {
           "color": "pink",
           "dash": "dot"
          },
          "type": "line",
          "x0": 0,
          "x1": 1,
          "xref": "x domain",
          "y0": 93.53704362855179,
          "y1": 93.53704362855179,
          "yref": "y"
         },
         {
          "line": {
           "color": "pink",
           "dash": "dot"
          },
          "type": "line",
          "x0": 0,
          "x1": 1,
          "xref": "x domain",
          "y0": 76.09524593084608,
          "y1": 76.09524593084608,
          "yref": "y"
         },
         {
          "line": {
           "color": "gray",
           "dash": "dashdot"
          },
          "type": "line",
          "x0": 0,
          "x1": 1,
          "xref": "x domain",
          "y0": 6.5570668036487625,
          "y1": 6.5570668036487625,
          "yref": "y2"
         },
         {
          "line": {
           "color": "red",
           "dash": "dashdot"
          },
          "type": "line",
          "x0": 0,
          "x1": 1,
          "xref": "x domain",
          "y0": 21.428494314324155,
          "y1": 21.428494314324155,
          "yref": "y2"
         },
         {
          "line": {
           "color": "pink",
           "dash": "dot"
          },
          "type": "line",
          "x0": 0,
          "x1": 1,
          "xref": "x domain",
          "y0": 13.992780558986459,
          "y1": 13.992780558986459,
          "yref": "y2"
         }
        ],
        "showlegend": false,
        "template": {
         "data": {
          "bar": [
           {
            "error_x": {
             "color": "#2a3f5f"
            },
            "error_y": {
             "color": "#2a3f5f"
            },
            "marker": {
             "line": {
              "color": "#E5ECF6",
              "width": 0.5
             },
             "pattern": {
              "fillmode": "overlay",
              "size": 10,
              "solidity": 0.2
             }
            },
            "type": "bar"
           }
          ],
          "barpolar": [
           {
            "marker": {
             "line": {
              "color": "#E5ECF6",
              "width": 0.5
             },
             "pattern": {
              "fillmode": "overlay",
              "size": 10,
              "solidity": 0.2
             }
            },
            "type": "barpolar"
           }
          ],
          "carpet": [
           {
            "aaxis": {
             "endlinecolor": "#2a3f5f",
             "gridcolor": "white",
             "linecolor": "white",
             "minorgridcolor": "white",
             "startlinecolor": "#2a3f5f"
            },
            "baxis": {
             "endlinecolor": "#2a3f5f",
             "gridcolor": "white",
             "linecolor": "white",
             "minorgridcolor": "white",
             "startlinecolor": "#2a3f5f"
            },
            "type": "carpet"
           }
          ],
          "choropleth": [
           {
            "colorbar": {
             "outlinewidth": 0,
             "ticks": ""
            },
            "type": "choropleth"
           }
          ],
          "contour": [
           {
            "colorbar": {
             "outlinewidth": 0,
             "ticks": ""
            },
            "colorscale": [
             [
              0,
              "#0d0887"
             ],
             [
              0.1111111111111111,
              "#46039f"
             ],
             [
              0.2222222222222222,
              "#7201a8"
             ],
             [
              0.3333333333333333,
              "#9c179e"
             ],
             [
              0.4444444444444444,
              "#bd3786"
             ],
             [
              0.5555555555555556,
              "#d8576b"
             ],
             [
              0.6666666666666666,
              "#ed7953"
             ],
             [
              0.7777777777777778,
              "#fb9f3a"
             ],
             [
              0.8888888888888888,
              "#fdca26"
             ],
             [
              1,
              "#f0f921"
             ]
            ],
            "type": "contour"
           }
          ],
          "contourcarpet": [
           {
            "colorbar": {
             "outlinewidth": 0,
             "ticks": ""
            },
            "type": "contourcarpet"
           }
          ],
          "heatmap": [
           {
            "colorbar": {
             "outlinewidth": 0,
             "ticks": ""
            },
            "colorscale": [
             [
              0,
              "#0d0887"
             ],
             [
              0.1111111111111111,
              "#46039f"
             ],
             [
              0.2222222222222222,
              "#7201a8"
             ],
             [
              0.3333333333333333,
              "#9c179e"
             ],
             [
              0.4444444444444444,
              "#bd3786"
             ],
             [
              0.5555555555555556,
              "#d8576b"
             ],
             [
              0.6666666666666666,
              "#ed7953"
             ],
             [
              0.7777777777777778,
              "#fb9f3a"
             ],
             [
              0.8888888888888888,
              "#fdca26"
             ],
             [
              1,
              "#f0f921"
             ]
            ],
            "type": "heatmap"
           }
          ],
          "heatmapgl": [
           {
            "colorbar": {
             "outlinewidth": 0,
             "ticks": ""
            },
            "colorscale": [
             [
              0,
              "#0d0887"
             ],
             [
              0.1111111111111111,
              "#46039f"
             ],
             [
              0.2222222222222222,
              "#7201a8"
             ],
             [
              0.3333333333333333,
              "#9c179e"
             ],
             [
              0.4444444444444444,
              "#bd3786"
             ],
             [
              0.5555555555555556,
              "#d8576b"
             ],
             [
              0.6666666666666666,
              "#ed7953"
             ],
             [
              0.7777777777777778,
              "#fb9f3a"
             ],
             [
              0.8888888888888888,
              "#fdca26"
             ],
             [
              1,
              "#f0f921"
             ]
            ],
            "type": "heatmapgl"
           }
          ],
          "histogram": [
           {
            "marker": {
             "pattern": {
              "fillmode": "overlay",
              "size": 10,
              "solidity": 0.2
             }
            },
            "type": "histogram"
           }
          ],
          "histogram2d": [
           {
            "colorbar": {
             "outlinewidth": 0,
             "ticks": ""
            },
            "colorscale": [
             [
              0,
              "#0d0887"
             ],
             [
              0.1111111111111111,
              "#46039f"
             ],
             [
              0.2222222222222222,
              "#7201a8"
             ],
             [
              0.3333333333333333,
              "#9c179e"
             ],
             [
              0.4444444444444444,
              "#bd3786"
             ],
             [
              0.5555555555555556,
              "#d8576b"
             ],
             [
              0.6666666666666666,
              "#ed7953"
             ],
             [
              0.7777777777777778,
              "#fb9f3a"
             ],
             [
              0.8888888888888888,
              "#fdca26"
             ],
             [
              1,
              "#f0f921"
             ]
            ],
            "type": "histogram2d"
           }
          ],
          "histogram2dcontour": [
           {
            "colorbar": {
             "outlinewidth": 0,
             "ticks": ""
            },
            "colorscale": [
             [
              0,
              "#0d0887"
             ],
             [
              0.1111111111111111,
              "#46039f"
             ],
             [
              0.2222222222222222,
              "#7201a8"
             ],
             [
              0.3333333333333333,
              "#9c179e"
             ],
             [
              0.4444444444444444,
              "#bd3786"
             ],
             [
              0.5555555555555556,
              "#d8576b"
             ],
             [
              0.6666666666666666,
              "#ed7953"
             ],
             [
              0.7777777777777778,
              "#fb9f3a"
             ],
             [
              0.8888888888888888,
              "#fdca26"
             ],
             [
              1,
              "#f0f921"
             ]
            ],
            "type": "histogram2dcontour"
           }
          ],
          "mesh3d": [
           {
            "colorbar": {
             "outlinewidth": 0,
             "ticks": ""
            },
            "type": "mesh3d"
           }
          ],
          "parcoords": [
           {
            "line": {
             "colorbar": {
              "outlinewidth": 0,
              "ticks": ""
             }
            },
            "type": "parcoords"
           }
          ],
          "pie": [
           {
            "automargin": true,
            "type": "pie"
           }
          ],
          "scatter": [
           {
            "fillpattern": {
             "fillmode": "overlay",
             "size": 10,
             "solidity": 0.2
            },
            "type": "scatter"
           }
          ],
          "scatter3d": [
           {
            "line": {
             "colorbar": {
              "outlinewidth": 0,
              "ticks": ""
             }
            },
            "marker": {
             "colorbar": {
              "outlinewidth": 0,
              "ticks": ""
             }
            },
            "type": "scatter3d"
           }
          ],
          "scattercarpet": [
           {
            "marker": {
             "colorbar": {
              "outlinewidth": 0,
              "ticks": ""
             }
            },
            "type": "scattercarpet"
           }
          ],
          "scattergeo": [
           {
            "marker": {
             "colorbar": {
              "outlinewidth": 0,
              "ticks": ""
             }
            },
            "type": "scattergeo"
           }
          ],
          "scattergl": [
           {
            "marker": {
             "colorbar": {
              "outlinewidth": 0,
              "ticks": ""
             }
            },
            "type": "scattergl"
           }
          ],
          "scattermapbox": [
           {
            "marker": {
             "colorbar": {
              "outlinewidth": 0,
              "ticks": ""
             }
            },
            "type": "scattermapbox"
           }
          ],
          "scatterpolar": [
           {
            "marker": {
             "colorbar": {
              "outlinewidth": 0,
              "ticks": ""
             }
            },
            "type": "scatterpolar"
           }
          ],
          "scatterpolargl": [
           {
            "marker": {
             "colorbar": {
              "outlinewidth": 0,
              "ticks": ""
             }
            },
            "type": "scatterpolargl"
           }
          ],
          "scatterternary": [
           {
            "marker": {
             "colorbar": {
              "outlinewidth": 0,
              "ticks": ""
             }
            },
            "type": "scatterternary"
           }
          ],
          "surface": [
           {
            "colorbar": {
             "outlinewidth": 0,
             "ticks": ""
            },
            "colorscale": [
             [
              0,
              "#0d0887"
             ],
             [
              0.1111111111111111,
              "#46039f"
             ],
             [
              0.2222222222222222,
              "#7201a8"
             ],
             [
              0.3333333333333333,
              "#9c179e"
             ],
             [
              0.4444444444444444,
              "#bd3786"
             ],
             [
              0.5555555555555556,
              "#d8576b"
             ],
             [
              0.6666666666666666,
              "#ed7953"
             ],
             [
              0.7777777777777778,
              "#fb9f3a"
             ],
             [
              0.8888888888888888,
              "#fdca26"
             ],
             [
              1,
              "#f0f921"
             ]
            ],
            "type": "surface"
           }
          ],
          "table": [
           {
            "cells": {
             "fill": {
              "color": "#EBF0F8"
             },
             "line": {
              "color": "white"
             }
            },
            "header": {
             "fill": {
              "color": "#C8D4E3"
             },
             "line": {
              "color": "white"
             }
            },
            "type": "table"
           }
          ]
         },
         "layout": {
          "annotationdefaults": {
           "arrowcolor": "#2a3f5f",
           "arrowhead": 0,
           "arrowwidth": 1
          },
          "autotypenumbers": "strict",
          "coloraxis": {
           "colorbar": {
            "outlinewidth": 0,
            "ticks": ""
           }
          },
          "colorscale": {
           "diverging": [
            [
             0,
             "#8e0152"
            ],
            [
             0.1,
             "#c51b7d"
            ],
            [
             0.2,
             "#de77ae"
            ],
            [
             0.3,
             "#f1b6da"
            ],
            [
             0.4,
             "#fde0ef"
            ],
            [
             0.5,
             "#f7f7f7"
            ],
            [
             0.6,
             "#e6f5d0"
            ],
            [
             0.7,
             "#b8e186"
            ],
            [
             0.8,
             "#7fbc41"
            ],
            [
             0.9,
             "#4d9221"
            ],
            [
             1,
             "#276419"
            ]
           ],
           "sequential": [
            [
             0,
             "#0d0887"
            ],
            [
             0.1111111111111111,
             "#46039f"
            ],
            [
             0.2222222222222222,
             "#7201a8"
            ],
            [
             0.3333333333333333,
             "#9c179e"
            ],
            [
             0.4444444444444444,
             "#bd3786"
            ],
            [
             0.5555555555555556,
             "#d8576b"
            ],
            [
             0.6666666666666666,
             "#ed7953"
            ],
            [
             0.7777777777777778,
             "#fb9f3a"
            ],
            [
             0.8888888888888888,
             "#fdca26"
            ],
            [
             1,
             "#f0f921"
            ]
           ],
           "sequentialminus": [
            [
             0,
             "#0d0887"
            ],
            [
             0.1111111111111111,
             "#46039f"
            ],
            [
             0.2222222222222222,
             "#7201a8"
            ],
            [
             0.3333333333333333,
             "#9c179e"
            ],
            [
             0.4444444444444444,
             "#bd3786"
            ],
            [
             0.5555555555555556,
             "#d8576b"
            ],
            [
             0.6666666666666666,
             "#ed7953"
            ],
            [
             0.7777777777777778,
             "#fb9f3a"
            ],
            [
             0.8888888888888888,
             "#fdca26"
            ],
            [
             1,
             "#f0f921"
            ]
           ]
          },
          "colorway": [
           "#636efa",
           "#EF553B",
           "#00cc96",
           "#ab63fa",
           "#FFA15A",
           "#19d3f3",
           "#FF6692",
           "#B6E880",
           "#FF97FF",
           "#FECB52"
          ],
          "font": {
           "color": "#2a3f5f"
          },
          "geo": {
           "bgcolor": "white",
           "lakecolor": "white",
           "landcolor": "#E5ECF6",
           "showlakes": true,
           "showland": true,
           "subunitcolor": "white"
          },
          "hoverlabel": {
           "align": "left"
          },
          "hovermode": "closest",
          "mapbox": {
           "style": "light"
          },
          "paper_bgcolor": "white",
          "plot_bgcolor": "#E5ECF6",
          "polar": {
           "angularaxis": {
            "gridcolor": "white",
            "linecolor": "white",
            "ticks": ""
           },
           "bgcolor": "#E5ECF6",
           "radialaxis": {
            "gridcolor": "white",
            "linecolor": "white",
            "ticks": ""
           }
          },
          "scene": {
           "xaxis": {
            "backgroundcolor": "#E5ECF6",
            "gridcolor": "white",
            "gridwidth": 2,
            "linecolor": "white",
            "showbackground": true,
            "ticks": "",
            "zerolinecolor": "white"
           },
           "yaxis": {
            "backgroundcolor": "#E5ECF6",
            "gridcolor": "white",
            "gridwidth": 2,
            "linecolor": "white",
            "showbackground": true,
            "ticks": "",
            "zerolinecolor": "white"
           },
           "zaxis": {
            "backgroundcolor": "#E5ECF6",
            "gridcolor": "white",
            "gridwidth": 2,
            "linecolor": "white",
            "showbackground": true,
            "ticks": "",
            "zerolinecolor": "white"
           }
          },
          "shapedefaults": {
           "line": {
            "color": "#2a3f5f"
           }
          },
          "ternary": {
           "aaxis": {
            "gridcolor": "white",
            "linecolor": "white",
            "ticks": ""
           },
           "baxis": {
            "gridcolor": "white",
            "linecolor": "white",
            "ticks": ""
           },
           "bgcolor": "#E5ECF6",
           "caxis": {
            "gridcolor": "white",
            "linecolor": "white",
            "ticks": ""
           }
          },
          "title": {
           "x": 0.05
          },
          "xaxis": {
           "automargin": true,
           "gridcolor": "white",
           "linecolor": "white",
           "ticks": "",
           "title": {
            "standoff": 15
           },
           "zerolinecolor": "white",
           "zerolinewidth": 2
          },
          "yaxis": {
           "automargin": true,
           "gridcolor": "white",
           "linecolor": "white",
           "ticks": "",
           "title": {
            "standoff": 15
           },
           "zerolinecolor": "white",
           "zerolinewidth": 2
          }
         }
        },
        "updatemenus": [
         {
          "active": 0,
          "buttons": [
           {
            "args": [
             {
              "visible": [
               true,
               true,
               false,
               false
              ]
             },
             {
              "annotations": [
               {
                "font": {
                 "size": 16
                },
                "showarrow": false,
                "text": "quality_score XmR Chart by station",
                "x": 0.5,
                "xanchor": "center",
                "xref": "paper",
                "y": 1.1,
                "yanchor": "top",
                "yref": "paper"
               },
               {
                "font": {
                 "size": 10
                },
                "showarrow": false,
                "text": "<b>mR Upper Limit = 21.428</b>",
                "x": 0.01,
                "xanchor": "left",
                "xref": "paper",
                "y": 22.499919030040363,
                "yanchor": "auto",
                "yref": "y2"
               },
               {
                "font": {
                 "size": 10
                },
                "showarrow": false,
                "text": "<b>quality_score Upper Limit = 102.258</b>",
                "x": 0.01,
                "xanchor": "left",
                "xref": "paper",
                "y": 103.30445033926698,
                "yanchor": "auto",
                "yref": "y"
               },
               {
                "font": {
                 "size": 10
                },
                "showarrow": false,
                "text": "<b>quality_score Lower Limit = 67.374</b>",
                "x": 0.01,
                "xanchor": "left",
                "xref": "paper",
                "y": 66.32783922013088,
                "yanchor": "auto",
                "yref": "y"
               }
              ],
              "shapes": [
               {
                "line": {
                 "color": "gray",
                 "dash": "dashdot"
                },
                "type": "line",
                "x0": 0,
                "x1": 1,
                "xref": "x domain",
                "y0": 84.81614477969893,
                "y1": 84.81614477969893,
                "yref": "y"
               },
               {
                "line": {
                 "color": "red",
                 "dash": "dashdot"
                },
                "type": "line",
                "x0": 0,
                "x1": 1,
                "xref": "x domain",
                "y0": 102.25794247740464,
                "y1": 102.25794247740464,
                "yref": "y"
               },
               {
                "line": {
                 "color": "red",
                 "dash": "dashdot"
                },
                "type": "line",
                "x0": 0,
                "x1": 1,
                "xref": "x domain",
                "y0": 67.37434708199322,
                "y1": 67.37434708199322,
                "yref": "y"
               },
               {
                "line": {
                 "color": "pink",
                 "dash": "dot"
                },
                "type": "line",
                "x0": 0,
                "x1": 1,
                "xref": "x domain",
                "y0": 93.53704362855179,
                "y1": 93.53704362855179,
                "yref": "y"
               },
               {
                "line": {
                 "color": "pink",
                 "dash": "dot"
                },
                "type": "line",
                "x0": 0,
                "x1": 1,
                "xref": "x domain",
                "y0": 76.09524593084608,
                "y1": 76.09524593084608,
                "yref": "y"
               },
               {
                "line": {
                 "color": "gray",
                 "dash": "dashdot"
                },
                "type": "line",
                "x0": 0,
                "x1": 1,
                "xref": "x domain",
                "y0": 6.5570668036487625,
                "y1": 6.5570668036487625,
                "yref": "y2"
               },
               {
                "line": {
                 "color": "red",
                 "dash": "dashdot"
                },
                "type": "line",
                "x0": 0,
                "x1": 1,
                "xref": "x domain",
                "y0": 21.428494314324155,
                "y1": 21.428494314324155,
                "yref": "y2"
               },
               {
                "line": {
                 "color": "pink",
                 "dash": "dot"
                },
                "type": "line",
                "x0": 0,
                "x1": 1,
                "xref": "x domain",
                "y0": 13.992780558986459,
                "y1": 13.992780558986459,
                "yref": "y2"
               }
              ]
             }
            ],
            "label": "None",
            "method": "update"
           },
           {
            "args": [
             {
              "visible": [
               true,
               true,
               true,
               true
              ]
             },
             {
              "annotations": [
               {
                "font": {
                 "size": 16
                },
                "showarrow": false,
                "text": "quality_score XmR Chart by station",
                "x": 0.5,
                "xanchor": "center",
                "xref": "paper",
                "y": 1.1,
                "yanchor": "top",
                "yref": "paper"
               },
               {
                "font": {
                 "size": 10
                },
                "showarrow": false,
                "text": "<b>mR Upper Limit = 21.428</b>",
                "x": 0.01,
                "xanchor": "left",
                "xref": "paper",
                "y": 22.499919030040363,
                "yanchor": "auto",
                "yref": "y2"
               },
               {
                "font": {
                 "size": 10
                },
                "showarrow": false,
                "text": "<b>quality_score Upper Limit = 102.258</b>",
                "x": 0.01,
                "xanchor": "left",
                "xref": "paper",
                "y": 103.30445033926698,
                "yanchor": "auto",
                "yref": "y"
               },
               {
                "font": {
                 "size": 10
                },
                "showarrow": false,
                "text": "<b>quality_score Lower Limit = 67.374</b>",
                "x": 0.01,
                "xanchor": "left",
                "xref": "paper",
                "y": 66.32783922013088,
                "yanchor": "auto",
                "yref": "y"
               }
              ],
              "shapes": [
               {
                "line": {
                 "color": "gray",
                 "dash": "dashdot"
                },
                "type": "line",
                "x0": 0,
                "x1": 1,
                "xref": "x domain",
                "y0": 84.81614477969893,
                "y1": 84.81614477969893,
                "yref": "y"
               },
               {
                "line": {
                 "color": "red",
                 "dash": "dashdot"
                },
                "type": "line",
                "x0": 0,
                "x1": 1,
                "xref": "x domain",
                "y0": 102.25794247740464,
                "y1": 102.25794247740464,
                "yref": "y"
               },
               {
                "line": {
                 "color": "red",
                 "dash": "dashdot"
                },
                "type": "line",
                "x0": 0,
                "x1": 1,
                "xref": "x domain",
                "y0": 67.37434708199322,
                "y1": 67.37434708199322,
                "yref": "y"
               },
               {
                "line": {
                 "color": "pink",
                 "dash": "dot"
                },
                "type": "line",
                "x0": 0,
                "x1": 1,
                "xref": "x domain",
                "y0": 93.53704362855179,
                "y1": 93.53704362855179,
                "yref": "y"
               },
               {
                "line": {
                 "color": "pink",
                 "dash": "dot"
                },
                "type": "line",
                "x0": 0,
                "x1": 1,
                "xref": "x domain",
                "y0": 76.09524593084608,
                "y1": 76.09524593084608,
                "yref": "y"
               },
               {
                "line": {
                 "color": "gray",
                 "dash": "dashdot"
                },
                "type": "line",
                "x0": 0,
                "x1": 1,
                "xref": "x domain",
                "y0": 6.5570668036487625,
                "y1": 6.5570668036487625,
                "yref": "y2"
               },
               {
                "line": {
                 "color": "red",
                 "dash": "dashdot"
                },
                "type": "line",
                "x0": 0,
                "x1": 1,
                "xref": "x domain",
                "y0": 21.428494314324155,
                "y1": 21.428494314324155,
                "yref": "y2"
               },
               {
                "line": {
                 "color": "pink",
                 "dash": "dot"
                },
                "type": "line",
                "x0": 0,
                "x1": 1,
                "xref": "x domain",
                "y0": 13.992780558986459,
                "y1": 13.992780558986459,
                "yref": "y2"
               }
              ]
             }
            ],
            "label": "Anomalies",
            "method": "update"
           },
           {
            "args": [
             {
              "visible": [
               true,
               true,
               false,
               false
              ]
             },
             {
              "annotations": [
               {
                "font": {
                 "size": 16
                },
                "showarrow": false,
                "text": "quality_score XmR Chart by station",
                "x": 0.5,
                "xanchor": "center",
                "xref": "paper",
                "y": 1.1,
                "yanchor": "top",
                "yref": "paper"
               },
               {
                "font": {
                 "size": 10
                },
                "showarrow": false,
                "text": "<b>mR Upper Limit = 21.428</b>",
                "x": 0.01,
                "xanchor": "left",
                "xref": "paper",
                "y": 22.499919030040363,
                "yanchor": "auto",
                "yref": "y2"
               },
               {
                "font": {
                 "size": 10
                },
                "showarrow": false,
                "text": "<b>quality_score Upper Limit = 102.258</b>",
                "x": 0.01,
                "xanchor": "left",
                "xref": "paper",
                "y": 103.30445033926698,
                "yanchor": "auto",
                "yref": "y"
               },
               {
                "font": {
                 "size": 10
                },
                "showarrow": false,
                "text": "<b>quality_score Lower Limit = 67.374</b>",
                "x": 0.01,
                "xanchor": "left",
                "xref": "paper",
                "y": 66.32783922013088,
                "yanchor": "auto",
                "yref": "y"
               }
              ],
              "shapes": [
               {
                "line": {
                 "color": "gray",
                 "dash": "dashdot"
                },
                "type": "line",
                "x0": 0,
                "x1": 1,
                "xref": "x domain",
                "y0": 84.81614477969893,
                "y1": 84.81614477969893,
                "yref": "y"
               },
               {
                "line": {
                 "color": "red",
                 "dash": "dashdot"
                },
                "type": "line",
                "x0": 0,
                "x1": 1,
                "xref": "x domain",
                "y0": 102.25794247740464,
                "y1": 102.25794247740464,
                "yref": "y"
               },
               {
                "line": {
                 "color": "red",
                 "dash": "dashdot"
                },
                "type": "line",
                "x0": 0,
                "x1": 1,
                "xref": "x domain",
                "y0": 67.37434708199322,
                "y1": 67.37434708199322,
                "yref": "y"
               },
               {
                "line": {
                 "color": "pink",
                 "dash": "dot"
                },
                "type": "line",
                "x0": 0,
                "x1": 1,
                "xref": "x domain",
                "y0": 93.53704362855179,
                "y1": 93.53704362855179,
                "yref": "y"
               },
               {
                "line": {
                 "color": "pink",
                 "dash": "dot"
                },
                "type": "line",
                "x0": 0,
                "x1": 1,
                "xref": "x domain",
                "y0": 76.09524593084608,
                "y1": 76.09524593084608,
                "yref": "y"
               },
               {
                "line": {
                 "color": "gray",
                 "dash": "dashdot"
                },
                "type": "line",
                "x0": 0,
                "x1": 1,
                "xref": "x domain",
                "y0": 6.5570668036487625,
                "y1": 6.5570668036487625,
                "yref": "y2"
               },
               {
                "line": {
                 "color": "red",
                 "dash": "dashdot"
                },
                "type": "line",
                "x0": 0,
                "x1": 1,
                "xref": "x domain",
                "y0": 21.428494314324155,
                "y1": 21.428494314324155,
                "yref": "y2"
               },
               {
                "line": {
                 "color": "pink",
                 "dash": "dot"
                },
                "type": "line",
                "x0": 0,
                "x1": 1,
                "xref": "x domain",
                "y0": 13.992780558986459,
                "y1": 13.992780558986459,
                "yref": "y2"
               },
               {
                "fillcolor": "pink",
                "line": {
                 "color": "purple",
                 "dash": "longdashdot",
                 "width": 2
                },
                "name": "Long Run",
                "opacity": 0.2,
                "path": "M Station_´ 86.49460050511108 L Station_µ 87.06406334104433 L Station_¶ 79.79695352568848 L Station_· 85.83448244985111 L Station_¸ 82.60564788224117 L Station_¹ 81.82947120529667 L Station_º 83.47867146472494 L Station_» 85.61226880952117 L Station_» 81.11226880952117 L Station_º 78.97867146472494 L Station_¹ 77.32947120529667 L Station_¸ 78.10564788224117 L Station_· 81.33448244985111 L Station_¶ 75.29695352568848 L Station_µ 82.56406334104433 L Station_´ 81.99460050511108 Z",
                "type": "path"
               }
              ]
             }
            ],
            "label": "Long Runs",
            "method": "update"
           },
           {
            "args": [
             {
              "visible": [
               true,
               true,
               false,
               false
              ]
             },
             {
              "annotations": [
               {
                "font": {
                 "size": 16
                },
                "showarrow": false,
                "text": "quality_score XmR Chart by station",
                "x": 0.5,
                "xanchor": "center",
                "xref": "paper",
                "y": 1.1,
                "yanchor": "top",
                "yref": "paper"
               },
               {
                "font": {
                 "size": 10
                },
                "showarrow": false,
                "text": "<b>mR Upper Limit = 21.428</b>",
                "x": 0.01,
                "xanchor": "left",
                "xref": "paper",
                "y": 22.499919030040363,
                "yanchor": "auto",
                "yref": "y2"
               },
               {
                "font": {
                 "size": 10
                },
                "showarrow": false,
                "text": "<b>quality_score Upper Limit = 102.258</b>",
                "x": 0.01,
                "xanchor": "left",
                "xref": "paper",
                "y": 103.30445033926698,
                "yanchor": "auto",
                "yref": "y"
               },
               {
                "font": {
                 "size": 10
                },
                "showarrow": false,
                "text": "<b>quality_score Lower Limit = 67.374</b>",
                "x": 0.01,
                "xanchor": "left",
                "xref": "paper",
                "y": 66.32783922013088,
                "yanchor": "auto",
                "yref": "y"
               }
              ],
              "shapes": [
               {
                "line": {
                 "color": "gray",
                 "dash": "dashdot"
                },
                "type": "line",
                "x0": 0,
                "x1": 1,
                "xref": "x domain",
                "y0": 84.81614477969893,
                "y1": 84.81614477969893,
                "yref": "y"
               },
               {
                "line": {
                 "color": "red",
                 "dash": "dashdot"
                },
                "type": "line",
                "x0": 0,
                "x1": 1,
                "xref": "x domain",
                "y0": 102.25794247740464,
                "y1": 102.25794247740464,
                "yref": "y"
               },
               {
                "line": {
                 "color": "red",
                 "dash": "dashdot"
                },
                "type": "line",
                "x0": 0,
                "x1": 1,
                "xref": "x domain",
                "y0": 67.37434708199322,
                "y1": 67.37434708199322,
                "yref": "y"
               },
               {
                "line": {
                 "color": "pink",
                 "dash": "dot"
                },
                "type": "line",
                "x0": 0,
                "x1": 1,
                "xref": "x domain",
                "y0": 93.53704362855179,
                "y1": 93.53704362855179,
                "yref": "y"
               },
               {
                "line": {
                 "color": "pink",
                 "dash": "dot"
                },
                "type": "line",
                "x0": 0,
                "x1": 1,
                "xref": "x domain",
                "y0": 76.09524593084608,
                "y1": 76.09524593084608,
                "yref": "y"
               },
               {
                "line": {
                 "color": "gray",
                 "dash": "dashdot"
                },
                "type": "line",
                "x0": 0,
                "x1": 1,
                "xref": "x domain",
                "y0": 6.5570668036487625,
                "y1": 6.5570668036487625,
                "yref": "y2"
               },
               {
                "line": {
                 "color": "red",
                 "dash": "dashdot"
                },
                "type": "line",
                "x0": 0,
                "x1": 1,
                "xref": "x domain",
                "y0": 21.428494314324155,
                "y1": 21.428494314324155,
                "yref": "y2"
               },
               {
                "line": {
                 "color": "pink",
                 "dash": "dot"
                },
                "type": "line",
                "x0": 0,
                "x1": 1,
                "xref": "x domain",
                "y0": 13.992780558986459,
                "y1": 13.992780558986459,
                "yref": "y2"
               }
              ]
             }
            ],
            "label": "Short Runs",
            "method": "update"
           },
           {
            "args": [
             {
              "visible": [
               true,
               true,
               true,
               true
              ]
             },
             {
              "annotations": [
               {
                "font": {
                 "size": 16
                },
                "showarrow": false,
                "text": "quality_score XmR Chart by station",
                "x": 0.5,
                "xanchor": "center",
                "xref": "paper",
                "y": 1.1,
                "yanchor": "top",
                "yref": "paper"
               },
               {
                "font": {
                 "size": 10
                },
                "showarrow": false,
                "text": "<b>mR Upper Limit = 21.428</b>",
                "x": 0.01,
                "xanchor": "left",
                "xref": "paper",
                "y": 22.499919030040363,
                "yanchor": "auto",
                "yref": "y2"
               },
               {
                "font": {
                 "size": 10
                },
                "showarrow": false,
                "text": "<b>quality_score Upper Limit = 102.258</b>",
                "x": 0.01,
                "xanchor": "left",
                "xref": "paper",
                "y": 103.30445033926698,
                "yanchor": "auto",
                "yref": "y"
               },
               {
                "font": {
                 "size": 10
                },
                "showarrow": false,
                "text": "<b>quality_score Lower Limit = 67.374</b>",
                "x": 0.01,
                "xanchor": "left",
                "xref": "paper",
                "y": 66.32783922013088,
                "yanchor": "auto",
                "yref": "y"
               }
              ],
              "shapes": [
               {
                "line": {
                 "color": "gray",
                 "dash": "dashdot"
                },
                "type": "line",
                "x0": 0,
                "x1": 1,
                "xref": "x domain",
                "y0": 84.81614477969893,
                "y1": 84.81614477969893,
                "yref": "y"
               },
               {
                "line": {
                 "color": "red",
                 "dash": "dashdot"
                },
                "type": "line",
                "x0": 0,
                "x1": 1,
                "xref": "x domain",
                "y0": 102.25794247740464,
                "y1": 102.25794247740464,
                "yref": "y"
               },
               {
                "line": {
                 "color": "red",
                 "dash": "dashdot"
                },
                "type": "line",
                "x0": 0,
                "x1": 1,
                "xref": "x domain",
                "y0": 67.37434708199322,
                "y1": 67.37434708199322,
                "yref": "y"
               },
               {
                "line": {
                 "color": "pink",
                 "dash": "dot"
                },
                "type": "line",
                "x0": 0,
                "x1": 1,
                "xref": "x domain",
                "y0": 93.53704362855179,
                "y1": 93.53704362855179,
                "yref": "y"
               },
               {
                "line": {
                 "color": "pink",
                 "dash": "dot"
                },
                "type": "line",
                "x0": 0,
                "x1": 1,
                "xref": "x domain",
                "y0": 76.09524593084608,
                "y1": 76.09524593084608,
                "yref": "y"
               },
               {
                "line": {
                 "color": "gray",
                 "dash": "dashdot"
                },
                "type": "line",
                "x0": 0,
                "x1": 1,
                "xref": "x domain",
                "y0": 6.5570668036487625,
                "y1": 6.5570668036487625,
                "yref": "y2"
               },
               {
                "line": {
                 "color": "red",
                 "dash": "dashdot"
                },
                "type": "line",
                "x0": 0,
                "x1": 1,
                "xref": "x domain",
                "y0": 21.428494314324155,
                "y1": 21.428494314324155,
                "yref": "y2"
               },
               {
                "line": {
                 "color": "pink",
                 "dash": "dot"
                },
                "type": "line",
                "x0": 0,
                "x1": 1,
                "xref": "x domain",
                "y0": 13.992780558986459,
                "y1": 13.992780558986459,
                "yref": "y2"
               },
               {
                "fillcolor": "pink",
                "line": {
                 "color": "purple",
                 "dash": "longdashdot",
                 "width": 2
                },
                "name": "Long Run",
                "opacity": 0.2,
                "path": "M Station_´ 86.49460050511108 L Station_µ 87.06406334104433 L Station_¶ 79.79695352568848 L Station_· 85.83448244985111 L Station_¸ 82.60564788224117 L Station_¹ 81.82947120529667 L Station_º 83.47867146472494 L Station_» 85.61226880952117 L Station_» 81.11226880952117 L Station_º 78.97867146472494 L Station_¹ 77.32947120529667 L Station_¸ 78.10564788224117 L Station_· 81.33448244985111 L Station_¶ 75.29695352568848 L Station_µ 82.56406334104433 L Station_´ 81.99460050511108 Z",
                "type": "path"
               }
              ]
             }
            ],
            "label": "All",
            "method": "update"
           }
          ],
          "direction": "right",
          "type": "buttons",
          "x": 0.5,
          "xanchor": "center",
          "y": 1.2
         }
        ],
        "xaxis": {
         "anchor": "y",
         "automargin": true,
         "domain": [
          0,
          1
         ],
         "gridcolor": "lightgray",
         "showgrid": true,
         "showline": true,
         "showspikes": true,
         "showticklabels": true,
         "spikemode": "across+toaxis",
         "spikesnap": "cursor",
         "tickangle": 45,
         "tickformat": "%b\n%Y",
         "ticklabelmode": "period",
         "type": "category",
         "zeroline": false
        },
        "xaxis2": {
         "anchor": "y2",
         "automargin": true,
         "domain": [
          0,
          1
         ],
         "gridcolor": "lightgray",
         "showgrid": true,
         "showline": true,
         "showspikes": true,
         "showticklabels": true,
         "spikemode": "across+toaxis",
         "spikesnap": "cursor",
         "tickangle": 45,
         "tickformat": "%b\n%Y",
         "ticklabelmode": "period",
         "type": "category",
         "zeroline": false
        },
        "yaxis": {
         "anchor": "x",
         "domain": [
          0.4,
          1
         ],
         "dtick": 3,
         "range": [
          63,
          108
         ],
         "tickformat": "0",
         "title": {
          "text": "quality_score"
         }
        },
        "yaxis2": {
         "anchor": "x2",
         "domain": [
          0,
          0.3
         ],
         "dtick": 8,
         "range": [
          0,
          24
         ],
         "tickformat": "0",
         "title": {
          "text": "Moving Range"
         }
        }
       }
      }
     },
     "metadata": {},
     "output_type": "display_data"
    }
   ],
   "source": [
    "# Categorical example\n",
    "categories = ['Station_' + chr(ord('a') + i) for i in range(100)]\n",
    "categorical_data = pd.DataFrame({\n",
    "    'station': categories,\n",
    "    'quality_score': np.random.normal(85, 5, 100)\n",
    "}).sort_values('station')\n",
    "\n",
    "xmr_categorical = xmr.XmR(\n",
    "    data=categorical_data,\n",
    "    x_ser_name='station',\n",
    "    y_ser_name='quality_score',\n",
    "    x_type='categorical',\n",
    "    # show_grid=False\n",
    ")\n",
    "\n",
    "xmr_categorical.xmr_chart"
   ]
  }
 ],
 "metadata": {
  "kernelspec": {
   "display_name": "Python 3",
   "language": "python",
   "name": "python3"
  },
  "language_info": {
   "codemirror_mode": {
    "name": "ipython",
    "version": 3
   },
   "file_extension": ".py",
   "mimetype": "text/x-python",
   "name": "python",
   "nbconvert_exporter": "python",
   "pygments_lexer": "ipython3",
   "version": "3.13.0"
  }
 },
 "nbformat": 4,
 "nbformat_minor": 4
}
