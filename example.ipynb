{
 "cells": [
  {
   "cell_type": "markdown",
   "metadata": {},
   "source": [
    "# XmR Chart Example\n",
    "\n",
    "This notebook demonstrates the usage of the spc_plotly package with sample vehicle count data."
   ]
  },
  {
   "cell_type": "code",
   "execution_count": 1,
   "metadata": {},
   "outputs": [],
   "source": [
    "import pandas as pd\n",
    "import numpy as np\n",
    "from datetime import datetime, timedelta\n",
    "from spc_plotly import xmr\n",
    "\n",
    "# Set random seed for reproducibility\n",
    "np.random.seed(475)"
   ]
  },
  {
   "cell_type": "code",
   "execution_count": 2,
   "metadata": {},
   "outputs": [
    {
     "data": {
      "text/html": [
       "<div>\n",
       "<style scoped>\n",
       "    .dataframe tbody tr th:only-of-type {\n",
       "        vertical-align: middle;\n",
       "    }\n",
       "\n",
       "    .dataframe tbody tr th {\n",
       "        vertical-align: top;\n",
       "    }\n",
       "\n",
       "    .dataframe thead th {\n",
       "        text-align: right;\n",
       "    }\n",
       "</style>\n",
       "<table border=\"1\" class=\"dataframe\">\n",
       "  <thead>\n",
       "    <tr style=\"text-align: right;\">\n",
       "      <th></th>\n",
       "      <th>date</th>\n",
       "      <th>vehicle_counts</th>\n",
       "    </tr>\n",
       "  </thead>\n",
       "  <tbody>\n",
       "    <tr>\n",
       "      <th>0</th>\n",
       "      <td>2024-01-01</td>\n",
       "      <td>942</td>\n",
       "    </tr>\n",
       "    <tr>\n",
       "      <th>1</th>\n",
       "      <td>2024-01-02</td>\n",
       "      <td>1033</td>\n",
       "    </tr>\n",
       "    <tr>\n",
       "      <th>2</th>\n",
       "      <td>2024-01-03</td>\n",
       "      <td>1023</td>\n",
       "    </tr>\n",
       "    <tr>\n",
       "      <th>3</th>\n",
       "      <td>2024-01-04</td>\n",
       "      <td>983</td>\n",
       "    </tr>\n",
       "    <tr>\n",
       "      <th>4</th>\n",
       "      <td>2024-01-05</td>\n",
       "      <td>1011</td>\n",
       "    </tr>\n",
       "  </tbody>\n",
       "</table>\n",
       "</div>"
      ],
      "text/plain": [
       "        date  vehicle_counts\n",
       "0 2024-01-01             942\n",
       "1 2024-01-02            1033\n",
       "2 2024-01-03            1023\n",
       "3 2024-01-04             983\n",
       "4 2024-01-05            1011"
      ]
     },
     "execution_count": 2,
     "metadata": {},
     "output_type": "execute_result"
    }
   ],
   "source": [
    "# Generate 100 days of data\n",
    "start_date = datetime(2024, 1, 1)\n",
    "dates = [start_date + timedelta(days=x) for x in range(100)]\n",
    "\n",
    "# Generate vehicle counts with some patterns:\n",
    "# - Base level around 1000 vehicles\n",
    "# - Gradual upward trend\n",
    "# - Some random variation\n",
    "# - A few anomalies\n",
    "\n",
    "base_counts = 1000\n",
    "trend = np.linspace(0, 200, 100)  # Gradual increase over time\n",
    "variation = np.random.normal(0, 50, 100)  # Random daily variation\n",
    "weekly_pattern = np.tile([50, 30, 0, -20, -30, -80, -100], 15)[:100]  # Weekly patterns\n",
    "\n",
    "# Combine components\n",
    "vehicle_counts = base_counts + trend + variation + weekly_pattern\n",
    "\n",
    "# Add some anomalies\n",
    "vehicle_counts[25] += 300  # Special event\n",
    "vehicle_counts[50:55] += 200  # Construction period\n",
    "vehicle_counts[80] -= 400  # Road closure\n",
    "\n",
    "# Create DataFrame\n",
    "data = pd.DataFrame({\n",
    "    'date': dates,\n",
    "    'vehicle_counts': vehicle_counts.astype(int)\n",
    "})\n",
    "\n",
    "# Display first few rows\n",
    "data.head()"
   ]
  },
  {
   "cell_type": "code",
   "execution_count": 3,
   "metadata": {},
   "outputs": [
    {
     "data": {
      "application/vnd.plotly.v1+json": {
       "config": {
        "plotlyServerURL": "https://plot.ly"
       },
       "data": [
        {
         "hovertemplate": "<b>Date:</b> %{x|%Y-%m-%d}<br><b>Value:</b> %{y:.2f}<br><extra></extra>",
         "line": {
          "color": "black",
          "width": 1
         },
         "marker": {
          "color": "black",
          "size": 6
         },
         "mode": "lines+markers",
         "name": "vehicle_counts",
         "type": "scatter",
         "x": [
          "2024-01-01",
          "2024-01-02",
          "2024-01-03",
          "2024-01-04",
          "2024-01-05",
          "2024-01-06",
          "2024-01-07",
          "2024-01-08",
          "2024-01-09",
          "2024-01-10",
          "2024-01-11",
          "2024-01-12",
          "2024-01-13",
          "2024-01-14",
          "2024-01-15",
          "2024-01-16",
          "2024-01-17",
          "2024-01-18",
          "2024-01-19",
          "2024-01-20",
          "2024-01-21",
          "2024-01-22",
          "2024-01-23",
          "2024-01-24",
          "2024-01-25",
          "2024-01-26",
          "2024-01-27",
          "2024-01-28",
          "2024-01-29",
          "2024-01-30",
          "2024-01-31",
          "2024-02-01",
          "2024-02-02",
          "2024-02-03",
          "2024-02-04",
          "2024-02-05",
          "2024-02-06",
          "2024-02-07",
          "2024-02-08",
          "2024-02-09",
          "2024-02-10",
          "2024-02-11",
          "2024-02-12",
          "2024-02-13",
          "2024-02-14",
          "2024-02-15",
          "2024-02-16",
          "2024-02-17",
          "2024-02-18",
          "2024-02-19",
          "2024-02-20",
          "2024-02-21",
          "2024-02-22",
          "2024-02-23",
          "2024-02-24",
          "2024-02-25",
          "2024-02-26",
          "2024-02-27",
          "2024-02-28",
          "2024-02-29",
          "2024-03-01",
          "2024-03-02",
          "2024-03-03",
          "2024-03-04",
          "2024-03-05",
          "2024-03-06",
          "2024-03-07",
          "2024-03-08",
          "2024-03-09",
          "2024-03-10",
          "2024-03-11",
          "2024-03-12",
          "2024-03-13",
          "2024-03-14",
          "2024-03-15",
          "2024-03-16",
          "2024-03-17",
          "2024-03-18",
          "2024-03-19",
          "2024-03-20",
          "2024-03-21",
          "2024-03-22",
          "2024-03-23",
          "2024-03-24",
          "2024-03-25",
          "2024-03-26",
          "2024-03-27",
          "2024-03-28",
          "2024-03-29",
          "2024-03-30",
          "2024-03-31",
          "2024-04-01",
          "2024-04-02",
          "2024-04-03",
          "2024-04-04",
          "2024-04-05",
          "2024-04-06",
          "2024-04-07",
          "2024-04-08",
          "2024-04-09"
         ],
         "xaxis": "x",
         "y": [
          942,
          1033,
          1023,
          983,
          1011,
          883,
          859,
          1033,
          1058,
          981,
          1056,
          987,
          862,
          820,
          1118,
          1020,
          1058,
          944,
          1052,
          965,
          901,
          1045,
          1119,
          966,
          1002,
          1340,
          942,
          953,
          1181,
          1054,
          1130,
          1046,
          1083,
          979,
          955,
          1145,
          1136,
          1106,
          1056,
          1043,
          1058,
          936,
          1229,
          1111,
          1192,
          1036,
          1117,
          1011,
          989,
          1158,
          1217,
          1317,
          1315,
          1221,
          1255,
          1040,
          1222,
          1097,
          1107,
          1129,
          1100,
          1053,
          1025,
          1153,
          1186,
          1160,
          1117,
          1039,
          1047,
          1037,
          1176,
          1243,
          1181,
          1026,
          1131,
          1118,
          1030,
          1253,
          1227,
          1193,
          703,
          1075,
          1069,
          1124,
          1184,
          1165,
          1197,
          1178,
          1100,
          1125,
          1009,
          1208,
          1177,
          1184,
          1128,
          1163,
          1081,
          1121,
          1223,
          1238
         ],
         "yaxis": "y"
        },
        {
         "hovertemplate": "<b>Date:</b> %{x|%Y-%m-%d}<br><b>Range:</b> %{y:.2f}<br><extra></extra>",
         "line": {
          "color": "black",
          "width": 1
         },
         "marker": {
          "color": "black",
          "size": 6
         },
         "mode": "lines+markers",
         "name": "Moving Range",
         "type": "scatter",
         "x": [
          "2024-01-01",
          "2024-01-02",
          "2024-01-03",
          "2024-01-04",
          "2024-01-05",
          "2024-01-06",
          "2024-01-07",
          "2024-01-08",
          "2024-01-09",
          "2024-01-10",
          "2024-01-11",
          "2024-01-12",
          "2024-01-13",
          "2024-01-14",
          "2024-01-15",
          "2024-01-16",
          "2024-01-17",
          "2024-01-18",
          "2024-01-19",
          "2024-01-20",
          "2024-01-21",
          "2024-01-22",
          "2024-01-23",
          "2024-01-24",
          "2024-01-25",
          "2024-01-26",
          "2024-01-27",
          "2024-01-28",
          "2024-01-29",
          "2024-01-30",
          "2024-01-31",
          "2024-02-01",
          "2024-02-02",
          "2024-02-03",
          "2024-02-04",
          "2024-02-05",
          "2024-02-06",
          "2024-02-07",
          "2024-02-08",
          "2024-02-09",
          "2024-02-10",
          "2024-02-11",
          "2024-02-12",
          "2024-02-13",
          "2024-02-14",
          "2024-02-15",
          "2024-02-16",
          "2024-02-17",
          "2024-02-18",
          "2024-02-19",
          "2024-02-20",
          "2024-02-21",
          "2024-02-22",
          "2024-02-23",
          "2024-02-24",
          "2024-02-25",
          "2024-02-26",
          "2024-02-27",
          "2024-02-28",
          "2024-02-29",
          "2024-03-01",
          "2024-03-02",
          "2024-03-03",
          "2024-03-04",
          "2024-03-05",
          "2024-03-06",
          "2024-03-07",
          "2024-03-08",
          "2024-03-09",
          "2024-03-10",
          "2024-03-11",
          "2024-03-12",
          "2024-03-13",
          "2024-03-14",
          "2024-03-15",
          "2024-03-16",
          "2024-03-17",
          "2024-03-18",
          "2024-03-19",
          "2024-03-20",
          "2024-03-21",
          "2024-03-22",
          "2024-03-23",
          "2024-03-24",
          "2024-03-25",
          "2024-03-26",
          "2024-03-27",
          "2024-03-28",
          "2024-03-29",
          "2024-03-30",
          "2024-03-31",
          "2024-04-01",
          "2024-04-02",
          "2024-04-03",
          "2024-04-04",
          "2024-04-05",
          "2024-04-06",
          "2024-04-07",
          "2024-04-08",
          "2024-04-09"
         ],
         "xaxis": "x2",
         "y": [
          null,
          91,
          10,
          40,
          28,
          128,
          24,
          174,
          25,
          77,
          75,
          69,
          125,
          42,
          298,
          98,
          38,
          114,
          108,
          87,
          64,
          144,
          74,
          153,
          36,
          338,
          398,
          11,
          228,
          127,
          76,
          84,
          37,
          104,
          24,
          190,
          9,
          30,
          50,
          13,
          15,
          122,
          293,
          118,
          81,
          156,
          81,
          106,
          22,
          169,
          59,
          100,
          2,
          94,
          34,
          215,
          182,
          125,
          10,
          22,
          29,
          47,
          28,
          128,
          33,
          26,
          43,
          78,
          8,
          10,
          139,
          67,
          62,
          155,
          105,
          13,
          88,
          223,
          26,
          34,
          490,
          372,
          6,
          55,
          60,
          19,
          32,
          19,
          78,
          25,
          116,
          199,
          31,
          7,
          56,
          35,
          82,
          40,
          102,
          15
         ],
         "yaxis": "y2"
        },
        {
         "marker": {
          "color": "red",
          "size": 8,
          "symbol": "cross"
         },
         "mode": "markers",
         "texttemplate": "%{y}",
         "type": "scatter",
         "visible": false,
         "x": [
          "2024-01-14",
          "2024-01-26",
          "2024-03-21"
         ],
         "xaxis": "x",
         "y": [
          820,
          1340,
          703
         ],
         "yaxis": "y"
        },
        {
         "marker": {
          "color": "red",
          "size": 8,
          "symbol": "cross"
         },
         "mode": "markers",
         "type": "scatter",
         "visible": false,
         "x": [
          "2024-01-26",
          "2024-01-27",
          "2024-03-21",
          "2024-03-22"
         ],
         "xaxis": "x2",
         "y": [
          338,
          398,
          490,
          372
         ],
         "yaxis": "y2"
        }
       ],
       "layout": {
        "annotations": [
         {
          "font": {
           "size": 16
          },
          "showarrow": false,
          "text": "Daily Vehicle Counts - XmR Chart",
          "x": 0.5,
          "xanchor": "center",
          "xref": "paper",
          "y": 1.1,
          "yanchor": "top",
          "yref": "paper"
         },
         {
          "font": {
           "size": 10
          },
          "showarrow": false,
          "text": "<b>mR Upper Limit = 298.015</b>",
          "x": 0.01,
          "xanchor": "left",
          "xref": "paper",
          "y": 312.9159515151515,
          "yanchor": "auto",
          "yref": "y2"
         },
         {
          "font": {
           "size": 10
          },
          "showarrow": false,
          "text": "<b>vehicle_counts Upper Limit = 1328.311</b>",
          "x": 0.01,
          "xanchor": "left",
          "xref": "paper",
          "y": 1342.8647353535355,
          "yanchor": "auto",
          "yref": "y"
         },
         {
          "font": {
           "size": 10
          },
          "showarrow": false,
          "text": "<b>vehicle_counts Lower Limit = 843.169</b>",
          "x": 0.01,
          "xanchor": "left",
          "xref": "paper",
          "y": 828.6152646464647,
          "yanchor": "auto",
          "yref": "y"
         }
        ],
        "font": {
         "size": 10
        },
        "hovermode": "x",
        "plot_bgcolor": "white",
        "shapes": [
         {
          "line": {
           "color": "gray",
           "dash": "dashdot"
          },
          "type": "line",
          "x0": 0,
          "x1": 1,
          "xref": "x domain",
          "y0": 1085.74,
          "y1": 1085.74,
          "yref": "y"
         },
         {
          "line": {
           "color": "red",
           "dash": "dashdot"
          },
          "type": "line",
          "x0": 0,
          "x1": 1,
          "xref": "x domain",
          "y0": 1328.310505050505,
          "y1": 1328.310505050505,
          "yref": "y"
         },
         {
          "line": {
           "color": "red",
           "dash": "dashdot"
          },
          "type": "line",
          "x0": 0,
          "x1": 1,
          "xref": "x domain",
          "y0": 843.169494949495,
          "y1": 843.169494949495,
          "yref": "y"
         },
         {
          "line": {
           "color": "pink",
           "dash": "dot"
          },
          "type": "line",
          "x0": 0,
          "x1": 1,
          "xref": "x domain",
          "y0": 1207.0252525252527,
          "y1": 1207.0252525252527,
          "yref": "y"
         },
         {
          "line": {
           "color": "pink",
           "dash": "dot"
          },
          "type": "line",
          "x0": 0,
          "x1": 1,
          "xref": "x domain",
          "y0": 964.4547474747475,
          "y1": 964.4547474747475,
          "yref": "y"
         },
         {
          "line": {
           "color": "gray",
           "dash": "dashdot"
          },
          "type": "line",
          "x0": 0,
          "x1": 1,
          "xref": "x domain",
          "y0": 91.1919191919192,
          "y1": 91.1919191919192,
          "yref": "y2"
         },
         {
          "line": {
           "color": "red",
           "dash": "dashdot"
          },
          "type": "line",
          "x0": 0,
          "x1": 1,
          "xref": "x domain",
          "y0": 298.0151919191919,
          "y1": 298.0151919191919,
          "yref": "y2"
         },
         {
          "line": {
           "color": "pink",
           "dash": "dot"
          },
          "type": "line",
          "x0": 0,
          "x1": 1,
          "xref": "x domain",
          "y0": 194.60355555555554,
          "y1": 194.60355555555554,
          "yref": "y2"
         }
        ],
        "showlegend": false,
        "template": {
         "data": {
          "bar": [
           {
            "error_x": {
             "color": "#2a3f5f"
            },
            "error_y": {
             "color": "#2a3f5f"
            },
            "marker": {
             "line": {
              "color": "#E5ECF6",
              "width": 0.5
             },
             "pattern": {
              "fillmode": "overlay",
              "size": 10,
              "solidity": 0.2
             }
            },
            "type": "bar"
           }
          ],
          "barpolar": [
           {
            "marker": {
             "line": {
              "color": "#E5ECF6",
              "width": 0.5
             },
             "pattern": {
              "fillmode": "overlay",
              "size": 10,
              "solidity": 0.2
             }
            },
            "type": "barpolar"
           }
          ],
          "carpet": [
           {
            "aaxis": {
             "endlinecolor": "#2a3f5f",
             "gridcolor": "white",
             "linecolor": "white",
             "minorgridcolor": "white",
             "startlinecolor": "#2a3f5f"
            },
            "baxis": {
             "endlinecolor": "#2a3f5f",
             "gridcolor": "white",
             "linecolor": "white",
             "minorgridcolor": "white",
             "startlinecolor": "#2a3f5f"
            },
            "type": "carpet"
           }
          ],
          "choropleth": [
           {
            "colorbar": {
             "outlinewidth": 0,
             "ticks": ""
            },
            "type": "choropleth"
           }
          ],
          "contour": [
           {
            "colorbar": {
             "outlinewidth": 0,
             "ticks": ""
            },
            "colorscale": [
             [
              0,
              "#0d0887"
             ],
             [
              0.1111111111111111,
              "#46039f"
             ],
             [
              0.2222222222222222,
              "#7201a8"
             ],
             [
              0.3333333333333333,
              "#9c179e"
             ],
             [
              0.4444444444444444,
              "#bd3786"
             ],
             [
              0.5555555555555556,
              "#d8576b"
             ],
             [
              0.6666666666666666,
              "#ed7953"
             ],
             [
              0.7777777777777778,
              "#fb9f3a"
             ],
             [
              0.8888888888888888,
              "#fdca26"
             ],
             [
              1,
              "#f0f921"
             ]
            ],
            "type": "contour"
           }
          ],
          "contourcarpet": [
           {
            "colorbar": {
             "outlinewidth": 0,
             "ticks": ""
            },
            "type": "contourcarpet"
           }
          ],
          "heatmap": [
           {
            "colorbar": {
             "outlinewidth": 0,
             "ticks": ""
            },
            "colorscale": [
             [
              0,
              "#0d0887"
             ],
             [
              0.1111111111111111,
              "#46039f"
             ],
             [
              0.2222222222222222,
              "#7201a8"
             ],
             [
              0.3333333333333333,
              "#9c179e"
             ],
             [
              0.4444444444444444,
              "#bd3786"
             ],
             [
              0.5555555555555556,
              "#d8576b"
             ],
             [
              0.6666666666666666,
              "#ed7953"
             ],
             [
              0.7777777777777778,
              "#fb9f3a"
             ],
             [
              0.8888888888888888,
              "#fdca26"
             ],
             [
              1,
              "#f0f921"
             ]
            ],
            "type": "heatmap"
           }
          ],
          "heatmapgl": [
           {
            "colorbar": {
             "outlinewidth": 0,
             "ticks": ""
            },
            "colorscale": [
             [
              0,
              "#0d0887"
             ],
             [
              0.1111111111111111,
              "#46039f"
             ],
             [
              0.2222222222222222,
              "#7201a8"
             ],
             [
              0.3333333333333333,
              "#9c179e"
             ],
             [
              0.4444444444444444,
              "#bd3786"
             ],
             [
              0.5555555555555556,
              "#d8576b"
             ],
             [
              0.6666666666666666,
              "#ed7953"
             ],
             [
              0.7777777777777778,
              "#fb9f3a"
             ],
             [
              0.8888888888888888,
              "#fdca26"
             ],
             [
              1,
              "#f0f921"
             ]
            ],
            "type": "heatmapgl"
           }
          ],
          "histogram": [
           {
            "marker": {
             "pattern": {
              "fillmode": "overlay",
              "size": 10,
              "solidity": 0.2
             }
            },
            "type": "histogram"
           }
          ],
          "histogram2d": [
           {
            "colorbar": {
             "outlinewidth": 0,
             "ticks": ""
            },
            "colorscale": [
             [
              0,
              "#0d0887"
             ],
             [
              0.1111111111111111,
              "#46039f"
             ],
             [
              0.2222222222222222,
              "#7201a8"
             ],
             [
              0.3333333333333333,
              "#9c179e"
             ],
             [
              0.4444444444444444,
              "#bd3786"
             ],
             [
              0.5555555555555556,
              "#d8576b"
             ],
             [
              0.6666666666666666,
              "#ed7953"
             ],
             [
              0.7777777777777778,
              "#fb9f3a"
             ],
             [
              0.8888888888888888,
              "#fdca26"
             ],
             [
              1,
              "#f0f921"
             ]
            ],
            "type": "histogram2d"
           }
          ],
          "histogram2dcontour": [
           {
            "colorbar": {
             "outlinewidth": 0,
             "ticks": ""
            },
            "colorscale": [
             [
              0,
              "#0d0887"
             ],
             [
              0.1111111111111111,
              "#46039f"
             ],
             [
              0.2222222222222222,
              "#7201a8"
             ],
             [
              0.3333333333333333,
              "#9c179e"
             ],
             [
              0.4444444444444444,
              "#bd3786"
             ],
             [
              0.5555555555555556,
              "#d8576b"
             ],
             [
              0.6666666666666666,
              "#ed7953"
             ],
             [
              0.7777777777777778,
              "#fb9f3a"
             ],
             [
              0.8888888888888888,
              "#fdca26"
             ],
             [
              1,
              "#f0f921"
             ]
            ],
            "type": "histogram2dcontour"
           }
          ],
          "mesh3d": [
           {
            "colorbar": {
             "outlinewidth": 0,
             "ticks": ""
            },
            "type": "mesh3d"
           }
          ],
          "parcoords": [
           {
            "line": {
             "colorbar": {
              "outlinewidth": 0,
              "ticks": ""
             }
            },
            "type": "parcoords"
           }
          ],
          "pie": [
           {
            "automargin": true,
            "type": "pie"
           }
          ],
          "scatter": [
           {
            "fillpattern": {
             "fillmode": "overlay",
             "size": 10,
             "solidity": 0.2
            },
            "type": "scatter"
           }
          ],
          "scatter3d": [
           {
            "line": {
             "colorbar": {
              "outlinewidth": 0,
              "ticks": ""
             }
            },
            "marker": {
             "colorbar": {
              "outlinewidth": 0,
              "ticks": ""
             }
            },
            "type": "scatter3d"
           }
          ],
          "scattercarpet": [
           {
            "marker": {
             "colorbar": {
              "outlinewidth": 0,
              "ticks": ""
             }
            },
            "type": "scattercarpet"
           }
          ],
          "scattergeo": [
           {
            "marker": {
             "colorbar": {
              "outlinewidth": 0,
              "ticks": ""
             }
            },
            "type": "scattergeo"
           }
          ],
          "scattergl": [
           {
            "marker": {
             "colorbar": {
              "outlinewidth": 0,
              "ticks": ""
             }
            },
            "type": "scattergl"
           }
          ],
          "scattermapbox": [
           {
            "marker": {
             "colorbar": {
              "outlinewidth": 0,
              "ticks": ""
             }
            },
            "type": "scattermapbox"
           }
          ],
          "scatterpolar": [
           {
            "marker": {
             "colorbar": {
              "outlinewidth": 0,
              "ticks": ""
             }
            },
            "type": "scatterpolar"
           }
          ],
          "scatterpolargl": [
           {
            "marker": {
             "colorbar": {
              "outlinewidth": 0,
              "ticks": ""
             }
            },
            "type": "scatterpolargl"
           }
          ],
          "scatterternary": [
           {
            "marker": {
             "colorbar": {
              "outlinewidth": 0,
              "ticks": ""
             }
            },
            "type": "scatterternary"
           }
          ],
          "surface": [
           {
            "colorbar": {
             "outlinewidth": 0,
             "ticks": ""
            },
            "colorscale": [
             [
              0,
              "#0d0887"
             ],
             [
              0.1111111111111111,
              "#46039f"
             ],
             [
              0.2222222222222222,
              "#7201a8"
             ],
             [
              0.3333333333333333,
              "#9c179e"
             ],
             [
              0.4444444444444444,
              "#bd3786"
             ],
             [
              0.5555555555555556,
              "#d8576b"
             ],
             [
              0.6666666666666666,
              "#ed7953"
             ],
             [
              0.7777777777777778,
              "#fb9f3a"
             ],
             [
              0.8888888888888888,
              "#fdca26"
             ],
             [
              1,
              "#f0f921"
             ]
            ],
            "type": "surface"
           }
          ],
          "table": [
           {
            "cells": {
             "fill": {
              "color": "#EBF0F8"
             },
             "line": {
              "color": "white"
             }
            },
            "header": {
             "fill": {
              "color": "#C8D4E3"
             },
             "line": {
              "color": "white"
             }
            },
            "type": "table"
           }
          ]
         },
         "layout": {
          "annotationdefaults": {
           "arrowcolor": "#2a3f5f",
           "arrowhead": 0,
           "arrowwidth": 1
          },
          "autotypenumbers": "strict",
          "coloraxis": {
           "colorbar": {
            "outlinewidth": 0,
            "ticks": ""
           }
          },
          "colorscale": {
           "diverging": [
            [
             0,
             "#8e0152"
            ],
            [
             0.1,
             "#c51b7d"
            ],
            [
             0.2,
             "#de77ae"
            ],
            [
             0.3,
             "#f1b6da"
            ],
            [
             0.4,
             "#fde0ef"
            ],
            [
             0.5,
             "#f7f7f7"
            ],
            [
             0.6,
             "#e6f5d0"
            ],
            [
             0.7,
             "#b8e186"
            ],
            [
             0.8,
             "#7fbc41"
            ],
            [
             0.9,
             "#4d9221"
            ],
            [
             1,
             "#276419"
            ]
           ],
           "sequential": [
            [
             0,
             "#0d0887"
            ],
            [
             0.1111111111111111,
             "#46039f"
            ],
            [
             0.2222222222222222,
             "#7201a8"
            ],
            [
             0.3333333333333333,
             "#9c179e"
            ],
            [
             0.4444444444444444,
             "#bd3786"
            ],
            [
             0.5555555555555556,
             "#d8576b"
            ],
            [
             0.6666666666666666,
             "#ed7953"
            ],
            [
             0.7777777777777778,
             "#fb9f3a"
            ],
            [
             0.8888888888888888,
             "#fdca26"
            ],
            [
             1,
             "#f0f921"
            ]
           ],
           "sequentialminus": [
            [
             0,
             "#0d0887"
            ],
            [
             0.1111111111111111,
             "#46039f"
            ],
            [
             0.2222222222222222,
             "#7201a8"
            ],
            [
             0.3333333333333333,
             "#9c179e"
            ],
            [
             0.4444444444444444,
             "#bd3786"
            ],
            [
             0.5555555555555556,
             "#d8576b"
            ],
            [
             0.6666666666666666,
             "#ed7953"
            ],
            [
             0.7777777777777778,
             "#fb9f3a"
            ],
            [
             0.8888888888888888,
             "#fdca26"
            ],
            [
             1,
             "#f0f921"
            ]
           ]
          },
          "colorway": [
           "#636efa",
           "#EF553B",
           "#00cc96",
           "#ab63fa",
           "#FFA15A",
           "#19d3f3",
           "#FF6692",
           "#B6E880",
           "#FF97FF",
           "#FECB52"
          ],
          "font": {
           "color": "#2a3f5f"
          },
          "geo": {
           "bgcolor": "white",
           "lakecolor": "white",
           "landcolor": "#E5ECF6",
           "showlakes": true,
           "showland": true,
           "subunitcolor": "white"
          },
          "hoverlabel": {
           "align": "left"
          },
          "hovermode": "closest",
          "mapbox": {
           "style": "light"
          },
          "paper_bgcolor": "white",
          "plot_bgcolor": "#E5ECF6",
          "polar": {
           "angularaxis": {
            "gridcolor": "white",
            "linecolor": "white",
            "ticks": ""
           },
           "bgcolor": "#E5ECF6",
           "radialaxis": {
            "gridcolor": "white",
            "linecolor": "white",
            "ticks": ""
           }
          },
          "scene": {
           "xaxis": {
            "backgroundcolor": "#E5ECF6",
            "gridcolor": "white",
            "gridwidth": 2,
            "linecolor": "white",
            "showbackground": true,
            "ticks": "",
            "zerolinecolor": "white"
           },
           "yaxis": {
            "backgroundcolor": "#E5ECF6",
            "gridcolor": "white",
            "gridwidth": 2,
            "linecolor": "white",
            "showbackground": true,
            "ticks": "",
            "zerolinecolor": "white"
           },
           "zaxis": {
            "backgroundcolor": "#E5ECF6",
            "gridcolor": "white",
            "gridwidth": 2,
            "linecolor": "white",
            "showbackground": true,
            "ticks": "",
            "zerolinecolor": "white"
           }
          },
          "shapedefaults": {
           "line": {
            "color": "#2a3f5f"
           }
          },
          "ternary": {
           "aaxis": {
            "gridcolor": "white",
            "linecolor": "white",
            "ticks": ""
           },
           "baxis": {
            "gridcolor": "white",
            "linecolor": "white",
            "ticks": ""
           },
           "bgcolor": "#E5ECF6",
           "caxis": {
            "gridcolor": "white",
            "linecolor": "white",
            "ticks": ""
           }
          },
          "title": {
           "x": 0.05
          },
          "xaxis": {
           "automargin": true,
           "gridcolor": "white",
           "linecolor": "white",
           "ticks": "",
           "title": {
            "standoff": 15
           },
           "zerolinecolor": "white",
           "zerolinewidth": 2
          },
          "yaxis": {
           "automargin": true,
           "gridcolor": "white",
           "linecolor": "white",
           "ticks": "",
           "title": {
            "standoff": 15
           },
           "zerolinecolor": "white",
           "zerolinewidth": 2
          }
         }
        },
        "updatemenus": [
         {
          "active": 0,
          "buttons": [
           {
            "args": [
             {
              "visible": [
               true,
               true,
               false,
               false
              ]
             },
             {
              "annotations": [
               {
                "font": {
                 "size": 16
                },
                "showarrow": false,
                "text": "Daily Vehicle Counts - XmR Chart",
                "x": 0.5,
                "xanchor": "center",
                "xref": "paper",
                "y": 1.1,
                "yanchor": "top",
                "yref": "paper"
               },
               {
                "font": {
                 "size": 10
                },
                "showarrow": false,
                "text": "<b>mR Upper Limit = 298.015</b>",
                "x": 0.01,
                "xanchor": "left",
                "xref": "paper",
                "y": 312.9159515151515,
                "yanchor": "auto",
                "yref": "y2"
               },
               {
                "font": {
                 "size": 10
                },
                "showarrow": false,
                "text": "<b>vehicle_counts Upper Limit = 1328.311</b>",
                "x": 0.01,
                "xanchor": "left",
                "xref": "paper",
                "y": 1342.8647353535355,
                "yanchor": "auto",
                "yref": "y"
               },
               {
                "font": {
                 "size": 10
                },
                "showarrow": false,
                "text": "<b>vehicle_counts Lower Limit = 843.169</b>",
                "x": 0.01,
                "xanchor": "left",
                "xref": "paper",
                "y": 828.6152646464647,
                "yanchor": "auto",
                "yref": "y"
               }
              ],
              "shapes": [
               {
                "line": {
                 "color": "gray",
                 "dash": "dashdot"
                },
                "type": "line",
                "x0": 0,
                "x1": 1,
                "xref": "x domain",
                "y0": 1085.74,
                "y1": 1085.74,
                "yref": "y"
               },
               {
                "line": {
                 "color": "red",
                 "dash": "dashdot"
                },
                "type": "line",
                "x0": 0,
                "x1": 1,
                "xref": "x domain",
                "y0": 1328.310505050505,
                "y1": 1328.310505050505,
                "yref": "y"
               },
               {
                "line": {
                 "color": "red",
                 "dash": "dashdot"
                },
                "type": "line",
                "x0": 0,
                "x1": 1,
                "xref": "x domain",
                "y0": 843.169494949495,
                "y1": 843.169494949495,
                "yref": "y"
               },
               {
                "line": {
                 "color": "pink",
                 "dash": "dot"
                },
                "type": "line",
                "x0": 0,
                "x1": 1,
                "xref": "x domain",
                "y0": 1207.0252525252527,
                "y1": 1207.0252525252527,
                "yref": "y"
               },
               {
                "line": {
                 "color": "pink",
                 "dash": "dot"
                },
                "type": "line",
                "x0": 0,
                "x1": 1,
                "xref": "x domain",
                "y0": 964.4547474747475,
                "y1": 964.4547474747475,
                "yref": "y"
               },
               {
                "line": {
                 "color": "gray",
                 "dash": "dashdot"
                },
                "type": "line",
                "x0": 0,
                "x1": 1,
                "xref": "x domain",
                "y0": 91.1919191919192,
                "y1": 91.1919191919192,
                "yref": "y2"
               },
               {
                "line": {
                 "color": "red",
                 "dash": "dashdot"
                },
                "type": "line",
                "x0": 0,
                "x1": 1,
                "xref": "x domain",
                "y0": 298.0151919191919,
                "y1": 298.0151919191919,
                "yref": "y2"
               },
               {
                "line": {
                 "color": "pink",
                 "dash": "dot"
                },
                "type": "line",
                "x0": 0,
                "x1": 1,
                "xref": "x domain",
                "y0": 194.60355555555554,
                "y1": 194.60355555555554,
                "yref": "y2"
               }
              ]
             }
            ],
            "label": "None",
            "method": "update"
           },
           {
            "args": [
             {
              "visible": [
               true,
               true,
               true,
               true
              ]
             },
             {
              "annotations": [
               {
                "font": {
                 "size": 16
                },
                "showarrow": false,
                "text": "Daily Vehicle Counts - XmR Chart",
                "x": 0.5,
                "xanchor": "center",
                "xref": "paper",
                "y": 1.1,
                "yanchor": "top",
                "yref": "paper"
               },
               {
                "font": {
                 "size": 10
                },
                "showarrow": false,
                "text": "<b>mR Upper Limit = 298.015</b>",
                "x": 0.01,
                "xanchor": "left",
                "xref": "paper",
                "y": 312.9159515151515,
                "yanchor": "auto",
                "yref": "y2"
               },
               {
                "font": {
                 "size": 10
                },
                "showarrow": false,
                "text": "<b>vehicle_counts Upper Limit = 1328.311</b>",
                "x": 0.01,
                "xanchor": "left",
                "xref": "paper",
                "y": 1342.8647353535355,
                "yanchor": "auto",
                "yref": "y"
               },
               {
                "font": {
                 "size": 10
                },
                "showarrow": false,
                "text": "<b>vehicle_counts Lower Limit = 843.169</b>",
                "x": 0.01,
                "xanchor": "left",
                "xref": "paper",
                "y": 828.6152646464647,
                "yanchor": "auto",
                "yref": "y"
               }
              ],
              "shapes": [
               {
                "line": {
                 "color": "gray",
                 "dash": "dashdot"
                },
                "type": "line",
                "x0": 0,
                "x1": 1,
                "xref": "x domain",
                "y0": 1085.74,
                "y1": 1085.74,
                "yref": "y"
               },
               {
                "line": {
                 "color": "red",
                 "dash": "dashdot"
                },
                "type": "line",
                "x0": 0,
                "x1": 1,
                "xref": "x domain",
                "y0": 1328.310505050505,
                "y1": 1328.310505050505,
                "yref": "y"
               },
               {
                "line": {
                 "color": "red",
                 "dash": "dashdot"
                },
                "type": "line",
                "x0": 0,
                "x1": 1,
                "xref": "x domain",
                "y0": 843.169494949495,
                "y1": 843.169494949495,
                "yref": "y"
               },
               {
                "line": {
                 "color": "pink",
                 "dash": "dot"
                },
                "type": "line",
                "x0": 0,
                "x1": 1,
                "xref": "x domain",
                "y0": 1207.0252525252527,
                "y1": 1207.0252525252527,
                "yref": "y"
               },
               {
                "line": {
                 "color": "pink",
                 "dash": "dot"
                },
                "type": "line",
                "x0": 0,
                "x1": 1,
                "xref": "x domain",
                "y0": 964.4547474747475,
                "y1": 964.4547474747475,
                "yref": "y"
               },
               {
                "line": {
                 "color": "gray",
                 "dash": "dashdot"
                },
                "type": "line",
                "x0": 0,
                "x1": 1,
                "xref": "x domain",
                "y0": 91.1919191919192,
                "y1": 91.1919191919192,
                "yref": "y2"
               },
               {
                "line": {
                 "color": "red",
                 "dash": "dashdot"
                },
                "type": "line",
                "x0": 0,
                "x1": 1,
                "xref": "x domain",
                "y0": 298.0151919191919,
                "y1": 298.0151919191919,
                "yref": "y2"
               },
               {
                "line": {
                 "color": "pink",
                 "dash": "dot"
                },
                "type": "line",
                "x0": 0,
                "x1": 1,
                "xref": "x domain",
                "y0": 194.60355555555554,
                "y1": 194.60355555555554,
                "yref": "y2"
               }
              ]
             }
            ],
            "label": "Anomalies",
            "method": "update"
           },
           {
            "args": [
             {
              "visible": [
               true,
               true,
               false,
               false
              ]
             },
             {
              "annotations": [
               {
                "font": {
                 "size": 16
                },
                "showarrow": false,
                "text": "Daily Vehicle Counts - XmR Chart",
                "x": 0.5,
                "xanchor": "center",
                "xref": "paper",
                "y": 1.1,
                "yanchor": "top",
                "yref": "paper"
               },
               {
                "font": {
                 "size": 10
                },
                "showarrow": false,
                "text": "<b>mR Upper Limit = 298.015</b>",
                "x": 0.01,
                "xanchor": "left",
                "xref": "paper",
                "y": 312.9159515151515,
                "yanchor": "auto",
                "yref": "y2"
               },
               {
                "font": {
                 "size": 10
                },
                "showarrow": false,
                "text": "<b>vehicle_counts Upper Limit = 1328.311</b>",
                "x": 0.01,
                "xanchor": "left",
                "xref": "paper",
                "y": 1342.8647353535355,
                "yanchor": "auto",
                "yref": "y"
               },
               {
                "font": {
                 "size": 10
                },
                "showarrow": false,
                "text": "<b>vehicle_counts Lower Limit = 843.169</b>",
                "x": 0.01,
                "xanchor": "left",
                "xref": "paper",
                "y": 828.6152646464647,
                "yanchor": "auto",
                "yref": "y"
               }
              ],
              "shapes": [
               {
                "line": {
                 "color": "gray",
                 "dash": "dashdot"
                },
                "type": "line",
                "x0": 0,
                "x1": 1,
                "xref": "x domain",
                "y0": 1085.74,
                "y1": 1085.74,
                "yref": "y"
               },
               {
                "line": {
                 "color": "red",
                 "dash": "dashdot"
                },
                "type": "line",
                "x0": 0,
                "x1": 1,
                "xref": "x domain",
                "y0": 1328.310505050505,
                "y1": 1328.310505050505,
                "yref": "y"
               },
               {
                "line": {
                 "color": "red",
                 "dash": "dashdot"
                },
                "type": "line",
                "x0": 0,
                "x1": 1,
                "xref": "x domain",
                "y0": 843.169494949495,
                "y1": 843.169494949495,
                "yref": "y"
               },
               {
                "line": {
                 "color": "pink",
                 "dash": "dot"
                },
                "type": "line",
                "x0": 0,
                "x1": 1,
                "xref": "x domain",
                "y0": 1207.0252525252527,
                "y1": 1207.0252525252527,
                "yref": "y"
               },
               {
                "line": {
                 "color": "pink",
                 "dash": "dot"
                },
                "type": "line",
                "x0": 0,
                "x1": 1,
                "xref": "x domain",
                "y0": 964.4547474747475,
                "y1": 964.4547474747475,
                "yref": "y"
               },
               {
                "line": {
                 "color": "gray",
                 "dash": "dashdot"
                },
                "type": "line",
                "x0": 0,
                "x1": 1,
                "xref": "x domain",
                "y0": 91.1919191919192,
                "y1": 91.1919191919192,
                "yref": "y2"
               },
               {
                "line": {
                 "color": "red",
                 "dash": "dashdot"
                },
                "type": "line",
                "x0": 0,
                "x1": 1,
                "xref": "x domain",
                "y0": 298.0151919191919,
                "y1": 298.0151919191919,
                "yref": "y2"
               },
               {
                "line": {
                 "color": "pink",
                 "dash": "dot"
                },
                "type": "line",
                "x0": 0,
                "x1": 1,
                "xref": "x domain",
                "y0": 194.60355555555554,
                "y1": 194.60355555555554,
                "yref": "y2"
               },
               {
                "fillcolor": "pink",
                "line": {
                 "color": "purple",
                 "dash": "longdashdot",
                 "width": 2
                },
                "name": "Long Run",
                "opacity": 0.2,
                "path": "M 2024-01-01 00:00:00 978.0 L 2024-01-02 00:00:00 1069.0 L 2024-01-03 00:00:00 1059.0 L 2024-01-04 00:00:00 1019.0 L 2024-01-05 00:00:00 1047.0 L 2024-01-06 00:00:00 919.0 L 2024-01-07 00:00:00 895.0 L 2024-01-08 00:00:00 1069.0 L 2024-01-09 00:00:00 1094.0 L 2024-01-10 00:00:00 1017.0 L 2024-01-11 00:00:00 1092.0 L 2024-01-12 00:00:00 1023.0 L 2024-01-13 00:00:00 898.0 L 2024-01-14 00:00:00 856.0 L 2024-01-14 00:00:00 784.0 L 2024-01-13 00:00:00 826.0 L 2024-01-12 00:00:00 951.0 L 2024-01-11 00:00:00 1020.0 L 2024-01-10 00:00:00 945.0 L 2024-01-09 00:00:00 1022.0 L 2024-01-08 00:00:00 997.0 L 2024-01-07 00:00:00 823.0 L 2024-01-06 00:00:00 847.0 L 2024-01-05 00:00:00 975.0 L 2024-01-04 00:00:00 947.0 L 2024-01-03 00:00:00 987.0 L 2024-01-02 00:00:00 997.0 L 2024-01-01 00:00:00 906.0 Z",
                "type": "path"
               }
              ]
             }
            ],
            "label": "Long Runs",
            "method": "update"
           },
           {
            "args": [
             {
              "visible": [
               true,
               true,
               false,
               false
              ]
             },
             {
              "annotations": [
               {
                "font": {
                 "size": 16
                },
                "showarrow": false,
                "text": "Daily Vehicle Counts - XmR Chart",
                "x": 0.5,
                "xanchor": "center",
                "xref": "paper",
                "y": 1.1,
                "yanchor": "top",
                "yref": "paper"
               },
               {
                "font": {
                 "size": 10
                },
                "showarrow": false,
                "text": "<b>mR Upper Limit = 298.015</b>",
                "x": 0.01,
                "xanchor": "left",
                "xref": "paper",
                "y": 312.9159515151515,
                "yanchor": "auto",
                "yref": "y2"
               },
               {
                "font": {
                 "size": 10
                },
                "showarrow": false,
                "text": "<b>vehicle_counts Upper Limit = 1328.311</b>",
                "x": 0.01,
                "xanchor": "left",
                "xref": "paper",
                "y": 1342.8647353535355,
                "yanchor": "auto",
                "yref": "y"
               },
               {
                "font": {
                 "size": 10
                },
                "showarrow": false,
                "text": "<b>vehicle_counts Lower Limit = 843.169</b>",
                "x": 0.01,
                "xanchor": "left",
                "xref": "paper",
                "y": 828.6152646464647,
                "yanchor": "auto",
                "yref": "y"
               }
              ],
              "shapes": [
               {
                "line": {
                 "color": "gray",
                 "dash": "dashdot"
                },
                "type": "line",
                "x0": 0,
                "x1": 1,
                "xref": "x domain",
                "y0": 1085.74,
                "y1": 1085.74,
                "yref": "y"
               },
               {
                "line": {
                 "color": "red",
                 "dash": "dashdot"
                },
                "type": "line",
                "x0": 0,
                "x1": 1,
                "xref": "x domain",
                "y0": 1328.310505050505,
                "y1": 1328.310505050505,
                "yref": "y"
               },
               {
                "line": {
                 "color": "red",
                 "dash": "dashdot"
                },
                "type": "line",
                "x0": 0,
                "x1": 1,
                "xref": "x domain",
                "y0": 843.169494949495,
                "y1": 843.169494949495,
                "yref": "y"
               },
               {
                "line": {
                 "color": "pink",
                 "dash": "dot"
                },
                "type": "line",
                "x0": 0,
                "x1": 1,
                "xref": "x domain",
                "y0": 1207.0252525252527,
                "y1": 1207.0252525252527,
                "yref": "y"
               },
               {
                "line": {
                 "color": "pink",
                 "dash": "dot"
                },
                "type": "line",
                "x0": 0,
                "x1": 1,
                "xref": "x domain",
                "y0": 964.4547474747475,
                "y1": 964.4547474747475,
                "yref": "y"
               },
               {
                "line": {
                 "color": "gray",
                 "dash": "dashdot"
                },
                "type": "line",
                "x0": 0,
                "x1": 1,
                "xref": "x domain",
                "y0": 91.1919191919192,
                "y1": 91.1919191919192,
                "yref": "y2"
               },
               {
                "line": {
                 "color": "red",
                 "dash": "dashdot"
                },
                "type": "line",
                "x0": 0,
                "x1": 1,
                "xref": "x domain",
                "y0": 298.0151919191919,
                "y1": 298.0151919191919,
                "yref": "y2"
               },
               {
                "line": {
                 "color": "pink",
                 "dash": "dot"
                },
                "type": "line",
                "x0": 0,
                "x1": 1,
                "xref": "x domain",
                "y0": 194.60355555555554,
                "y1": 194.60355555555554,
                "yref": "y2"
               },
               {
                "fillcolor": "purple",
                "line": {
                 "color": "blue",
                 "dash": "longdashdot",
                 "width": 2
                },
                "name": "Short Run",
                "opacity": 0.2,
                "path": "M 2024-02-19 00:00:00 1194.0 L 2024-02-20 00:00:00 1253.0 L 2024-02-21 00:00:00 1353.0 L 2024-02-22 00:00:00 1351.0 L 2024-02-23 00:00:00 1257.0 L 2024-02-24 00:00:00 1291.0 L 2024-02-25 00:00:00 1076.0 L 2024-02-26 00:00:00 1258.0 L 2024-02-26 00:00:00 1186.0 L 2024-02-25 00:00:00 1004.0 L 2024-02-24 00:00:00 1219.0 L 2024-02-23 00:00:00 1185.0 L 2024-02-22 00:00:00 1279.0 L 2024-02-21 00:00:00 1281.0 L 2024-02-20 00:00:00 1181.0 L 2024-02-19 00:00:00 1122.0 Z",
                "type": "path"
               }
              ]
             }
            ],
            "label": "Short Runs",
            "method": "update"
           },
           {
            "args": [
             {
              "visible": [
               true,
               true,
               true,
               true
              ]
             },
             {
              "annotations": [
               {
                "font": {
                 "size": 16
                },
                "showarrow": false,
                "text": "Daily Vehicle Counts - XmR Chart",
                "x": 0.5,
                "xanchor": "center",
                "xref": "paper",
                "y": 1.1,
                "yanchor": "top",
                "yref": "paper"
               },
               {
                "font": {
                 "size": 10
                },
                "showarrow": false,
                "text": "<b>mR Upper Limit = 298.015</b>",
                "x": 0.01,
                "xanchor": "left",
                "xref": "paper",
                "y": 312.9159515151515,
                "yanchor": "auto",
                "yref": "y2"
               },
               {
                "font": {
                 "size": 10
                },
                "showarrow": false,
                "text": "<b>vehicle_counts Upper Limit = 1328.311</b>",
                "x": 0.01,
                "xanchor": "left",
                "xref": "paper",
                "y": 1342.8647353535355,
                "yanchor": "auto",
                "yref": "y"
               },
               {
                "font": {
                 "size": 10
                },
                "showarrow": false,
                "text": "<b>vehicle_counts Lower Limit = 843.169</b>",
                "x": 0.01,
                "xanchor": "left",
                "xref": "paper",
                "y": 828.6152646464647,
                "yanchor": "auto",
                "yref": "y"
               }
              ],
              "shapes": [
               {
                "line": {
                 "color": "gray",
                 "dash": "dashdot"
                },
                "type": "line",
                "x0": 0,
                "x1": 1,
                "xref": "x domain",
                "y0": 1085.74,
                "y1": 1085.74,
                "yref": "y"
               },
               {
                "line": {
                 "color": "red",
                 "dash": "dashdot"
                },
                "type": "line",
                "x0": 0,
                "x1": 1,
                "xref": "x domain",
                "y0": 1328.310505050505,
                "y1": 1328.310505050505,
                "yref": "y"
               },
               {
                "line": {
                 "color": "red",
                 "dash": "dashdot"
                },
                "type": "line",
                "x0": 0,
                "x1": 1,
                "xref": "x domain",
                "y0": 843.169494949495,
                "y1": 843.169494949495,
                "yref": "y"
               },
               {
                "line": {
                 "color": "pink",
                 "dash": "dot"
                },
                "type": "line",
                "x0": 0,
                "x1": 1,
                "xref": "x domain",
                "y0": 1207.0252525252527,
                "y1": 1207.0252525252527,
                "yref": "y"
               },
               {
                "line": {
                 "color": "pink",
                 "dash": "dot"
                },
                "type": "line",
                "x0": 0,
                "x1": 1,
                "xref": "x domain",
                "y0": 964.4547474747475,
                "y1": 964.4547474747475,
                "yref": "y"
               },
               {
                "line": {
                 "color": "gray",
                 "dash": "dashdot"
                },
                "type": "line",
                "x0": 0,
                "x1": 1,
                "xref": "x domain",
                "y0": 91.1919191919192,
                "y1": 91.1919191919192,
                "yref": "y2"
               },
               {
                "line": {
                 "color": "red",
                 "dash": "dashdot"
                },
                "type": "line",
                "x0": 0,
                "x1": 1,
                "xref": "x domain",
                "y0": 298.0151919191919,
                "y1": 298.0151919191919,
                "yref": "y2"
               },
               {
                "line": {
                 "color": "pink",
                 "dash": "dot"
                },
                "type": "line",
                "x0": 0,
                "x1": 1,
                "xref": "x domain",
                "y0": 194.60355555555554,
                "y1": 194.60355555555554,
                "yref": "y2"
               },
               {
                "fillcolor": "pink",
                "line": {
                 "color": "purple",
                 "dash": "longdashdot",
                 "width": 2
                },
                "name": "Long Run",
                "opacity": 0.2,
                "path": "M 2024-01-01 00:00:00 978.0 L 2024-01-02 00:00:00 1069.0 L 2024-01-03 00:00:00 1059.0 L 2024-01-04 00:00:00 1019.0 L 2024-01-05 00:00:00 1047.0 L 2024-01-06 00:00:00 919.0 L 2024-01-07 00:00:00 895.0 L 2024-01-08 00:00:00 1069.0 L 2024-01-09 00:00:00 1094.0 L 2024-01-10 00:00:00 1017.0 L 2024-01-11 00:00:00 1092.0 L 2024-01-12 00:00:00 1023.0 L 2024-01-13 00:00:00 898.0 L 2024-01-14 00:00:00 856.0 L 2024-01-14 00:00:00 784.0 L 2024-01-13 00:00:00 826.0 L 2024-01-12 00:00:00 951.0 L 2024-01-11 00:00:00 1020.0 L 2024-01-10 00:00:00 945.0 L 2024-01-09 00:00:00 1022.0 L 2024-01-08 00:00:00 997.0 L 2024-01-07 00:00:00 823.0 L 2024-01-06 00:00:00 847.0 L 2024-01-05 00:00:00 975.0 L 2024-01-04 00:00:00 947.0 L 2024-01-03 00:00:00 987.0 L 2024-01-02 00:00:00 997.0 L 2024-01-01 00:00:00 906.0 Z",
                "type": "path"
               },
               {
                "fillcolor": "purple",
                "line": {
                 "color": "blue",
                 "dash": "longdashdot",
                 "width": 2
                },
                "name": "Short Run",
                "opacity": 0.2,
                "path": "M 2024-02-19 00:00:00 1194.0 L 2024-02-20 00:00:00 1253.0 L 2024-02-21 00:00:00 1353.0 L 2024-02-22 00:00:00 1351.0 L 2024-02-23 00:00:00 1257.0 L 2024-02-24 00:00:00 1291.0 L 2024-02-25 00:00:00 1076.0 L 2024-02-26 00:00:00 1258.0 L 2024-02-26 00:00:00 1186.0 L 2024-02-25 00:00:00 1004.0 L 2024-02-24 00:00:00 1219.0 L 2024-02-23 00:00:00 1185.0 L 2024-02-22 00:00:00 1279.0 L 2024-02-21 00:00:00 1281.0 L 2024-02-20 00:00:00 1181.0 L 2024-02-19 00:00:00 1122.0 Z",
                "type": "path"
               }
              ]
             }
            ],
            "label": "All",
            "method": "update"
           }
          ],
          "direction": "right",
          "type": "buttons",
          "x": 0.5,
          "xanchor": "center",
          "y": 1.2
         }
        ],
        "xaxis": {
         "anchor": "y",
         "domain": [
          0,
          1
         ],
         "gridcolor": "lightgray",
         "showgrid": true,
         "tickformat": "%Y-%m-%d",
         "type": "date",
         "zeroline": false
        },
        "xaxis2": {
         "anchor": "y2",
         "domain": [
          0,
          1
         ],
         "gridcolor": "lightgray",
         "showgrid": true,
         "tickformat": "%Y-%m-%d",
         "type": "date",
         "zeroline": false
        },
        "yaxis": {
         "anchor": "x",
         "domain": [
          0.4,
          1
         ],
         "dtick": 45,
         "range": [
          675,
          1395
         ],
         "tickformat": "0",
         "title": {
          "text": "vehicle_counts"
         }
        },
        "yaxis2": {
         "anchor": "x2",
         "domain": [
          0,
          0.3
         ],
         "dtick": 25,
         "range": [
          0,
          550
         ],
         "tickformat": "0",
         "title": {
          "text": "Moving Range"
         }
        }
       }
      }
     },
     "metadata": {},
     "output_type": "display_data"
    }
   ],
   "source": [
    "# Create XmR chart\n",
    "xmr_chart = xmr.XmR(\n",
    "    data=data,\n",
    "    x_type='date_time',\n",
    "    x_ser_name='date',\n",
    "    y_ser_name='vehicle_counts',\n",
    "    date_part_resolution='day',\n",
    "    title='Daily Vehicle Counts - XmR Chart'\n",
    ")\n",
    "\n",
    "# Display the chart\n",
    "xmr_chart.xmr_chart"
   ]
  },
  {
   "cell_type": "code",
   "execution_count": 7,
   "metadata": {},
   "outputs": [
    {
     "name": "stdout",
     "output_type": "stream",
     "text": [
      "Moving Range Limits:\n",
      "{'mR_xmr_func': np.float64(91.1919191919192), 'mR_upper_limit': np.float64(298.0151919191919), 'xmr_func': 'mean'}\n",
      "\n",
      "Natural Process Limits:\n",
      "{'y_xmr_func': np.float64(1085.74), 'npl_upper_limit': np.float64(1328.310505050505), 'npl_lower_limit': np.float64(843.169494949495), 'xmr_func': 'mean'}\n",
      "\n",
      "Detected Signals:\n",
      "{'anomalies': [('2024-01-14', np.int64(820), 'Low'), ('2024-01-26', np.int64(1340), 'High'), ('2024-03-21', np.int64(703), 'Low')], 'long_runs': [[(Timestamp('2024-01-01 00:00:00'), np.int64(942), 'Low'), (Timestamp('2024-01-02 00:00:00'), np.int64(1033), 'Low'), (Timestamp('2024-01-03 00:00:00'), np.int64(1023), 'Low'), (Timestamp('2024-01-04 00:00:00'), np.int64(983), 'Low'), (Timestamp('2024-01-05 00:00:00'), np.int64(1011), 'Low'), (Timestamp('2024-01-06 00:00:00'), np.int64(883), 'Low'), (Timestamp('2024-01-07 00:00:00'), np.int64(859), 'Low'), (Timestamp('2024-01-08 00:00:00'), np.int64(1033), 'Low'), (Timestamp('2024-01-09 00:00:00'), np.int64(1058), 'Low'), (Timestamp('2024-01-10 00:00:00'), np.int64(981), 'Low'), (Timestamp('2024-01-11 00:00:00'), np.int64(1056), 'Low'), (Timestamp('2024-01-12 00:00:00'), np.int64(987), 'Low'), (Timestamp('2024-01-13 00:00:00'), np.int64(862), 'Low'), (Timestamp('2024-01-14 00:00:00'), np.int64(820), 'Low')]], 'short_runs': [[(Timestamp('2024-02-19 00:00:00'), np.int64(1158), 'High'), (Timestamp('2024-02-20 00:00:00'), np.int64(1217), 'High'), (Timestamp('2024-02-21 00:00:00'), np.int64(1317), 'High'), (Timestamp('2024-02-22 00:00:00'), np.int64(1315), 'High'), (Timestamp('2024-02-23 00:00:00'), np.int64(1221), 'High'), (Timestamp('2024-02-24 00:00:00'), np.int64(1255), 'High'), (Timestamp('2024-02-25 00:00:00'), np.int64(1040), 'High'), (Timestamp('2024-02-26 00:00:00'), np.int64(1222), 'High')]]}\n"
     ]
    }
   ],
   "source": [
    "# Check the calculated limits and signals\n",
    "print(\"Moving Range Limits:\")\n",
    "print(xmr_chart.mR_limit_values)\n",
    "print(\"\\nNatural Process Limits:\")\n",
    "print(xmr_chart.npl_limit_values)\n",
    "print(\"\\nDetected Signals:\")\n",
    "print(xmr_chart.signals)"
   ]
  },
  {
   "cell_type": "code",
   "execution_count": 10,
   "metadata": {},
   "outputs": [
    {
     "data": {
      "application/vnd.plotly.v1+json": {
       "config": {
        "plotlyServerURL": "https://plot.ly"
       },
       "data": [
        {
         "hovertemplate": "<b>Position:</b> %{x}<br><b>Value:</b> %{y:.2f}<br><extra></extra>",
         "line": {
          "color": "black",
          "width": 1
         },
         "marker": {
          "color": "black",
          "size": 6
         },
         "mode": "lines+markers",
         "name": "measurement",
         "type": "scatter",
         "x": [
          1,
          2,
          3,
          4,
          5,
          6,
          7,
          8,
          9,
          10,
          11,
          12,
          13,
          14,
          15,
          16,
          17,
          18,
          19,
          20,
          21,
          22,
          23,
          24,
          25,
          26,
          27,
          28,
          29,
          30,
          31,
          32,
          33,
          34,
          35,
          36,
          37,
          38,
          39,
          40,
          41,
          42,
          43,
          44,
          45,
          46,
          47,
          48,
          49,
          50,
          51,
          52,
          53,
          54,
          55,
          56,
          57,
          58,
          59,
          60,
          61,
          62,
          63,
          64,
          65,
          66,
          67,
          68,
          69,
          70,
          71,
          72,
          73,
          74,
          75,
          76,
          77,
          78,
          79,
          80,
          81,
          82,
          83,
          84,
          85,
          86,
          87,
          88,
          89,
          90,
          91,
          92,
          93,
          94,
          95,
          96,
          97,
          98,
          99,
          100
         ],
         "xaxis": "x",
         "y": [
          95.689035873136,
          99.97365016302912,
          91.43462909249018,
          106.46248300386728,
          81.49651096670326,
          102.47671606938779,
          98.71566182360871,
          102.15790274882377,
          101.41960176079783,
          100.0236532855652,
          107.30094578262253,
          107.89058533842304,
          102.7331933761542,
          96.8491025017312,
          108.59464904302257,
          97.90353281740856,
          105.24084967459054,
          108.22155699671785,
          87.5211477281413,
          97.95248246796658,
          99.57637147003705,
          99.21935639610561,
          94.59874620803247,
          97.35049086515423,
          123.05588169104075,
          98.50297483470713,
          89.07995422438391,
          96.07196223958466,
          95.35897356255639,
          106.5938303813683,
          99.60604096028155,
          103.88055245917874,
          115.54375060789621,
          98.73959732919033,
          93.99154130180625,
          74.06038102881718,
          117.0760941933091,
          93.00316507763245,
          102.74576862969863,
          95.88341344203616,
          106.99093908584047,
          98.53351839199621,
          104.89801336308254,
          100.11288880636442,
          108.62055773065676,
          101.96135026323688,
          105.56218627925618,
          109.66563804868458,
          92.1857084462992,
          95.14071506569417,
          114.30230528592135,
          94.37681902875758,
          120.02907591616409,
          91.39212145058366,
          75.28969128700972,
          93.44090989182963,
          104.4993346964338,
          115.9044345598506,
          105.79832555672519,
          110.21398937039399,
          117.69489054332942,
          85.31551092743908,
          93.23169627053413,
          86.02819141891052,
          98.43991993944188,
          115.05538836596813,
          90.46783017879896,
          112.99671911556308,
          91.50616788746527,
          104.84495844135476,
          107.93177039042389,
          80.87454545566155,
          87.28741417727215,
          96.39034700748918,
          88.04498116257726,
          97.777549921092,
          85.49826349850173,
          102.24706364370137,
          113.54584774126182,
          110.56269006134721,
          98.43898296413812,
          114.53355931125196,
          90.06469762338313,
          105.75358394325809,
          97.37178571928223,
          98.42003603417955,
          88.89054671344053,
          116.78894743411642,
          85.89917841092083,
          99.11141733240602,
          105.85358783409168,
          89.72537167903147,
          90.63458537191694,
          99.96345795500885,
          99.49493202083755,
          97.3082898584549,
          98.94479278291263,
          101.52974134716041,
          109.41717069303427,
          105.21374960833391
         ],
         "yaxis": "y"
        },
        {
         "hovertemplate": "<b>Position:</b> %{x}<br><b>Range:</b> %{y:.2f}<br><extra></extra>",
         "line": {
          "color": "black",
          "width": 1
         },
         "marker": {
          "color": "black",
          "size": 6
         },
         "mode": "lines+markers",
         "name": "Moving Range",
         "type": "scatter",
         "x": [
          1,
          2,
          3,
          4,
          5,
          6,
          7,
          8,
          9,
          10,
          11,
          12,
          13,
          14,
          15,
          16,
          17,
          18,
          19,
          20,
          21,
          22,
          23,
          24,
          25,
          26,
          27,
          28,
          29,
          30,
          31,
          32,
          33,
          34,
          35,
          36,
          37,
          38,
          39,
          40,
          41,
          42,
          43,
          44,
          45,
          46,
          47,
          48,
          49,
          50,
          51,
          52,
          53,
          54,
          55,
          56,
          57,
          58,
          59,
          60,
          61,
          62,
          63,
          64,
          65,
          66,
          67,
          68,
          69,
          70,
          71,
          72,
          73,
          74,
          75,
          76,
          77,
          78,
          79,
          80,
          81,
          82,
          83,
          84,
          85,
          86,
          87,
          88,
          89,
          90,
          91,
          92,
          93,
          94,
          95,
          96,
          97,
          98,
          99,
          100
         ],
         "xaxis": "x2",
         "y": [
          null,
          4.284614289893113,
          8.539021070538936,
          15.027853911377093,
          24.965972037164022,
          20.980205102684536,
          3.7610542457790785,
          3.44224092521506,
          0.7383009880259408,
          1.395948475232629,
          7.277292497057331,
          0.5896395558005025,
          5.157391962268832,
          5.884090874423009,
          11.745546541291375,
          10.69111622561401,
          7.337316857181975,
          2.9807073221273157,
          20.70040926857655,
          10.431334739825274,
          1.6238890020704702,
          0.3570150739314357,
          4.620610188073144,
          2.751744657121762,
          25.705390825886525,
          24.55290685633362,
          9.42302061032322,
          6.992008015200753,
          0.7129886770282781,
          11.23485681881192,
          6.9877894210867595,
          4.274511498897198,
          11.66319814871747,
          16.804153278705883,
          4.748056027384081,
          19.931160272989075,
          43.01571316449193,
          24.072929115676658,
          9.742603552066186,
          6.862355187662473,
          11.107525643804308,
          8.457420693844256,
          6.36449497108633,
          4.785124556718117,
          8.507668924292332,
          6.659207467419876,
          3.6008360160193007,
          4.103451769428403,
          17.479929602385383,
          2.9550066193949647,
          19.161590220227183,
          19.92548625716377,
          25.65225688740651,
          28.63695446558043,
          16.102430163573942,
          18.151218604819917,
          11.058424804604172,
          11.405099863416794,
          10.106109003125411,
          4.4156638136688,
          7.480901172935432,
          32.37937961589034,
          7.9161853430950515,
          7.203504851623606,
          12.411728520531355,
          16.61546842652625,
          24.587558187169165,
          22.52888893676412,
          21.490551228097814,
          13.338790553889496,
          3.08681194906913,
          27.057224934762345,
          6.412868721610607,
          9.102932830217028,
          8.345365844911925,
          9.732568758514745,
          12.279286422590275,
          16.748800145199638,
          11.298784097560457,
          2.983157679914612,
          12.123707097209092,
          16.094576347113843,
          24.468861687868838,
          15.688886319874968,
          8.381798223975863,
          1.0482503148973166,
          9.529489320739017,
          27.898400720675895,
          30.889769023195598,
          13.212238921485195,
          6.7421705016856635,
          16.128216155060215,
          0.9092136928854728,
          9.328872583091908,
          0.4685259341712964,
          2.186642162382654,
          1.63650292445773,
          2.5849485642477816,
          7.887429345873855,
          4.203421084700352
         ],
         "yaxis": "y2"
        },
        {
         "marker": {
          "color": "red",
          "size": 8,
          "symbol": "cross"
         },
         "mode": "markers",
         "texttemplate": "%{y}",
         "type": "scatter",
         "visible": false,
         "x": [],
         "xaxis": "x",
         "y": [],
         "yaxis": "y"
        },
        {
         "marker": {
          "color": "red",
          "size": 8,
          "symbol": "cross"
         },
         "mode": "markers",
         "type": "scatter",
         "visible": false,
         "x": [
          37
         ],
         "xaxis": "x2",
         "y": [
          43.01571316449193
         ],
         "yaxis": "y2"
        }
       ],
       "layout": {
        "annotations": [
         {
          "font": {
           "size": 16
          },
          "showarrow": false,
          "text": "measurement XmR Chart by position",
          "x": 0.5,
          "xanchor": "center",
          "xref": "paper",
          "y": 1.1,
          "yanchor": "top",
          "yref": "paper"
         },
         {
          "font": {
           "size": 10
          },
          "showarrow": false,
          "text": "<b>mR Upper Limit = 37.138</b>",
          "x": 0.01,
          "xanchor": "left",
          "xref": "paper",
          "y": 38.99510675653064,
          "yanchor": "auto",
          "yref": "y2"
         },
         {
          "font": {
           "size": 10
          },
          "showarrow": false,
          "text": "<b>measurement Upper Limit = 130.249</b>",
          "x": 0.01,
          "xanchor": "left",
          "xref": "paper",
          "y": 132.06264503046648,
          "yanchor": "auto",
          "yref": "y"
         },
         {
          "font": {
           "size": 10
          },
          "showarrow": false,
          "text": "<b>measurement Lower Limit = 69.791</b>",
          "x": 0.01,
          "xanchor": "left",
          "xref": "paper",
          "y": 67.97766338407504,
          "yanchor": "auto",
          "yref": "y"
         }
        ],
        "font": {
         "size": 10
        },
        "hovermode": "x",
        "plot_bgcolor": "white",
        "shapes": [
         {
          "line": {
           "color": "gray",
           "dash": "dashdot"
          },
          "type": "line",
          "x0": 0,
          "x1": 1,
          "xref": "x domain",
          "y0": 100.02015420727076,
          "y1": 100.02015420727076,
          "yref": "y"
         },
         {
          "line": {
           "color": "red",
           "dash": "dashdot"
          },
          "type": "line",
          "x0": 0,
          "x1": 1,
          "xref": "x domain",
          "y0": 130.2489191348139,
          "y1": 130.2489191348139,
          "yref": "y"
         },
         {
          "line": {
           "color": "red",
           "dash": "dashdot"
          },
          "type": "line",
          "x0": 0,
          "x1": 1,
          "xref": "x domain",
          "y0": 69.79138927972762,
          "y1": 69.79138927972762,
          "yref": "y"
         },
         {
          "line": {
           "color": "pink",
           "dash": "dot"
          },
          "type": "line",
          "x0": 0,
          "x1": 1,
          "xref": "x domain",
          "y0": 115.13453667104233,
          "y1": 115.13453667104233,
          "yref": "y"
         },
         {
          "line": {
           "color": "pink",
           "dash": "dot"
          },
          "type": "line",
          "x0": 0,
          "x1": 1,
          "xref": "x domain",
          "y0": 84.9057717434992,
          "y1": 84.9057717434992,
          "yref": "y"
         },
         {
          "line": {
           "color": "gray",
           "dash": "dashdot"
          },
          "type": "line",
          "x0": 0,
          "x1": 1,
          "xref": "x domain",
          "y0": 11.36419734118163,
          "y1": 11.36419734118163,
          "yref": "y2"
         },
         {
          "line": {
           "color": "red",
           "dash": "dashdot"
          },
          "type": "line",
          "x0": 0,
          "x1": 1,
          "xref": "x domain",
          "y0": 37.13819691098156,
          "y1": 37.13819691098156,
          "yref": "y2"
         },
         {
          "line": {
           "color": "pink",
           "dash": "dot"
          },
          "type": "line",
          "x0": 0,
          "x1": 1,
          "xref": "x domain",
          "y0": 24.251197126081596,
          "y1": 24.251197126081596,
          "yref": "y2"
         }
        ],
        "showlegend": false,
        "template": {
         "data": {
          "bar": [
           {
            "error_x": {
             "color": "#2a3f5f"
            },
            "error_y": {
             "color": "#2a3f5f"
            },
            "marker": {
             "line": {
              "color": "#E5ECF6",
              "width": 0.5
             },
             "pattern": {
              "fillmode": "overlay",
              "size": 10,
              "solidity": 0.2
             }
            },
            "type": "bar"
           }
          ],
          "barpolar": [
           {
            "marker": {
             "line": {
              "color": "#E5ECF6",
              "width": 0.5
             },
             "pattern": {
              "fillmode": "overlay",
              "size": 10,
              "solidity": 0.2
             }
            },
            "type": "barpolar"
           }
          ],
          "carpet": [
           {
            "aaxis": {
             "endlinecolor": "#2a3f5f",
             "gridcolor": "white",
             "linecolor": "white",
             "minorgridcolor": "white",
             "startlinecolor": "#2a3f5f"
            },
            "baxis": {
             "endlinecolor": "#2a3f5f",
             "gridcolor": "white",
             "linecolor": "white",
             "minorgridcolor": "white",
             "startlinecolor": "#2a3f5f"
            },
            "type": "carpet"
           }
          ],
          "choropleth": [
           {
            "colorbar": {
             "outlinewidth": 0,
             "ticks": ""
            },
            "type": "choropleth"
           }
          ],
          "contour": [
           {
            "colorbar": {
             "outlinewidth": 0,
             "ticks": ""
            },
            "colorscale": [
             [
              0,
              "#0d0887"
             ],
             [
              0.1111111111111111,
              "#46039f"
             ],
             [
              0.2222222222222222,
              "#7201a8"
             ],
             [
              0.3333333333333333,
              "#9c179e"
             ],
             [
              0.4444444444444444,
              "#bd3786"
             ],
             [
              0.5555555555555556,
              "#d8576b"
             ],
             [
              0.6666666666666666,
              "#ed7953"
             ],
             [
              0.7777777777777778,
              "#fb9f3a"
             ],
             [
              0.8888888888888888,
              "#fdca26"
             ],
             [
              1,
              "#f0f921"
             ]
            ],
            "type": "contour"
           }
          ],
          "contourcarpet": [
           {
            "colorbar": {
             "outlinewidth": 0,
             "ticks": ""
            },
            "type": "contourcarpet"
           }
          ],
          "heatmap": [
           {
            "colorbar": {
             "outlinewidth": 0,
             "ticks": ""
            },
            "colorscale": [
             [
              0,
              "#0d0887"
             ],
             [
              0.1111111111111111,
              "#46039f"
             ],
             [
              0.2222222222222222,
              "#7201a8"
             ],
             [
              0.3333333333333333,
              "#9c179e"
             ],
             [
              0.4444444444444444,
              "#bd3786"
             ],
             [
              0.5555555555555556,
              "#d8576b"
             ],
             [
              0.6666666666666666,
              "#ed7953"
             ],
             [
              0.7777777777777778,
              "#fb9f3a"
             ],
             [
              0.8888888888888888,
              "#fdca26"
             ],
             [
              1,
              "#f0f921"
             ]
            ],
            "type": "heatmap"
           }
          ],
          "heatmapgl": [
           {
            "colorbar": {
             "outlinewidth": 0,
             "ticks": ""
            },
            "colorscale": [
             [
              0,
              "#0d0887"
             ],
             [
              0.1111111111111111,
              "#46039f"
             ],
             [
              0.2222222222222222,
              "#7201a8"
             ],
             [
              0.3333333333333333,
              "#9c179e"
             ],
             [
              0.4444444444444444,
              "#bd3786"
             ],
             [
              0.5555555555555556,
              "#d8576b"
             ],
             [
              0.6666666666666666,
              "#ed7953"
             ],
             [
              0.7777777777777778,
              "#fb9f3a"
             ],
             [
              0.8888888888888888,
              "#fdca26"
             ],
             [
              1,
              "#f0f921"
             ]
            ],
            "type": "heatmapgl"
           }
          ],
          "histogram": [
           {
            "marker": {
             "pattern": {
              "fillmode": "overlay",
              "size": 10,
              "solidity": 0.2
             }
            },
            "type": "histogram"
           }
          ],
          "histogram2d": [
           {
            "colorbar": {
             "outlinewidth": 0,
             "ticks": ""
            },
            "colorscale": [
             [
              0,
              "#0d0887"
             ],
             [
              0.1111111111111111,
              "#46039f"
             ],
             [
              0.2222222222222222,
              "#7201a8"
             ],
             [
              0.3333333333333333,
              "#9c179e"
             ],
             [
              0.4444444444444444,
              "#bd3786"
             ],
             [
              0.5555555555555556,
              "#d8576b"
             ],
             [
              0.6666666666666666,
              "#ed7953"
             ],
             [
              0.7777777777777778,
              "#fb9f3a"
             ],
             [
              0.8888888888888888,
              "#fdca26"
             ],
             [
              1,
              "#f0f921"
             ]
            ],
            "type": "histogram2d"
           }
          ],
          "histogram2dcontour": [
           {
            "colorbar": {
             "outlinewidth": 0,
             "ticks": ""
            },
            "colorscale": [
             [
              0,
              "#0d0887"
             ],
             [
              0.1111111111111111,
              "#46039f"
             ],
             [
              0.2222222222222222,
              "#7201a8"
             ],
             [
              0.3333333333333333,
              "#9c179e"
             ],
             [
              0.4444444444444444,
              "#bd3786"
             ],
             [
              0.5555555555555556,
              "#d8576b"
             ],
             [
              0.6666666666666666,
              "#ed7953"
             ],
             [
              0.7777777777777778,
              "#fb9f3a"
             ],
             [
              0.8888888888888888,
              "#fdca26"
             ],
             [
              1,
              "#f0f921"
             ]
            ],
            "type": "histogram2dcontour"
           }
          ],
          "mesh3d": [
           {
            "colorbar": {
             "outlinewidth": 0,
             "ticks": ""
            },
            "type": "mesh3d"
           }
          ],
          "parcoords": [
           {
            "line": {
             "colorbar": {
              "outlinewidth": 0,
              "ticks": ""
             }
            },
            "type": "parcoords"
           }
          ],
          "pie": [
           {
            "automargin": true,
            "type": "pie"
           }
          ],
          "scatter": [
           {
            "fillpattern": {
             "fillmode": "overlay",
             "size": 10,
             "solidity": 0.2
            },
            "type": "scatter"
           }
          ],
          "scatter3d": [
           {
            "line": {
             "colorbar": {
              "outlinewidth": 0,
              "ticks": ""
             }
            },
            "marker": {
             "colorbar": {
              "outlinewidth": 0,
              "ticks": ""
             }
            },
            "type": "scatter3d"
           }
          ],
          "scattercarpet": [
           {
            "marker": {
             "colorbar": {
              "outlinewidth": 0,
              "ticks": ""
             }
            },
            "type": "scattercarpet"
           }
          ],
          "scattergeo": [
           {
            "marker": {
             "colorbar": {
              "outlinewidth": 0,
              "ticks": ""
             }
            },
            "type": "scattergeo"
           }
          ],
          "scattergl": [
           {
            "marker": {
             "colorbar": {
              "outlinewidth": 0,
              "ticks": ""
             }
            },
            "type": "scattergl"
           }
          ],
          "scattermapbox": [
           {
            "marker": {
             "colorbar": {
              "outlinewidth": 0,
              "ticks": ""
             }
            },
            "type": "scattermapbox"
           }
          ],
          "scatterpolar": [
           {
            "marker": {
             "colorbar": {
              "outlinewidth": 0,
              "ticks": ""
             }
            },
            "type": "scatterpolar"
           }
          ],
          "scatterpolargl": [
           {
            "marker": {
             "colorbar": {
              "outlinewidth": 0,
              "ticks": ""
             }
            },
            "type": "scatterpolargl"
           }
          ],
          "scatterternary": [
           {
            "marker": {
             "colorbar": {
              "outlinewidth": 0,
              "ticks": ""
             }
            },
            "type": "scatterternary"
           }
          ],
          "surface": [
           {
            "colorbar": {
             "outlinewidth": 0,
             "ticks": ""
            },
            "colorscale": [
             [
              0,
              "#0d0887"
             ],
             [
              0.1111111111111111,
              "#46039f"
             ],
             [
              0.2222222222222222,
              "#7201a8"
             ],
             [
              0.3333333333333333,
              "#9c179e"
             ],
             [
              0.4444444444444444,
              "#bd3786"
             ],
             [
              0.5555555555555556,
              "#d8576b"
             ],
             [
              0.6666666666666666,
              "#ed7953"
             ],
             [
              0.7777777777777778,
              "#fb9f3a"
             ],
             [
              0.8888888888888888,
              "#fdca26"
             ],
             [
              1,
              "#f0f921"
             ]
            ],
            "type": "surface"
           }
          ],
          "table": [
           {
            "cells": {
             "fill": {
              "color": "#EBF0F8"
             },
             "line": {
              "color": "white"
             }
            },
            "header": {
             "fill": {
              "color": "#C8D4E3"
             },
             "line": {
              "color": "white"
             }
            },
            "type": "table"
           }
          ]
         },
         "layout": {
          "annotationdefaults": {
           "arrowcolor": "#2a3f5f",
           "arrowhead": 0,
           "arrowwidth": 1
          },
          "autotypenumbers": "strict",
          "coloraxis": {
           "colorbar": {
            "outlinewidth": 0,
            "ticks": ""
           }
          },
          "colorscale": {
           "diverging": [
            [
             0,
             "#8e0152"
            ],
            [
             0.1,
             "#c51b7d"
            ],
            [
             0.2,
             "#de77ae"
            ],
            [
             0.3,
             "#f1b6da"
            ],
            [
             0.4,
             "#fde0ef"
            ],
            [
             0.5,
             "#f7f7f7"
            ],
            [
             0.6,
             "#e6f5d0"
            ],
            [
             0.7,
             "#b8e186"
            ],
            [
             0.8,
             "#7fbc41"
            ],
            [
             0.9,
             "#4d9221"
            ],
            [
             1,
             "#276419"
            ]
           ],
           "sequential": [
            [
             0,
             "#0d0887"
            ],
            [
             0.1111111111111111,
             "#46039f"
            ],
            [
             0.2222222222222222,
             "#7201a8"
            ],
            [
             0.3333333333333333,
             "#9c179e"
            ],
            [
             0.4444444444444444,
             "#bd3786"
            ],
            [
             0.5555555555555556,
             "#d8576b"
            ],
            [
             0.6666666666666666,
             "#ed7953"
            ],
            [
             0.7777777777777778,
             "#fb9f3a"
            ],
            [
             0.8888888888888888,
             "#fdca26"
            ],
            [
             1,
             "#f0f921"
            ]
           ],
           "sequentialminus": [
            [
             0,
             "#0d0887"
            ],
            [
             0.1111111111111111,
             "#46039f"
            ],
            [
             0.2222222222222222,
             "#7201a8"
            ],
            [
             0.3333333333333333,
             "#9c179e"
            ],
            [
             0.4444444444444444,
             "#bd3786"
            ],
            [
             0.5555555555555556,
             "#d8576b"
            ],
            [
             0.6666666666666666,
             "#ed7953"
            ],
            [
             0.7777777777777778,
             "#fb9f3a"
            ],
            [
             0.8888888888888888,
             "#fdca26"
            ],
            [
             1,
             "#f0f921"
            ]
           ]
          },
          "colorway": [
           "#636efa",
           "#EF553B",
           "#00cc96",
           "#ab63fa",
           "#FFA15A",
           "#19d3f3",
           "#FF6692",
           "#B6E880",
           "#FF97FF",
           "#FECB52"
          ],
          "font": {
           "color": "#2a3f5f"
          },
          "geo": {
           "bgcolor": "white",
           "lakecolor": "white",
           "landcolor": "#E5ECF6",
           "showlakes": true,
           "showland": true,
           "subunitcolor": "white"
          },
          "hoverlabel": {
           "align": "left"
          },
          "hovermode": "closest",
          "mapbox": {
           "style": "light"
          },
          "paper_bgcolor": "white",
          "plot_bgcolor": "#E5ECF6",
          "polar": {
           "angularaxis": {
            "gridcolor": "white",
            "linecolor": "white",
            "ticks": ""
           },
           "bgcolor": "#E5ECF6",
           "radialaxis": {
            "gridcolor": "white",
            "linecolor": "white",
            "ticks": ""
           }
          },
          "scene": {
           "xaxis": {
            "backgroundcolor": "#E5ECF6",
            "gridcolor": "white",
            "gridwidth": 2,
            "linecolor": "white",
            "showbackground": true,
            "ticks": "",
            "zerolinecolor": "white"
           },
           "yaxis": {
            "backgroundcolor": "#E5ECF6",
            "gridcolor": "white",
            "gridwidth": 2,
            "linecolor": "white",
            "showbackground": true,
            "ticks": "",
            "zerolinecolor": "white"
           },
           "zaxis": {
            "backgroundcolor": "#E5ECF6",
            "gridcolor": "white",
            "gridwidth": 2,
            "linecolor": "white",
            "showbackground": true,
            "ticks": "",
            "zerolinecolor": "white"
           }
          },
          "shapedefaults": {
           "line": {
            "color": "#2a3f5f"
           }
          },
          "ternary": {
           "aaxis": {
            "gridcolor": "white",
            "linecolor": "white",
            "ticks": ""
           },
           "baxis": {
            "gridcolor": "white",
            "linecolor": "white",
            "ticks": ""
           },
           "bgcolor": "#E5ECF6",
           "caxis": {
            "gridcolor": "white",
            "linecolor": "white",
            "ticks": ""
           }
          },
          "title": {
           "x": 0.05
          },
          "xaxis": {
           "automargin": true,
           "gridcolor": "white",
           "linecolor": "white",
           "ticks": "",
           "title": {
            "standoff": 15
           },
           "zerolinecolor": "white",
           "zerolinewidth": 2
          },
          "yaxis": {
           "automargin": true,
           "gridcolor": "white",
           "linecolor": "white",
           "ticks": "",
           "title": {
            "standoff": 15
           },
           "zerolinecolor": "white",
           "zerolinewidth": 2
          }
         }
        },
        "updatemenus": [
         {
          "active": 0,
          "buttons": [
           {
            "args": [
             {
              "visible": [
               true,
               true,
               false,
               false
              ]
             },
             {
              "annotations": [
               {
                "font": {
                 "size": 16
                },
                "showarrow": false,
                "text": "measurement XmR Chart by position",
                "x": 0.5,
                "xanchor": "center",
                "xref": "paper",
                "y": 1.1,
                "yanchor": "top",
                "yref": "paper"
               },
               {
                "font": {
                 "size": 10
                },
                "showarrow": false,
                "text": "<b>mR Upper Limit = 37.138</b>",
                "x": 0.01,
                "xanchor": "left",
                "xref": "paper",
                "y": 38.99510675653064,
                "yanchor": "auto",
                "yref": "y2"
               },
               {
                "font": {
                 "size": 10
                },
                "showarrow": false,
                "text": "<b>measurement Upper Limit = 130.249</b>",
                "x": 0.01,
                "xanchor": "left",
                "xref": "paper",
                "y": 132.06264503046648,
                "yanchor": "auto",
                "yref": "y"
               },
               {
                "font": {
                 "size": 10
                },
                "showarrow": false,
                "text": "<b>measurement Lower Limit = 69.791</b>",
                "x": 0.01,
                "xanchor": "left",
                "xref": "paper",
                "y": 67.97766338407504,
                "yanchor": "auto",
                "yref": "y"
               }
              ],
              "shapes": [
               {
                "line": {
                 "color": "gray",
                 "dash": "dashdot"
                },
                "type": "line",
                "x0": 0,
                "x1": 1,
                "xref": "x domain",
                "y0": 100.02015420727076,
                "y1": 100.02015420727076,
                "yref": "y"
               },
               {
                "line": {
                 "color": "red",
                 "dash": "dashdot"
                },
                "type": "line",
                "x0": 0,
                "x1": 1,
                "xref": "x domain",
                "y0": 130.2489191348139,
                "y1": 130.2489191348139,
                "yref": "y"
               },
               {
                "line": {
                 "color": "red",
                 "dash": "dashdot"
                },
                "type": "line",
                "x0": 0,
                "x1": 1,
                "xref": "x domain",
                "y0": 69.79138927972762,
                "y1": 69.79138927972762,
                "yref": "y"
               },
               {
                "line": {
                 "color": "pink",
                 "dash": "dot"
                },
                "type": "line",
                "x0": 0,
                "x1": 1,
                "xref": "x domain",
                "y0": 115.13453667104233,
                "y1": 115.13453667104233,
                "yref": "y"
               },
               {
                "line": {
                 "color": "pink",
                 "dash": "dot"
                },
                "type": "line",
                "x0": 0,
                "x1": 1,
                "xref": "x domain",
                "y0": 84.9057717434992,
                "y1": 84.9057717434992,
                "yref": "y"
               },
               {
                "line": {
                 "color": "gray",
                 "dash": "dashdot"
                },
                "type": "line",
                "x0": 0,
                "x1": 1,
                "xref": "x domain",
                "y0": 11.36419734118163,
                "y1": 11.36419734118163,
                "yref": "y2"
               },
               {
                "line": {
                 "color": "red",
                 "dash": "dashdot"
                },
                "type": "line",
                "x0": 0,
                "x1": 1,
                "xref": "x domain",
                "y0": 37.13819691098156,
                "y1": 37.13819691098156,
                "yref": "y2"
               },
               {
                "line": {
                 "color": "pink",
                 "dash": "dot"
                },
                "type": "line",
                "x0": 0,
                "x1": 1,
                "xref": "x domain",
                "y0": 24.251197126081596,
                "y1": 24.251197126081596,
                "yref": "y2"
               }
              ]
             }
            ],
            "label": "None",
            "method": "update"
           },
           {
            "args": [
             {
              "visible": [
               true,
               true,
               true,
               true
              ]
             },
             {
              "annotations": [
               {
                "font": {
                 "size": 16
                },
                "showarrow": false,
                "text": "measurement XmR Chart by position",
                "x": 0.5,
                "xanchor": "center",
                "xref": "paper",
                "y": 1.1,
                "yanchor": "top",
                "yref": "paper"
               },
               {
                "font": {
                 "size": 10
                },
                "showarrow": false,
                "text": "<b>mR Upper Limit = 37.138</b>",
                "x": 0.01,
                "xanchor": "left",
                "xref": "paper",
                "y": 38.99510675653064,
                "yanchor": "auto",
                "yref": "y2"
               },
               {
                "font": {
                 "size": 10
                },
                "showarrow": false,
                "text": "<b>measurement Upper Limit = 130.249</b>",
                "x": 0.01,
                "xanchor": "left",
                "xref": "paper",
                "y": 132.06264503046648,
                "yanchor": "auto",
                "yref": "y"
               },
               {
                "font": {
                 "size": 10
                },
                "showarrow": false,
                "text": "<b>measurement Lower Limit = 69.791</b>",
                "x": 0.01,
                "xanchor": "left",
                "xref": "paper",
                "y": 67.97766338407504,
                "yanchor": "auto",
                "yref": "y"
               }
              ],
              "shapes": [
               {
                "line": {
                 "color": "gray",
                 "dash": "dashdot"
                },
                "type": "line",
                "x0": 0,
                "x1": 1,
                "xref": "x domain",
                "y0": 100.02015420727076,
                "y1": 100.02015420727076,
                "yref": "y"
               },
               {
                "line": {
                 "color": "red",
                 "dash": "dashdot"
                },
                "type": "line",
                "x0": 0,
                "x1": 1,
                "xref": "x domain",
                "y0": 130.2489191348139,
                "y1": 130.2489191348139,
                "yref": "y"
               },
               {
                "line": {
                 "color": "red",
                 "dash": "dashdot"
                },
                "type": "line",
                "x0": 0,
                "x1": 1,
                "xref": "x domain",
                "y0": 69.79138927972762,
                "y1": 69.79138927972762,
                "yref": "y"
               },
               {
                "line": {
                 "color": "pink",
                 "dash": "dot"
                },
                "type": "line",
                "x0": 0,
                "x1": 1,
                "xref": "x domain",
                "y0": 115.13453667104233,
                "y1": 115.13453667104233,
                "yref": "y"
               },
               {
                "line": {
                 "color": "pink",
                 "dash": "dot"
                },
                "type": "line",
                "x0": 0,
                "x1": 1,
                "xref": "x domain",
                "y0": 84.9057717434992,
                "y1": 84.9057717434992,
                "yref": "y"
               },
               {
                "line": {
                 "color": "gray",
                 "dash": "dashdot"
                },
                "type": "line",
                "x0": 0,
                "x1": 1,
                "xref": "x domain",
                "y0": 11.36419734118163,
                "y1": 11.36419734118163,
                "yref": "y2"
               },
               {
                "line": {
                 "color": "red",
                 "dash": "dashdot"
                },
                "type": "line",
                "x0": 0,
                "x1": 1,
                "xref": "x domain",
                "y0": 37.13819691098156,
                "y1": 37.13819691098156,
                "yref": "y2"
               },
               {
                "line": {
                 "color": "pink",
                 "dash": "dot"
                },
                "type": "line",
                "x0": 0,
                "x1": 1,
                "xref": "x domain",
                "y0": 24.251197126081596,
                "y1": 24.251197126081596,
                "yref": "y2"
               }
              ]
             }
            ],
            "label": "Anomalies",
            "method": "update"
           },
           {
            "args": [
             {
              "visible": [
               true,
               true,
               false,
               false
              ]
             },
             {
              "annotations": [
               {
                "font": {
                 "size": 16
                },
                "showarrow": false,
                "text": "measurement XmR Chart by position",
                "x": 0.5,
                "xanchor": "center",
                "xref": "paper",
                "y": 1.1,
                "yanchor": "top",
                "yref": "paper"
               },
               {
                "font": {
                 "size": 10
                },
                "showarrow": false,
                "text": "<b>mR Upper Limit = 37.138</b>",
                "x": 0.01,
                "xanchor": "left",
                "xref": "paper",
                "y": 38.99510675653064,
                "yanchor": "auto",
                "yref": "y2"
               },
               {
                "font": {
                 "size": 10
                },
                "showarrow": false,
                "text": "<b>measurement Upper Limit = 130.249</b>",
                "x": 0.01,
                "xanchor": "left",
                "xref": "paper",
                "y": 132.06264503046648,
                "yanchor": "auto",
                "yref": "y"
               },
               {
                "font": {
                 "size": 10
                },
                "showarrow": false,
                "text": "<b>measurement Lower Limit = 69.791</b>",
                "x": 0.01,
                "xanchor": "left",
                "xref": "paper",
                "y": 67.97766338407504,
                "yanchor": "auto",
                "yref": "y"
               }
              ],
              "shapes": [
               {
                "line": {
                 "color": "gray",
                 "dash": "dashdot"
                },
                "type": "line",
                "x0": 0,
                "x1": 1,
                "xref": "x domain",
                "y0": 100.02015420727076,
                "y1": 100.02015420727076,
                "yref": "y"
               },
               {
                "line": {
                 "color": "red",
                 "dash": "dashdot"
                },
                "type": "line",
                "x0": 0,
                "x1": 1,
                "xref": "x domain",
                "y0": 130.2489191348139,
                "y1": 130.2489191348139,
                "yref": "y"
               },
               {
                "line": {
                 "color": "red",
                 "dash": "dashdot"
                },
                "type": "line",
                "x0": 0,
                "x1": 1,
                "xref": "x domain",
                "y0": 69.79138927972762,
                "y1": 69.79138927972762,
                "yref": "y"
               },
               {
                "line": {
                 "color": "pink",
                 "dash": "dot"
                },
                "type": "line",
                "x0": 0,
                "x1": 1,
                "xref": "x domain",
                "y0": 115.13453667104233,
                "y1": 115.13453667104233,
                "yref": "y"
               },
               {
                "line": {
                 "color": "pink",
                 "dash": "dot"
                },
                "type": "line",
                "x0": 0,
                "x1": 1,
                "xref": "x domain",
                "y0": 84.9057717434992,
                "y1": 84.9057717434992,
                "yref": "y"
               },
               {
                "line": {
                 "color": "gray",
                 "dash": "dashdot"
                },
                "type": "line",
                "x0": 0,
                "x1": 1,
                "xref": "x domain",
                "y0": 11.36419734118163,
                "y1": 11.36419734118163,
                "yref": "y2"
               },
               {
                "line": {
                 "color": "red",
                 "dash": "dashdot"
                },
                "type": "line",
                "x0": 0,
                "x1": 1,
                "xref": "x domain",
                "y0": 37.13819691098156,
                "y1": 37.13819691098156,
                "yref": "y2"
               },
               {
                "line": {
                 "color": "pink",
                 "dash": "dot"
                },
                "type": "line",
                "x0": 0,
                "x1": 1,
                "xref": "x domain",
                "y0": 24.251197126081596,
                "y1": 24.251197126081596,
                "yref": "y2"
               }
              ]
             }
            ],
            "label": "Long Runs",
            "method": "update"
           },
           {
            "args": [
             {
              "visible": [
               true,
               true,
               false,
               false
              ]
             },
             {
              "annotations": [
               {
                "font": {
                 "size": 16
                },
                "showarrow": false,
                "text": "measurement XmR Chart by position",
                "x": 0.5,
                "xanchor": "center",
                "xref": "paper",
                "y": 1.1,
                "yanchor": "top",
                "yref": "paper"
               },
               {
                "font": {
                 "size": 10
                },
                "showarrow": false,
                "text": "<b>mR Upper Limit = 37.138</b>",
                "x": 0.01,
                "xanchor": "left",
                "xref": "paper",
                "y": 38.99510675653064,
                "yanchor": "auto",
                "yref": "y2"
               },
               {
                "font": {
                 "size": 10
                },
                "showarrow": false,
                "text": "<b>measurement Upper Limit = 130.249</b>",
                "x": 0.01,
                "xanchor": "left",
                "xref": "paper",
                "y": 132.06264503046648,
                "yanchor": "auto",
                "yref": "y"
               },
               {
                "font": {
                 "size": 10
                },
                "showarrow": false,
                "text": "<b>measurement Lower Limit = 69.791</b>",
                "x": 0.01,
                "xanchor": "left",
                "xref": "paper",
                "y": 67.97766338407504,
                "yanchor": "auto",
                "yref": "y"
               }
              ],
              "shapes": [
               {
                "line": {
                 "color": "gray",
                 "dash": "dashdot"
                },
                "type": "line",
                "x0": 0,
                "x1": 1,
                "xref": "x domain",
                "y0": 100.02015420727076,
                "y1": 100.02015420727076,
                "yref": "y"
               },
               {
                "line": {
                 "color": "red",
                 "dash": "dashdot"
                },
                "type": "line",
                "x0": 0,
                "x1": 1,
                "xref": "x domain",
                "y0": 130.2489191348139,
                "y1": 130.2489191348139,
                "yref": "y"
               },
               {
                "line": {
                 "color": "red",
                 "dash": "dashdot"
                },
                "type": "line",
                "x0": 0,
                "x1": 1,
                "xref": "x domain",
                "y0": 69.79138927972762,
                "y1": 69.79138927972762,
                "yref": "y"
               },
               {
                "line": {
                 "color": "pink",
                 "dash": "dot"
                },
                "type": "line",
                "x0": 0,
                "x1": 1,
                "xref": "x domain",
                "y0": 115.13453667104233,
                "y1": 115.13453667104233,
                "yref": "y"
               },
               {
                "line": {
                 "color": "pink",
                 "dash": "dot"
                },
                "type": "line",
                "x0": 0,
                "x1": 1,
                "xref": "x domain",
                "y0": 84.9057717434992,
                "y1": 84.9057717434992,
                "yref": "y"
               },
               {
                "line": {
                 "color": "gray",
                 "dash": "dashdot"
                },
                "type": "line",
                "x0": 0,
                "x1": 1,
                "xref": "x domain",
                "y0": 11.36419734118163,
                "y1": 11.36419734118163,
                "yref": "y2"
               },
               {
                "line": {
                 "color": "red",
                 "dash": "dashdot"
                },
                "type": "line",
                "x0": 0,
                "x1": 1,
                "xref": "x domain",
                "y0": 37.13819691098156,
                "y1": 37.13819691098156,
                "yref": "y2"
               },
               {
                "line": {
                 "color": "pink",
                 "dash": "dot"
                },
                "type": "line",
                "x0": 0,
                "x1": 1,
                "xref": "x domain",
                "y0": 24.251197126081596,
                "y1": 24.251197126081596,
                "yref": "y2"
               }
              ]
             }
            ],
            "label": "Short Runs",
            "method": "update"
           },
           {
            "args": [
             {
              "visible": [
               true,
               true,
               true,
               true
              ]
             },
             {
              "annotations": [
               {
                "font": {
                 "size": 16
                },
                "showarrow": false,
                "text": "measurement XmR Chart by position",
                "x": 0.5,
                "xanchor": "center",
                "xref": "paper",
                "y": 1.1,
                "yanchor": "top",
                "yref": "paper"
               },
               {
                "font": {
                 "size": 10
                },
                "showarrow": false,
                "text": "<b>mR Upper Limit = 37.138</b>",
                "x": 0.01,
                "xanchor": "left",
                "xref": "paper",
                "y": 38.99510675653064,
                "yanchor": "auto",
                "yref": "y2"
               },
               {
                "font": {
                 "size": 10
                },
                "showarrow": false,
                "text": "<b>measurement Upper Limit = 130.249</b>",
                "x": 0.01,
                "xanchor": "left",
                "xref": "paper",
                "y": 132.06264503046648,
                "yanchor": "auto",
                "yref": "y"
               },
               {
                "font": {
                 "size": 10
                },
                "showarrow": false,
                "text": "<b>measurement Lower Limit = 69.791</b>",
                "x": 0.01,
                "xanchor": "left",
                "xref": "paper",
                "y": 67.97766338407504,
                "yanchor": "auto",
                "yref": "y"
               }
              ],
              "shapes": [
               {
                "line": {
                 "color": "gray",
                 "dash": "dashdot"
                },
                "type": "line",
                "x0": 0,
                "x1": 1,
                "xref": "x domain",
                "y0": 100.02015420727076,
                "y1": 100.02015420727076,
                "yref": "y"
               },
               {
                "line": {
                 "color": "red",
                 "dash": "dashdot"
                },
                "type": "line",
                "x0": 0,
                "x1": 1,
                "xref": "x domain",
                "y0": 130.2489191348139,
                "y1": 130.2489191348139,
                "yref": "y"
               },
               {
                "line": {
                 "color": "red",
                 "dash": "dashdot"
                },
                "type": "line",
                "x0": 0,
                "x1": 1,
                "xref": "x domain",
                "y0": 69.79138927972762,
                "y1": 69.79138927972762,
                "yref": "y"
               },
               {
                "line": {
                 "color": "pink",
                 "dash": "dot"
                },
                "type": "line",
                "x0": 0,
                "x1": 1,
                "xref": "x domain",
                "y0": 115.13453667104233,
                "y1": 115.13453667104233,
                "yref": "y"
               },
               {
                "line": {
                 "color": "pink",
                 "dash": "dot"
                },
                "type": "line",
                "x0": 0,
                "x1": 1,
                "xref": "x domain",
                "y0": 84.9057717434992,
                "y1": 84.9057717434992,
                "yref": "y"
               },
               {
                "line": {
                 "color": "gray",
                 "dash": "dashdot"
                },
                "type": "line",
                "x0": 0,
                "x1": 1,
                "xref": "x domain",
                "y0": 11.36419734118163,
                "y1": 11.36419734118163,
                "yref": "y2"
               },
               {
                "line": {
                 "color": "red",
                 "dash": "dashdot"
                },
                "type": "line",
                "x0": 0,
                "x1": 1,
                "xref": "x domain",
                "y0": 37.13819691098156,
                "y1": 37.13819691098156,
                "yref": "y2"
               },
               {
                "line": {
                 "color": "pink",
                 "dash": "dot"
                },
                "type": "line",
                "x0": 0,
                "x1": 1,
                "xref": "x domain",
                "y0": 24.251197126081596,
                "y1": 24.251197126081596,
                "yref": "y2"
               }
              ]
             }
            ],
            "label": "All",
            "method": "update"
           }
          ],
          "direction": "right",
          "type": "buttons",
          "x": 0.5,
          "xanchor": "center",
          "y": 1.2
         }
        ],
        "xaxis": {
         "anchor": "y",
         "domain": [
          0,
          1
         ],
         "gridcolor": "lightgray",
         "showgrid": true,
         "tickformat": "d",
         "type": "linear",
         "zeroline": false
        },
        "xaxis2": {
         "anchor": "y2",
         "domain": [
          0,
          1
         ],
         "gridcolor": "lightgray",
         "showgrid": true,
         "tickformat": "d",
         "type": "linear",
         "zeroline": false
        },
        "yaxis": {
         "anchor": "x",
         "domain": [
          0.4,
          1
         ],
         "dtick": 6,
         "range": [
          60,
          138
         ],
         "tickformat": "0",
         "title": {
          "text": "measurement"
         }
        },
        "yaxis2": {
         "anchor": "x2",
         "domain": [
          0,
          0.3
         ],
         "dtick": 3,
         "range": [
          0,
          48
         ],
         "tickformat": "0",
         "title": {
          "text": "Moving Range"
         }
        }
       }
      }
     },
     "metadata": {},
     "output_type": "display_data"
    }
   ],
   "source": [
    "# Numeric example\n",
    "numeric_data = pd.DataFrame({\n",
    "    'position': range(1, 101),\n",
    "    'measurement': np.random.normal(100, 10, 100)\n",
    "})\n",
    "\n",
    "xmr_numeric = xmr.XmR(\n",
    "    data=numeric_data,\n",
    "    x_ser_name='position',\n",
    "    y_ser_name='measurement',\n",
    "    x_type='numeric'\n",
    ")\n",
    "\n",
    "xmr_numeric.xmr_chart"
   ]
  },
  {
   "cell_type": "code",
   "execution_count": 12,
   "metadata": {},
   "outputs": [
    {
     "data": {
      "text/html": [
       "<div>\n",
       "<style scoped>\n",
       "    .dataframe tbody tr th:only-of-type {\n",
       "        vertical-align: middle;\n",
       "    }\n",
       "\n",
       "    .dataframe tbody tr th {\n",
       "        vertical-align: top;\n",
       "    }\n",
       "\n",
       "    .dataframe thead th {\n",
       "        text-align: right;\n",
       "    }\n",
       "</style>\n",
       "<table border=\"1\" class=\"dataframe\">\n",
       "  <thead>\n",
       "    <tr style=\"text-align: right;\">\n",
       "      <th></th>\n",
       "      <th>station</th>\n",
       "      <th>quality_score</th>\n",
       "    </tr>\n",
       "  </thead>\n",
       "  <tbody>\n",
       "    <tr>\n",
       "      <th>0</th>\n",
       "      <td>Station_1</td>\n",
       "      <td>82.473938</td>\n",
       "    </tr>\n",
       "    <tr>\n",
       "      <th>80</th>\n",
       "      <td>Station_1</td>\n",
       "      <td>84.164219</td>\n",
       "    </tr>\n",
       "    <tr>\n",
       "      <th>60</th>\n",
       "      <td>Station_1</td>\n",
       "      <td>89.887031</td>\n",
       "    </tr>\n",
       "    <tr>\n",
       "      <th>40</th>\n",
       "      <td>Station_1</td>\n",
       "      <td>80.324029</td>\n",
       "    </tr>\n",
       "    <tr>\n",
       "      <th>20</th>\n",
       "      <td>Station_1</td>\n",
       "      <td>92.818800</td>\n",
       "    </tr>\n",
       "    <tr>\n",
       "      <th>...</th>\n",
       "      <td>...</td>\n",
       "      <td>...</td>\n",
       "    </tr>\n",
       "    <tr>\n",
       "      <th>88</th>\n",
       "      <td>Station_9</td>\n",
       "      <td>94.675197</td>\n",
       "    </tr>\n",
       "    <tr>\n",
       "      <th>68</th>\n",
       "      <td>Station_9</td>\n",
       "      <td>85.773232</td>\n",
       "    </tr>\n",
       "    <tr>\n",
       "      <th>8</th>\n",
       "      <td>Station_9</td>\n",
       "      <td>82.149062</td>\n",
       "    </tr>\n",
       "    <tr>\n",
       "      <th>48</th>\n",
       "      <td>Station_9</td>\n",
       "      <td>81.411428</td>\n",
       "    </tr>\n",
       "    <tr>\n",
       "      <th>28</th>\n",
       "      <td>Station_9</td>\n",
       "      <td>89.191280</td>\n",
       "    </tr>\n",
       "  </tbody>\n",
       "</table>\n",
       "<p>100 rows × 2 columns</p>\n",
       "</div>"
      ],
      "text/plain": [
       "      station  quality_score\n",
       "0   Station_1      82.473938\n",
       "80  Station_1      84.164219\n",
       "60  Station_1      89.887031\n",
       "40  Station_1      80.324029\n",
       "20  Station_1      92.818800\n",
       "..        ...            ...\n",
       "88  Station_9      94.675197\n",
       "68  Station_9      85.773232\n",
       "8   Station_9      82.149062\n",
       "48  Station_9      81.411428\n",
       "28  Station_9      89.191280\n",
       "\n",
       "[100 rows x 2 columns]"
      ]
     },
     "execution_count": 12,
     "metadata": {},
     "output_type": "execute_result"
    }
   ],
   "source": [
    "categorical_data"
   ]
  },
  {
   "cell_type": "code",
   "execution_count": 21,
   "metadata": {},
   "outputs": [
    {
     "data": {
      "application/vnd.plotly.v1+json": {
       "config": {
        "plotlyServerURL": "https://plot.ly"
       },
       "data": [
        {
         "hovertemplate": "<b>Category:</b> %{x}<br><b>Value:</b> %{y:.2f}<br><extra></extra>",
         "line": {
          "color": "black",
          "width": 1
         },
         "marker": {
          "color": "black",
          "size": 6
         },
         "mode": "lines+markers",
         "name": "quality_score",
         "type": "scatter",
         "x": [
          "Station_a",
          "Station_b",
          "Station_c",
          "Station_d",
          "Station_e",
          "Station_f",
          "Station_g",
          "Station_h",
          "Station_i",
          "Station_j",
          "Station_k",
          "Station_l",
          "Station_m",
          "Station_n",
          "Station_o",
          "Station_p",
          "Station_q",
          "Station_r",
          "Station_s",
          "Station_t",
          "Station_u",
          "Station_v",
          "Station_w",
          "Station_x",
          "Station_y",
          "Station_z",
          "Station_{",
          "Station_|",
          "Station_}",
          "Station_~",
          "Station_",
          "Station_",
          "Station_",
          "Station_",
          "Station_",
          "Station_",
          "Station_",
          "Station_",
          "Station_",
          "Station_",
          "Station_",
          "Station_",
          "Station_",
          "Station_",
          "Station_",
          "Station_",
          "Station_",
          "Station_",
          "Station_",
          "Station_",
          "Station_",
          "Station_",
          "Station_",
          "Station_",
          "Station_",
          "Station_",
          "Station_",
          "Station_",
          "Station_",
          "Station_",
          "Station_",
          "Station_",
          "Station_",
          "Station_ ",
          "Station_¡",
          "Station_¢",
          "Station_£",
          "Station_¤",
          "Station_¥",
          "Station_¦",
          "Station_§",
          "Station_¨",
          "Station_©",
          "Station_ª",
          "Station_«",
          "Station_¬",
          "Station_­",
          "Station_®",
          "Station_¯",
          "Station_°",
          "Station_±",
          "Station_²",
          "Station_³",
          "Station_´",
          "Station_µ",
          "Station_¶",
          "Station_·",
          "Station_¸",
          "Station_¹",
          "Station_º",
          "Station_»",
          "Station_¼",
          "Station_½",
          "Station_¾",
          "Station_¿",
          "Station_À",
          "Station_Á",
          "Station_Â",
          "Station_Ã",
          "Station_Ä"
         ],
         "xaxis": "x",
         "y": [
          88.53519019107455,
          86.87566489660301,
          83.49830492206098,
          94.89691142279604,
          93.87681225051041,
          91.21889867884515,
          79.20235539797648,
          83.42898264431268,
          95.33211798449241,
          81.1630998922908,
          92.79298555811403,
          87.63704887250823,
          91.85719499100492,
          94.00340951255544,
          72.95235322591503,
          81.80413097980399,
          90.64797334059067,
          84.54940273944793,
          86.69992061821253,
          90.79029916257896,
          84.14133732919674,
          84.78694382819758,
          82.95983854146239,
          84.43497913582871,
          82.1486553650432,
          85.33066019713993,
          88.78527595611178,
          77.47217511982997,
          88.33494470655715,
          86.27771831051633,
          82.46810651742838,
          86.65019895697257,
          86.63012360598086,
          89.61209019008331,
          80.78009617393293,
          88.2471863352995,
          82.91098495635588,
          82.06470104302062,
          86.76210097543726,
          81.00105845318873,
          81.88793543128727,
          91.29024055422799,
          80.7052583198719,
          88.71977670270789,
          77.98525708801361,
          91.77365735342715,
          79.51879395496866,
          94.1140298939268,
          85.68312461255084,
          83.69624865666925,
          84.5884529644103,
          86.47875798235613,
          81.46571249208948,
          89.39936987054256,
          85.38526882300222,
          83.46407258859563,
          82.64543337511545,
          80.71774504217564,
          88.07175958995674,
          86.68538316483614,
          80.09863697266641,
          88.09586352659922,
          86.31400854778435,
          75.07470143857157,
          84.90446804776174,
          79.10534052570671,
          90.93072882525996,
          84.14530118746363,
          80.1858649975772,
          91.14240523760162,
          91.95520594857832,
          93.60624686916077,
          91.36798499657934,
          78.2478735922866,
          92.41031345212356,
          99.4594727802839,
          95.77243456803363,
          73.80140702717574,
          91.59015100609815,
          85.95847266654377,
          85.56979801184737,
          87.67601820498703,
          86.3599681998372,
          85.13969845249436,
          81.36533844768289,
          89.98899109372339,
          92.43643763032023,
          94.11135183734812,
          87.74982815874965,
          83.5625900707876,
          82.26077809835893,
          87.79713788292439,
          88.32387969399761,
          83.23814229850106,
          85.08656439442481,
          94.13416950625755,
          82.51331363410829,
          85.1499317006361,
          95.12672742780234,
          88.69974411513984
         ],
         "yaxis": "y"
        },
        {
         "hovertemplate": "<b>Category:</b> %{x}<br><b>Range:</b> %{y:.2f}<br><extra></extra>",
         "line": {
          "color": "black",
          "width": 1
         },
         "marker": {
          "color": "black",
          "size": 6
         },
         "mode": "lines+markers",
         "name": "Moving Range",
         "type": "scatter",
         "x": [
          "Station_a",
          "Station_b",
          "Station_c",
          "Station_d",
          "Station_e",
          "Station_f",
          "Station_g",
          "Station_h",
          "Station_i",
          "Station_j",
          "Station_k",
          "Station_l",
          "Station_m",
          "Station_n",
          "Station_o",
          "Station_p",
          "Station_q",
          "Station_r",
          "Station_s",
          "Station_t",
          "Station_u",
          "Station_v",
          "Station_w",
          "Station_x",
          "Station_y",
          "Station_z",
          "Station_{",
          "Station_|",
          "Station_}",
          "Station_~",
          "Station_",
          "Station_",
          "Station_",
          "Station_",
          "Station_",
          "Station_",
          "Station_",
          "Station_",
          "Station_",
          "Station_",
          "Station_",
          "Station_",
          "Station_",
          "Station_",
          "Station_",
          "Station_",
          "Station_",
          "Station_",
          "Station_",
          "Station_",
          "Station_",
          "Station_",
          "Station_",
          "Station_",
          "Station_",
          "Station_",
          "Station_",
          "Station_",
          "Station_",
          "Station_",
          "Station_",
          "Station_",
          "Station_",
          "Station_ ",
          "Station_¡",
          "Station_¢",
          "Station_£",
          "Station_¤",
          "Station_¥",
          "Station_¦",
          "Station_§",
          "Station_¨",
          "Station_©",
          "Station_ª",
          "Station_«",
          "Station_¬",
          "Station_­",
          "Station_®",
          "Station_¯",
          "Station_°",
          "Station_±",
          "Station_²",
          "Station_³",
          "Station_´",
          "Station_µ",
          "Station_¶",
          "Station_·",
          "Station_¸",
          "Station_¹",
          "Station_º",
          "Station_»",
          "Station_¼",
          "Station_½",
          "Station_¾",
          "Station_¿",
          "Station_À",
          "Station_Á",
          "Station_Â",
          "Station_Ã",
          "Station_Ä"
         ],
         "xaxis": "x2",
         "y": [
          null,
          1.6595252944715355,
          3.3773599745420313,
          11.398606500735056,
          1.0200991722856259,
          2.6579135716652615,
          12.016543280868675,
          4.226627246336207,
          11.90313534017973,
          14.169018092201611,
          11.629885665823224,
          5.155936685605795,
          4.220146118496686,
          2.146214521550519,
          21.051056286640403,
          8.851777753888953,
          8.843842360786681,
          6.09857060114274,
          2.150517878764603,
          4.0903785443664304,
          6.6489618333822165,
          0.6456064990008343,
          1.8271052867351898,
          1.475140594366323,
          2.286323770785515,
          3.1820048320967373,
          3.4546157589718405,
          11.313100836281805,
          10.862769586727183,
          2.057226396040818,
          3.809611793087953,
          4.182092439544192,
          0.020075350991717755,
          2.9819665841024516,
          8.831994016150375,
          7.4670901613665706,
          5.336201378943628,
          0.846283913335256,
          4.697399932416644,
          5.76104252224853,
          0.8868769780985417,
          9.402305122940717,
          10.58498223435609,
          8.014518382835988,
          10.734519614694278,
          13.788400265413543,
          12.254863398458497,
          14.59523593895814,
          8.430905281375956,
          1.9868759558815867,
          0.8922043077410393,
          1.8903050179458347,
          5.013045490266649,
          7.933657378453077,
          4.014101047540336,
          1.9211962344065938,
          0.8186392134801821,
          1.927688332939809,
          7.354014547781105,
          1.386376425120602,
          6.586746192169727,
          7.997226553932805,
          1.781854978814863,
          11.239307109212788,
          9.829766609190173,
          5.799127522055031,
          11.825388299553254,
          6.785427637796332,
          3.959436189886432,
          10.956540240024424,
          0.8128007109767026,
          1.651040920582446,
          2.2382618725814325,
          13.120111404292743,
          14.162439859836965,
          7.049159328160343,
          3.687038212250272,
          21.97102754085789,
          17.78874397892241,
          5.631678339554384,
          0.38867465469640194,
          2.106220193139663,
          1.3160500051498332,
          1.22026974734284,
          3.77436000481147,
          8.623652646040497,
          2.4474465365968427,
          1.6749142070278964,
          6.3615236785984735,
          4.187238087962044,
          1.3018119724286805,
          5.536359784565462,
          0.5267418110732223,
          5.085737395496551,
          1.8484220959237518,
          9.047605111832738,
          11.620855872149264,
          2.6366180665278165,
          9.976795727166234,
          6.4269833126625
         ],
         "yaxis": "y2"
        },
        {
         "marker": {
          "color": "red",
          "size": 8,
          "symbol": "cross"
         },
         "mode": "markers",
         "texttemplate": "%{y}",
         "type": "scatter",
         "visible": false,
         "x": [],
         "xaxis": "x",
         "y": [],
         "yaxis": "y"
        },
        {
         "marker": {
          "color": "red",
          "size": 8,
          "symbol": "cross"
         },
         "mode": "markers",
         "type": "scatter",
         "visible": false,
         "x": [
          "Station_o",
          "Station_®"
         ],
         "xaxis": "x2",
         "y": [
          21.051056286640403,
          21.97102754085789
         ],
         "yaxis": "y2"
        }
       ],
       "layout": {
        "annotations": [
         {
          "font": {
           "size": 16
          },
          "showarrow": false,
          "text": "quality_score XmR Chart by station",
          "x": 0.5,
          "xanchor": "center",
          "xref": "paper",
          "y": 1.1,
          "yanchor": "top",
          "yref": "paper"
         },
         {
          "font": {
           "size": 10
          },
          "showarrow": false,
          "text": "<b>mR Upper Limit = 19.779</b>",
          "x": 0.01,
          "xanchor": "left",
          "xref": "paper",
          "y": 20.767452668804317,
          "yanchor": "auto",
          "yref": "y2"
         },
         {
          "font": {
           "size": 10
          },
          "showarrow": false,
          "text": "<b>quality_score Upper Limit = 102.382</b>",
          "x": 0.01,
          "xanchor": "left",
          "xref": "paper",
          "y": 103.34768657469809,
          "yanchor": "auto",
          "yref": "y"
         },
         {
          "font": {
           "size": 10
          },
          "showarrow": false,
          "text": "<b>quality_score Lower Limit = 70.184</b>",
          "x": 0.01,
          "xanchor": "left",
          "xref": "paper",
          "y": 69.2182294755778,
          "yanchor": "auto",
          "yref": "y"
         }
        ],
        "font": {
         "size": 10
        },
        "hovermode": "x",
        "plot_bgcolor": "white",
        "shapes": [
         {
          "line": {
           "color": "gray",
           "dash": "dashdot"
          },
          "type": "line",
          "x0": 0,
          "x1": 1,
          "xref": "x domain",
          "y0": 86.28295802513794,
          "y1": 86.28295802513794,
          "yref": "y"
         },
         {
          "line": {
           "color": "red",
           "dash": "dashdot"
          },
          "type": "line",
          "x0": 0,
          "x1": 1,
          "xref": "x domain",
          "y0": 102.3817585435909,
          "y1": 102.3817585435909,
          "yref": "y"
         },
         {
          "line": {
           "color": "red",
           "dash": "dashdot"
          },
          "type": "line",
          "x0": 0,
          "x1": 1,
          "xref": "x domain",
          "y0": 70.18415750668498,
          "y1": 70.18415750668498,
          "yref": "y"
         },
         {
          "line": {
           "color": "pink",
           "dash": "dot"
          },
          "type": "line",
          "x0": 0,
          "x1": 1,
          "xref": "x domain",
          "y0": 94.33235828436443,
          "y1": 94.33235828436443,
          "yref": "y"
         },
         {
          "line": {
           "color": "pink",
           "dash": "dot"
          },
          "type": "line",
          "x0": 0,
          "x1": 1,
          "xref": "x domain",
          "y0": 78.23355776591146,
          "y1": 78.23355776591146,
          "yref": "y"
         },
         {
          "line": {
           "color": "gray",
           "dash": "dashdot"
          },
          "type": "line",
          "x0": 0,
          "x1": 1,
          "xref": "x domain",
          "y0": 6.052180646034947,
          "y1": 6.052180646034947,
          "yref": "y2"
         },
         {
          "line": {
           "color": "red",
           "dash": "dashdot"
          },
          "type": "line",
          "x0": 0,
          "x1": 1,
          "xref": "x domain",
          "y0": 19.778526351242206,
          "y1": 19.778526351242206,
          "yref": "y2"
         },
         {
          "line": {
           "color": "pink",
           "dash": "dot"
          },
          "type": "line",
          "x0": 0,
          "x1": 1,
          "xref": "x domain",
          "y0": 12.915353498638577,
          "y1": 12.915353498638577,
          "yref": "y2"
         }
        ],
        "showlegend": false,
        "template": {
         "data": {
          "bar": [
           {
            "error_x": {
             "color": "#2a3f5f"
            },
            "error_y": {
             "color": "#2a3f5f"
            },
            "marker": {
             "line": {
              "color": "#E5ECF6",
              "width": 0.5
             },
             "pattern": {
              "fillmode": "overlay",
              "size": 10,
              "solidity": 0.2
             }
            },
            "type": "bar"
           }
          ],
          "barpolar": [
           {
            "marker": {
             "line": {
              "color": "#E5ECF6",
              "width": 0.5
             },
             "pattern": {
              "fillmode": "overlay",
              "size": 10,
              "solidity": 0.2
             }
            },
            "type": "barpolar"
           }
          ],
          "carpet": [
           {
            "aaxis": {
             "endlinecolor": "#2a3f5f",
             "gridcolor": "white",
             "linecolor": "white",
             "minorgridcolor": "white",
             "startlinecolor": "#2a3f5f"
            },
            "baxis": {
             "endlinecolor": "#2a3f5f",
             "gridcolor": "white",
             "linecolor": "white",
             "minorgridcolor": "white",
             "startlinecolor": "#2a3f5f"
            },
            "type": "carpet"
           }
          ],
          "choropleth": [
           {
            "colorbar": {
             "outlinewidth": 0,
             "ticks": ""
            },
            "type": "choropleth"
           }
          ],
          "contour": [
           {
            "colorbar": {
             "outlinewidth": 0,
             "ticks": ""
            },
            "colorscale": [
             [
              0,
              "#0d0887"
             ],
             [
              0.1111111111111111,
              "#46039f"
             ],
             [
              0.2222222222222222,
              "#7201a8"
             ],
             [
              0.3333333333333333,
              "#9c179e"
             ],
             [
              0.4444444444444444,
              "#bd3786"
             ],
             [
              0.5555555555555556,
              "#d8576b"
             ],
             [
              0.6666666666666666,
              "#ed7953"
             ],
             [
              0.7777777777777778,
              "#fb9f3a"
             ],
             [
              0.8888888888888888,
              "#fdca26"
             ],
             [
              1,
              "#f0f921"
             ]
            ],
            "type": "contour"
           }
          ],
          "contourcarpet": [
           {
            "colorbar": {
             "outlinewidth": 0,
             "ticks": ""
            },
            "type": "contourcarpet"
           }
          ],
          "heatmap": [
           {
            "colorbar": {
             "outlinewidth": 0,
             "ticks": ""
            },
            "colorscale": [
             [
              0,
              "#0d0887"
             ],
             [
              0.1111111111111111,
              "#46039f"
             ],
             [
              0.2222222222222222,
              "#7201a8"
             ],
             [
              0.3333333333333333,
              "#9c179e"
             ],
             [
              0.4444444444444444,
              "#bd3786"
             ],
             [
              0.5555555555555556,
              "#d8576b"
             ],
             [
              0.6666666666666666,
              "#ed7953"
             ],
             [
              0.7777777777777778,
              "#fb9f3a"
             ],
             [
              0.8888888888888888,
              "#fdca26"
             ],
             [
              1,
              "#f0f921"
             ]
            ],
            "type": "heatmap"
           }
          ],
          "heatmapgl": [
           {
            "colorbar": {
             "outlinewidth": 0,
             "ticks": ""
            },
            "colorscale": [
             [
              0,
              "#0d0887"
             ],
             [
              0.1111111111111111,
              "#46039f"
             ],
             [
              0.2222222222222222,
              "#7201a8"
             ],
             [
              0.3333333333333333,
              "#9c179e"
             ],
             [
              0.4444444444444444,
              "#bd3786"
             ],
             [
              0.5555555555555556,
              "#d8576b"
             ],
             [
              0.6666666666666666,
              "#ed7953"
             ],
             [
              0.7777777777777778,
              "#fb9f3a"
             ],
             [
              0.8888888888888888,
              "#fdca26"
             ],
             [
              1,
              "#f0f921"
             ]
            ],
            "type": "heatmapgl"
           }
          ],
          "histogram": [
           {
            "marker": {
             "pattern": {
              "fillmode": "overlay",
              "size": 10,
              "solidity": 0.2
             }
            },
            "type": "histogram"
           }
          ],
          "histogram2d": [
           {
            "colorbar": {
             "outlinewidth": 0,
             "ticks": ""
            },
            "colorscale": [
             [
              0,
              "#0d0887"
             ],
             [
              0.1111111111111111,
              "#46039f"
             ],
             [
              0.2222222222222222,
              "#7201a8"
             ],
             [
              0.3333333333333333,
              "#9c179e"
             ],
             [
              0.4444444444444444,
              "#bd3786"
             ],
             [
              0.5555555555555556,
              "#d8576b"
             ],
             [
              0.6666666666666666,
              "#ed7953"
             ],
             [
              0.7777777777777778,
              "#fb9f3a"
             ],
             [
              0.8888888888888888,
              "#fdca26"
             ],
             [
              1,
              "#f0f921"
             ]
            ],
            "type": "histogram2d"
           }
          ],
          "histogram2dcontour": [
           {
            "colorbar": {
             "outlinewidth": 0,
             "ticks": ""
            },
            "colorscale": [
             [
              0,
              "#0d0887"
             ],
             [
              0.1111111111111111,
              "#46039f"
             ],
             [
              0.2222222222222222,
              "#7201a8"
             ],
             [
              0.3333333333333333,
              "#9c179e"
             ],
             [
              0.4444444444444444,
              "#bd3786"
             ],
             [
              0.5555555555555556,
              "#d8576b"
             ],
             [
              0.6666666666666666,
              "#ed7953"
             ],
             [
              0.7777777777777778,
              "#fb9f3a"
             ],
             [
              0.8888888888888888,
              "#fdca26"
             ],
             [
              1,
              "#f0f921"
             ]
            ],
            "type": "histogram2dcontour"
           }
          ],
          "mesh3d": [
           {
            "colorbar": {
             "outlinewidth": 0,
             "ticks": ""
            },
            "type": "mesh3d"
           }
          ],
          "parcoords": [
           {
            "line": {
             "colorbar": {
              "outlinewidth": 0,
              "ticks": ""
             }
            },
            "type": "parcoords"
           }
          ],
          "pie": [
           {
            "automargin": true,
            "type": "pie"
           }
          ],
          "scatter": [
           {
            "fillpattern": {
             "fillmode": "overlay",
             "size": 10,
             "solidity": 0.2
            },
            "type": "scatter"
           }
          ],
          "scatter3d": [
           {
            "line": {
             "colorbar": {
              "outlinewidth": 0,
              "ticks": ""
             }
            },
            "marker": {
             "colorbar": {
              "outlinewidth": 0,
              "ticks": ""
             }
            },
            "type": "scatter3d"
           }
          ],
          "scattercarpet": [
           {
            "marker": {
             "colorbar": {
              "outlinewidth": 0,
              "ticks": ""
             }
            },
            "type": "scattercarpet"
           }
          ],
          "scattergeo": [
           {
            "marker": {
             "colorbar": {
              "outlinewidth": 0,
              "ticks": ""
             }
            },
            "type": "scattergeo"
           }
          ],
          "scattergl": [
           {
            "marker": {
             "colorbar": {
              "outlinewidth": 0,
              "ticks": ""
             }
            },
            "type": "scattergl"
           }
          ],
          "scattermapbox": [
           {
            "marker": {
             "colorbar": {
              "outlinewidth": 0,
              "ticks": ""
             }
            },
            "type": "scattermapbox"
           }
          ],
          "scatterpolar": [
           {
            "marker": {
             "colorbar": {
              "outlinewidth": 0,
              "ticks": ""
             }
            },
            "type": "scatterpolar"
           }
          ],
          "scatterpolargl": [
           {
            "marker": {
             "colorbar": {
              "outlinewidth": 0,
              "ticks": ""
             }
            },
            "type": "scatterpolargl"
           }
          ],
          "scatterternary": [
           {
            "marker": {
             "colorbar": {
              "outlinewidth": 0,
              "ticks": ""
             }
            },
            "type": "scatterternary"
           }
          ],
          "surface": [
           {
            "colorbar": {
             "outlinewidth": 0,
             "ticks": ""
            },
            "colorscale": [
             [
              0,
              "#0d0887"
             ],
             [
              0.1111111111111111,
              "#46039f"
             ],
             [
              0.2222222222222222,
              "#7201a8"
             ],
             [
              0.3333333333333333,
              "#9c179e"
             ],
             [
              0.4444444444444444,
              "#bd3786"
             ],
             [
              0.5555555555555556,
              "#d8576b"
             ],
             [
              0.6666666666666666,
              "#ed7953"
             ],
             [
              0.7777777777777778,
              "#fb9f3a"
             ],
             [
              0.8888888888888888,
              "#fdca26"
             ],
             [
              1,
              "#f0f921"
             ]
            ],
            "type": "surface"
           }
          ],
          "table": [
           {
            "cells": {
             "fill": {
              "color": "#EBF0F8"
             },
             "line": {
              "color": "white"
             }
            },
            "header": {
             "fill": {
              "color": "#C8D4E3"
             },
             "line": {
              "color": "white"
             }
            },
            "type": "table"
           }
          ]
         },
         "layout": {
          "annotationdefaults": {
           "arrowcolor": "#2a3f5f",
           "arrowhead": 0,
           "arrowwidth": 1
          },
          "autotypenumbers": "strict",
          "coloraxis": {
           "colorbar": {
            "outlinewidth": 0,
            "ticks": ""
           }
          },
          "colorscale": {
           "diverging": [
            [
             0,
             "#8e0152"
            ],
            [
             0.1,
             "#c51b7d"
            ],
            [
             0.2,
             "#de77ae"
            ],
            [
             0.3,
             "#f1b6da"
            ],
            [
             0.4,
             "#fde0ef"
            ],
            [
             0.5,
             "#f7f7f7"
            ],
            [
             0.6,
             "#e6f5d0"
            ],
            [
             0.7,
             "#b8e186"
            ],
            [
             0.8,
             "#7fbc41"
            ],
            [
             0.9,
             "#4d9221"
            ],
            [
             1,
             "#276419"
            ]
           ],
           "sequential": [
            [
             0,
             "#0d0887"
            ],
            [
             0.1111111111111111,
             "#46039f"
            ],
            [
             0.2222222222222222,
             "#7201a8"
            ],
            [
             0.3333333333333333,
             "#9c179e"
            ],
            [
             0.4444444444444444,
             "#bd3786"
            ],
            [
             0.5555555555555556,
             "#d8576b"
            ],
            [
             0.6666666666666666,
             "#ed7953"
            ],
            [
             0.7777777777777778,
             "#fb9f3a"
            ],
            [
             0.8888888888888888,
             "#fdca26"
            ],
            [
             1,
             "#f0f921"
            ]
           ],
           "sequentialminus": [
            [
             0,
             "#0d0887"
            ],
            [
             0.1111111111111111,
             "#46039f"
            ],
            [
             0.2222222222222222,
             "#7201a8"
            ],
            [
             0.3333333333333333,
             "#9c179e"
            ],
            [
             0.4444444444444444,
             "#bd3786"
            ],
            [
             0.5555555555555556,
             "#d8576b"
            ],
            [
             0.6666666666666666,
             "#ed7953"
            ],
            [
             0.7777777777777778,
             "#fb9f3a"
            ],
            [
             0.8888888888888888,
             "#fdca26"
            ],
            [
             1,
             "#f0f921"
            ]
           ]
          },
          "colorway": [
           "#636efa",
           "#EF553B",
           "#00cc96",
           "#ab63fa",
           "#FFA15A",
           "#19d3f3",
           "#FF6692",
           "#B6E880",
           "#FF97FF",
           "#FECB52"
          ],
          "font": {
           "color": "#2a3f5f"
          },
          "geo": {
           "bgcolor": "white",
           "lakecolor": "white",
           "landcolor": "#E5ECF6",
           "showlakes": true,
           "showland": true,
           "subunitcolor": "white"
          },
          "hoverlabel": {
           "align": "left"
          },
          "hovermode": "closest",
          "mapbox": {
           "style": "light"
          },
          "paper_bgcolor": "white",
          "plot_bgcolor": "#E5ECF6",
          "polar": {
           "angularaxis": {
            "gridcolor": "white",
            "linecolor": "white",
            "ticks": ""
           },
           "bgcolor": "#E5ECF6",
           "radialaxis": {
            "gridcolor": "white",
            "linecolor": "white",
            "ticks": ""
           }
          },
          "scene": {
           "xaxis": {
            "backgroundcolor": "#E5ECF6",
            "gridcolor": "white",
            "gridwidth": 2,
            "linecolor": "white",
            "showbackground": true,
            "ticks": "",
            "zerolinecolor": "white"
           },
           "yaxis": {
            "backgroundcolor": "#E5ECF6",
            "gridcolor": "white",
            "gridwidth": 2,
            "linecolor": "white",
            "showbackground": true,
            "ticks": "",
            "zerolinecolor": "white"
           },
           "zaxis": {
            "backgroundcolor": "#E5ECF6",
            "gridcolor": "white",
            "gridwidth": 2,
            "linecolor": "white",
            "showbackground": true,
            "ticks": "",
            "zerolinecolor": "white"
           }
          },
          "shapedefaults": {
           "line": {
            "color": "#2a3f5f"
           }
          },
          "ternary": {
           "aaxis": {
            "gridcolor": "white",
            "linecolor": "white",
            "ticks": ""
           },
           "baxis": {
            "gridcolor": "white",
            "linecolor": "white",
            "ticks": ""
           },
           "bgcolor": "#E5ECF6",
           "caxis": {
            "gridcolor": "white",
            "linecolor": "white",
            "ticks": ""
           }
          },
          "title": {
           "x": 0.05
          },
          "xaxis": {
           "automargin": true,
           "gridcolor": "white",
           "linecolor": "white",
           "ticks": "",
           "title": {
            "standoff": 15
           },
           "zerolinecolor": "white",
           "zerolinewidth": 2
          },
          "yaxis": {
           "automargin": true,
           "gridcolor": "white",
           "linecolor": "white",
           "ticks": "",
           "title": {
            "standoff": 15
           },
           "zerolinecolor": "white",
           "zerolinewidth": 2
          }
         }
        },
        "updatemenus": [
         {
          "active": 0,
          "buttons": [
           {
            "args": [
             {
              "visible": [
               true,
               true,
               false,
               false
              ]
             },
             {
              "annotations": [
               {
                "font": {
                 "size": 16
                },
                "showarrow": false,
                "text": "quality_score XmR Chart by station",
                "x": 0.5,
                "xanchor": "center",
                "xref": "paper",
                "y": 1.1,
                "yanchor": "top",
                "yref": "paper"
               },
               {
                "font": {
                 "size": 10
                },
                "showarrow": false,
                "text": "<b>mR Upper Limit = 19.779</b>",
                "x": 0.01,
                "xanchor": "left",
                "xref": "paper",
                "y": 20.767452668804317,
                "yanchor": "auto",
                "yref": "y2"
               },
               {
                "font": {
                 "size": 10
                },
                "showarrow": false,
                "text": "<b>quality_score Upper Limit = 102.382</b>",
                "x": 0.01,
                "xanchor": "left",
                "xref": "paper",
                "y": 103.34768657469809,
                "yanchor": "auto",
                "yref": "y"
               },
               {
                "font": {
                 "size": 10
                },
                "showarrow": false,
                "text": "<b>quality_score Lower Limit = 70.184</b>",
                "x": 0.01,
                "xanchor": "left",
                "xref": "paper",
                "y": 69.2182294755778,
                "yanchor": "auto",
                "yref": "y"
               }
              ],
              "shapes": [
               {
                "line": {
                 "color": "gray",
                 "dash": "dashdot"
                },
                "type": "line",
                "x0": 0,
                "x1": 1,
                "xref": "x domain",
                "y0": 86.28295802513794,
                "y1": 86.28295802513794,
                "yref": "y"
               },
               {
                "line": {
                 "color": "red",
                 "dash": "dashdot"
                },
                "type": "line",
                "x0": 0,
                "x1": 1,
                "xref": "x domain",
                "y0": 102.3817585435909,
                "y1": 102.3817585435909,
                "yref": "y"
               },
               {
                "line": {
                 "color": "red",
                 "dash": "dashdot"
                },
                "type": "line",
                "x0": 0,
                "x1": 1,
                "xref": "x domain",
                "y0": 70.18415750668498,
                "y1": 70.18415750668498,
                "yref": "y"
               },
               {
                "line": {
                 "color": "pink",
                 "dash": "dot"
                },
                "type": "line",
                "x0": 0,
                "x1": 1,
                "xref": "x domain",
                "y0": 94.33235828436443,
                "y1": 94.33235828436443,
                "yref": "y"
               },
               {
                "line": {
                 "color": "pink",
                 "dash": "dot"
                },
                "type": "line",
                "x0": 0,
                "x1": 1,
                "xref": "x domain",
                "y0": 78.23355776591146,
                "y1": 78.23355776591146,
                "yref": "y"
               },
               {
                "line": {
                 "color": "gray",
                 "dash": "dashdot"
                },
                "type": "line",
                "x0": 0,
                "x1": 1,
                "xref": "x domain",
                "y0": 6.052180646034947,
                "y1": 6.052180646034947,
                "yref": "y2"
               },
               {
                "line": {
                 "color": "red",
                 "dash": "dashdot"
                },
                "type": "line",
                "x0": 0,
                "x1": 1,
                "xref": "x domain",
                "y0": 19.778526351242206,
                "y1": 19.778526351242206,
                "yref": "y2"
               },
               {
                "line": {
                 "color": "pink",
                 "dash": "dot"
                },
                "type": "line",
                "x0": 0,
                "x1": 1,
                "xref": "x domain",
                "y0": 12.915353498638577,
                "y1": 12.915353498638577,
                "yref": "y2"
               }
              ]
             }
            ],
            "label": "None",
            "method": "update"
           },
           {
            "args": [
             {
              "visible": [
               true,
               true,
               true,
               true
              ]
             },
             {
              "annotations": [
               {
                "font": {
                 "size": 16
                },
                "showarrow": false,
                "text": "quality_score XmR Chart by station",
                "x": 0.5,
                "xanchor": "center",
                "xref": "paper",
                "y": 1.1,
                "yanchor": "top",
                "yref": "paper"
               },
               {
                "font": {
                 "size": 10
                },
                "showarrow": false,
                "text": "<b>mR Upper Limit = 19.779</b>",
                "x": 0.01,
                "xanchor": "left",
                "xref": "paper",
                "y": 20.767452668804317,
                "yanchor": "auto",
                "yref": "y2"
               },
               {
                "font": {
                 "size": 10
                },
                "showarrow": false,
                "text": "<b>quality_score Upper Limit = 102.382</b>",
                "x": 0.01,
                "xanchor": "left",
                "xref": "paper",
                "y": 103.34768657469809,
                "yanchor": "auto",
                "yref": "y"
               },
               {
                "font": {
                 "size": 10
                },
                "showarrow": false,
                "text": "<b>quality_score Lower Limit = 70.184</b>",
                "x": 0.01,
                "xanchor": "left",
                "xref": "paper",
                "y": 69.2182294755778,
                "yanchor": "auto",
                "yref": "y"
               }
              ],
              "shapes": [
               {
                "line": {
                 "color": "gray",
                 "dash": "dashdot"
                },
                "type": "line",
                "x0": 0,
                "x1": 1,
                "xref": "x domain",
                "y0": 86.28295802513794,
                "y1": 86.28295802513794,
                "yref": "y"
               },
               {
                "line": {
                 "color": "red",
                 "dash": "dashdot"
                },
                "type": "line",
                "x0": 0,
                "x1": 1,
                "xref": "x domain",
                "y0": 102.3817585435909,
                "y1": 102.3817585435909,
                "yref": "y"
               },
               {
                "line": {
                 "color": "red",
                 "dash": "dashdot"
                },
                "type": "line",
                "x0": 0,
                "x1": 1,
                "xref": "x domain",
                "y0": 70.18415750668498,
                "y1": 70.18415750668498,
                "yref": "y"
               },
               {
                "line": {
                 "color": "pink",
                 "dash": "dot"
                },
                "type": "line",
                "x0": 0,
                "x1": 1,
                "xref": "x domain",
                "y0": 94.33235828436443,
                "y1": 94.33235828436443,
                "yref": "y"
               },
               {
                "line": {
                 "color": "pink",
                 "dash": "dot"
                },
                "type": "line",
                "x0": 0,
                "x1": 1,
                "xref": "x domain",
                "y0": 78.23355776591146,
                "y1": 78.23355776591146,
                "yref": "y"
               },
               {
                "line": {
                 "color": "gray",
                 "dash": "dashdot"
                },
                "type": "line",
                "x0": 0,
                "x1": 1,
                "xref": "x domain",
                "y0": 6.052180646034947,
                "y1": 6.052180646034947,
                "yref": "y2"
               },
               {
                "line": {
                 "color": "red",
                 "dash": "dashdot"
                },
                "type": "line",
                "x0": 0,
                "x1": 1,
                "xref": "x domain",
                "y0": 19.778526351242206,
                "y1": 19.778526351242206,
                "yref": "y2"
               },
               {
                "line": {
                 "color": "pink",
                 "dash": "dot"
                },
                "type": "line",
                "x0": 0,
                "x1": 1,
                "xref": "x domain",
                "y0": 12.915353498638577,
                "y1": 12.915353498638577,
                "yref": "y2"
               }
              ]
             }
            ],
            "label": "Anomalies",
            "method": "update"
           },
           {
            "args": [
             {
              "visible": [
               true,
               true,
               false,
               false
              ]
             },
             {
              "annotations": [
               {
                "font": {
                 "size": 16
                },
                "showarrow": false,
                "text": "quality_score XmR Chart by station",
                "x": 0.5,
                "xanchor": "center",
                "xref": "paper",
                "y": 1.1,
                "yanchor": "top",
                "yref": "paper"
               },
               {
                "font": {
                 "size": 10
                },
                "showarrow": false,
                "text": "<b>mR Upper Limit = 19.779</b>",
                "x": 0.01,
                "xanchor": "left",
                "xref": "paper",
                "y": 20.767452668804317,
                "yanchor": "auto",
                "yref": "y2"
               },
               {
                "font": {
                 "size": 10
                },
                "showarrow": false,
                "text": "<b>quality_score Upper Limit = 102.382</b>",
                "x": 0.01,
                "xanchor": "left",
                "xref": "paper",
                "y": 103.34768657469809,
                "yanchor": "auto",
                "yref": "y"
               },
               {
                "font": {
                 "size": 10
                },
                "showarrow": false,
                "text": "<b>quality_score Lower Limit = 70.184</b>",
                "x": 0.01,
                "xanchor": "left",
                "xref": "paper",
                "y": 69.2182294755778,
                "yanchor": "auto",
                "yref": "y"
               }
              ],
              "shapes": [
               {
                "line": {
                 "color": "gray",
                 "dash": "dashdot"
                },
                "type": "line",
                "x0": 0,
                "x1": 1,
                "xref": "x domain",
                "y0": 86.28295802513794,
                "y1": 86.28295802513794,
                "yref": "y"
               },
               {
                "line": {
                 "color": "red",
                 "dash": "dashdot"
                },
                "type": "line",
                "x0": 0,
                "x1": 1,
                "xref": "x domain",
                "y0": 102.3817585435909,
                "y1": 102.3817585435909,
                "yref": "y"
               },
               {
                "line": {
                 "color": "red",
                 "dash": "dashdot"
                },
                "type": "line",
                "x0": 0,
                "x1": 1,
                "xref": "x domain",
                "y0": 70.18415750668498,
                "y1": 70.18415750668498,
                "yref": "y"
               },
               {
                "line": {
                 "color": "pink",
                 "dash": "dot"
                },
                "type": "line",
                "x0": 0,
                "x1": 1,
                "xref": "x domain",
                "y0": 94.33235828436443,
                "y1": 94.33235828436443,
                "yref": "y"
               },
               {
                "line": {
                 "color": "pink",
                 "dash": "dot"
                },
                "type": "line",
                "x0": 0,
                "x1": 1,
                "xref": "x domain",
                "y0": 78.23355776591146,
                "y1": 78.23355776591146,
                "yref": "y"
               },
               {
                "line": {
                 "color": "gray",
                 "dash": "dashdot"
                },
                "type": "line",
                "x0": 0,
                "x1": 1,
                "xref": "x domain",
                "y0": 6.052180646034947,
                "y1": 6.052180646034947,
                "yref": "y2"
               },
               {
                "line": {
                 "color": "red",
                 "dash": "dashdot"
                },
                "type": "line",
                "x0": 0,
                "x1": 1,
                "xref": "x domain",
                "y0": 19.778526351242206,
                "y1": 19.778526351242206,
                "yref": "y2"
               },
               {
                "line": {
                 "color": "pink",
                 "dash": "dot"
                },
                "type": "line",
                "x0": 0,
                "x1": 1,
                "xref": "x domain",
                "y0": 12.915353498638577,
                "y1": 12.915353498638577,
                "yref": "y2"
               }
              ]
             }
            ],
            "label": "Long Runs",
            "method": "update"
           },
           {
            "args": [
             {
              "visible": [
               true,
               true,
               false,
               false
              ]
             },
             {
              "annotations": [
               {
                "font": {
                 "size": 16
                },
                "showarrow": false,
                "text": "quality_score XmR Chart by station",
                "x": 0.5,
                "xanchor": "center",
                "xref": "paper",
                "y": 1.1,
                "yanchor": "top",
                "yref": "paper"
               },
               {
                "font": {
                 "size": 10
                },
                "showarrow": false,
                "text": "<b>mR Upper Limit = 19.779</b>",
                "x": 0.01,
                "xanchor": "left",
                "xref": "paper",
                "y": 20.767452668804317,
                "yanchor": "auto",
                "yref": "y2"
               },
               {
                "font": {
                 "size": 10
                },
                "showarrow": false,
                "text": "<b>quality_score Upper Limit = 102.382</b>",
                "x": 0.01,
                "xanchor": "left",
                "xref": "paper",
                "y": 103.34768657469809,
                "yanchor": "auto",
                "yref": "y"
               },
               {
                "font": {
                 "size": 10
                },
                "showarrow": false,
                "text": "<b>quality_score Lower Limit = 70.184</b>",
                "x": 0.01,
                "xanchor": "left",
                "xref": "paper",
                "y": 69.2182294755778,
                "yanchor": "auto",
                "yref": "y"
               }
              ],
              "shapes": [
               {
                "line": {
                 "color": "gray",
                 "dash": "dashdot"
                },
                "type": "line",
                "x0": 0,
                "x1": 1,
                "xref": "x domain",
                "y0": 86.28295802513794,
                "y1": 86.28295802513794,
                "yref": "y"
               },
               {
                "line": {
                 "color": "red",
                 "dash": "dashdot"
                },
                "type": "line",
                "x0": 0,
                "x1": 1,
                "xref": "x domain",
                "y0": 102.3817585435909,
                "y1": 102.3817585435909,
                "yref": "y"
               },
               {
                "line": {
                 "color": "red",
                 "dash": "dashdot"
                },
                "type": "line",
                "x0": 0,
                "x1": 1,
                "xref": "x domain",
                "y0": 70.18415750668498,
                "y1": 70.18415750668498,
                "yref": "y"
               },
               {
                "line": {
                 "color": "pink",
                 "dash": "dot"
                },
                "type": "line",
                "x0": 0,
                "x1": 1,
                "xref": "x domain",
                "y0": 94.33235828436443,
                "y1": 94.33235828436443,
                "yref": "y"
               },
               {
                "line": {
                 "color": "pink",
                 "dash": "dot"
                },
                "type": "line",
                "x0": 0,
                "x1": 1,
                "xref": "x domain",
                "y0": 78.23355776591146,
                "y1": 78.23355776591146,
                "yref": "y"
               },
               {
                "line": {
                 "color": "gray",
                 "dash": "dashdot"
                },
                "type": "line",
                "x0": 0,
                "x1": 1,
                "xref": "x domain",
                "y0": 6.052180646034947,
                "y1": 6.052180646034947,
                "yref": "y2"
               },
               {
                "line": {
                 "color": "red",
                 "dash": "dashdot"
                },
                "type": "line",
                "x0": 0,
                "x1": 1,
                "xref": "x domain",
                "y0": 19.778526351242206,
                "y1": 19.778526351242206,
                "yref": "y2"
               },
               {
                "line": {
                 "color": "pink",
                 "dash": "dot"
                },
                "type": "line",
                "x0": 0,
                "x1": 1,
                "xref": "x domain",
                "y0": 12.915353498638577,
                "y1": 12.915353498638577,
                "yref": "y2"
               }
              ]
             }
            ],
            "label": "Short Runs",
            "method": "update"
           },
           {
            "args": [
             {
              "visible": [
               true,
               true,
               true,
               true
              ]
             },
             {
              "annotations": [
               {
                "font": {
                 "size": 16
                },
                "showarrow": false,
                "text": "quality_score XmR Chart by station",
                "x": 0.5,
                "xanchor": "center",
                "xref": "paper",
                "y": 1.1,
                "yanchor": "top",
                "yref": "paper"
               },
               {
                "font": {
                 "size": 10
                },
                "showarrow": false,
                "text": "<b>mR Upper Limit = 19.779</b>",
                "x": 0.01,
                "xanchor": "left",
                "xref": "paper",
                "y": 20.767452668804317,
                "yanchor": "auto",
                "yref": "y2"
               },
               {
                "font": {
                 "size": 10
                },
                "showarrow": false,
                "text": "<b>quality_score Upper Limit = 102.382</b>",
                "x": 0.01,
                "xanchor": "left",
                "xref": "paper",
                "y": 103.34768657469809,
                "yanchor": "auto",
                "yref": "y"
               },
               {
                "font": {
                 "size": 10
                },
                "showarrow": false,
                "text": "<b>quality_score Lower Limit = 70.184</b>",
                "x": 0.01,
                "xanchor": "left",
                "xref": "paper",
                "y": 69.2182294755778,
                "yanchor": "auto",
                "yref": "y"
               }
              ],
              "shapes": [
               {
                "line": {
                 "color": "gray",
                 "dash": "dashdot"
                },
                "type": "line",
                "x0": 0,
                "x1": 1,
                "xref": "x domain",
                "y0": 86.28295802513794,
                "y1": 86.28295802513794,
                "yref": "y"
               },
               {
                "line": {
                 "color": "red",
                 "dash": "dashdot"
                },
                "type": "line",
                "x0": 0,
                "x1": 1,
                "xref": "x domain",
                "y0": 102.3817585435909,
                "y1": 102.3817585435909,
                "yref": "y"
               },
               {
                "line": {
                 "color": "red",
                 "dash": "dashdot"
                },
                "type": "line",
                "x0": 0,
                "x1": 1,
                "xref": "x domain",
                "y0": 70.18415750668498,
                "y1": 70.18415750668498,
                "yref": "y"
               },
               {
                "line": {
                 "color": "pink",
                 "dash": "dot"
                },
                "type": "line",
                "x0": 0,
                "x1": 1,
                "xref": "x domain",
                "y0": 94.33235828436443,
                "y1": 94.33235828436443,
                "yref": "y"
               },
               {
                "line": {
                 "color": "pink",
                 "dash": "dot"
                },
                "type": "line",
                "x0": 0,
                "x1": 1,
                "xref": "x domain",
                "y0": 78.23355776591146,
                "y1": 78.23355776591146,
                "yref": "y"
               },
               {
                "line": {
                 "color": "gray",
                 "dash": "dashdot"
                },
                "type": "line",
                "x0": 0,
                "x1": 1,
                "xref": "x domain",
                "y0": 6.052180646034947,
                "y1": 6.052180646034947,
                "yref": "y2"
               },
               {
                "line": {
                 "color": "red",
                 "dash": "dashdot"
                },
                "type": "line",
                "x0": 0,
                "x1": 1,
                "xref": "x domain",
                "y0": 19.778526351242206,
                "y1": 19.778526351242206,
                "yref": "y2"
               },
               {
                "line": {
                 "color": "pink",
                 "dash": "dot"
                },
                "type": "line",
                "x0": 0,
                "x1": 1,
                "xref": "x domain",
                "y0": 12.915353498638577,
                "y1": 12.915353498638577,
                "yref": "y2"
               }
              ]
             }
            ],
            "label": "All",
            "method": "update"
           }
          ],
          "direction": "right",
          "type": "buttons",
          "x": 0.5,
          "xanchor": "center",
          "y": 1.2
         }
        ],
        "xaxis": {
         "anchor": "y",
         "domain": [
          0,
          1
         ],
         "gridcolor": "lightgray",
         "showgrid": true,
         "type": "category",
         "zeroline": false
        },
        "xaxis2": {
         "anchor": "y2",
         "domain": [
          0,
          1
         ],
         "gridcolor": "lightgray",
         "showgrid": true,
         "type": "category",
         "zeroline": false
        },
        "yaxis": {
         "anchor": "x",
         "domain": [
          0.4,
          1
         ],
         "dtick": 3,
         "range": [
          66,
          108
         ],
         "tickformat": "0",
         "title": {
          "text": "quality_score"
         }
        },
        "yaxis2": {
         "anchor": "x2",
         "domain": [
          0,
          0.3
         ],
         "dtick": 1,
         "range": [
          0,
          25
         ],
         "tickformat": "0",
         "title": {
          "text": "Moving Range"
         }
        }
       }
      }
     },
     "metadata": {},
     "output_type": "display_data"
    }
   ],
   "source": [
    "# Categorical example\n",
    "categories = ['Station_' + chr(ord('a') + i) for i in range(100)]\n",
    "categorical_data = pd.DataFrame({\n",
    "    'station': categories,\n",
    "    'quality_score': np.random.normal(85, 5, 100)\n",
    "}).sort_values('station')\n",
    "\n",
    "xmr_categorical = xmr.XmR(\n",
    "    data=categorical_data,\n",
    "    x_ser_name='station',\n",
    "    y_ser_name='quality_score',\n",
    "    x_type='categorical'\n",
    ")\n",
    "\n",
    "xmr_categorical.xmr_chart"
   ]
  }
 ],
 "metadata": {
  "kernelspec": {
   "display_name": "Python 3",
   "language": "python",
   "name": "python3"
  },
  "language_info": {
   "codemirror_mode": {
    "name": "ipython",
    "version": 3
   },
   "file_extension": ".py",
   "mimetype": "text/x-python",
   "name": "python",
   "nbconvert_exporter": "python",
   "pygments_lexer": "ipython3",
   "version": "3.13.0"
  }
 },
 "nbformat": 4,
 "nbformat_minor": 4
}
