{
 "cells": [
  {
   "cell_type": "markdown",
   "metadata": {},
   "source": [
    "# XmR Chart Example\n",
    "\n",
    "This notebook demonstrates the usage of the spc_plotly package with sample vehicle count data."
   ]
  },
  {
   "cell_type": "code",
   "execution_count": 1,
   "metadata": {},
   "outputs": [],
   "source": [
    "import pandas as pd\n",
    "import numpy as np\n",
    "from datetime import datetime, timedelta\n",
    "from spc_plotly import xmr\n",
    "\n",
    "# Set random seed for reproducibility\n",
    "np.random.seed(475)"
   ]
  },
  {
   "cell_type": "markdown",
   "metadata": {},
   "source": [
    "## Make data"
   ]
  },
  {
   "cell_type": "code",
   "execution_count": 2,
   "metadata": {},
   "outputs": [
    {
     "data": {
      "text/html": [
       "<div>\n",
       "<style scoped>\n",
       "    .dataframe tbody tr th:only-of-type {\n",
       "        vertical-align: middle;\n",
       "    }\n",
       "\n",
       "    .dataframe tbody tr th {\n",
       "        vertical-align: top;\n",
       "    }\n",
       "\n",
       "    .dataframe thead th {\n",
       "        text-align: right;\n",
       "    }\n",
       "</style>\n",
       "<table border=\"1\" class=\"dataframe\">\n",
       "  <thead>\n",
       "    <tr style=\"text-align: right;\">\n",
       "      <th></th>\n",
       "      <th>date</th>\n",
       "      <th>vehicle_counts</th>\n",
       "    </tr>\n",
       "  </thead>\n",
       "  <tbody>\n",
       "    <tr>\n",
       "      <th>0</th>\n",
       "      <td>2024-01-01</td>\n",
       "      <td>942</td>\n",
       "    </tr>\n",
       "    <tr>\n",
       "      <th>1</th>\n",
       "      <td>2024-01-02</td>\n",
       "      <td>1033</td>\n",
       "    </tr>\n",
       "    <tr>\n",
       "      <th>2</th>\n",
       "      <td>2024-01-03</td>\n",
       "      <td>1023</td>\n",
       "    </tr>\n",
       "    <tr>\n",
       "      <th>3</th>\n",
       "      <td>2024-01-04</td>\n",
       "      <td>983</td>\n",
       "    </tr>\n",
       "    <tr>\n",
       "      <th>4</th>\n",
       "      <td>2024-01-05</td>\n",
       "      <td>1011</td>\n",
       "    </tr>\n",
       "  </tbody>\n",
       "</table>\n",
       "</div>"
      ],
      "text/plain": [
       "        date  vehicle_counts\n",
       "0 2024-01-01             942\n",
       "1 2024-01-02            1033\n",
       "2 2024-01-03            1023\n",
       "3 2024-01-04             983\n",
       "4 2024-01-05            1011"
      ]
     },
     "execution_count": 2,
     "metadata": {},
     "output_type": "execute_result"
    }
   ],
   "source": [
    "# Generate 100 days of data\n",
    "start_date = datetime(2024, 1, 1)\n",
    "dates = [start_date + timedelta(days=x) for x in range(100)]\n",
    "\n",
    "# Generate vehicle counts with some patterns:\n",
    "# - Base level around 1000 vehicles\n",
    "# - Gradual upward trend\n",
    "# - Some random variation\n",
    "# - A few anomalies\n",
    "\n",
    "base_counts = 1000\n",
    "trend = np.linspace(0, 200, 100)  # Gradual increase over time\n",
    "variation = np.random.normal(0, 50, 100)  # Random daily variation\n",
    "weekly_pattern = np.tile([50, 30, 0, -20, -30, -80, -100], 15)[:100]  # Weekly patterns\n",
    "\n",
    "# Combine components\n",
    "vehicle_counts = base_counts + trend + variation + weekly_pattern\n",
    "\n",
    "# Add some anomalies\n",
    "vehicle_counts[25] += 300  # Special event\n",
    "vehicle_counts[50:55] += 200  # Construction period\n",
    "vehicle_counts[80] -= 400  # Road closure\n",
    "\n",
    "# Create DataFrame\n",
    "data = pd.DataFrame({\n",
    "    'date': dates,\n",
    "    'vehicle_counts': vehicle_counts.astype(int)\n",
    "})\n",
    "\n",
    "# Display first few rows\n",
    "data.head()"
   ]
  },
  {
   "cell_type": "markdown",
   "metadata": {},
   "source": [
    "## Date example"
   ]
  },
  {
   "cell_type": "code",
   "execution_count": 3,
   "metadata": {},
   "outputs": [
    {
     "ename": "TypeError",
     "evalue": "unsupported operand type(s) for -: 'list' and 'list'",
     "output_type": "error",
     "traceback": [
      "\u001b[0;31m---------------------------------------------------------------------------\u001b[0m",
      "\u001b[0;31mTypeError\u001b[0m                                 Traceback (most recent call last)",
      "Cell \u001b[0;32mIn[3], line 2\u001b[0m\n\u001b[1;32m      1\u001b[0m \u001b[38;5;66;03m# Create XmR chart\u001b[39;00m\n\u001b[0;32m----> 2\u001b[0m xmr_chart \u001b[38;5;241m=\u001b[39m \u001b[43mxmr\u001b[49m\u001b[38;5;241;43m.\u001b[39;49m\u001b[43mXmR\u001b[49m\u001b[43m(\u001b[49m\n\u001b[1;32m      3\u001b[0m \u001b[43m    \u001b[49m\u001b[43mdata\u001b[49m\u001b[38;5;241;43m=\u001b[39;49m\u001b[43mdata\u001b[49m\u001b[43m,\u001b[49m\n\u001b[1;32m      4\u001b[0m \u001b[43m    \u001b[49m\u001b[43mx_type\u001b[49m\u001b[38;5;241;43m=\u001b[39;49m\u001b[38;5;124;43m'\u001b[39;49m\u001b[38;5;124;43mdate_time\u001b[39;49m\u001b[38;5;124;43m'\u001b[39;49m\u001b[43m,\u001b[49m\n\u001b[1;32m      5\u001b[0m \u001b[43m    \u001b[49m\u001b[43mx_ser_name\u001b[49m\u001b[38;5;241;43m=\u001b[39;49m\u001b[38;5;124;43m'\u001b[39;49m\u001b[38;5;124;43mdate\u001b[39;49m\u001b[38;5;124;43m'\u001b[39;49m\u001b[43m,\u001b[49m\n\u001b[1;32m      6\u001b[0m \u001b[43m    \u001b[49m\u001b[43my_ser_name\u001b[49m\u001b[38;5;241;43m=\u001b[39;49m\u001b[38;5;124;43m'\u001b[39;49m\u001b[38;5;124;43mvehicle_counts\u001b[39;49m\u001b[38;5;124;43m'\u001b[39;49m\u001b[43m,\u001b[49m\n\u001b[1;32m      7\u001b[0m \u001b[43m    \u001b[49m\u001b[43mdate_part_resolution\u001b[49m\u001b[38;5;241;43m=\u001b[39;49m\u001b[38;5;124;43m'\u001b[39;49m\u001b[38;5;124;43mday\u001b[39;49m\u001b[38;5;124;43m'\u001b[39;49m\u001b[43m,\u001b[49m\n\u001b[1;32m      8\u001b[0m \u001b[43m    \u001b[49m\u001b[43mtitle\u001b[49m\u001b[38;5;241;43m=\u001b[39;49m\u001b[38;5;124;43m'\u001b[39;49m\u001b[38;5;124;43mDaily Vehicle Counts - XmR Chart\u001b[39;49m\u001b[38;5;124;43m'\u001b[39;49m\u001b[43m,\u001b[49m\n\u001b[1;32m      9\u001b[0m \u001b[43m    \u001b[49m\u001b[43mperiod_breaks\u001b[49m\u001b[43m \u001b[49m\u001b[38;5;241;43m=\u001b[39;49m\u001b[43m \u001b[49m\u001b[43m[\u001b[49m\u001b[38;5;124;43m'\u001b[39;49m\u001b[38;5;124;43m2024-01-21\u001b[39;49m\u001b[38;5;124;43m'\u001b[39;49m\u001b[43m,\u001b[49m\u001b[43m \u001b[49m\u001b[38;5;124;43m'\u001b[39;49m\u001b[38;5;124;43m2024-03-01\u001b[39;49m\u001b[38;5;124;43m'\u001b[39;49m\u001b[43m]\u001b[49m\n\u001b[1;32m     10\u001b[0m \u001b[43m)\u001b[49m\n\u001b[1;32m     12\u001b[0m \u001b[38;5;66;03m# Display the chart\u001b[39;00m\n\u001b[1;32m     13\u001b[0m xmr_chart\u001b[38;5;241m.\u001b[39mxmr_chart\n",
      "File \u001b[0;32m~/code/spc_plotly/src/spc_plotly/xmr.py:191\u001b[0m, in \u001b[0;36mXmR.__init__\u001b[0;34m(self, data, y_ser_name, x_ser_name, period_breaks, x_type, date_part_resolution, custom_date_part, x_begin, x_cutoff, title, sloped, xmr_function, chart_height, y_axis_dtick)\u001b[0m\n\u001b[1;32m    189\u001b[0m \u001b[38;5;28mself\u001b[39m\u001b[38;5;241m.\u001b[39m_height \u001b[38;5;241m=\u001b[39m chart_height\n\u001b[1;32m    190\u001b[0m \u001b[38;5;28mself\u001b[39m\u001b[38;5;241m.\u001b[39my_axis_dtick \u001b[38;5;241m=\u001b[39m y_axis_dtick\n\u001b[0;32m--> 191\u001b[0m \u001b[38;5;28mself\u001b[39m\u001b[38;5;241m.\u001b[39mxmr_chart, \u001b[38;5;28mself\u001b[39m\u001b[38;5;241m.\u001b[39msignals \u001b[38;5;241m=\u001b[39m \u001b[38;5;28;43mself\u001b[39;49m\u001b[38;5;241;43m.\u001b[39;49m\u001b[43m_XmR_chart\u001b[49m\u001b[43m(\u001b[49m\u001b[43m)\u001b[49m\n",
      "File \u001b[0;32m~/code/spc_plotly/src/spc_plotly/xmr.py:388\u001b[0m, in \u001b[0;36mXmR._XmR_chart\u001b[0;34m(self)\u001b[0m\n\u001b[1;32m    385\u001b[0m fig_XmR\u001b[38;5;241m.\u001b[39mlayout\u001b[38;5;241m.\u001b[39myaxis \u001b[38;5;241m=\u001b[39m axis_formats\u001b[38;5;241m.\u001b[39mget(\u001b[38;5;124m\"\u001b[39m\u001b[38;5;124my_values\u001b[39m\u001b[38;5;124m\"\u001b[39m)\n\u001b[1;32m    386\u001b[0m fig_XmR\u001b[38;5;241m.\u001b[39mlayout\u001b[38;5;241m.\u001b[39myaxis2 \u001b[38;5;241m=\u001b[39m axis_formats\u001b[38;5;241m.\u001b[39mget(\u001b[38;5;124m\"\u001b[39m\u001b[38;5;124my_mR\u001b[39m\u001b[38;5;124m\"\u001b[39m)\n\u001b[0;32m--> 388\u001b[0m limit_line_shapes \u001b[38;5;241m=\u001b[39m \u001b[43mlimit_lines\u001b[49m\u001b[38;5;241;43m.\u001b[39;49m\u001b[43m_create_limit_lines\u001b[49m\u001b[43m(\u001b[49m\n\u001b[1;32m    389\u001b[0m \u001b[43m    \u001b[49m\u001b[43mdata\u001b[49m\u001b[38;5;241;43m=\u001b[39;49m\u001b[38;5;28;43mself\u001b[39;49m\u001b[38;5;241;43m.\u001b[39;49m\u001b[43mdata\u001b[49m\u001b[43m,\u001b[49m\n\u001b[1;32m    390\u001b[0m \u001b[43m    \u001b[49m\u001b[43my_xmr_func\u001b[49m\u001b[38;5;241;43m=\u001b[39;49m\u001b[38;5;28;43mself\u001b[39;49m\u001b[38;5;241;43m.\u001b[39;49m\u001b[43mnpl_limit_values\u001b[49m\u001b[38;5;241;43m.\u001b[39;49m\u001b[43mget\u001b[49m\u001b[43m(\u001b[49m\u001b[38;5;124;43m\"\u001b[39;49m\u001b[38;5;124;43my_xmr_func\u001b[39;49m\u001b[38;5;124;43m\"\u001b[39;49m\u001b[43m)\u001b[49m\u001b[43m,\u001b[49m\n\u001b[1;32m    391\u001b[0m \u001b[43m    \u001b[49m\u001b[43mnpl_upper\u001b[49m\u001b[38;5;241;43m=\u001b[39;49m\u001b[38;5;28;43mself\u001b[39;49m\u001b[38;5;241;43m.\u001b[39;49m\u001b[43mnpl_limit_values\u001b[49m\u001b[38;5;241;43m.\u001b[39;49m\u001b[43mget\u001b[49m\u001b[43m(\u001b[49m\u001b[38;5;124;43m\"\u001b[39;49m\u001b[38;5;124;43mnpl_upper_limit\u001b[39;49m\u001b[38;5;124;43m\"\u001b[39;49m\u001b[43m)\u001b[49m\u001b[43m,\u001b[49m\n\u001b[1;32m    392\u001b[0m \u001b[43m    \u001b[49m\u001b[43mnpl_lower\u001b[49m\u001b[38;5;241;43m=\u001b[39;49m\u001b[38;5;28;43mself\u001b[39;49m\u001b[38;5;241;43m.\u001b[39;49m\u001b[43mnpl_limit_values\u001b[49m\u001b[38;5;241;43m.\u001b[39;49m\u001b[43mget\u001b[49m\u001b[43m(\u001b[49m\u001b[38;5;124;43m\"\u001b[39;49m\u001b[38;5;124;43mnpl_lower_limit\u001b[39;49m\u001b[38;5;124;43m\"\u001b[39;49m\u001b[43m)\u001b[49m\u001b[43m,\u001b[49m\n\u001b[1;32m    393\u001b[0m \u001b[43m    \u001b[49m\u001b[43mmR\u001b[49m\u001b[38;5;241;43m=\u001b[39;49m\u001b[38;5;28;43mself\u001b[39;49m\u001b[38;5;241;43m.\u001b[39;49m\u001b[43mmR_limit_values\u001b[49m\u001b[38;5;241;43m.\u001b[39;49m\u001b[43mget\u001b[49m\u001b[43m(\u001b[49m\u001b[38;5;124;43m\"\u001b[39;49m\u001b[38;5;124;43mmR_xmr_func\u001b[39;49m\u001b[38;5;124;43m\"\u001b[39;49m\u001b[43m)\u001b[49m\u001b[43m,\u001b[49m\n\u001b[1;32m    394\u001b[0m \u001b[43m    \u001b[49m\u001b[43mmR_upper\u001b[49m\u001b[38;5;241;43m=\u001b[39;49m\u001b[38;5;28;43mself\u001b[39;49m\u001b[38;5;241;43m.\u001b[39;49m\u001b[43mmR_limit_values\u001b[49m\u001b[38;5;241;43m.\u001b[39;49m\u001b[43mget\u001b[49m\u001b[43m(\u001b[49m\u001b[38;5;124;43m\"\u001b[39;49m\u001b[38;5;124;43mmR_upper_limit\u001b[39;49m\u001b[38;5;124;43m\"\u001b[39;49m\u001b[43m)\u001b[49m\u001b[43m,\u001b[49m\n\u001b[1;32m    395\u001b[0m \u001b[43m    \u001b[49m\u001b[43msloped\u001b[49m\u001b[38;5;241;43m=\u001b[39;49m\u001b[38;5;28;43mself\u001b[39;49m\u001b[38;5;241;43m.\u001b[39;49m\u001b[43msloped\u001b[49m\u001b[43m,\u001b[49m\n\u001b[1;32m    396\u001b[0m \u001b[43m\u001b[49m\u001b[43m)\u001b[49m\n\u001b[1;32m    397\u001b[0m fig_XmR\u001b[38;5;241m.\u001b[39mlayout\u001b[38;5;241m.\u001b[39mshapes \u001b[38;5;241m=\u001b[39m limit_line_shapes\n\u001b[1;32m    399\u001b[0m limit_line_annotations \u001b[38;5;241m=\u001b[39m annotations\u001b[38;5;241m.\u001b[39m_create_limit_line_annotations(\n\u001b[1;32m    400\u001b[0m     data\u001b[38;5;241m=\u001b[39m\u001b[38;5;28mself\u001b[39m\u001b[38;5;241m.\u001b[39mdata,\n\u001b[1;32m    401\u001b[0m     chart_title\u001b[38;5;241m=\u001b[39m\u001b[38;5;28mself\u001b[39m\u001b[38;5;241m.\u001b[39m_title,\n\u001b[0;32m   (...)\u001b[0m\n\u001b[1;32m    408\u001b[0m     sloped\u001b[38;5;241m=\u001b[39m\u001b[38;5;28mself\u001b[39m\u001b[38;5;241m.\u001b[39msloped,\n\u001b[1;32m    409\u001b[0m )\n",
      "File \u001b[0;32m~/code/spc_plotly/src/spc_plotly/helpers/limit_lines.py:287\u001b[0m, in \u001b[0;36m_create_limit_lines\u001b[0;34m(data, y_xmr_func, npl_upper, npl_lower, mR, mR_upper, sloped, period_ranges, chart_line_color, chart_limit_color, chart_midrange_color, chart_line_type, chart_midrange_line_type)\u001b[0m\n\u001b[1;32m    266\u001b[0m     sloped_vertical_lines \u001b[38;5;241m=\u001b[39m [\n\u001b[1;32m    267\u001b[0m         {\n\u001b[1;32m    268\u001b[0m             \u001b[38;5;124m\"\u001b[39m\u001b[38;5;124mfillcolor\u001b[39m\u001b[38;5;124m\"\u001b[39m: \u001b[38;5;124m\"\u001b[39m\u001b[38;5;124mgray\u001b[39m\u001b[38;5;124m\"\u001b[39m,\n\u001b[0;32m   (...)\u001b[0m\n\u001b[1;32m    284\u001b[0m         },\n\u001b[1;32m    285\u001b[0m     ]\n\u001b[1;32m    286\u001b[0m \u001b[38;5;28;01melse\u001b[39;00m:\n\u001b[0;32m--> 287\u001b[0m     upper_midrange \u001b[38;5;241m=\u001b[39m y_xmr_func \u001b[38;5;241m+\u001b[39m ((\u001b[43mnpl_upper\u001b[49m\u001b[43m \u001b[49m\u001b[38;5;241;43m-\u001b[39;49m\u001b[43m \u001b[49m\u001b[43my_xmr_func\u001b[49m) \u001b[38;5;241m/\u001b[39m \u001b[38;5;241m2\u001b[39m)\n\u001b[1;32m    288\u001b[0m     lower_midrange \u001b[38;5;241m=\u001b[39m y_xmr_func \u001b[38;5;241m-\u001b[39m ((y_xmr_func \u001b[38;5;241m-\u001b[39m npl_lower) \u001b[38;5;241m/\u001b[39m \u001b[38;5;241m2\u001b[39m)\n\u001b[1;32m    290\u001b[0m mR_upper_midrange \u001b[38;5;241m=\u001b[39m mR \u001b[38;5;241m+\u001b[39m ((mR_upper \u001b[38;5;241m-\u001b[39m mR) \u001b[38;5;241m/\u001b[39m \u001b[38;5;241m2\u001b[39m)\n",
      "\u001b[0;31mTypeError\u001b[0m: unsupported operand type(s) for -: 'list' and 'list'"
     ]
    }
   ],
   "source": [
    "# Create XmR chart\n",
    "xmr_chart = xmr.XmR(\n",
    "    data=data,\n",
    "    x_type='date_time',\n",
    "    x_ser_name='date',\n",
    "    y_ser_name='vehicle_counts',\n",
    "    date_part_resolution='day',\n",
    "    title='Daily Vehicle Counts - XmR Chart',\n",
    "    period_breaks = ['2024-01-21', '2024-03-01']\n",
    ")\n",
    "\n",
    "# Display the chart\n",
    "xmr_chart.xmr_chart"
   ]
  },
  {
   "cell_type": "code",
   "execution_count": 4,
   "metadata": {},
   "outputs": [
    {
     "name": "stdout",
     "output_type": "stream",
     "text": [
      "Moving Range Limits:\n",
      "{'mR_xmr_func': [np.float64(85.75), np.float64(104.025), np.float64(80.82051282051282)], 'mR_upper_limit': [np.float64(280.231), np.float64(339.95369999999997), np.float64(264.12143589743584)], 'xmr_func': 'mean'}\n",
      "\n",
      "Natural Process Limits:\n",
      "{'y_xmr_func': [np.float64(980.4285714285714), np.float64(1098.5121951219512), np.float64(1123.675)], 'npl_upper_limit': [np.float64(1208.5235714285714), np.float64(1375.2186951219512), np.float64(1338.657564102564)], 'npl_lower_limit': [np.float64(752.3335714285714), np.float64(821.8056951219512), np.float64(908.6924358974359)], 'xmr_func': 'mean'}\n",
      "\n",
      "Detected Signals:\n",
      "{'anomalies': [(datetime.datetime(2024, 1, 26, 0, 0), np.int64(1340), 'High'), (datetime.datetime(2024, 2, 12, 0, 0), np.int64(1229), 'High'), (datetime.datetime(2024, 2, 20, 0, 0), np.int64(1217), 'High'), (datetime.datetime(2024, 2, 21, 0, 0), np.int64(1317), 'High'), (datetime.datetime(2024, 2, 22, 0, 0), np.int64(1315), 'High'), (datetime.datetime(2024, 2, 23, 0, 0), np.int64(1221), 'High'), (datetime.datetime(2024, 2, 24, 0, 0), np.int64(1255), 'High'), (datetime.datetime(2024, 2, 26, 0, 0), np.int64(1222), 'High'), (datetime.datetime(2024, 3, 12, 0, 0), np.int64(1243), 'High'), (datetime.datetime(2024, 3, 18, 0, 0), np.int64(1253), 'High'), (datetime.datetime(2024, 3, 19, 0, 0), np.int64(1227), 'High'), (datetime.datetime(2024, 3, 21, 0, 0), np.int64(703), 'Low'), (datetime.datetime(2024, 4, 8, 0, 0), np.int64(1223), 'High'), (datetime.datetime(2024, 4, 9, 0, 0), np.int64(1238), 'High')], 'long_runs': [], 'short_runs': [[(Timestamp('2024-02-21 00:00:00'), np.int64(1317), 'High'), (Timestamp('2024-02-22 00:00:00'), np.int64(1315), 'High'), (Timestamp('2024-02-23 00:00:00'), np.int64(1221), 'High'), (Timestamp('2024-02-24 00:00:00'), np.int64(1255), 'High')]]}\n"
     ]
    }
   ],
   "source": [
    "# Check the calculated limits and signals\n",
    "print(\"Moving Range Limits:\")\n",
    "print(xmr_chart.mR_limit_values)\n",
    "print(\"\\nNatural Process Limits:\")\n",
    "print(xmr_chart.npl_limit_values)\n",
    "print(\"\\nDetected Signals:\")\n",
    "print(xmr_chart.signals)"
   ]
  },
  {
   "cell_type": "code",
   "execution_count": 5,
   "metadata": {},
   "outputs": [
    {
     "ename": "AttributeError",
     "evalue": "'XmR' object has no attribute 'period_ranges'",
     "output_type": "error",
     "traceback": [
      "\u001b[0;31m---------------------------------------------------------------------------\u001b[0m",
      "\u001b[0;31mAttributeError\u001b[0m                            Traceback (most recent call last)",
      "Cell \u001b[0;32mIn[5], line 7\u001b[0m\n\u001b[1;32m      1\u001b[0m \u001b[38;5;66;03m# Numeric example\u001b[39;00m\n\u001b[1;32m      2\u001b[0m numeric_data \u001b[38;5;241m=\u001b[39m pd\u001b[38;5;241m.\u001b[39mDataFrame({\n\u001b[1;32m      3\u001b[0m     \u001b[38;5;124m'\u001b[39m\u001b[38;5;124mposition\u001b[39m\u001b[38;5;124m'\u001b[39m: \u001b[38;5;28mrange\u001b[39m(\u001b[38;5;241m1\u001b[39m, \u001b[38;5;241m101\u001b[39m),\n\u001b[1;32m      4\u001b[0m     \u001b[38;5;124m'\u001b[39m\u001b[38;5;124mmeasurement\u001b[39m\u001b[38;5;124m'\u001b[39m: np\u001b[38;5;241m.\u001b[39mrandom\u001b[38;5;241m.\u001b[39mnormal(\u001b[38;5;241m100\u001b[39m, \u001b[38;5;241m10\u001b[39m, \u001b[38;5;241m100\u001b[39m)\n\u001b[1;32m      5\u001b[0m })\n\u001b[0;32m----> 7\u001b[0m xmr_numeric \u001b[38;5;241m=\u001b[39m \u001b[43mxmr\u001b[49m\u001b[38;5;241;43m.\u001b[39;49m\u001b[43mXmR\u001b[49m\u001b[43m(\u001b[49m\n\u001b[1;32m      8\u001b[0m \u001b[43m    \u001b[49m\u001b[43mdata\u001b[49m\u001b[38;5;241;43m=\u001b[39;49m\u001b[43mnumeric_data\u001b[49m\u001b[43m,\u001b[49m\n\u001b[1;32m      9\u001b[0m \u001b[43m    \u001b[49m\u001b[43mx_ser_name\u001b[49m\u001b[38;5;241;43m=\u001b[39;49m\u001b[38;5;124;43m'\u001b[39;49m\u001b[38;5;124;43mposition\u001b[39;49m\u001b[38;5;124;43m'\u001b[39;49m\u001b[43m,\u001b[49m\n\u001b[1;32m     10\u001b[0m \u001b[43m    \u001b[49m\u001b[43my_ser_name\u001b[49m\u001b[38;5;241;43m=\u001b[39;49m\u001b[38;5;124;43m'\u001b[39;49m\u001b[38;5;124;43mmeasurement\u001b[39;49m\u001b[38;5;124;43m'\u001b[39;49m\u001b[43m,\u001b[49m\n\u001b[1;32m     11\u001b[0m \u001b[43m    \u001b[49m\u001b[43mx_type\u001b[49m\u001b[38;5;241;43m=\u001b[39;49m\u001b[38;5;124;43m'\u001b[39;49m\u001b[38;5;124;43mnumeric\u001b[39;49m\u001b[38;5;124;43m'\u001b[39;49m\u001b[43m,\u001b[49m\n\u001b[1;32m     12\u001b[0m \u001b[43m    \u001b[49m\u001b[43mchart_height\u001b[49m\u001b[38;5;241;43m=\u001b[39;49m\u001b[38;5;241;43m800\u001b[39;49m\n\u001b[1;32m     13\u001b[0m \u001b[43m)\u001b[49m\n\u001b[1;32m     15\u001b[0m xmr_numeric\u001b[38;5;241m.\u001b[39mxmr_chart\n",
      "File \u001b[0;32m~/code/spc_plotly/src/spc_plotly/xmr.py:191\u001b[0m, in \u001b[0;36mXmR.__init__\u001b[0;34m(self, data, y_ser_name, x_ser_name, period_breaks, x_type, date_part_resolution, custom_date_part, x_begin, x_cutoff, title, sloped, xmr_function, chart_height, y_axis_dtick)\u001b[0m\n\u001b[1;32m    189\u001b[0m \u001b[38;5;28mself\u001b[39m\u001b[38;5;241m.\u001b[39m_height \u001b[38;5;241m=\u001b[39m chart_height\n\u001b[1;32m    190\u001b[0m \u001b[38;5;28mself\u001b[39m\u001b[38;5;241m.\u001b[39my_axis_dtick \u001b[38;5;241m=\u001b[39m y_axis_dtick\n\u001b[0;32m--> 191\u001b[0m \u001b[38;5;28mself\u001b[39m\u001b[38;5;241m.\u001b[39mxmr_chart, \u001b[38;5;28mself\u001b[39m\u001b[38;5;241m.\u001b[39msignals \u001b[38;5;241m=\u001b[39m \u001b[38;5;28;43mself\u001b[39;49m\u001b[38;5;241;43m.\u001b[39;49m\u001b[43m_XmR_chart\u001b[49m\u001b[43m(\u001b[49m\u001b[43m)\u001b[49m\n",
      "File \u001b[0;32m~/code/spc_plotly/src/spc_plotly/xmr.py:389\u001b[0m, in \u001b[0;36mXmR._XmR_chart\u001b[0;34m(self)\u001b[0m\n\u001b[1;32m    384\u001b[0m fig_XmR\u001b[38;5;241m.\u001b[39mlayout\u001b[38;5;241m.\u001b[39myaxis \u001b[38;5;241m=\u001b[39m axis_formats\u001b[38;5;241m.\u001b[39mget(\u001b[38;5;124m\"\u001b[39m\u001b[38;5;124my_values\u001b[39m\u001b[38;5;124m\"\u001b[39m)\n\u001b[1;32m    385\u001b[0m fig_XmR\u001b[38;5;241m.\u001b[39mlayout\u001b[38;5;241m.\u001b[39myaxis2 \u001b[38;5;241m=\u001b[39m axis_formats\u001b[38;5;241m.\u001b[39mget(\u001b[38;5;124m\"\u001b[39m\u001b[38;5;124my_mR\u001b[39m\u001b[38;5;124m\"\u001b[39m)\n\u001b[1;32m    387\u001b[0m limit_line_shapes \u001b[38;5;241m=\u001b[39m limit_lines\u001b[38;5;241m.\u001b[39m_create_limit_lines(\n\u001b[1;32m    388\u001b[0m     data\u001b[38;5;241m=\u001b[39m\u001b[38;5;28mself\u001b[39m\u001b[38;5;241m.\u001b[39mdata,\n\u001b[0;32m--> 389\u001b[0m     period_ranges\u001b[38;5;241m=\u001b[39m\u001b[38;5;28;43mself\u001b[39;49m\u001b[38;5;241;43m.\u001b[39;49m\u001b[43mperiod_ranges\u001b[49m,\n\u001b[1;32m    390\u001b[0m     y_xmr_func\u001b[38;5;241m=\u001b[39m\u001b[38;5;28mself\u001b[39m\u001b[38;5;241m.\u001b[39mnpl_limit_values\u001b[38;5;241m.\u001b[39mget(\u001b[38;5;124m\"\u001b[39m\u001b[38;5;124my_xmr_func\u001b[39m\u001b[38;5;124m\"\u001b[39m),\n\u001b[1;32m    391\u001b[0m     npl_upper\u001b[38;5;241m=\u001b[39m\u001b[38;5;28mself\u001b[39m\u001b[38;5;241m.\u001b[39mnpl_limit_values\u001b[38;5;241m.\u001b[39mget(\u001b[38;5;124m\"\u001b[39m\u001b[38;5;124mnpl_upper_limit\u001b[39m\u001b[38;5;124m\"\u001b[39m),\n\u001b[1;32m    392\u001b[0m     npl_lower\u001b[38;5;241m=\u001b[39m\u001b[38;5;28mself\u001b[39m\u001b[38;5;241m.\u001b[39mnpl_limit_values\u001b[38;5;241m.\u001b[39mget(\u001b[38;5;124m\"\u001b[39m\u001b[38;5;124mnpl_lower_limit\u001b[39m\u001b[38;5;124m\"\u001b[39m),\n\u001b[1;32m    393\u001b[0m     mR\u001b[38;5;241m=\u001b[39m\u001b[38;5;28mself\u001b[39m\u001b[38;5;241m.\u001b[39mmR_limit_values\u001b[38;5;241m.\u001b[39mget(\u001b[38;5;124m\"\u001b[39m\u001b[38;5;124mmR_xmr_func\u001b[39m\u001b[38;5;124m\"\u001b[39m),\n\u001b[1;32m    394\u001b[0m     mR_upper\u001b[38;5;241m=\u001b[39m\u001b[38;5;28mself\u001b[39m\u001b[38;5;241m.\u001b[39mmR_limit_values\u001b[38;5;241m.\u001b[39mget(\u001b[38;5;124m\"\u001b[39m\u001b[38;5;124mmR_upper_limit\u001b[39m\u001b[38;5;124m\"\u001b[39m),\n\u001b[1;32m    395\u001b[0m     sloped\u001b[38;5;241m=\u001b[39m\u001b[38;5;28mself\u001b[39m\u001b[38;5;241m.\u001b[39msloped,\n\u001b[1;32m    396\u001b[0m )\n\u001b[1;32m    397\u001b[0m fig_XmR\u001b[38;5;241m.\u001b[39mlayout\u001b[38;5;241m.\u001b[39mshapes \u001b[38;5;241m=\u001b[39m limit_line_shapes\n\u001b[1;32m    399\u001b[0m limit_line_annotations \u001b[38;5;241m=\u001b[39m annotations\u001b[38;5;241m.\u001b[39m_create_limit_line_annotations(\n\u001b[1;32m    400\u001b[0m     data\u001b[38;5;241m=\u001b[39m\u001b[38;5;28mself\u001b[39m\u001b[38;5;241m.\u001b[39mdata,\n\u001b[1;32m    401\u001b[0m     chart_title\u001b[38;5;241m=\u001b[39m\u001b[38;5;28mself\u001b[39m\u001b[38;5;241m.\u001b[39m_title,\n\u001b[0;32m   (...)\u001b[0m\n\u001b[1;32m    408\u001b[0m     sloped\u001b[38;5;241m=\u001b[39m\u001b[38;5;28mself\u001b[39m\u001b[38;5;241m.\u001b[39msloped,\n\u001b[1;32m    409\u001b[0m )\n",
      "\u001b[0;31mAttributeError\u001b[0m: 'XmR' object has no attribute 'period_ranges'"
     ]
    }
   ],
   "source": [
    "# Numeric example\n",
    "numeric_data = pd.DataFrame({\n",
    "    'position': range(1, 101),\n",
    "    'measurement': np.random.normal(100, 10, 100)\n",
    "})\n",
    "\n",
    "xmr_numeric = xmr.XmR(\n",
    "    data=numeric_data,\n",
    "    x_ser_name='position',\n",
    "    y_ser_name='measurement',\n",
    "    x_type='numeric',\n",
    "    chart_height=800\n",
    ")\n",
    "\n",
    "xmr_numeric.xmr_chart"
   ]
  },
  {
   "cell_type": "code",
   "execution_count": 6,
   "metadata": {},
   "outputs": [
    {
     "data": {
      "application/vnd.plotly.v1+json": {
       "config": {
        "plotlyServerURL": "https://plot.ly"
       },
       "data": [
        {
         "hovertemplate": "<b>Category:</b> %{x}<br><b>Value:</b> %{y:.2f}<br><extra></extra>",
         "line": {
          "color": "black",
          "width": 1
         },
         "marker": {
          "color": "black",
          "size": 6
         },
         "mode": "lines+markers",
         "name": "quality_score",
         "type": "scatter",
         "x": [
          "Station_a",
          "Station_b",
          "Station_c",
          "Station_d",
          "Station_e",
          "Station_f",
          "Station_g",
          "Station_h",
          "Station_i",
          "Station_j",
          "Station_k",
          "Station_l",
          "Station_m",
          "Station_n",
          "Station_o",
          "Station_p",
          "Station_q",
          "Station_r",
          "Station_s",
          "Station_t",
          "Station_u",
          "Station_v",
          "Station_w",
          "Station_x",
          "Station_y",
          "Station_z",
          "Station_{",
          "Station_|",
          "Station_}",
          "Station_~",
          "Station_",
          "Station_",
          "Station_",
          "Station_",
          "Station_",
          "Station_",
          "Station_",
          "Station_",
          "Station_",
          "Station_",
          "Station_",
          "Station_",
          "Station_",
          "Station_",
          "Station_",
          "Station_",
          "Station_",
          "Station_",
          "Station_",
          "Station_",
          "Station_",
          "Station_",
          "Station_",
          "Station_",
          "Station_",
          "Station_",
          "Station_",
          "Station_",
          "Station_",
          "Station_",
          "Station_",
          "Station_",
          "Station_",
          "Station_ ",
          "Station_¡",
          "Station_¢",
          "Station_£",
          "Station_¤",
          "Station_¥",
          "Station_¦",
          "Station_§",
          "Station_¨",
          "Station_©",
          "Station_ª",
          "Station_«",
          "Station_¬",
          "Station_­",
          "Station_®",
          "Station_¯",
          "Station_°",
          "Station_±",
          "Station_²",
          "Station_³",
          "Station_´",
          "Station_µ",
          "Station_¶",
          "Station_·",
          "Station_¸",
          "Station_¹",
          "Station_º",
          "Station_»",
          "Station_¼",
          "Station_½",
          "Station_¾",
          "Station_¿",
          "Station_À",
          "Station_Á",
          "Station_Â",
          "Station_Ã",
          "Station_Ä"
         ],
         "xaxis": "x",
         "y": [
          80.13515992463788,
          86.59709719819932,
          92.04790141536554,
          83.86797257182623,
          86.54523733161665,
          83.56357467960368,
          85.92424464219008,
          83.54327241029019,
          88.78143652181426,
          94.44316295740639,
          90.3850725533637,
          86.69534607353661,
          87.29269121666222,
          91.25590993001647,
          82.09013046001705,
          89.80984699214059,
          86.51343168267111,
          82.45372216347732,
          90.50157027692354,
          82.61622278855948,
          86.4880642543455,
          85.56804543382039,
          84.94746181475512,
          87.18463318155608,
          81.32558246322318,
          90.11221996896008,
          77.97507298656296,
          82.0571758163293,
          70.63314384587743,
          79.90732107079437,
          80.94813499063237,
          81.67514817369032,
          90.01429125360357,
          80.25947851673365,
          84.70474523910843,
          90.45118249003471,
          80.30966914361035,
          79.4695451847787,
          87.58810790820071,
          80.5128802626032,
          86.15054269336107,
          79.31837438853906,
          82.61815090255517,
          100.9337341645601,
          81.03853532682672,
          77.88638769582629,
          87.0344072404478,
          91.60142033762556,
          88.02701519038527,
          79.34258915377919,
          97.70662718926569,
          84.89645421230803,
          86.31957175043001,
          82.45714918446012,
          75.57089371991974,
          83.70299284521326,
          76.23902359005973,
          91.16232517094689,
          84.72014021113105,
          82.25394293980766,
          72.570721876793,
          91.48139988768482,
          77.07765279532897,
          88.54695640203421,
          83.10472159170607,
          84.35391816757142,
          88.04465411267648,
          93.45340670430299,
          79.95653388718456,
          79.12408482211256,
          89.16237495685375,
          82.19268472230736,
          83.30618055342383,
          77.83584773433572,
          92.11443800651948,
          91.03518923489212,
          90.83189279158901,
          87.79601743793158,
          91.712446743903,
          91.45333657921833,
          74.67620663187172,
          92.15236765638825,
          88.7721671714913,
          84.24460050511108,
          84.81406334104433,
          77.54695352568848,
          83.58448244985111,
          80.35564788224117,
          79.57947120529667,
          81.22867146472494,
          83.36226880952117,
          101.23979785916508,
          80.65688293231437,
          84.82673471937989,
          83.81204891149045,
          79.18494930040613,
          91.92395483886423,
          78.04519437424091,
          78.01216048387766,
          82.2662092015682
         ],
         "yaxis": "y"
        },
        {
         "hovertemplate": "<b>Category:</b> %{x}<br><b>Range:</b> %{y:.2f}<br><extra></extra>",
         "line": {
          "color": "black",
          "width": 1
         },
         "marker": {
          "color": "black",
          "size": 6
         },
         "mode": "lines+markers",
         "name": "Moving Range",
         "type": "scatter",
         "x": [
          "Station_a",
          "Station_b",
          "Station_c",
          "Station_d",
          "Station_e",
          "Station_f",
          "Station_g",
          "Station_h",
          "Station_i",
          "Station_j",
          "Station_k",
          "Station_l",
          "Station_m",
          "Station_n",
          "Station_o",
          "Station_p",
          "Station_q",
          "Station_r",
          "Station_s",
          "Station_t",
          "Station_u",
          "Station_v",
          "Station_w",
          "Station_x",
          "Station_y",
          "Station_z",
          "Station_{",
          "Station_|",
          "Station_}",
          "Station_~",
          "Station_",
          "Station_",
          "Station_",
          "Station_",
          "Station_",
          "Station_",
          "Station_",
          "Station_",
          "Station_",
          "Station_",
          "Station_",
          "Station_",
          "Station_",
          "Station_",
          "Station_",
          "Station_",
          "Station_",
          "Station_",
          "Station_",
          "Station_",
          "Station_",
          "Station_",
          "Station_",
          "Station_",
          "Station_",
          "Station_",
          "Station_",
          "Station_",
          "Station_",
          "Station_",
          "Station_",
          "Station_",
          "Station_",
          "Station_ ",
          "Station_¡",
          "Station_¢",
          "Station_£",
          "Station_¤",
          "Station_¥",
          "Station_¦",
          "Station_§",
          "Station_¨",
          "Station_©",
          "Station_ª",
          "Station_«",
          "Station_¬",
          "Station_­",
          "Station_®",
          "Station_¯",
          "Station_°",
          "Station_±",
          "Station_²",
          "Station_³",
          "Station_´",
          "Station_µ",
          "Station_¶",
          "Station_·",
          "Station_¸",
          "Station_¹",
          "Station_º",
          "Station_»",
          "Station_¼",
          "Station_½",
          "Station_¾",
          "Station_¿",
          "Station_À",
          "Station_Á",
          "Station_Â",
          "Station_Ã",
          "Station_Ä"
         ],
         "xaxis": "x2",
         "y": [
          null,
          6.461937273561446,
          5.4508042171662225,
          8.179928843539315,
          2.6772647597904182,
          2.9816626520129716,
          2.3606699625863996,
          2.3809722318998894,
          5.238164111524071,
          5.661726435592129,
          4.058090404042687,
          3.689726479827087,
          0.597345143125608,
          3.9632187133542516,
          9.165779469999421,
          7.719716532123542,
          3.296415309469481,
          4.059709519193788,
          8.047848113446221,
          7.8853474883640615,
          3.8718414657860194,
          0.9200188205251152,
          0.6205836190652718,
          2.2371713668009647,
          5.859050718332895,
          8.786637505736891,
          12.137146982397113,
          4.082102829766342,
          11.424031970451878,
          9.27417722491694,
          1.0408139198380013,
          0.7270131830579487,
          8.339143079913256,
          9.754812736869923,
          4.445266722374782,
          5.746437250926277,
          10.141513346424361,
          0.8401239588316542,
          8.118562723422016,
          7.075227645597508,
          5.637662430757871,
          6.832168304822019,
          3.2997765140161164,
          18.31558326200492,
          19.895198837733375,
          3.1521476310004317,
          9.14801954462152,
          4.56701309717775,
          3.5744051472402845,
          8.684426036606084,
          18.3640380354865,
          12.81017297695766,
          1.4231175381219856,
          3.8624225659698936,
          6.886255464540383,
          8.132099125293522,
          7.463969255153529,
          14.923301580887156,
          6.442184959815833,
          2.466197271323395,
          9.683221063014656,
          18.910678010891814,
          14.403747092355843,
          11.469303606705239,
          5.442234810328145,
          1.249196575865355,
          3.690735945105061,
          5.408752591626509,
          13.49687281711843,
          0.832449065071998,
          10.038290134741189,
          6.969690234546391,
          1.1134958311164667,
          5.470332819088114,
          14.278590272183763,
          1.0792487716273627,
          0.2032964433031026,
          3.035875353657431,
          3.9164293059714197,
          0.25911016468467096,
          16.77712994734661,
          17.47616102451653,
          3.380200484896946,
          4.527566666380224,
          0.5694628359332512,
          7.267109815355852,
          6.037528924162629,
          3.228834567609937,
          0.7761766769445018,
          1.6492002594282695,
          2.133597344796229,
          17.87752904964391,
          20.582914926850705,
          4.169851787065511,
          1.0146858078894354,
          4.6270996110843186,
          12.739005538458102,
          13.878760464623326,
          0.033033890363242335,
          4.254048717690537
         ],
         "yaxis": "y2"
        },
        {
         "marker": {
          "color": "red",
          "size": 8,
          "symbol": "cross"
         },
         "mode": "markers",
         "texttemplate": "%{y}",
         "type": "scatter",
         "visible": false,
         "x": [],
         "xaxis": "x",
         "y": [],
         "yaxis": "y"
        },
        {
         "marker": {
          "color": "red",
          "size": 8,
          "symbol": "cross"
         },
         "mode": "markers",
         "type": "scatter",
         "visible": false,
         "x": [],
         "xaxis": "x2",
         "y": [],
         "yaxis": "y2"
        }
       ],
       "layout": {
        "annotations": [
         {
          "font": {
           "size": 16
          },
          "showarrow": false,
          "text": "quality_score XmR Chart by station",
          "x": 0.5,
          "xanchor": "center",
          "xref": "paper",
          "y": 1.1,
          "yanchor": "top",
          "yref": "paper"
         },
         {
          "font": {
           "size": 10
          },
          "showarrow": false,
          "text": "<b>mR Upper Limit = 21.428</b>",
          "x": 0.01,
          "xanchor": "left",
          "xref": "paper",
          "y": 22.499919030040363,
          "yanchor": "auto",
          "yref": "y2"
         },
         {
          "font": {
           "size": 10
          },
          "showarrow": false,
          "text": "<b>quality_score Upper Limit = 102.258</b>",
          "x": 0.01,
          "xanchor": "left",
          "xref": "paper",
          "y": 103.30445033926698,
          "yanchor": "auto",
          "yref": "y"
         },
         {
          "font": {
           "size": 10
          },
          "showarrow": false,
          "text": "<b>quality_score Lower Limit = 67.374</b>",
          "x": 0.01,
          "xanchor": "left",
          "xref": "paper",
          "y": 66.32783922013088,
          "yanchor": "auto",
          "yref": "y"
         }
        ],
        "font": {
         "size": 10
        },
        "height": 600,
        "hovermode": "x",
        "plot_bgcolor": "white",
        "shapes": [
         {
          "line": {
           "color": "gray",
           "dash": "dashdot"
          },
          "type": "line",
          "x0": 0,
          "x1": 1,
          "xref": "x domain",
          "y0": 84.81614477969893,
          "y1": 84.81614477969893,
          "yref": "y"
         },
         {
          "line": {
           "color": "red",
           "dash": "dashdot"
          },
          "type": "line",
          "x0": 0,
          "x1": 1,
          "xref": "x domain",
          "y0": 102.25794247740464,
          "y1": 102.25794247740464,
          "yref": "y"
         },
         {
          "line": {
           "color": "red",
           "dash": "dashdot"
          },
          "type": "line",
          "x0": 0,
          "x1": 1,
          "xref": "x domain",
          "y0": 67.37434708199322,
          "y1": 67.37434708199322,
          "yref": "y"
         },
         {
          "line": {
           "color": "pink",
           "dash": "dot"
          },
          "type": "line",
          "x0": 0,
          "x1": 1,
          "xref": "x domain",
          "y0": 93.53704362855179,
          "y1": 93.53704362855179,
          "yref": "y"
         },
         {
          "line": {
           "color": "pink",
           "dash": "dot"
          },
          "type": "line",
          "x0": 0,
          "x1": 1,
          "xref": "x domain",
          "y0": 76.09524593084608,
          "y1": 76.09524593084608,
          "yref": "y"
         },
         {
          "line": {
           "color": "gray",
           "dash": "dashdot"
          },
          "type": "line",
          "x0": 0,
          "x1": 1,
          "xref": "x domain",
          "y0": 6.5570668036487625,
          "y1": 6.5570668036487625,
          "yref": "y2"
         },
         {
          "line": {
           "color": "red",
           "dash": "dashdot"
          },
          "type": "line",
          "x0": 0,
          "x1": 1,
          "xref": "x domain",
          "y0": 21.428494314324155,
          "y1": 21.428494314324155,
          "yref": "y2"
         },
         {
          "line": {
           "color": "pink",
           "dash": "dot"
          },
          "type": "line",
          "x0": 0,
          "x1": 1,
          "xref": "x domain",
          "y0": 13.992780558986459,
          "y1": 13.992780558986459,
          "yref": "y2"
         }
        ],
        "showlegend": false,
        "template": {
         "data": {
          "bar": [
           {
            "error_x": {
             "color": "#2a3f5f"
            },
            "error_y": {
             "color": "#2a3f5f"
            },
            "marker": {
             "line": {
              "color": "#E5ECF6",
              "width": 0.5
             },
             "pattern": {
              "fillmode": "overlay",
              "size": 10,
              "solidity": 0.2
             }
            },
            "type": "bar"
           }
          ],
          "barpolar": [
           {
            "marker": {
             "line": {
              "color": "#E5ECF6",
              "width": 0.5
             },
             "pattern": {
              "fillmode": "overlay",
              "size": 10,
              "solidity": 0.2
             }
            },
            "type": "barpolar"
           }
          ],
          "carpet": [
           {
            "aaxis": {
             "endlinecolor": "#2a3f5f",
             "gridcolor": "white",
             "linecolor": "white",
             "minorgridcolor": "white",
             "startlinecolor": "#2a3f5f"
            },
            "baxis": {
             "endlinecolor": "#2a3f5f",
             "gridcolor": "white",
             "linecolor": "white",
             "minorgridcolor": "white",
             "startlinecolor": "#2a3f5f"
            },
            "type": "carpet"
           }
          ],
          "choropleth": [
           {
            "colorbar": {
             "outlinewidth": 0,
             "ticks": ""
            },
            "type": "choropleth"
           }
          ],
          "contour": [
           {
            "colorbar": {
             "outlinewidth": 0,
             "ticks": ""
            },
            "colorscale": [
             [
              0,
              "#0d0887"
             ],
             [
              0.1111111111111111,
              "#46039f"
             ],
             [
              0.2222222222222222,
              "#7201a8"
             ],
             [
              0.3333333333333333,
              "#9c179e"
             ],
             [
              0.4444444444444444,
              "#bd3786"
             ],
             [
              0.5555555555555556,
              "#d8576b"
             ],
             [
              0.6666666666666666,
              "#ed7953"
             ],
             [
              0.7777777777777778,
              "#fb9f3a"
             ],
             [
              0.8888888888888888,
              "#fdca26"
             ],
             [
              1,
              "#f0f921"
             ]
            ],
            "type": "contour"
           }
          ],
          "contourcarpet": [
           {
            "colorbar": {
             "outlinewidth": 0,
             "ticks": ""
            },
            "type": "contourcarpet"
           }
          ],
          "heatmap": [
           {
            "colorbar": {
             "outlinewidth": 0,
             "ticks": ""
            },
            "colorscale": [
             [
              0,
              "#0d0887"
             ],
             [
              0.1111111111111111,
              "#46039f"
             ],
             [
              0.2222222222222222,
              "#7201a8"
             ],
             [
              0.3333333333333333,
              "#9c179e"
             ],
             [
              0.4444444444444444,
              "#bd3786"
             ],
             [
              0.5555555555555556,
              "#d8576b"
             ],
             [
              0.6666666666666666,
              "#ed7953"
             ],
             [
              0.7777777777777778,
              "#fb9f3a"
             ],
             [
              0.8888888888888888,
              "#fdca26"
             ],
             [
              1,
              "#f0f921"
             ]
            ],
            "type": "heatmap"
           }
          ],
          "heatmapgl": [
           {
            "colorbar": {
             "outlinewidth": 0,
             "ticks": ""
            },
            "colorscale": [
             [
              0,
              "#0d0887"
             ],
             [
              0.1111111111111111,
              "#46039f"
             ],
             [
              0.2222222222222222,
              "#7201a8"
             ],
             [
              0.3333333333333333,
              "#9c179e"
             ],
             [
              0.4444444444444444,
              "#bd3786"
             ],
             [
              0.5555555555555556,
              "#d8576b"
             ],
             [
              0.6666666666666666,
              "#ed7953"
             ],
             [
              0.7777777777777778,
              "#fb9f3a"
             ],
             [
              0.8888888888888888,
              "#fdca26"
             ],
             [
              1,
              "#f0f921"
             ]
            ],
            "type": "heatmapgl"
           }
          ],
          "histogram": [
           {
            "marker": {
             "pattern": {
              "fillmode": "overlay",
              "size": 10,
              "solidity": 0.2
             }
            },
            "type": "histogram"
           }
          ],
          "histogram2d": [
           {
            "colorbar": {
             "outlinewidth": 0,
             "ticks": ""
            },
            "colorscale": [
             [
              0,
              "#0d0887"
             ],
             [
              0.1111111111111111,
              "#46039f"
             ],
             [
              0.2222222222222222,
              "#7201a8"
             ],
             [
              0.3333333333333333,
              "#9c179e"
             ],
             [
              0.4444444444444444,
              "#bd3786"
             ],
             [
              0.5555555555555556,
              "#d8576b"
             ],
             [
              0.6666666666666666,
              "#ed7953"
             ],
             [
              0.7777777777777778,
              "#fb9f3a"
             ],
             [
              0.8888888888888888,
              "#fdca26"
             ],
             [
              1,
              "#f0f921"
             ]
            ],
            "type": "histogram2d"
           }
          ],
          "histogram2dcontour": [
           {
            "colorbar": {
             "outlinewidth": 0,
             "ticks": ""
            },
            "colorscale": [
             [
              0,
              "#0d0887"
             ],
             [
              0.1111111111111111,
              "#46039f"
             ],
             [
              0.2222222222222222,
              "#7201a8"
             ],
             [
              0.3333333333333333,
              "#9c179e"
             ],
             [
              0.4444444444444444,
              "#bd3786"
             ],
             [
              0.5555555555555556,
              "#d8576b"
             ],
             [
              0.6666666666666666,
              "#ed7953"
             ],
             [
              0.7777777777777778,
              "#fb9f3a"
             ],
             [
              0.8888888888888888,
              "#fdca26"
             ],
             [
              1,
              "#f0f921"
             ]
            ],
            "type": "histogram2dcontour"
           }
          ],
          "mesh3d": [
           {
            "colorbar": {
             "outlinewidth": 0,
             "ticks": ""
            },
            "type": "mesh3d"
           }
          ],
          "parcoords": [
           {
            "line": {
             "colorbar": {
              "outlinewidth": 0,
              "ticks": ""
             }
            },
            "type": "parcoords"
           }
          ],
          "pie": [
           {
            "automargin": true,
            "type": "pie"
           }
          ],
          "scatter": [
           {
            "fillpattern": {
             "fillmode": "overlay",
             "size": 10,
             "solidity": 0.2
            },
            "type": "scatter"
           }
          ],
          "scatter3d": [
           {
            "line": {
             "colorbar": {
              "outlinewidth": 0,
              "ticks": ""
             }
            },
            "marker": {
             "colorbar": {
              "outlinewidth": 0,
              "ticks": ""
             }
            },
            "type": "scatter3d"
           }
          ],
          "scattercarpet": [
           {
            "marker": {
             "colorbar": {
              "outlinewidth": 0,
              "ticks": ""
             }
            },
            "type": "scattercarpet"
           }
          ],
          "scattergeo": [
           {
            "marker": {
             "colorbar": {
              "outlinewidth": 0,
              "ticks": ""
             }
            },
            "type": "scattergeo"
           }
          ],
          "scattergl": [
           {
            "marker": {
             "colorbar": {
              "outlinewidth": 0,
              "ticks": ""
             }
            },
            "type": "scattergl"
           }
          ],
          "scattermapbox": [
           {
            "marker": {
             "colorbar": {
              "outlinewidth": 0,
              "ticks": ""
             }
            },
            "type": "scattermapbox"
           }
          ],
          "scatterpolar": [
           {
            "marker": {
             "colorbar": {
              "outlinewidth": 0,
              "ticks": ""
             }
            },
            "type": "scatterpolar"
           }
          ],
          "scatterpolargl": [
           {
            "marker": {
             "colorbar": {
              "outlinewidth": 0,
              "ticks": ""
             }
            },
            "type": "scatterpolargl"
           }
          ],
          "scatterternary": [
           {
            "marker": {
             "colorbar": {
              "outlinewidth": 0,
              "ticks": ""
             }
            },
            "type": "scatterternary"
           }
          ],
          "surface": [
           {
            "colorbar": {
             "outlinewidth": 0,
             "ticks": ""
            },
            "colorscale": [
             [
              0,
              "#0d0887"
             ],
             [
              0.1111111111111111,
              "#46039f"
             ],
             [
              0.2222222222222222,
              "#7201a8"
             ],
             [
              0.3333333333333333,
              "#9c179e"
             ],
             [
              0.4444444444444444,
              "#bd3786"
             ],
             [
              0.5555555555555556,
              "#d8576b"
             ],
             [
              0.6666666666666666,
              "#ed7953"
             ],
             [
              0.7777777777777778,
              "#fb9f3a"
             ],
             [
              0.8888888888888888,
              "#fdca26"
             ],
             [
              1,
              "#f0f921"
             ]
            ],
            "type": "surface"
           }
          ],
          "table": [
           {
            "cells": {
             "fill": {
              "color": "#EBF0F8"
             },
             "line": {
              "color": "white"
             }
            },
            "header": {
             "fill": {
              "color": "#C8D4E3"
             },
             "line": {
              "color": "white"
             }
            },
            "type": "table"
           }
          ]
         },
         "layout": {
          "annotationdefaults": {
           "arrowcolor": "#2a3f5f",
           "arrowhead": 0,
           "arrowwidth": 1
          },
          "autotypenumbers": "strict",
          "coloraxis": {
           "colorbar": {
            "outlinewidth": 0,
            "ticks": ""
           }
          },
          "colorscale": {
           "diverging": [
            [
             0,
             "#8e0152"
            ],
            [
             0.1,
             "#c51b7d"
            ],
            [
             0.2,
             "#de77ae"
            ],
            [
             0.3,
             "#f1b6da"
            ],
            [
             0.4,
             "#fde0ef"
            ],
            [
             0.5,
             "#f7f7f7"
            ],
            [
             0.6,
             "#e6f5d0"
            ],
            [
             0.7,
             "#b8e186"
            ],
            [
             0.8,
             "#7fbc41"
            ],
            [
             0.9,
             "#4d9221"
            ],
            [
             1,
             "#276419"
            ]
           ],
           "sequential": [
            [
             0,
             "#0d0887"
            ],
            [
             0.1111111111111111,
             "#46039f"
            ],
            [
             0.2222222222222222,
             "#7201a8"
            ],
            [
             0.3333333333333333,
             "#9c179e"
            ],
            [
             0.4444444444444444,
             "#bd3786"
            ],
            [
             0.5555555555555556,
             "#d8576b"
            ],
            [
             0.6666666666666666,
             "#ed7953"
            ],
            [
             0.7777777777777778,
             "#fb9f3a"
            ],
            [
             0.8888888888888888,
             "#fdca26"
            ],
            [
             1,
             "#f0f921"
            ]
           ],
           "sequentialminus": [
            [
             0,
             "#0d0887"
            ],
            [
             0.1111111111111111,
             "#46039f"
            ],
            [
             0.2222222222222222,
             "#7201a8"
            ],
            [
             0.3333333333333333,
             "#9c179e"
            ],
            [
             0.4444444444444444,
             "#bd3786"
            ],
            [
             0.5555555555555556,
             "#d8576b"
            ],
            [
             0.6666666666666666,
             "#ed7953"
            ],
            [
             0.7777777777777778,
             "#fb9f3a"
            ],
            [
             0.8888888888888888,
             "#fdca26"
            ],
            [
             1,
             "#f0f921"
            ]
           ]
          },
          "colorway": [
           "#636efa",
           "#EF553B",
           "#00cc96",
           "#ab63fa",
           "#FFA15A",
           "#19d3f3",
           "#FF6692",
           "#B6E880",
           "#FF97FF",
           "#FECB52"
          ],
          "font": {
           "color": "#2a3f5f"
          },
          "geo": {
           "bgcolor": "white",
           "lakecolor": "white",
           "landcolor": "#E5ECF6",
           "showlakes": true,
           "showland": true,
           "subunitcolor": "white"
          },
          "hoverlabel": {
           "align": "left"
          },
          "hovermode": "closest",
          "mapbox": {
           "style": "light"
          },
          "paper_bgcolor": "white",
          "plot_bgcolor": "#E5ECF6",
          "polar": {
           "angularaxis": {
            "gridcolor": "white",
            "linecolor": "white",
            "ticks": ""
           },
           "bgcolor": "#E5ECF6",
           "radialaxis": {
            "gridcolor": "white",
            "linecolor": "white",
            "ticks": ""
           }
          },
          "scene": {
           "xaxis": {
            "backgroundcolor": "#E5ECF6",
            "gridcolor": "white",
            "gridwidth": 2,
            "linecolor": "white",
            "showbackground": true,
            "ticks": "",
            "zerolinecolor": "white"
           },
           "yaxis": {
            "backgroundcolor": "#E5ECF6",
            "gridcolor": "white",
            "gridwidth": 2,
            "linecolor": "white",
            "showbackground": true,
            "ticks": "",
            "zerolinecolor": "white"
           },
           "zaxis": {
            "backgroundcolor": "#E5ECF6",
            "gridcolor": "white",
            "gridwidth": 2,
            "linecolor": "white",
            "showbackground": true,
            "ticks": "",
            "zerolinecolor": "white"
           }
          },
          "shapedefaults": {
           "line": {
            "color": "#2a3f5f"
           }
          },
          "ternary": {
           "aaxis": {
            "gridcolor": "white",
            "linecolor": "white",
            "ticks": ""
           },
           "baxis": {
            "gridcolor": "white",
            "linecolor": "white",
            "ticks": ""
           },
           "bgcolor": "#E5ECF6",
           "caxis": {
            "gridcolor": "white",
            "linecolor": "white",
            "ticks": ""
           }
          },
          "title": {
           "x": 0.05
          },
          "xaxis": {
           "automargin": true,
           "gridcolor": "white",
           "linecolor": "white",
           "ticks": "",
           "title": {
            "standoff": 15
           },
           "zerolinecolor": "white",
           "zerolinewidth": 2
          },
          "yaxis": {
           "automargin": true,
           "gridcolor": "white",
           "linecolor": "white",
           "ticks": "",
           "title": {
            "standoff": 15
           },
           "zerolinecolor": "white",
           "zerolinewidth": 2
          }
         }
        },
        "updatemenus": [
         {
          "active": 0,
          "buttons": [
           {
            "args": [
             {
              "visible": [
               true,
               true,
               false,
               false
              ]
             },
             {
              "annotations": [
               {
                "font": {
                 "size": 16
                },
                "showarrow": false,
                "text": "quality_score XmR Chart by station",
                "x": 0.5,
                "xanchor": "center",
                "xref": "paper",
                "y": 1.1,
                "yanchor": "top",
                "yref": "paper"
               },
               {
                "font": {
                 "size": 10
                },
                "showarrow": false,
                "text": "<b>mR Upper Limit = 21.428</b>",
                "x": 0.01,
                "xanchor": "left",
                "xref": "paper",
                "y": 22.499919030040363,
                "yanchor": "auto",
                "yref": "y2"
               },
               {
                "font": {
                 "size": 10
                },
                "showarrow": false,
                "text": "<b>quality_score Upper Limit = 102.258</b>",
                "x": 0.01,
                "xanchor": "left",
                "xref": "paper",
                "y": 103.30445033926698,
                "yanchor": "auto",
                "yref": "y"
               },
               {
                "font": {
                 "size": 10
                },
                "showarrow": false,
                "text": "<b>quality_score Lower Limit = 67.374</b>",
                "x": 0.01,
                "xanchor": "left",
                "xref": "paper",
                "y": 66.32783922013088,
                "yanchor": "auto",
                "yref": "y"
               }
              ],
              "shapes": [
               {
                "line": {
                 "color": "gray",
                 "dash": "dashdot"
                },
                "type": "line",
                "x0": 0,
                "x1": 1,
                "xref": "x domain",
                "y0": 84.81614477969893,
                "y1": 84.81614477969893,
                "yref": "y"
               },
               {
                "line": {
                 "color": "red",
                 "dash": "dashdot"
                },
                "type": "line",
                "x0": 0,
                "x1": 1,
                "xref": "x domain",
                "y0": 102.25794247740464,
                "y1": 102.25794247740464,
                "yref": "y"
               },
               {
                "line": {
                 "color": "red",
                 "dash": "dashdot"
                },
                "type": "line",
                "x0": 0,
                "x1": 1,
                "xref": "x domain",
                "y0": 67.37434708199322,
                "y1": 67.37434708199322,
                "yref": "y"
               },
               {
                "line": {
                 "color": "pink",
                 "dash": "dot"
                },
                "type": "line",
                "x0": 0,
                "x1": 1,
                "xref": "x domain",
                "y0": 93.53704362855179,
                "y1": 93.53704362855179,
                "yref": "y"
               },
               {
                "line": {
                 "color": "pink",
                 "dash": "dot"
                },
                "type": "line",
                "x0": 0,
                "x1": 1,
                "xref": "x domain",
                "y0": 76.09524593084608,
                "y1": 76.09524593084608,
                "yref": "y"
               },
               {
                "line": {
                 "color": "gray",
                 "dash": "dashdot"
                },
                "type": "line",
                "x0": 0,
                "x1": 1,
                "xref": "x domain",
                "y0": 6.5570668036487625,
                "y1": 6.5570668036487625,
                "yref": "y2"
               },
               {
                "line": {
                 "color": "red",
                 "dash": "dashdot"
                },
                "type": "line",
                "x0": 0,
                "x1": 1,
                "xref": "x domain",
                "y0": 21.428494314324155,
                "y1": 21.428494314324155,
                "yref": "y2"
               },
               {
                "line": {
                 "color": "pink",
                 "dash": "dot"
                },
                "type": "line",
                "x0": 0,
                "x1": 1,
                "xref": "x domain",
                "y0": 13.992780558986459,
                "y1": 13.992780558986459,
                "yref": "y2"
               }
              ]
             }
            ],
            "label": "None",
            "method": "update"
           },
           {
            "args": [
             {
              "visible": [
               true,
               true,
               true,
               true
              ]
             },
             {
              "annotations": [
               {
                "font": {
                 "size": 16
                },
                "showarrow": false,
                "text": "quality_score XmR Chart by station",
                "x": 0.5,
                "xanchor": "center",
                "xref": "paper",
                "y": 1.1,
                "yanchor": "top",
                "yref": "paper"
               },
               {
                "font": {
                 "size": 10
                },
                "showarrow": false,
                "text": "<b>mR Upper Limit = 21.428</b>",
                "x": 0.01,
                "xanchor": "left",
                "xref": "paper",
                "y": 22.499919030040363,
                "yanchor": "auto",
                "yref": "y2"
               },
               {
                "font": {
                 "size": 10
                },
                "showarrow": false,
                "text": "<b>quality_score Upper Limit = 102.258</b>",
                "x": 0.01,
                "xanchor": "left",
                "xref": "paper",
                "y": 103.30445033926698,
                "yanchor": "auto",
                "yref": "y"
               },
               {
                "font": {
                 "size": 10
                },
                "showarrow": false,
                "text": "<b>quality_score Lower Limit = 67.374</b>",
                "x": 0.01,
                "xanchor": "left",
                "xref": "paper",
                "y": 66.32783922013088,
                "yanchor": "auto",
                "yref": "y"
               }
              ],
              "shapes": [
               {
                "line": {
                 "color": "gray",
                 "dash": "dashdot"
                },
                "type": "line",
                "x0": 0,
                "x1": 1,
                "xref": "x domain",
                "y0": 84.81614477969893,
                "y1": 84.81614477969893,
                "yref": "y"
               },
               {
                "line": {
                 "color": "red",
                 "dash": "dashdot"
                },
                "type": "line",
                "x0": 0,
                "x1": 1,
                "xref": "x domain",
                "y0": 102.25794247740464,
                "y1": 102.25794247740464,
                "yref": "y"
               },
               {
                "line": {
                 "color": "red",
                 "dash": "dashdot"
                },
                "type": "line",
                "x0": 0,
                "x1": 1,
                "xref": "x domain",
                "y0": 67.37434708199322,
                "y1": 67.37434708199322,
                "yref": "y"
               },
               {
                "line": {
                 "color": "pink",
                 "dash": "dot"
                },
                "type": "line",
                "x0": 0,
                "x1": 1,
                "xref": "x domain",
                "y0": 93.53704362855179,
                "y1": 93.53704362855179,
                "yref": "y"
               },
               {
                "line": {
                 "color": "pink",
                 "dash": "dot"
                },
                "type": "line",
                "x0": 0,
                "x1": 1,
                "xref": "x domain",
                "y0": 76.09524593084608,
                "y1": 76.09524593084608,
                "yref": "y"
               },
               {
                "line": {
                 "color": "gray",
                 "dash": "dashdot"
                },
                "type": "line",
                "x0": 0,
                "x1": 1,
                "xref": "x domain",
                "y0": 6.5570668036487625,
                "y1": 6.5570668036487625,
                "yref": "y2"
               },
               {
                "line": {
                 "color": "red",
                 "dash": "dashdot"
                },
                "type": "line",
                "x0": 0,
                "x1": 1,
                "xref": "x domain",
                "y0": 21.428494314324155,
                "y1": 21.428494314324155,
                "yref": "y2"
               },
               {
                "line": {
                 "color": "pink",
                 "dash": "dot"
                },
                "type": "line",
                "x0": 0,
                "x1": 1,
                "xref": "x domain",
                "y0": 13.992780558986459,
                "y1": 13.992780558986459,
                "yref": "y2"
               }
              ]
             }
            ],
            "label": "Anomalies",
            "method": "update"
           },
           {
            "args": [
             {
              "visible": [
               true,
               true,
               false,
               false
              ]
             },
             {
              "annotations": [
               {
                "font": {
                 "size": 16
                },
                "showarrow": false,
                "text": "quality_score XmR Chart by station",
                "x": 0.5,
                "xanchor": "center",
                "xref": "paper",
                "y": 1.1,
                "yanchor": "top",
                "yref": "paper"
               },
               {
                "font": {
                 "size": 10
                },
                "showarrow": false,
                "text": "<b>mR Upper Limit = 21.428</b>",
                "x": 0.01,
                "xanchor": "left",
                "xref": "paper",
                "y": 22.499919030040363,
                "yanchor": "auto",
                "yref": "y2"
               },
               {
                "font": {
                 "size": 10
                },
                "showarrow": false,
                "text": "<b>quality_score Upper Limit = 102.258</b>",
                "x": 0.01,
                "xanchor": "left",
                "xref": "paper",
                "y": 103.30445033926698,
                "yanchor": "auto",
                "yref": "y"
               },
               {
                "font": {
                 "size": 10
                },
                "showarrow": false,
                "text": "<b>quality_score Lower Limit = 67.374</b>",
                "x": 0.01,
                "xanchor": "left",
                "xref": "paper",
                "y": 66.32783922013088,
                "yanchor": "auto",
                "yref": "y"
               }
              ],
              "shapes": [
               {
                "line": {
                 "color": "gray",
                 "dash": "dashdot"
                },
                "type": "line",
                "x0": 0,
                "x1": 1,
                "xref": "x domain",
                "y0": 84.81614477969893,
                "y1": 84.81614477969893,
                "yref": "y"
               },
               {
                "line": {
                 "color": "red",
                 "dash": "dashdot"
                },
                "type": "line",
                "x0": 0,
                "x1": 1,
                "xref": "x domain",
                "y0": 102.25794247740464,
                "y1": 102.25794247740464,
                "yref": "y"
               },
               {
                "line": {
                 "color": "red",
                 "dash": "dashdot"
                },
                "type": "line",
                "x0": 0,
                "x1": 1,
                "xref": "x domain",
                "y0": 67.37434708199322,
                "y1": 67.37434708199322,
                "yref": "y"
               },
               {
                "line": {
                 "color": "pink",
                 "dash": "dot"
                },
                "type": "line",
                "x0": 0,
                "x1": 1,
                "xref": "x domain",
                "y0": 93.53704362855179,
                "y1": 93.53704362855179,
                "yref": "y"
               },
               {
                "line": {
                 "color": "pink",
                 "dash": "dot"
                },
                "type": "line",
                "x0": 0,
                "x1": 1,
                "xref": "x domain",
                "y0": 76.09524593084608,
                "y1": 76.09524593084608,
                "yref": "y"
               },
               {
                "line": {
                 "color": "gray",
                 "dash": "dashdot"
                },
                "type": "line",
                "x0": 0,
                "x1": 1,
                "xref": "x domain",
                "y0": 6.5570668036487625,
                "y1": 6.5570668036487625,
                "yref": "y2"
               },
               {
                "line": {
                 "color": "red",
                 "dash": "dashdot"
                },
                "type": "line",
                "x0": 0,
                "x1": 1,
                "xref": "x domain",
                "y0": 21.428494314324155,
                "y1": 21.428494314324155,
                "yref": "y2"
               },
               {
                "line": {
                 "color": "pink",
                 "dash": "dot"
                },
                "type": "line",
                "x0": 0,
                "x1": 1,
                "xref": "x domain",
                "y0": 13.992780558986459,
                "y1": 13.992780558986459,
                "yref": "y2"
               },
               {
                "fillcolor": "pink",
                "line": {
                 "color": "purple",
                 "dash": "longdashdot",
                 "width": 2
                },
                "name": "Long Run",
                "opacity": 0.2,
                "path": "M Station_´ 86.49460050511108 L Station_µ 87.06406334104433 L Station_¶ 79.79695352568848 L Station_· 85.83448244985111 L Station_¸ 82.60564788224117 L Station_¹ 81.82947120529667 L Station_º 83.47867146472494 L Station_» 85.61226880952117 L Station_» 81.11226880952117 L Station_º 78.97867146472494 L Station_¹ 77.32947120529667 L Station_¸ 78.10564788224117 L Station_· 81.33448244985111 L Station_¶ 75.29695352568848 L Station_µ 82.56406334104433 L Station_´ 81.99460050511108 Z",
                "type": "path"
               }
              ]
             }
            ],
            "label": "Long Runs",
            "method": "update"
           },
           {
            "args": [
             {
              "visible": [
               true,
               true,
               false,
               false
              ]
             },
             {
              "annotations": [
               {
                "font": {
                 "size": 16
                },
                "showarrow": false,
                "text": "quality_score XmR Chart by station",
                "x": 0.5,
                "xanchor": "center",
                "xref": "paper",
                "y": 1.1,
                "yanchor": "top",
                "yref": "paper"
               },
               {
                "font": {
                 "size": 10
                },
                "showarrow": false,
                "text": "<b>mR Upper Limit = 21.428</b>",
                "x": 0.01,
                "xanchor": "left",
                "xref": "paper",
                "y": 22.499919030040363,
                "yanchor": "auto",
                "yref": "y2"
               },
               {
                "font": {
                 "size": 10
                },
                "showarrow": false,
                "text": "<b>quality_score Upper Limit = 102.258</b>",
                "x": 0.01,
                "xanchor": "left",
                "xref": "paper",
                "y": 103.30445033926698,
                "yanchor": "auto",
                "yref": "y"
               },
               {
                "font": {
                 "size": 10
                },
                "showarrow": false,
                "text": "<b>quality_score Lower Limit = 67.374</b>",
                "x": 0.01,
                "xanchor": "left",
                "xref": "paper",
                "y": 66.32783922013088,
                "yanchor": "auto",
                "yref": "y"
               }
              ],
              "shapes": [
               {
                "line": {
                 "color": "gray",
                 "dash": "dashdot"
                },
                "type": "line",
                "x0": 0,
                "x1": 1,
                "xref": "x domain",
                "y0": 84.81614477969893,
                "y1": 84.81614477969893,
                "yref": "y"
               },
               {
                "line": {
                 "color": "red",
                 "dash": "dashdot"
                },
                "type": "line",
                "x0": 0,
                "x1": 1,
                "xref": "x domain",
                "y0": 102.25794247740464,
                "y1": 102.25794247740464,
                "yref": "y"
               },
               {
                "line": {
                 "color": "red",
                 "dash": "dashdot"
                },
                "type": "line",
                "x0": 0,
                "x1": 1,
                "xref": "x domain",
                "y0": 67.37434708199322,
                "y1": 67.37434708199322,
                "yref": "y"
               },
               {
                "line": {
                 "color": "pink",
                 "dash": "dot"
                },
                "type": "line",
                "x0": 0,
                "x1": 1,
                "xref": "x domain",
                "y0": 93.53704362855179,
                "y1": 93.53704362855179,
                "yref": "y"
               },
               {
                "line": {
                 "color": "pink",
                 "dash": "dot"
                },
                "type": "line",
                "x0": 0,
                "x1": 1,
                "xref": "x domain",
                "y0": 76.09524593084608,
                "y1": 76.09524593084608,
                "yref": "y"
               },
               {
                "line": {
                 "color": "gray",
                 "dash": "dashdot"
                },
                "type": "line",
                "x0": 0,
                "x1": 1,
                "xref": "x domain",
                "y0": 6.5570668036487625,
                "y1": 6.5570668036487625,
                "yref": "y2"
               },
               {
                "line": {
                 "color": "red",
                 "dash": "dashdot"
                },
                "type": "line",
                "x0": 0,
                "x1": 1,
                "xref": "x domain",
                "y0": 21.428494314324155,
                "y1": 21.428494314324155,
                "yref": "y2"
               },
               {
                "line": {
                 "color": "pink",
                 "dash": "dot"
                },
                "type": "line",
                "x0": 0,
                "x1": 1,
                "xref": "x domain",
                "y0": 13.992780558986459,
                "y1": 13.992780558986459,
                "yref": "y2"
               }
              ]
             }
            ],
            "label": "Short Runs",
            "method": "update"
           },
           {
            "args": [
             {
              "visible": [
               true,
               true,
               true,
               true
              ]
             },
             {
              "annotations": [
               {
                "font": {
                 "size": 16
                },
                "showarrow": false,
                "text": "quality_score XmR Chart by station",
                "x": 0.5,
                "xanchor": "center",
                "xref": "paper",
                "y": 1.1,
                "yanchor": "top",
                "yref": "paper"
               },
               {
                "font": {
                 "size": 10
                },
                "showarrow": false,
                "text": "<b>mR Upper Limit = 21.428</b>",
                "x": 0.01,
                "xanchor": "left",
                "xref": "paper",
                "y": 22.499919030040363,
                "yanchor": "auto",
                "yref": "y2"
               },
               {
                "font": {
                 "size": 10
                },
                "showarrow": false,
                "text": "<b>quality_score Upper Limit = 102.258</b>",
                "x": 0.01,
                "xanchor": "left",
                "xref": "paper",
                "y": 103.30445033926698,
                "yanchor": "auto",
                "yref": "y"
               },
               {
                "font": {
                 "size": 10
                },
                "showarrow": false,
                "text": "<b>quality_score Lower Limit = 67.374</b>",
                "x": 0.01,
                "xanchor": "left",
                "xref": "paper",
                "y": 66.32783922013088,
                "yanchor": "auto",
                "yref": "y"
               }
              ],
              "shapes": [
               {
                "line": {
                 "color": "gray",
                 "dash": "dashdot"
                },
                "type": "line",
                "x0": 0,
                "x1": 1,
                "xref": "x domain",
                "y0": 84.81614477969893,
                "y1": 84.81614477969893,
                "yref": "y"
               },
               {
                "line": {
                 "color": "red",
                 "dash": "dashdot"
                },
                "type": "line",
                "x0": 0,
                "x1": 1,
                "xref": "x domain",
                "y0": 102.25794247740464,
                "y1": 102.25794247740464,
                "yref": "y"
               },
               {
                "line": {
                 "color": "red",
                 "dash": "dashdot"
                },
                "type": "line",
                "x0": 0,
                "x1": 1,
                "xref": "x domain",
                "y0": 67.37434708199322,
                "y1": 67.37434708199322,
                "yref": "y"
               },
               {
                "line": {
                 "color": "pink",
                 "dash": "dot"
                },
                "type": "line",
                "x0": 0,
                "x1": 1,
                "xref": "x domain",
                "y0": 93.53704362855179,
                "y1": 93.53704362855179,
                "yref": "y"
               },
               {
                "line": {
                 "color": "pink",
                 "dash": "dot"
                },
                "type": "line",
                "x0": 0,
                "x1": 1,
                "xref": "x domain",
                "y0": 76.09524593084608,
                "y1": 76.09524593084608,
                "yref": "y"
               },
               {
                "line": {
                 "color": "gray",
                 "dash": "dashdot"
                },
                "type": "line",
                "x0": 0,
                "x1": 1,
                "xref": "x domain",
                "y0": 6.5570668036487625,
                "y1": 6.5570668036487625,
                "yref": "y2"
               },
               {
                "line": {
                 "color": "red",
                 "dash": "dashdot"
                },
                "type": "line",
                "x0": 0,
                "x1": 1,
                "xref": "x domain",
                "y0": 21.428494314324155,
                "y1": 21.428494314324155,
                "yref": "y2"
               },
               {
                "line": {
                 "color": "pink",
                 "dash": "dot"
                },
                "type": "line",
                "x0": 0,
                "x1": 1,
                "xref": "x domain",
                "y0": 13.992780558986459,
                "y1": 13.992780558986459,
                "yref": "y2"
               },
               {
                "fillcolor": "pink",
                "line": {
                 "color": "purple",
                 "dash": "longdashdot",
                 "width": 2
                },
                "name": "Long Run",
                "opacity": 0.2,
                "path": "M Station_´ 86.49460050511108 L Station_µ 87.06406334104433 L Station_¶ 79.79695352568848 L Station_· 85.83448244985111 L Station_¸ 82.60564788224117 L Station_¹ 81.82947120529667 L Station_º 83.47867146472494 L Station_» 85.61226880952117 L Station_» 81.11226880952117 L Station_º 78.97867146472494 L Station_¹ 77.32947120529667 L Station_¸ 78.10564788224117 L Station_· 81.33448244985111 L Station_¶ 75.29695352568848 L Station_µ 82.56406334104433 L Station_´ 81.99460050511108 Z",
                "type": "path"
               }
              ]
             }
            ],
            "label": "All",
            "method": "update"
           }
          ],
          "direction": "right",
          "type": "buttons",
          "x": 0.5,
          "xanchor": "center",
          "y": 1.2
         }
        ],
        "xaxis": {
         "anchor": "y",
         "automargin": true,
         "domain": [
          0,
          1
         ],
         "gridcolor": "lightgray",
         "showgrid": true,
         "showline": true,
         "showspikes": true,
         "showticklabels": true,
         "spikemode": "across+toaxis",
         "spikesnap": "cursor",
         "tickangle": 45,
         "tickformat": "%b\n%Y",
         "ticklabelmode": "period",
         "type": "category",
         "zeroline": false
        },
        "xaxis2": {
         "anchor": "y2",
         "automargin": true,
         "domain": [
          0,
          1
         ],
         "gridcolor": "lightgray",
         "showgrid": true,
         "showline": true,
         "showspikes": true,
         "showticklabels": true,
         "spikemode": "across+toaxis",
         "spikesnap": "cursor",
         "tickangle": 45,
         "tickformat": "%b\n%Y",
         "ticklabelmode": "period",
         "type": "category",
         "zeroline": false
        },
        "yaxis": {
         "anchor": "x",
         "domain": [
          0.4,
          1
         ],
         "dtick": 3,
         "range": [
          63,
          108
         ],
         "tickformat": "0",
         "title": {
          "text": "quality_score"
         }
        },
        "yaxis2": {
         "anchor": "x2",
         "domain": [
          0,
          0.3
         ],
         "dtick": 8,
         "range": [
          0,
          24
         ],
         "tickformat": "0",
         "title": {
          "text": "Moving Range"
         }
        }
       }
      }
     },
     "metadata": {},
     "output_type": "display_data"
    }
   ],
   "source": [
    "# Categorical example\n",
    "categories = ['Station_' + chr(ord('a') + i) for i in range(100)]\n",
    "categorical_data = pd.DataFrame({\n",
    "    'station': categories,\n",
    "    'quality_score': np.random.normal(85, 5, 100)\n",
    "}).sort_values('station')\n",
    "\n",
    "xmr_categorical = xmr.XmR(\n",
    "    data=categorical_data,\n",
    "    x_ser_name='station',\n",
    "    y_ser_name='quality_score',\n",
    "    x_type='categorical',\n",
    "    # show_grid=False\n",
    ")\n",
    "\n",
    "xmr_categorical.xmr_chart"
   ]
  }
 ],
 "metadata": {
  "kernelspec": {
   "display_name": "Python 3",
   "language": "python",
   "name": "python3"
  },
  "language_info": {
   "codemirror_mode": {
    "name": "ipython",
    "version": 3
   },
   "file_extension": ".py",
   "mimetype": "text/x-python",
   "name": "python",
   "nbconvert_exporter": "python",
   "pygments_lexer": "ipython3",
   "version": "3.13.0"
  }
 },
 "nbformat": 4,
 "nbformat_minor": 4
}
